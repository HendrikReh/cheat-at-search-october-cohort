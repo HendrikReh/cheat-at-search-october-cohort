{
  "cells": [
    {
      "cell_type": "markdown",
      "metadata": {
        "id": "VVSVNVA3JhhL"
      },
      "source": [
        "# Query -> Category Perfect Classification\n",
        "\n",
        "<small>\n",
        "(from <a href=\"http://maven.com/softwaredoug/cheat-at-search\">Cheat at Search with LLMs</a> training course by Doug Turnbull.)\n",
        "</small>\n",
        "\n",
        "Refinement - **perfect categorization** we see the impact of directly using the ground truth to evaluate to see the theoretical maximum.\n",
        "\n",
        "1. Build a classifier that returns the ground truth for each query\n",
        "2. Essentially filter (boost very highly) those category / subcategories if present\n"
      ]
    },
    {
      "cell_type": "markdown",
      "metadata": {
        "id": "Kx2BXoqTMmIX"
      },
      "source": [
        "## Boilerplate\n",
        "\n",
        "Install deps, mount GDrive, prompt for your OpenAI Key (placed in your GDrive), and import needed cheat at search helpers.\n",
        "\n",
        "We cover this extensively in the [synonyms notebook](https://colab.research.google.com/drive/1aUCvcBa1YdmsbIgYc74jlknl9_iRotp1) walkthrough"
      ]
    },
    {
      "cell_type": "code",
      "execution_count": null,
      "metadata": {
        "colab": {
          "base_uri": "https://localhost:8080/"
        },
        "id": "hWofdB7RMi4z",
        "outputId": "a5ba3780-706a-43c0-9b30-6e78916564f9"
      },
      "outputs": [
        {
          "output_type": "stream",
          "name": "stdout",
          "text": [
            "Collecting git+https://github.com/softwaredoug/cheat-at-search.git\n",
            "  Cloning https://github.com/softwaredoug/cheat-at-search.git to /tmp/pip-req-build-0etetl1a\n",
            "  Running command git clone --filter=blob:none --quiet https://github.com/softwaredoug/cheat-at-search.git /tmp/pip-req-build-0etetl1a\n",
            "  Resolved https://github.com/softwaredoug/cheat-at-search.git to commit 7fbf2bf2845343912918f337a29127f9edc50bd2\n",
            "  Installing build dependencies ... \u001b[?25l\u001b[?25hdone\n",
            "  Getting requirements to build wheel ... \u001b[?25l\u001b[?25hdone\n",
            "  Preparing metadata (pyproject.toml) ... \u001b[?25l\u001b[?25hdone\n",
            "Requirement already satisfied: google-genai<2.0.0,>=1.2.0 in /usr/local/lib/python3.12/dist-packages (from cheat_at_search==0.1.0) (1.31.0)\n",
            "Requirement already satisfied: openai<2.0.0,>=1.84.0 in /usr/local/lib/python3.12/dist-packages (from cheat_at_search==0.1.0) (1.101.0)\n",
            "Requirement already satisfied: pandas<3.0.0,>=2.2.0 in /usr/local/lib/python3.12/dist-packages (from cheat_at_search==0.1.0) (2.2.2)\n",
            "Collecting pyarrow<22.0.0,>=21.0.0 (from cheat_at_search==0.1.0)\n",
            "  Downloading pyarrow-21.0.0-cp312-cp312-manylinux_2_28_x86_64.whl.metadata (3.3 kB)\n",
            "Requirement already satisfied: pydantic<3.0.0,>=2.11.0 in /usr/local/lib/python3.12/dist-packages (from cheat_at_search==0.1.0) (2.11.7)\n",
            "Collecting pystemmer<4.0.0,>=3.0.0 (from cheat_at_search==0.1.0)\n",
            "  Downloading PyStemmer-3.0.0-cp312-cp312-manylinux_2_5_x86_64.manylinux1_x86_64.manylinux_2_17_x86_64.manylinux2014_x86_64.whl.metadata (3.8 kB)\n",
            "Collecting searcharray<0.0.73,>=0.0.72 (from cheat_at_search==0.1.0)\n",
            "  Downloading searcharray-0.0.72-cp312-cp312-manylinux_2_17_x86_64.manylinux2014_x86_64.whl.metadata (12 kB)\n",
            "Requirement already satisfied: anyio<5.0.0,>=4.8.0 in /usr/local/lib/python3.12/dist-packages (from google-genai<2.0.0,>=1.2.0->cheat_at_search==0.1.0) (4.10.0)\n",
            "Requirement already satisfied: google-auth<3.0.0,>=2.14.1 in /usr/local/lib/python3.12/dist-packages (from google-genai<2.0.0,>=1.2.0->cheat_at_search==0.1.0) (2.38.0)\n",
            "Requirement already satisfied: httpx<1.0.0,>=0.28.1 in /usr/local/lib/python3.12/dist-packages (from google-genai<2.0.0,>=1.2.0->cheat_at_search==0.1.0) (0.28.1)\n",
            "Requirement already satisfied: requests<3.0.0,>=2.28.1 in /usr/local/lib/python3.12/dist-packages (from google-genai<2.0.0,>=1.2.0->cheat_at_search==0.1.0) (2.32.4)\n",
            "Requirement already satisfied: tenacity<9.2.0,>=8.2.3 in /usr/local/lib/python3.12/dist-packages (from google-genai<2.0.0,>=1.2.0->cheat_at_search==0.1.0) (8.5.0)\n",
            "Requirement already satisfied: websockets<15.1.0,>=13.0.0 in /usr/local/lib/python3.12/dist-packages (from google-genai<2.0.0,>=1.2.0->cheat_at_search==0.1.0) (15.0.1)\n",
            "Requirement already satisfied: typing-extensions<5.0.0,>=4.11.0 in /usr/local/lib/python3.12/dist-packages (from google-genai<2.0.0,>=1.2.0->cheat_at_search==0.1.0) (4.15.0)\n",
            "Requirement already satisfied: distro<2,>=1.7.0 in /usr/local/lib/python3.12/dist-packages (from openai<2.0.0,>=1.84.0->cheat_at_search==0.1.0) (1.9.0)\n",
            "Requirement already satisfied: jiter<1,>=0.4.0 in /usr/local/lib/python3.12/dist-packages (from openai<2.0.0,>=1.84.0->cheat_at_search==0.1.0) (0.10.0)\n",
            "Requirement already satisfied: sniffio in /usr/local/lib/python3.12/dist-packages (from openai<2.0.0,>=1.84.0->cheat_at_search==0.1.0) (1.3.1)\n",
            "Requirement already satisfied: tqdm>4 in /usr/local/lib/python3.12/dist-packages (from openai<2.0.0,>=1.84.0->cheat_at_search==0.1.0) (4.67.1)\n",
            "Requirement already satisfied: numpy>=1.26.0 in /usr/local/lib/python3.12/dist-packages (from pandas<3.0.0,>=2.2.0->cheat_at_search==0.1.0) (2.0.2)\n",
            "Requirement already satisfied: python-dateutil>=2.8.2 in /usr/local/lib/python3.12/dist-packages (from pandas<3.0.0,>=2.2.0->cheat_at_search==0.1.0) (2.9.0.post0)\n",
            "Requirement already satisfied: pytz>=2020.1 in /usr/local/lib/python3.12/dist-packages (from pandas<3.0.0,>=2.2.0->cheat_at_search==0.1.0) (2025.2)\n",
            "Requirement already satisfied: tzdata>=2022.7 in /usr/local/lib/python3.12/dist-packages (from pandas<3.0.0,>=2.2.0->cheat_at_search==0.1.0) (2025.2)\n",
            "Requirement already satisfied: annotated-types>=0.6.0 in /usr/local/lib/python3.12/dist-packages (from pydantic<3.0.0,>=2.11.0->cheat_at_search==0.1.0) (0.7.0)\n",
            "Requirement already satisfied: pydantic-core==2.33.2 in /usr/local/lib/python3.12/dist-packages (from pydantic<3.0.0,>=2.11.0->cheat_at_search==0.1.0) (2.33.2)\n",
            "Requirement already satisfied: typing-inspection>=0.4.0 in /usr/local/lib/python3.12/dist-packages (from pydantic<3.0.0,>=2.11.0->cheat_at_search==0.1.0) (0.4.1)\n",
            "Requirement already satisfied: Cython in /usr/local/lib/python3.12/dist-packages (from searcharray<0.0.73,>=0.0.72->cheat_at_search==0.1.0) (3.0.12)\n",
            "Requirement already satisfied: idna>=2.8 in /usr/local/lib/python3.12/dist-packages (from anyio<5.0.0,>=4.8.0->google-genai<2.0.0,>=1.2.0->cheat_at_search==0.1.0) (3.10)\n",
            "Requirement already satisfied: cachetools<6.0,>=2.0.0 in /usr/local/lib/python3.12/dist-packages (from google-auth<3.0.0,>=2.14.1->google-genai<2.0.0,>=1.2.0->cheat_at_search==0.1.0) (5.5.2)\n",
            "Requirement already satisfied: pyasn1-modules>=0.2.1 in /usr/local/lib/python3.12/dist-packages (from google-auth<3.0.0,>=2.14.1->google-genai<2.0.0,>=1.2.0->cheat_at_search==0.1.0) (0.4.2)\n",
            "Requirement already satisfied: rsa<5,>=3.1.4 in /usr/local/lib/python3.12/dist-packages (from google-auth<3.0.0,>=2.14.1->google-genai<2.0.0,>=1.2.0->cheat_at_search==0.1.0) (4.9.1)\n",
            "Requirement already satisfied: certifi in /usr/local/lib/python3.12/dist-packages (from httpx<1.0.0,>=0.28.1->google-genai<2.0.0,>=1.2.0->cheat_at_search==0.1.0) (2025.8.3)\n",
            "Requirement already satisfied: httpcore==1.* in /usr/local/lib/python3.12/dist-packages (from httpx<1.0.0,>=0.28.1->google-genai<2.0.0,>=1.2.0->cheat_at_search==0.1.0) (1.0.9)\n",
            "Requirement already satisfied: h11>=0.16 in /usr/local/lib/python3.12/dist-packages (from httpcore==1.*->httpx<1.0.0,>=0.28.1->google-genai<2.0.0,>=1.2.0->cheat_at_search==0.1.0) (0.16.0)\n",
            "Requirement already satisfied: six>=1.5 in /usr/local/lib/python3.12/dist-packages (from python-dateutil>=2.8.2->pandas<3.0.0,>=2.2.0->cheat_at_search==0.1.0) (1.17.0)\n",
            "Requirement already satisfied: charset_normalizer<4,>=2 in /usr/local/lib/python3.12/dist-packages (from requests<3.0.0,>=2.28.1->google-genai<2.0.0,>=1.2.0->cheat_at_search==0.1.0) (3.4.3)\n",
            "Requirement already satisfied: urllib3<3,>=1.21.1 in /usr/local/lib/python3.12/dist-packages (from requests<3.0.0,>=2.28.1->google-genai<2.0.0,>=1.2.0->cheat_at_search==0.1.0) (2.5.0)\n",
            "Requirement already satisfied: pyasn1<0.7.0,>=0.6.1 in /usr/local/lib/python3.12/dist-packages (from pyasn1-modules>=0.2.1->google-auth<3.0.0,>=2.14.1->google-genai<2.0.0,>=1.2.0->cheat_at_search==0.1.0) (0.6.1)\n",
            "Downloading pyarrow-21.0.0-cp312-cp312-manylinux_2_28_x86_64.whl (42.8 MB)\n",
            "\u001b[2K   \u001b[90m━━━━━━━━━━━━━━━━━━━━━━━━━━━━━━━━━━━━━━━━\u001b[0m \u001b[32m42.8/42.8 MB\u001b[0m \u001b[31m12.4 MB/s\u001b[0m eta \u001b[36m0:00:00\u001b[0m\n",
            "\u001b[?25hDownloading PyStemmer-3.0.0-cp312-cp312-manylinux_2_5_x86_64.manylinux1_x86_64.manylinux_2_17_x86_64.manylinux2014_x86_64.whl (745 kB)\n",
            "\u001b[2K   \u001b[90m━━━━━━━━━━━━━━━━━━━━━━━━━━━━━━━━━━━━━━━━\u001b[0m \u001b[32m745.3/745.3 kB\u001b[0m \u001b[31m18.3 MB/s\u001b[0m eta \u001b[36m0:00:00\u001b[0m\n",
            "\u001b[?25hDownloading searcharray-0.0.72-cp312-cp312-manylinux_2_17_x86_64.manylinux2014_x86_64.whl (3.7 MB)\n",
            "\u001b[2K   \u001b[90m━━━━━━━━━━━━━━━━━━━━━━━━━━━━━━━━━━━━━━━━\u001b[0m \u001b[32m3.7/3.7 MB\u001b[0m \u001b[31m12.9 MB/s\u001b[0m eta \u001b[36m0:00:00\u001b[0m\n",
            "\u001b[?25hBuilding wheels for collected packages: cheat_at_search\n",
            "  Building wheel for cheat_at_search (pyproject.toml) ... \u001b[?25l\u001b[?25hdone\n",
            "  Created wheel for cheat_at_search: filename=cheat_at_search-0.1.0-py3-none-any.whl size=28125 sha256=d79ddefa4e5881651692ac6a334752165c4fd3a5b606f8abee953f566b5d58ce\n",
            "  Stored in directory: /tmp/pip-ephem-wheel-cache-wcckd42n/wheels/ea/96/d3/e69453e5f86e6f891864e5b5baf2b11ffda2d0981d9f8a138e\n",
            "Successfully built cheat_at_search\n",
            "Installing collected packages: pystemmer, pyarrow, searcharray, cheat_at_search\n",
            "  Attempting uninstall: pyarrow\n",
            "    Found existing installation: pyarrow 18.1.0\n",
            "    Uninstalling pyarrow-18.1.0:\n",
            "      Successfully uninstalled pyarrow-18.1.0\n",
            "\u001b[31mERROR: pip's dependency resolver does not currently take into account all the packages that are installed. This behaviour is the source of the following dependency conflicts.\n",
            "pylibcudf-cu12 25.6.0 requires pyarrow<20.0.0a0,>=14.0.0; platform_machine == \"x86_64\", but you have pyarrow 21.0.0 which is incompatible.\n",
            "cudf-cu12 25.6.0 requires pyarrow<20.0.0a0,>=14.0.0; platform_machine == \"x86_64\", but you have pyarrow 21.0.0 which is incompatible.\u001b[0m\u001b[31m\n",
            "\u001b[0mSuccessfully installed cheat_at_search-0.1.0 pyarrow-21.0.0 pystemmer-3.0.0 searcharray-0.0.72\n",
            "Mounted at /content/drive\n",
            "2025-08-31 20:51:01,611 - data_dir - INFO - Mounting data directory at /content/drive/MyDrive/cheat-at-search-data/\n"
          ]
        },
        {
          "output_type": "stream",
          "name": "stderr",
          "text": [
            "INFO:data_dir:Mounting data directory at /content/drive/MyDrive/cheat-at-search-data/\n"
          ]
        },
        {
          "output_type": "stream",
          "name": "stdout",
          "text": [
            "2025-08-31 20:51:01,987 - data_dir - INFO - Directory /content/drive/MyDrive/cheat-at-search-data/wands_enriched already exists. Checking for updates...\n"
          ]
        },
        {
          "output_type": "stream",
          "name": "stderr",
          "text": [
            "INFO:data_dir:Directory /content/drive/MyDrive/cheat-at-search-data/wands_enriched already exists. Checking for updates...\n"
          ]
        },
        {
          "output_type": "stream",
          "name": "stdout",
          "text": [
            "2025-08-31 20:51:27,148 - data_dir - INFO - Updated https://github.com/softwaredoug/WANDS.git dataset at /content/drive/MyDrive/cheat-at-search-data/wands_enriched\n"
          ]
        },
        {
          "output_type": "stream",
          "name": "stderr",
          "text": [
            "INFO:data_dir:Updated https://github.com/softwaredoug/WANDS.git dataset at /content/drive/MyDrive/cheat-at-search-data/wands_enriched\n"
          ]
        },
        {
          "output_type": "stream",
          "name": "stdout",
          "text": [
            "2025-08-31 20:51:32,948 - data_dir - INFO - Directory /content/drive/MyDrive/cheat-at-search-data/wands_enriched already exists. Checking for updates...\n"
          ]
        },
        {
          "output_type": "stream",
          "name": "stderr",
          "text": [
            "INFO:data_dir:Directory /content/drive/MyDrive/cheat-at-search-data/wands_enriched already exists. Checking for updates...\n"
          ]
        },
        {
          "output_type": "stream",
          "name": "stdout",
          "text": [
            "2025-08-31 20:51:35,021 - data_dir - INFO - Updated https://github.com/softwaredoug/WANDS.git dataset at /content/drive/MyDrive/cheat-at-search-data/wands_enriched\n"
          ]
        },
        {
          "output_type": "stream",
          "name": "stderr",
          "text": [
            "INFO:data_dir:Updated https://github.com/softwaredoug/WANDS.git dataset at /content/drive/MyDrive/cheat-at-search-data/wands_enriched\n"
          ]
        },
        {
          "output_type": "stream",
          "name": "stdout",
          "text": [
            "2025-08-31 20:51:35,033 - data_dir - INFO - Directory /content/drive/MyDrive/cheat-at-search-data/wands_enriched already exists. Checking for updates...\n"
          ]
        },
        {
          "output_type": "stream",
          "name": "stderr",
          "text": [
            "INFO:data_dir:Directory /content/drive/MyDrive/cheat-at-search-data/wands_enriched already exists. Checking for updates...\n"
          ]
        },
        {
          "output_type": "stream",
          "name": "stdout",
          "text": [
            "2025-08-31 20:51:36,670 - data_dir - INFO - Updated https://github.com/softwaredoug/WANDS.git dataset at /content/drive/MyDrive/cheat-at-search-data/wands_enriched\n"
          ]
        },
        {
          "output_type": "stream",
          "name": "stderr",
          "text": [
            "INFO:data_dir:Updated https://github.com/softwaredoug/WANDS.git dataset at /content/drive/MyDrive/cheat-at-search-data/wands_enriched\n"
          ]
        },
        {
          "output_type": "execute_result",
          "data": {
            "text/plain": [
              "       product_id                                       product_name  \\\n",
              "0               0                            solid wood platform bed   \n",
              "1               1                        all-clad 7 qt . slow cooker   \n",
              "2               2            all-clad electrics 6.5 qt . slow cooker   \n",
              "3               3       all-clad all professional tools pizza cutter   \n",
              "4               4  baldwin prestige alcott passage knob with roun...   \n",
              "...           ...                                                ...   \n",
              "42989       42989  malibu pressure balanced diverter fixed shower...   \n",
              "42990       42990              emmeline 5 piece breakfast dining set   \n",
              "42991       42991                      maloney 3 piece pub table set   \n",
              "42992       42992           fletcher 27.5 '' wide polyester armchair   \n",
              "42993       42993                            griffin 29 '' bar stool   \n",
              "\n",
              "                             product_class  \\\n",
              "0                                     Beds   \n",
              "1                             Slow Cookers   \n",
              "2                             Slow Cookers   \n",
              "3             Slicers, Peelers And Graters   \n",
              "4                               Door Knobs   \n",
              "...                                    ...   \n",
              "42989                        Shower Panels   \n",
              "42990                    Dining Table Sets   \n",
              "42991                    Dining Table Sets   \n",
              "42992  Teen Lounge Furniture|Accent Chairs   \n",
              "42993                           Bar Stools   \n",
              "\n",
              "                                      category hierarchy  \\\n",
              "0      Furniture / Bedroom Furniture / Beds & Headboa...   \n",
              "1      Kitchen & Tabletop / Small Kitchen Appliances ...   \n",
              "2      Kitchen & Tabletop / Small Kitchen Appliances ...   \n",
              "3                             Browse By Brand / All-Clad   \n",
              "4      Home Improvement / Doors & Door Hardware / Doo...   \n",
              "...                                                  ...   \n",
              "42989  Home Improvement / Bathroom Remodel & Bathroom...   \n",
              "42990  Furniture / Kitchen & Dining Furniture / Dinin...   \n",
              "42991  Furniture / Kitchen & Dining Furniture / Dinin...   \n",
              "42992  Furniture / Living Room Furniture / Chairs & S...   \n",
              "42993  Furniture / Kitchen & Dining Furniture / Bar F...   \n",
              "\n",
              "                                     product_description  \\\n",
              "0      good , deep sleep can be quite difficult to ha...   \n",
              "1      create delicious slow-cooked meals , from tend...   \n",
              "2      prepare home-cooked meals on any schedule with...   \n",
              "3      this original stainless tool was designed to c...   \n",
              "4      the hardware has a rich heritage of delivering...   \n",
              "...                                                  ...   \n",
              "42989  the malibu pressure balanced diverter fixed sh...   \n",
              "42990                                                      \n",
              "42991  this pub table set includes 1 counter height t...   \n",
              "42992  bring iconic , modern style to your space in a...   \n",
              "42993  this set of two barstools features a minimalis...   \n",
              "\n",
              "                                        product_features  rating_count  \\\n",
              "0      overallwidth-sidetoside:64.7|dsprimaryproducts...          15.0   \n",
              "1      capacityquarts:7|producttype : slow cooker|pro...         100.0   \n",
              "2      features : keep warm setting|capacityquarts:6....         208.0   \n",
              "3      overallwidth-sidetoside:3.5|warrantylength : l...          69.0   \n",
              "4      compatibledoorthickness:1.375 '' |countryofori...          70.0   \n",
              "...                                                  ...           ...   \n",
              "42989  producttype : shower panel|spraypattern : rain...           3.0   \n",
              "42990  basematerialdetails : steel| : gray wood|ofhar...        1314.0   \n",
              "42991  additionaltoolsrequirednotincluded : power dri...          49.0   \n",
              "42992  legmaterialdetails : rubberwood|backheight-sea...        1746.0   \n",
              "42993  distancebetweenfloorandfootrest:7.5|dssecondar...          20.0   \n",
              "\n",
              "       average_rating  review_count  \\\n",
              "0                 4.5          15.0   \n",
              "1                 2.0          98.0   \n",
              "2                 3.0         181.0   \n",
              "3                 4.5          42.0   \n",
              "4                 5.0          42.0   \n",
              "...               ...           ...   \n",
              "42989             4.5           2.0   \n",
              "42990             4.5         864.0   \n",
              "42991             4.0          41.0   \n",
              "42992             4.5        1226.0   \n",
              "42993             4.5          20.0   \n",
              "\n",
              "                                                features             category  \\\n",
              "0      [overallwidth-sidetoside:64.7, dsprimaryproduc...           Furniture    \n",
              "1      [capacityquarts:7, producttype : slow cooker, ...  Kitchen & Tabletop    \n",
              "2      [features : keep warm setting, capacityquarts:...  Kitchen & Tabletop    \n",
              "3      [overallwidth-sidetoside:3.5, warrantylength :...     Browse By Brand    \n",
              "4      [compatibledoorthickness:1.375 '' , countryofo...    Home Improvement    \n",
              "...                                                  ...                  ...   \n",
              "42989  [producttype : shower panel, spraypattern : ra...    Home Improvement    \n",
              "42990  [basematerialdetails : steel,  : gray wood, of...           Furniture    \n",
              "42991  [additionaltoolsrequirednotincluded : power dr...           Furniture    \n",
              "42992  [legmaterialdetails : rubberwood, backheight-s...           Furniture    \n",
              "42993  [distancebetweenfloorandfootrest:7.5, dssecond...           Furniture    \n",
              "\n",
              "                                 sub_category  \\\n",
              "0                          Bedroom Furniture    \n",
              "1                   Small Kitchen Appliances    \n",
              "2                   Small Kitchen Appliances    \n",
              "3                                    All-Clad   \n",
              "4                      Doors & Door Hardware    \n",
              "...                                       ...   \n",
              "42989   Bathroom Remodel & Bathroom Fixtures    \n",
              "42990             Kitchen & Dining Furniture    \n",
              "42991             Kitchen & Dining Furniture    \n",
              "42992                  Living Room Furniture    \n",
              "42993             Kitchen & Dining Furniture    \n",
              "\n",
              "                                              cat_subcat  \n",
              "0                       Furniture  /  Bedroom Furniture   \n",
              "1       Kitchen & Tabletop  /  Small Kitchen Appliances   \n",
              "2       Kitchen & Tabletop  /  Small Kitchen Appliances   \n",
              "3                           Browse By Brand  /  All-Clad  \n",
              "4            Home Improvement  /  Doors & Door Hardware   \n",
              "...                                                  ...  \n",
              "42989  Home Improvement  /  Bathroom Remodel & Bathro...  \n",
              "42990          Furniture  /  Kitchen & Dining Furniture   \n",
              "42991          Furniture  /  Kitchen & Dining Furniture   \n",
              "42992               Furniture  /  Living Room Furniture   \n",
              "42993          Furniture  /  Kitchen & Dining Furniture   \n",
              "\n",
              "[42994 rows x 13 columns]"
            ],
            "text/html": [
              "\n",
              "  <div id=\"df-ae662d3e-5b03-4f80-8643-52ff3357a3f2\" class=\"colab-df-container\">\n",
              "    <div>\n",
              "<style scoped>\n",
              "    .dataframe tbody tr th:only-of-type {\n",
              "        vertical-align: middle;\n",
              "    }\n",
              "\n",
              "    .dataframe tbody tr th {\n",
              "        vertical-align: top;\n",
              "    }\n",
              "\n",
              "    .dataframe thead th {\n",
              "        text-align: right;\n",
              "    }\n",
              "</style>\n",
              "<table border=\"1\" class=\"dataframe\">\n",
              "  <thead>\n",
              "    <tr style=\"text-align: right;\">\n",
              "      <th></th>\n",
              "      <th>product_id</th>\n",
              "      <th>product_name</th>\n",
              "      <th>product_class</th>\n",
              "      <th>category hierarchy</th>\n",
              "      <th>product_description</th>\n",
              "      <th>product_features</th>\n",
              "      <th>rating_count</th>\n",
              "      <th>average_rating</th>\n",
              "      <th>review_count</th>\n",
              "      <th>features</th>\n",
              "      <th>category</th>\n",
              "      <th>sub_category</th>\n",
              "      <th>cat_subcat</th>\n",
              "    </tr>\n",
              "  </thead>\n",
              "  <tbody>\n",
              "    <tr>\n",
              "      <th>0</th>\n",
              "      <td>0</td>\n",
              "      <td>solid wood platform bed</td>\n",
              "      <td>Beds</td>\n",
              "      <td>Furniture / Bedroom Furniture / Beds &amp; Headboa...</td>\n",
              "      <td>good , deep sleep can be quite difficult to ha...</td>\n",
              "      <td>overallwidth-sidetoside:64.7|dsprimaryproducts...</td>\n",
              "      <td>15.0</td>\n",
              "      <td>4.5</td>\n",
              "      <td>15.0</td>\n",
              "      <td>[overallwidth-sidetoside:64.7, dsprimaryproduc...</td>\n",
              "      <td>Furniture</td>\n",
              "      <td>Bedroom Furniture</td>\n",
              "      <td>Furniture  /  Bedroom Furniture</td>\n",
              "    </tr>\n",
              "    <tr>\n",
              "      <th>1</th>\n",
              "      <td>1</td>\n",
              "      <td>all-clad 7 qt . slow cooker</td>\n",
              "      <td>Slow Cookers</td>\n",
              "      <td>Kitchen &amp; Tabletop / Small Kitchen Appliances ...</td>\n",
              "      <td>create delicious slow-cooked meals , from tend...</td>\n",
              "      <td>capacityquarts:7|producttype : slow cooker|pro...</td>\n",
              "      <td>100.0</td>\n",
              "      <td>2.0</td>\n",
              "      <td>98.0</td>\n",
              "      <td>[capacityquarts:7, producttype : slow cooker, ...</td>\n",
              "      <td>Kitchen &amp; Tabletop</td>\n",
              "      <td>Small Kitchen Appliances</td>\n",
              "      <td>Kitchen &amp; Tabletop  /  Small Kitchen Appliances</td>\n",
              "    </tr>\n",
              "    <tr>\n",
              "      <th>2</th>\n",
              "      <td>2</td>\n",
              "      <td>all-clad electrics 6.5 qt . slow cooker</td>\n",
              "      <td>Slow Cookers</td>\n",
              "      <td>Kitchen &amp; Tabletop / Small Kitchen Appliances ...</td>\n",
              "      <td>prepare home-cooked meals on any schedule with...</td>\n",
              "      <td>features : keep warm setting|capacityquarts:6....</td>\n",
              "      <td>208.0</td>\n",
              "      <td>3.0</td>\n",
              "      <td>181.0</td>\n",
              "      <td>[features : keep warm setting, capacityquarts:...</td>\n",
              "      <td>Kitchen &amp; Tabletop</td>\n",
              "      <td>Small Kitchen Appliances</td>\n",
              "      <td>Kitchen &amp; Tabletop  /  Small Kitchen Appliances</td>\n",
              "    </tr>\n",
              "    <tr>\n",
              "      <th>3</th>\n",
              "      <td>3</td>\n",
              "      <td>all-clad all professional tools pizza cutter</td>\n",
              "      <td>Slicers, Peelers And Graters</td>\n",
              "      <td>Browse By Brand / All-Clad</td>\n",
              "      <td>this original stainless tool was designed to c...</td>\n",
              "      <td>overallwidth-sidetoside:3.5|warrantylength : l...</td>\n",
              "      <td>69.0</td>\n",
              "      <td>4.5</td>\n",
              "      <td>42.0</td>\n",
              "      <td>[overallwidth-sidetoside:3.5, warrantylength :...</td>\n",
              "      <td>Browse By Brand</td>\n",
              "      <td>All-Clad</td>\n",
              "      <td>Browse By Brand  /  All-Clad</td>\n",
              "    </tr>\n",
              "    <tr>\n",
              "      <th>4</th>\n",
              "      <td>4</td>\n",
              "      <td>baldwin prestige alcott passage knob with roun...</td>\n",
              "      <td>Door Knobs</td>\n",
              "      <td>Home Improvement / Doors &amp; Door Hardware / Doo...</td>\n",
              "      <td>the hardware has a rich heritage of delivering...</td>\n",
              "      <td>compatibledoorthickness:1.375 '' |countryofori...</td>\n",
              "      <td>70.0</td>\n",
              "      <td>5.0</td>\n",
              "      <td>42.0</td>\n",
              "      <td>[compatibledoorthickness:1.375 '' , countryofo...</td>\n",
              "      <td>Home Improvement</td>\n",
              "      <td>Doors &amp; Door Hardware</td>\n",
              "      <td>Home Improvement  /  Doors &amp; Door Hardware</td>\n",
              "    </tr>\n",
              "    <tr>\n",
              "      <th>...</th>\n",
              "      <td>...</td>\n",
              "      <td>...</td>\n",
              "      <td>...</td>\n",
              "      <td>...</td>\n",
              "      <td>...</td>\n",
              "      <td>...</td>\n",
              "      <td>...</td>\n",
              "      <td>...</td>\n",
              "      <td>...</td>\n",
              "      <td>...</td>\n",
              "      <td>...</td>\n",
              "      <td>...</td>\n",
              "      <td>...</td>\n",
              "    </tr>\n",
              "    <tr>\n",
              "      <th>42989</th>\n",
              "      <td>42989</td>\n",
              "      <td>malibu pressure balanced diverter fixed shower...</td>\n",
              "      <td>Shower Panels</td>\n",
              "      <td>Home Improvement / Bathroom Remodel &amp; Bathroom...</td>\n",
              "      <td>the malibu pressure balanced diverter fixed sh...</td>\n",
              "      <td>producttype : shower panel|spraypattern : rain...</td>\n",
              "      <td>3.0</td>\n",
              "      <td>4.5</td>\n",
              "      <td>2.0</td>\n",
              "      <td>[producttype : shower panel, spraypattern : ra...</td>\n",
              "      <td>Home Improvement</td>\n",
              "      <td>Bathroom Remodel &amp; Bathroom Fixtures</td>\n",
              "      <td>Home Improvement  /  Bathroom Remodel &amp; Bathro...</td>\n",
              "    </tr>\n",
              "    <tr>\n",
              "      <th>42990</th>\n",
              "      <td>42990</td>\n",
              "      <td>emmeline 5 piece breakfast dining set</td>\n",
              "      <td>Dining Table Sets</td>\n",
              "      <td>Furniture / Kitchen &amp; Dining Furniture / Dinin...</td>\n",
              "      <td></td>\n",
              "      <td>basematerialdetails : steel| : gray wood|ofhar...</td>\n",
              "      <td>1314.0</td>\n",
              "      <td>4.5</td>\n",
              "      <td>864.0</td>\n",
              "      <td>[basematerialdetails : steel,  : gray wood, of...</td>\n",
              "      <td>Furniture</td>\n",
              "      <td>Kitchen &amp; Dining Furniture</td>\n",
              "      <td>Furniture  /  Kitchen &amp; Dining Furniture</td>\n",
              "    </tr>\n",
              "    <tr>\n",
              "      <th>42991</th>\n",
              "      <td>42991</td>\n",
              "      <td>maloney 3 piece pub table set</td>\n",
              "      <td>Dining Table Sets</td>\n",
              "      <td>Furniture / Kitchen &amp; Dining Furniture / Dinin...</td>\n",
              "      <td>this pub table set includes 1 counter height t...</td>\n",
              "      <td>additionaltoolsrequirednotincluded : power dri...</td>\n",
              "      <td>49.0</td>\n",
              "      <td>4.0</td>\n",
              "      <td>41.0</td>\n",
              "      <td>[additionaltoolsrequirednotincluded : power dr...</td>\n",
              "      <td>Furniture</td>\n",
              "      <td>Kitchen &amp; Dining Furniture</td>\n",
              "      <td>Furniture  /  Kitchen &amp; Dining Furniture</td>\n",
              "    </tr>\n",
              "    <tr>\n",
              "      <th>42992</th>\n",
              "      <td>42992</td>\n",
              "      <td>fletcher 27.5 '' wide polyester armchair</td>\n",
              "      <td>Teen Lounge Furniture|Accent Chairs</td>\n",
              "      <td>Furniture / Living Room Furniture / Chairs &amp; S...</td>\n",
              "      <td>bring iconic , modern style to your space in a...</td>\n",
              "      <td>legmaterialdetails : rubberwood|backheight-sea...</td>\n",
              "      <td>1746.0</td>\n",
              "      <td>4.5</td>\n",
              "      <td>1226.0</td>\n",
              "      <td>[legmaterialdetails : rubberwood, backheight-s...</td>\n",
              "      <td>Furniture</td>\n",
              "      <td>Living Room Furniture</td>\n",
              "      <td>Furniture  /  Living Room Furniture</td>\n",
              "    </tr>\n",
              "    <tr>\n",
              "      <th>42993</th>\n",
              "      <td>42993</td>\n",
              "      <td>griffin 29 '' bar stool</td>\n",
              "      <td>Bar Stools</td>\n",
              "      <td>Furniture / Kitchen &amp; Dining Furniture / Bar F...</td>\n",
              "      <td>this set of two barstools features a minimalis...</td>\n",
              "      <td>distancebetweenfloorandfootrest:7.5|dssecondar...</td>\n",
              "      <td>20.0</td>\n",
              "      <td>4.5</td>\n",
              "      <td>20.0</td>\n",
              "      <td>[distancebetweenfloorandfootrest:7.5, dssecond...</td>\n",
              "      <td>Furniture</td>\n",
              "      <td>Kitchen &amp; Dining Furniture</td>\n",
              "      <td>Furniture  /  Kitchen &amp; Dining Furniture</td>\n",
              "    </tr>\n",
              "  </tbody>\n",
              "</table>\n",
              "<p>42994 rows × 13 columns</p>\n",
              "</div>\n",
              "    <div class=\"colab-df-buttons\">\n",
              "\n",
              "  <div class=\"colab-df-container\">\n",
              "    <button class=\"colab-df-convert\" onclick=\"convertToInteractive('df-ae662d3e-5b03-4f80-8643-52ff3357a3f2')\"\n",
              "            title=\"Convert this dataframe to an interactive table.\"\n",
              "            style=\"display:none;\">\n",
              "\n",
              "  <svg xmlns=\"http://www.w3.org/2000/svg\" height=\"24px\" viewBox=\"0 -960 960 960\">\n",
              "    <path d=\"M120-120v-720h720v720H120Zm60-500h600v-160H180v160Zm220 220h160v-160H400v160Zm0 220h160v-160H400v160ZM180-400h160v-160H180v160Zm440 0h160v-160H620v160ZM180-180h160v-160H180v160Zm440 0h160v-160H620v160Z\"/>\n",
              "  </svg>\n",
              "    </button>\n",
              "\n",
              "  <style>\n",
              "    .colab-df-container {\n",
              "      display:flex;\n",
              "      gap: 12px;\n",
              "    }\n",
              "\n",
              "    .colab-df-convert {\n",
              "      background-color: #E8F0FE;\n",
              "      border: none;\n",
              "      border-radius: 50%;\n",
              "      cursor: pointer;\n",
              "      display: none;\n",
              "      fill: #1967D2;\n",
              "      height: 32px;\n",
              "      padding: 0 0 0 0;\n",
              "      width: 32px;\n",
              "    }\n",
              "\n",
              "    .colab-df-convert:hover {\n",
              "      background-color: #E2EBFA;\n",
              "      box-shadow: 0px 1px 2px rgba(60, 64, 67, 0.3), 0px 1px 3px 1px rgba(60, 64, 67, 0.15);\n",
              "      fill: #174EA6;\n",
              "    }\n",
              "\n",
              "    .colab-df-buttons div {\n",
              "      margin-bottom: 4px;\n",
              "    }\n",
              "\n",
              "    [theme=dark] .colab-df-convert {\n",
              "      background-color: #3B4455;\n",
              "      fill: #D2E3FC;\n",
              "    }\n",
              "\n",
              "    [theme=dark] .colab-df-convert:hover {\n",
              "      background-color: #434B5C;\n",
              "      box-shadow: 0px 1px 3px 1px rgba(0, 0, 0, 0.15);\n",
              "      filter: drop-shadow(0px 1px 2px rgba(0, 0, 0, 0.3));\n",
              "      fill: #FFFFFF;\n",
              "    }\n",
              "  </style>\n",
              "\n",
              "    <script>\n",
              "      const buttonEl =\n",
              "        document.querySelector('#df-ae662d3e-5b03-4f80-8643-52ff3357a3f2 button.colab-df-convert');\n",
              "      buttonEl.style.display =\n",
              "        google.colab.kernel.accessAllowed ? 'block' : 'none';\n",
              "\n",
              "      async function convertToInteractive(key) {\n",
              "        const element = document.querySelector('#df-ae662d3e-5b03-4f80-8643-52ff3357a3f2');\n",
              "        const dataTable =\n",
              "          await google.colab.kernel.invokeFunction('convertToInteractive',\n",
              "                                                    [key], {});\n",
              "        if (!dataTable) return;\n",
              "\n",
              "        const docLinkHtml = 'Like what you see? Visit the ' +\n",
              "          '<a target=\"_blank\" href=https://colab.research.google.com/notebooks/data_table.ipynb>data table notebook</a>'\n",
              "          + ' to learn more about interactive tables.';\n",
              "        element.innerHTML = '';\n",
              "        dataTable['output_type'] = 'display_data';\n",
              "        await google.colab.output.renderOutput(dataTable, element);\n",
              "        const docLink = document.createElement('div');\n",
              "        docLink.innerHTML = docLinkHtml;\n",
              "        element.appendChild(docLink);\n",
              "      }\n",
              "    </script>\n",
              "  </div>\n",
              "\n",
              "\n",
              "    <div id=\"df-8cfe5705-5927-4e5c-8682-82693b1a929b\">\n",
              "      <button class=\"colab-df-quickchart\" onclick=\"quickchart('df-8cfe5705-5927-4e5c-8682-82693b1a929b')\"\n",
              "                title=\"Suggest charts\"\n",
              "                style=\"display:none;\">\n",
              "\n",
              "<svg xmlns=\"http://www.w3.org/2000/svg\" height=\"24px\"viewBox=\"0 0 24 24\"\n",
              "     width=\"24px\">\n",
              "    <g>\n",
              "        <path d=\"M19 3H5c-1.1 0-2 .9-2 2v14c0 1.1.9 2 2 2h14c1.1 0 2-.9 2-2V5c0-1.1-.9-2-2-2zM9 17H7v-7h2v7zm4 0h-2V7h2v10zm4 0h-2v-4h2v4z\"/>\n",
              "    </g>\n",
              "</svg>\n",
              "      </button>\n",
              "\n",
              "<style>\n",
              "  .colab-df-quickchart {\n",
              "      --bg-color: #E8F0FE;\n",
              "      --fill-color: #1967D2;\n",
              "      --hover-bg-color: #E2EBFA;\n",
              "      --hover-fill-color: #174EA6;\n",
              "      --disabled-fill-color: #AAA;\n",
              "      --disabled-bg-color: #DDD;\n",
              "  }\n",
              "\n",
              "  [theme=dark] .colab-df-quickchart {\n",
              "      --bg-color: #3B4455;\n",
              "      --fill-color: #D2E3FC;\n",
              "      --hover-bg-color: #434B5C;\n",
              "      --hover-fill-color: #FFFFFF;\n",
              "      --disabled-bg-color: #3B4455;\n",
              "      --disabled-fill-color: #666;\n",
              "  }\n",
              "\n",
              "  .colab-df-quickchart {\n",
              "    background-color: var(--bg-color);\n",
              "    border: none;\n",
              "    border-radius: 50%;\n",
              "    cursor: pointer;\n",
              "    display: none;\n",
              "    fill: var(--fill-color);\n",
              "    height: 32px;\n",
              "    padding: 0;\n",
              "    width: 32px;\n",
              "  }\n",
              "\n",
              "  .colab-df-quickchart:hover {\n",
              "    background-color: var(--hover-bg-color);\n",
              "    box-shadow: 0 1px 2px rgba(60, 64, 67, 0.3), 0 1px 3px 1px rgba(60, 64, 67, 0.15);\n",
              "    fill: var(--button-hover-fill-color);\n",
              "  }\n",
              "\n",
              "  .colab-df-quickchart-complete:disabled,\n",
              "  .colab-df-quickchart-complete:disabled:hover {\n",
              "    background-color: var(--disabled-bg-color);\n",
              "    fill: var(--disabled-fill-color);\n",
              "    box-shadow: none;\n",
              "  }\n",
              "\n",
              "  .colab-df-spinner {\n",
              "    border: 2px solid var(--fill-color);\n",
              "    border-color: transparent;\n",
              "    border-bottom-color: var(--fill-color);\n",
              "    animation:\n",
              "      spin 1s steps(1) infinite;\n",
              "  }\n",
              "\n",
              "  @keyframes spin {\n",
              "    0% {\n",
              "      border-color: transparent;\n",
              "      border-bottom-color: var(--fill-color);\n",
              "      border-left-color: var(--fill-color);\n",
              "    }\n",
              "    20% {\n",
              "      border-color: transparent;\n",
              "      border-left-color: var(--fill-color);\n",
              "      border-top-color: var(--fill-color);\n",
              "    }\n",
              "    30% {\n",
              "      border-color: transparent;\n",
              "      border-left-color: var(--fill-color);\n",
              "      border-top-color: var(--fill-color);\n",
              "      border-right-color: var(--fill-color);\n",
              "    }\n",
              "    40% {\n",
              "      border-color: transparent;\n",
              "      border-right-color: var(--fill-color);\n",
              "      border-top-color: var(--fill-color);\n",
              "    }\n",
              "    60% {\n",
              "      border-color: transparent;\n",
              "      border-right-color: var(--fill-color);\n",
              "    }\n",
              "    80% {\n",
              "      border-color: transparent;\n",
              "      border-right-color: var(--fill-color);\n",
              "      border-bottom-color: var(--fill-color);\n",
              "    }\n",
              "    90% {\n",
              "      border-color: transparent;\n",
              "      border-bottom-color: var(--fill-color);\n",
              "    }\n",
              "  }\n",
              "</style>\n",
              "\n",
              "      <script>\n",
              "        async function quickchart(key) {\n",
              "          const quickchartButtonEl =\n",
              "            document.querySelector('#' + key + ' button');\n",
              "          quickchartButtonEl.disabled = true;  // To prevent multiple clicks.\n",
              "          quickchartButtonEl.classList.add('colab-df-spinner');\n",
              "          try {\n",
              "            const charts = await google.colab.kernel.invokeFunction(\n",
              "                'suggestCharts', [key], {});\n",
              "          } catch (error) {\n",
              "            console.error('Error during call to suggestCharts:', error);\n",
              "          }\n",
              "          quickchartButtonEl.classList.remove('colab-df-spinner');\n",
              "          quickchartButtonEl.classList.add('colab-df-quickchart-complete');\n",
              "        }\n",
              "        (() => {\n",
              "          let quickchartButtonEl =\n",
              "            document.querySelector('#df-8cfe5705-5927-4e5c-8682-82693b1a929b button');\n",
              "          quickchartButtonEl.style.display =\n",
              "            google.colab.kernel.accessAllowed ? 'block' : 'none';\n",
              "        })();\n",
              "      </script>\n",
              "    </div>\n",
              "\n",
              "  <div id=\"id_1c1bc013-7f9c-4fb8-920e-bf155207d28a\">\n",
              "    <style>\n",
              "      .colab-df-generate {\n",
              "        background-color: #E8F0FE;\n",
              "        border: none;\n",
              "        border-radius: 50%;\n",
              "        cursor: pointer;\n",
              "        display: none;\n",
              "        fill: #1967D2;\n",
              "        height: 32px;\n",
              "        padding: 0 0 0 0;\n",
              "        width: 32px;\n",
              "      }\n",
              "\n",
              "      .colab-df-generate:hover {\n",
              "        background-color: #E2EBFA;\n",
              "        box-shadow: 0px 1px 2px rgba(60, 64, 67, 0.3), 0px 1px 3px 1px rgba(60, 64, 67, 0.15);\n",
              "        fill: #174EA6;\n",
              "      }\n",
              "\n",
              "      [theme=dark] .colab-df-generate {\n",
              "        background-color: #3B4455;\n",
              "        fill: #D2E3FC;\n",
              "      }\n",
              "\n",
              "      [theme=dark] .colab-df-generate:hover {\n",
              "        background-color: #434B5C;\n",
              "        box-shadow: 0px 1px 3px 1px rgba(0, 0, 0, 0.15);\n",
              "        filter: drop-shadow(0px 1px 2px rgba(0, 0, 0, 0.3));\n",
              "        fill: #FFFFFF;\n",
              "      }\n",
              "    </style>\n",
              "    <button class=\"colab-df-generate\" onclick=\"generateWithVariable('products')\"\n",
              "            title=\"Generate code using this dataframe.\"\n",
              "            style=\"display:none;\">\n",
              "\n",
              "  <svg xmlns=\"http://www.w3.org/2000/svg\" height=\"24px\"viewBox=\"0 0 24 24\"\n",
              "       width=\"24px\">\n",
              "    <path d=\"M7,19H8.4L18.45,9,17,7.55,7,17.6ZM5,21V16.75L18.45,3.32a2,2,0,0,1,2.83,0l1.4,1.43a1.91,1.91,0,0,1,.58,1.4,1.91,1.91,0,0,1-.58,1.4L9.25,21ZM18.45,9,17,7.55Zm-12,3A5.31,5.31,0,0,0,4.9,8.1,5.31,5.31,0,0,0,1,6.5,5.31,5.31,0,0,0,4.9,4.9,5.31,5.31,0,0,0,6.5,1,5.31,5.31,0,0,0,8.1,4.9,5.31,5.31,0,0,0,12,6.5,5.46,5.46,0,0,0,6.5,12Z\"/>\n",
              "  </svg>\n",
              "    </button>\n",
              "    <script>\n",
              "      (() => {\n",
              "      const buttonEl =\n",
              "        document.querySelector('#id_1c1bc013-7f9c-4fb8-920e-bf155207d28a button.colab-df-generate');\n",
              "      buttonEl.style.display =\n",
              "        google.colab.kernel.accessAllowed ? 'block' : 'none';\n",
              "\n",
              "      buttonEl.onclick = () => {\n",
              "        google.colab.notebook.generateWithVariable('products');\n",
              "      }\n",
              "      })();\n",
              "    </script>\n",
              "  </div>\n",
              "\n",
              "    </div>\n",
              "  </div>\n"
            ],
            "application/vnd.google.colaboratory.intrinsic+json": {
              "type": "dataframe",
              "variable_name": "products",
              "summary": "{\n  \"name\": \"products\",\n  \"rows\": 42994,\n  \"fields\": [\n    {\n      \"column\": \"product_id\",\n      \"properties\": {\n        \"dtype\": \"number\",\n        \"std\": 12411,\n        \"min\": 0,\n        \"max\": 42993,\n        \"num_unique_values\": 42994,\n        \"samples\": [\n          32193,\n          21379,\n          42275\n        ],\n        \"semantic_type\": \"\",\n        \"description\": \"\"\n      }\n    },\n    {\n      \"column\": \"product_name\",\n      \"properties\": {\n        \"dtype\": \"string\",\n        \"num_unique_values\": 42577,\n        \"samples\": [\n          \"standard single hole bathroom faucet\",\n          \"marshaw wardrobe\",\n          \"sanner 55 '' wide power standard recliner\"\n        ],\n        \"semantic_type\": \"\",\n        \"description\": \"\"\n      }\n    },\n    {\n      \"column\": \"product_class\",\n      \"properties\": {\n        \"dtype\": \"category\",\n        \"num_unique_values\": 860,\n        \"samples\": [\n          \"Hall Trees|Benches\",\n          \"Patio Dining Sets|Patio Tables\",\n          \"Kitchen Islands\"\n        ],\n        \"semantic_type\": \"\",\n        \"description\": \"\"\n      }\n    },\n    {\n      \"column\": \"category hierarchy\",\n      \"properties\": {\n        \"dtype\": \"category\",\n        \"num_unique_values\": 1623,\n        \"samples\": [\n          \"Outdoor / Outdoor & Patio Furniture / Patio Furniture Sets / Patio Dining Sets\",\n          \"Kitchen & Tabletop / Kitchen Utensils & Tools / Knives & Accessories / Knife Sets / Starter Knife Sets\",\n          \"Home Improvement / Flooring, Walls & Ceiling / Floor Tiles & Wall Tiles / Shell Floor Tiles & Wall Tiles\"\n        ],\n        \"semantic_type\": \"\",\n        \"description\": \"\"\n      }\n    },\n    {\n      \"column\": \"product_description\",\n      \"properties\": {\n        \"dtype\": \"string\",\n        \"num_unique_values\": 33837,\n        \"samples\": [\n          \"get a fun novelty street sign for your home and office and show off your sense of humor . looking for a fun , hilarious street sign to hang on your cubicle or in your `` man cave '' ? if so signmission has all the cute , funny , hilarious , and even work-related novelty signs you 're looking for ! something for everyone we 've got a wide range of american-made signs just like this sign that will tickle your funny bone , make others smile , or even show off your snarky attitude . made to last made from a special plastic designed to hold up to a beating , this sign can bend without breaking and will never chip or crack , the colorful lettering will last a lifetime indoors and up to 4 years in the sun for outdoor use .\",\n          \"the holland bar stool ncaa grill cover is a perfect blend of style and functionality . the vinyl made grill cover ensures excellent fabric quality and durability . the grill cover can be printed with your favorite ncaa team logo on a classic black background . the logo is printed with a detailed step by step screen print process . the grill cover will protect your grill from all the outdoor elements and highlights your support for the team at the same time . the ncaa grill cover by holland bar stool lends a sporty touch to your grill , while protecting it at the same time . the grill cover is manufactured in the united states .\",\n          \"compact yet spacious , this metal storage cabinet features sturdy construction with strong metal legs for stability and a smart , powder-coated finish to keep it looking great . the door is secured with a metal handle for easy opening , and gestures vents , making it suitable for a variety of situations and contexts . the interior is easily accessed through the wide opening door , and it features a shelf that divides the space into two separate compartments , ideal for keeping belongings or items apart where needed . all metal construction makes this a hard-wearing storage solution for any situation .\"\n        ],\n        \"semantic_type\": \"\",\n        \"description\": \"\"\n      }\n    },\n    {\n      \"column\": \"product_features\",\n      \"properties\": {\n        \"dtype\": \"string\",\n        \"num_unique_values\": 42979,\n        \"samples\": [\n          \"materialdetails : brass|levelofassembly : partial assembly|features : none|glassfeatures : tempered|shelfdepth-fronttoback:4.45|internalonly-roomuse : living|wallmountingtype : anchor + screw|material : glass|overalldepth-fronttoback:4.45|additionaltoolsrequirednotincluded : power drill|style : modern & contemporary|supplierintendedandapproveduse : non residential use|roomuse : bathroom|producttype : bracket shelf|shape : rectangle|finish : chrome plated|overallheight-toptobottom:1.65|overallproductweight:1.41|overallwidth-sidetoside:23.62|overallweightcapacity:30|warrantylength:2 years|countryoforigin : taiwan|countryoforigin-additionaldetails : made in taiwan|warrantylength : lifetime|shelfwidth-sidetoside:23.62|totalnumberofpiecesincluded:1|numberofshelves:1|numberofinstallationholes:2|uniformpackagingandlabelingregulationsuplrcompliant : no|compositewoodproductcwp : no| : no|canadaproductrestriction : no|adjustableshelves : no|avoidpowertools : no|commercialwarranty : yes|cpsc-16cfr1303compliant : yes|installationrequired : yes|productwarranty : yes|adultassemblyrequired : yes|sor2016-193-surfacecoatingmaterialsregulations : yes|assemblyhardwareincluded : yes|material : metal|fullorlimitedwarranty : limited|supplierintendedandapproveduse : residential use\",\n          \"sheetcolor : blue|theme : animal|cribsizeshape : standard crib|greenguardgoldcertified : |typeofsheetsincluded : fitted sheet|animal : safari / jungle|overallwidth-sidetoside:32|overallproductweight:2.3|piecesincluded:1 quilt , 1 skirt , and 1 fitted sheet|greenguardcertified : |dryingmethod : tumble dry|material : polyester|overallthickness-fronttoback:0.25|washingmethod : delicate cycle|totalnumberofpiecesincluded:3|overalllength-headtotoe:42|fillmaterial : polyester/polyfill|gender : gender neutral|washingmethod : machine wash|color : blue/yellow/beige|numberofsheetsincluded:1|numberofdustrufflescribskirtsincluded:1|numberofblanketsquiltsincluded:1|railguardcover : no|licensedproduct : no|changingpadcoverincluded : no| : no|pillowcaseincluded : no|additionalitem : no|reversible : no|mobileincluded : no|pillowsincluded : no|children \\u2019 sproductcertificatecpc : no|astmf1917-12compliant : no|toybagincluded : no|diaperstackerincluded : no|walldcor : no|mobile : no|pillow : no|walldcorincluded : no|railguardcoverincluded : no|oeko-texcertified : no|changingpadcover : no|pillowcase : no|bumperincluded : no|bumper : no|bib : no|organic : no|knitted : no|additionalitemsincluded : no|diaperstacker : no|bibincluded : no|toybag : no|windowtreatmentsincluded : no|windowtreatment : no| : yes|dustrufflecribskirtincluded : yes|blanketquiltincluded : yes|sheetsincluded : yes|cpsc-16cfr1303compliant : yes|sor2018-83-consumerproductscontainingleadregulations : yes|dustrufflecribskirt : yes|cpsc-16cfr1500.49compliant : yes|blanketquilt : yes|sheet : yes|embroidered : yes|countryoforigin : china\",\n          \"producttype : privacy screen|panellength-endtoend:45|supplierintendedandapproveduse : non residential use|overallheight-toptobottom:48|overalldepth-fronttoback:36|warrantydetails : warranty only covers residential use|overallproductweight:9|overallwidth-sidetoside:36|primarymaterial : vinyl|warrantylength:10 years|color : white|panelwidth-sidetoside:36|primarymaterialdetails : polyvinyl chloride|productcare : spray with garden hose or use cloth and mild cleanser|piecesincluded:2 privacy screens|heighttobottomoffence:2|stainable : no|gatehardwareincluded : no|commercialwarranty : no| : no|panelsincluded : no|fencepostanchorincluded : no|californiaproposition65warningrequired : no|post : no|compositewoodproductcwp : no|postrequired : no|uvresistant : yes|adultassemblyrequired : yes|installationrequired : yes|waterresistant : yes|productwarranty : yes|paintable : yes|weatherresistant : yes|doublesided : yes|countryoforigin : china|fullorlimitedwarranty : limited|supplierintendedandapproveduse : residential use\"\n        ],\n        \"semantic_type\": \"\",\n        \"description\": \"\"\n      }\n    },\n    {\n      \"column\": \"rating_count\",\n      \"properties\": {\n        \"dtype\": \"number\",\n        \"std\": 2407.921579153146,\n        \"min\": 1.0,\n        \"max\": 109226.0,\n        \"num_unique_values\": 2861,\n        \"samples\": [\n          801.0,\n          18183.0,\n          690.0\n        ],\n        \"semantic_type\": \"\",\n        \"description\": \"\"\n      }\n    },\n    {\n      \"column\": \"average_rating\",\n      \"properties\": {\n        \"dtype\": \"number\",\n        \"std\": 0.5092626796749238,\n        \"min\": 1.0,\n        \"max\": 5.0,\n        \"num_unique_values\": 9,\n        \"samples\": [\n          3.5,\n          2.0,\n          4.0\n        ],\n        \"semantic_type\": \"\",\n        \"description\": \"\"\n      }\n    },\n    {\n      \"column\": \"review_count\",\n      \"properties\": {\n        \"dtype\": \"number\",\n        \"std\": 1539.6117373952657,\n        \"min\": 0.0,\n        \"max\": 61362.0,\n        \"num_unique_values\": 2310,\n        \"samples\": [\n          1430.0,\n          1489.0,\n          1663.0\n        ],\n        \"semantic_type\": \"\",\n        \"description\": \"\"\n      }\n    },\n    {\n      \"column\": \"features\",\n      \"properties\": {\n        \"dtype\": \"object\",\n        \"semantic_type\": \"\",\n        \"description\": \"\"\n      }\n    },\n    {\n      \"column\": \"category\",\n      \"properties\": {\n        \"dtype\": \"category\",\n        \"num_unique_values\": 56,\n        \"samples\": [\n          \"Furniture \",\n          \"Outdoor \",\n          \"Ergonomic Accessories\"\n        ],\n        \"semantic_type\": \"\",\n        \"description\": \"\"\n      }\n    },\n    {\n      \"column\": \"sub_category\",\n      \"properties\": {\n        \"dtype\": \"category\",\n        \"num_unique_values\": 145,\n        \"samples\": [\n          \" Bathroom Accessories & Organization \",\n          \" Teen Bedding \",\n          \" Outdoor Lighting \"\n        ],\n        \"semantic_type\": \"\",\n        \"description\": \"\"\n      }\n    },\n    {\n      \"column\": \"cat_subcat\",\n      \"properties\": {\n        \"dtype\": \"category\",\n        \"num_unique_values\": 175,\n        \"samples\": [\n          \"Table Accessories / \",\n          \"Browse By Brand  /  Latitude Run\",\n          \"Bed Accessories / \"\n        ],\n        \"semantic_type\": \"\",\n        \"description\": \"\"\n      }\n    }\n  ]\n}"
            }
          },
          "metadata": {},
          "execution_count": 1
        }
      ],
      "source": [
        "!pip install git+https://github.com/softwaredoug/cheat-at-search.git\n",
        "from cheat_at_search.data_dir import mount\n",
        "mount(use_gdrive=True)\n",
        "from cheat_at_search.search import run_strategy, graded_bm25, ndcgs, ndcg_delta, vs_ideal\n",
        "from cheat_at_search.wands_data import products\n",
        "\n",
        "products"
      ]
    },
    {
      "cell_type": "markdown",
      "source": [
        "## Create Cheating Classifier\n",
        "\n",
        "Below we use the ground truth to classify our queries perfectly from our labeled data.\n",
        "\n",
        "**The Goal** -- understand what MIGHT happen if our zero-shot LLM could always get the right answer. Then we can decide how much we want to invest here."
      ],
      "metadata": {
        "id": "P_31cQoSpnV6"
      }
    },
    {
      "cell_type": "markdown",
      "source": [
        "### Recreate Category Ground Truth\n",
        "\n",
        "Our ground truth from previous notebooks mapping query -> relevant products -> the dominant categories for those products"
      ],
      "metadata": {
        "id": "pxejcDXdpp9o"
      }
    },
    {
      "cell_type": "code",
      "source": [
        "from cheat_at_search.wands_data import labeled_query_products, queries\n",
        "\n",
        "def get_top_category(column, no_fit_label, cutoff=0.8):\n",
        "    # Get relevant products per query\n",
        "    top_products = labeled_query_products[labeled_query_products['grade'] == 2]\n",
        "\n",
        "    # Aggregate top categories\n",
        "    categories_per_query_ideal = top_products.groupby('query')[column].value_counts().reset_index()\n",
        "\n",
        "    # Get as percentage of all categories for this query\n",
        "    top_cat_proportion = categories_per_query_ideal.groupby(['query', column]).sum() / categories_per_query_ideal.groupby('query').sum()\n",
        "    top_cat_proportion = top_cat_proportion.drop(columns=column).reset_index()\n",
        "\n",
        "    # Only look at cases where the category is > 0.8\n",
        "    top_cat_proportion = top_cat_proportion[top_cat_proportion['count'] > cutoff]\n",
        "    top_cat_proportion[column].fillna(no_fit_label, inplace=True)\n",
        "    ground_truth_cat = top_cat_proportion\n",
        "    # Give No Category Fits to all others without dominant category\n",
        "    ground_truth_cat = ground_truth_cat.merge(queries, how='right', on='query')[['query', column, 'count']]\n",
        "    ground_truth_cat[column].fillna(no_fit_label, inplace=True)\n",
        "    return ground_truth_cat\n",
        "\n",
        "def get_pred(cat, column):\n",
        "    if column == 'category':\n",
        "        return cat.category\n",
        "    elif column == 'sub_category':\n",
        "        return cat.sub_category\n",
        "    else:\n",
        "        raise ValueError(f\"Unknown column {column}\")\n",
        "\n",
        "\n",
        "def prec_cat(ground_truth, column, no_fit_label, categorized, N=500):\n",
        "    hits = []\n",
        "    misses = []\n",
        "    for _, row in ground_truth.sample(frac=1).iterrows():\n",
        "        query = row['query']\n",
        "        expected_category = row[column]\n",
        "\n",
        "        cat = categorized(query)\n",
        "        pred = get_pred(cat, column)\n",
        "        if pred == no_fit_label:\n",
        "            print(f\"Skipping {query}\")\n",
        "            continue\n",
        "        if pred == expected_category.strip():\n",
        "            hits.append((expected_category, cat))\n",
        "        else:\n",
        "            print(\"***\")\n",
        "            print(f\"{query} -- predicted:{cat.category} != expected:{expected_category.strip()}\")\n",
        "            misses.append((expected_category, cat))\n",
        "            num_so_far = len(hits) + len(misses)\n",
        "            print(f\"prec (N={num_so_far}) -- {len(hits) / (len(hits) + len(misses))}\")\n",
        "            print(f\"coverage {num_so_far / len(ground_truth)}\")\n",
        "\n",
        "        if len(hits) + len(misses) > N:\n",
        "            break\n",
        "    return len(hits) / (len(hits) + len(misses)), num_so_far / len(ground_truth)"
      ],
      "metadata": {
        "id": "cREpJ4yxpkyv"
      },
      "execution_count": null,
      "outputs": []
    },
    {
      "cell_type": "code",
      "source": [
        "ground_truth_cat = get_top_category('category', 'No Category Fits')\n",
        "ground_truth_cat\n",
        "ground_truth_sub_cat = get_top_category('sub_category', 'No SubCategory Fits')\n",
        "ground_truth_sub_cat"
      ],
      "metadata": {
        "colab": {
          "base_uri": "https://localhost:8080/"
        },
        "id": "u-89vDMErWaT",
        "outputId": "ce948657-820c-40c5-af24-938448197a49"
      },
      "execution_count": null,
      "outputs": [
        {
          "output_type": "stream",
          "name": "stderr",
          "text": [
            "/tmp/ipython-input-2945477783.py:16: FutureWarning: A value is trying to be set on a copy of a DataFrame or Series through chained assignment using an inplace method.\n",
            "The behavior will change in pandas 3.0. This inplace method will never work because the intermediate object on which we are setting values always behaves as a copy.\n",
            "\n",
            "For example, when doing 'df[col].method(value, inplace=True)', try using 'df.method({col: value}, inplace=True)' or df[col] = df[col].method(value) instead, to perform the operation inplace on the original object.\n",
            "\n",
            "\n",
            "  top_cat_proportion[column].fillna(no_fit_label, inplace=True)\n",
            "/tmp/ipython-input-2945477783.py:20: FutureWarning: A value is trying to be set on a copy of a DataFrame or Series through chained assignment using an inplace method.\n",
            "The behavior will change in pandas 3.0. This inplace method will never work because the intermediate object on which we are setting values always behaves as a copy.\n",
            "\n",
            "For example, when doing 'df[col].method(value, inplace=True)', try using 'df.method({col: value}, inplace=True)' or df[col] = df[col].method(value) instead, to perform the operation inplace on the original object.\n",
            "\n",
            "\n",
            "  ground_truth_cat[column].fillna(no_fit_label, inplace=True)\n",
            "/tmp/ipython-input-2945477783.py:16: FutureWarning: A value is trying to be set on a copy of a DataFrame or Series through chained assignment using an inplace method.\n",
            "The behavior will change in pandas 3.0. This inplace method will never work because the intermediate object on which we are setting values always behaves as a copy.\n",
            "\n",
            "For example, when doing 'df[col].method(value, inplace=True)', try using 'df.method({col: value}, inplace=True)' or df[col] = df[col].method(value) instead, to perform the operation inplace on the original object.\n",
            "\n",
            "\n",
            "  top_cat_proportion[column].fillna(no_fit_label, inplace=True)\n",
            "/tmp/ipython-input-2945477783.py:20: FutureWarning: A value is trying to be set on a copy of a DataFrame or Series through chained assignment using an inplace method.\n",
            "The behavior will change in pandas 3.0. This inplace method will never work because the intermediate object on which we are setting values always behaves as a copy.\n",
            "\n",
            "For example, when doing 'df[col].method(value, inplace=True)', try using 'df.method({col: value}, inplace=True)' or df[col] = df[col].method(value) instead, to perform the operation inplace on the original object.\n",
            "\n",
            "\n",
            "  ground_truth_cat[column].fillna(no_fit_label, inplace=True)\n"
          ]
        },
        {
          "output_type": "execute_result",
          "data": {
            "text/plain": [
              "                                                 query  \\\n",
              "0                                          salon chair   \n",
              "1                                   smart coffee table   \n",
              "2                                             dinosaur   \n",
              "3                                    turquoise pillows   \n",
              "4                            chair and a half recliner   \n",
              "..                                                 ...   \n",
              "475                                        rustic twig   \n",
              "476  nespresso vertuo next premium by breville with...   \n",
              "477                                     pedistole sink   \n",
              "478                                54 in bench cushion   \n",
              "479                                         rack glass   \n",
              "\n",
              "                        sub_category     count  \n",
              "0                No SubCategory Fits       NaN  \n",
              "1             Living Room Furniture   1.000000  \n",
              "2                No SubCategory Fits       NaN  \n",
              "3     Decorative Pillows & Blankets   0.963636  \n",
              "4             Living Room Furniture   0.956522  \n",
              "..                               ...       ...  \n",
              "475              No SubCategory Fits       NaN  \n",
              "476              No SubCategory Fits       NaN  \n",
              "477              No SubCategory Fits       NaN  \n",
              "478              No SubCategory Fits       NaN  \n",
              "479              No SubCategory Fits       NaN  \n",
              "\n",
              "[480 rows x 3 columns]"
            ],
            "text/html": [
              "\n",
              "  <div id=\"df-a223df88-d556-467e-a63b-235e12e33017\" class=\"colab-df-container\">\n",
              "    <div>\n",
              "<style scoped>\n",
              "    .dataframe tbody tr th:only-of-type {\n",
              "        vertical-align: middle;\n",
              "    }\n",
              "\n",
              "    .dataframe tbody tr th {\n",
              "        vertical-align: top;\n",
              "    }\n",
              "\n",
              "    .dataframe thead th {\n",
              "        text-align: right;\n",
              "    }\n",
              "</style>\n",
              "<table border=\"1\" class=\"dataframe\">\n",
              "  <thead>\n",
              "    <tr style=\"text-align: right;\">\n",
              "      <th></th>\n",
              "      <th>query</th>\n",
              "      <th>sub_category</th>\n",
              "      <th>count</th>\n",
              "    </tr>\n",
              "  </thead>\n",
              "  <tbody>\n",
              "    <tr>\n",
              "      <th>0</th>\n",
              "      <td>salon chair</td>\n",
              "      <td>No SubCategory Fits</td>\n",
              "      <td>NaN</td>\n",
              "    </tr>\n",
              "    <tr>\n",
              "      <th>1</th>\n",
              "      <td>smart coffee table</td>\n",
              "      <td>Living Room Furniture</td>\n",
              "      <td>1.000000</td>\n",
              "    </tr>\n",
              "    <tr>\n",
              "      <th>2</th>\n",
              "      <td>dinosaur</td>\n",
              "      <td>No SubCategory Fits</td>\n",
              "      <td>NaN</td>\n",
              "    </tr>\n",
              "    <tr>\n",
              "      <th>3</th>\n",
              "      <td>turquoise pillows</td>\n",
              "      <td>Decorative Pillows &amp; Blankets</td>\n",
              "      <td>0.963636</td>\n",
              "    </tr>\n",
              "    <tr>\n",
              "      <th>4</th>\n",
              "      <td>chair and a half recliner</td>\n",
              "      <td>Living Room Furniture</td>\n",
              "      <td>0.956522</td>\n",
              "    </tr>\n",
              "    <tr>\n",
              "      <th>...</th>\n",
              "      <td>...</td>\n",
              "      <td>...</td>\n",
              "      <td>...</td>\n",
              "    </tr>\n",
              "    <tr>\n",
              "      <th>475</th>\n",
              "      <td>rustic twig</td>\n",
              "      <td>No SubCategory Fits</td>\n",
              "      <td>NaN</td>\n",
              "    </tr>\n",
              "    <tr>\n",
              "      <th>476</th>\n",
              "      <td>nespresso vertuo next premium by breville with...</td>\n",
              "      <td>No SubCategory Fits</td>\n",
              "      <td>NaN</td>\n",
              "    </tr>\n",
              "    <tr>\n",
              "      <th>477</th>\n",
              "      <td>pedistole sink</td>\n",
              "      <td>No SubCategory Fits</td>\n",
              "      <td>NaN</td>\n",
              "    </tr>\n",
              "    <tr>\n",
              "      <th>478</th>\n",
              "      <td>54 in bench cushion</td>\n",
              "      <td>No SubCategory Fits</td>\n",
              "      <td>NaN</td>\n",
              "    </tr>\n",
              "    <tr>\n",
              "      <th>479</th>\n",
              "      <td>rack glass</td>\n",
              "      <td>No SubCategory Fits</td>\n",
              "      <td>NaN</td>\n",
              "    </tr>\n",
              "  </tbody>\n",
              "</table>\n",
              "<p>480 rows × 3 columns</p>\n",
              "</div>\n",
              "    <div class=\"colab-df-buttons\">\n",
              "\n",
              "  <div class=\"colab-df-container\">\n",
              "    <button class=\"colab-df-convert\" onclick=\"convertToInteractive('df-a223df88-d556-467e-a63b-235e12e33017')\"\n",
              "            title=\"Convert this dataframe to an interactive table.\"\n",
              "            style=\"display:none;\">\n",
              "\n",
              "  <svg xmlns=\"http://www.w3.org/2000/svg\" height=\"24px\" viewBox=\"0 -960 960 960\">\n",
              "    <path d=\"M120-120v-720h720v720H120Zm60-500h600v-160H180v160Zm220 220h160v-160H400v160Zm0 220h160v-160H400v160ZM180-400h160v-160H180v160Zm440 0h160v-160H620v160ZM180-180h160v-160H180v160Zm440 0h160v-160H620v160Z\"/>\n",
              "  </svg>\n",
              "    </button>\n",
              "\n",
              "  <style>\n",
              "    .colab-df-container {\n",
              "      display:flex;\n",
              "      gap: 12px;\n",
              "    }\n",
              "\n",
              "    .colab-df-convert {\n",
              "      background-color: #E8F0FE;\n",
              "      border: none;\n",
              "      border-radius: 50%;\n",
              "      cursor: pointer;\n",
              "      display: none;\n",
              "      fill: #1967D2;\n",
              "      height: 32px;\n",
              "      padding: 0 0 0 0;\n",
              "      width: 32px;\n",
              "    }\n",
              "\n",
              "    .colab-df-convert:hover {\n",
              "      background-color: #E2EBFA;\n",
              "      box-shadow: 0px 1px 2px rgba(60, 64, 67, 0.3), 0px 1px 3px 1px rgba(60, 64, 67, 0.15);\n",
              "      fill: #174EA6;\n",
              "    }\n",
              "\n",
              "    .colab-df-buttons div {\n",
              "      margin-bottom: 4px;\n",
              "    }\n",
              "\n",
              "    [theme=dark] .colab-df-convert {\n",
              "      background-color: #3B4455;\n",
              "      fill: #D2E3FC;\n",
              "    }\n",
              "\n",
              "    [theme=dark] .colab-df-convert:hover {\n",
              "      background-color: #434B5C;\n",
              "      box-shadow: 0px 1px 3px 1px rgba(0, 0, 0, 0.15);\n",
              "      filter: drop-shadow(0px 1px 2px rgba(0, 0, 0, 0.3));\n",
              "      fill: #FFFFFF;\n",
              "    }\n",
              "  </style>\n",
              "\n",
              "    <script>\n",
              "      const buttonEl =\n",
              "        document.querySelector('#df-a223df88-d556-467e-a63b-235e12e33017 button.colab-df-convert');\n",
              "      buttonEl.style.display =\n",
              "        google.colab.kernel.accessAllowed ? 'block' : 'none';\n",
              "\n",
              "      async function convertToInteractive(key) {\n",
              "        const element = document.querySelector('#df-a223df88-d556-467e-a63b-235e12e33017');\n",
              "        const dataTable =\n",
              "          await google.colab.kernel.invokeFunction('convertToInteractive',\n",
              "                                                    [key], {});\n",
              "        if (!dataTable) return;\n",
              "\n",
              "        const docLinkHtml = 'Like what you see? Visit the ' +\n",
              "          '<a target=\"_blank\" href=https://colab.research.google.com/notebooks/data_table.ipynb>data table notebook</a>'\n",
              "          + ' to learn more about interactive tables.';\n",
              "        element.innerHTML = '';\n",
              "        dataTable['output_type'] = 'display_data';\n",
              "        await google.colab.output.renderOutput(dataTable, element);\n",
              "        const docLink = document.createElement('div');\n",
              "        docLink.innerHTML = docLinkHtml;\n",
              "        element.appendChild(docLink);\n",
              "      }\n",
              "    </script>\n",
              "  </div>\n",
              "\n",
              "\n",
              "    <div id=\"df-2e8bcd49-844d-4189-88df-8998b3da1014\">\n",
              "      <button class=\"colab-df-quickchart\" onclick=\"quickchart('df-2e8bcd49-844d-4189-88df-8998b3da1014')\"\n",
              "                title=\"Suggest charts\"\n",
              "                style=\"display:none;\">\n",
              "\n",
              "<svg xmlns=\"http://www.w3.org/2000/svg\" height=\"24px\"viewBox=\"0 0 24 24\"\n",
              "     width=\"24px\">\n",
              "    <g>\n",
              "        <path d=\"M19 3H5c-1.1 0-2 .9-2 2v14c0 1.1.9 2 2 2h14c1.1 0 2-.9 2-2V5c0-1.1-.9-2-2-2zM9 17H7v-7h2v7zm4 0h-2V7h2v10zm4 0h-2v-4h2v4z\"/>\n",
              "    </g>\n",
              "</svg>\n",
              "      </button>\n",
              "\n",
              "<style>\n",
              "  .colab-df-quickchart {\n",
              "      --bg-color: #E8F0FE;\n",
              "      --fill-color: #1967D2;\n",
              "      --hover-bg-color: #E2EBFA;\n",
              "      --hover-fill-color: #174EA6;\n",
              "      --disabled-fill-color: #AAA;\n",
              "      --disabled-bg-color: #DDD;\n",
              "  }\n",
              "\n",
              "  [theme=dark] .colab-df-quickchart {\n",
              "      --bg-color: #3B4455;\n",
              "      --fill-color: #D2E3FC;\n",
              "      --hover-bg-color: #434B5C;\n",
              "      --hover-fill-color: #FFFFFF;\n",
              "      --disabled-bg-color: #3B4455;\n",
              "      --disabled-fill-color: #666;\n",
              "  }\n",
              "\n",
              "  .colab-df-quickchart {\n",
              "    background-color: var(--bg-color);\n",
              "    border: none;\n",
              "    border-radius: 50%;\n",
              "    cursor: pointer;\n",
              "    display: none;\n",
              "    fill: var(--fill-color);\n",
              "    height: 32px;\n",
              "    padding: 0;\n",
              "    width: 32px;\n",
              "  }\n",
              "\n",
              "  .colab-df-quickchart:hover {\n",
              "    background-color: var(--hover-bg-color);\n",
              "    box-shadow: 0 1px 2px rgba(60, 64, 67, 0.3), 0 1px 3px 1px rgba(60, 64, 67, 0.15);\n",
              "    fill: var(--button-hover-fill-color);\n",
              "  }\n",
              "\n",
              "  .colab-df-quickchart-complete:disabled,\n",
              "  .colab-df-quickchart-complete:disabled:hover {\n",
              "    background-color: var(--disabled-bg-color);\n",
              "    fill: var(--disabled-fill-color);\n",
              "    box-shadow: none;\n",
              "  }\n",
              "\n",
              "  .colab-df-spinner {\n",
              "    border: 2px solid var(--fill-color);\n",
              "    border-color: transparent;\n",
              "    border-bottom-color: var(--fill-color);\n",
              "    animation:\n",
              "      spin 1s steps(1) infinite;\n",
              "  }\n",
              "\n",
              "  @keyframes spin {\n",
              "    0% {\n",
              "      border-color: transparent;\n",
              "      border-bottom-color: var(--fill-color);\n",
              "      border-left-color: var(--fill-color);\n",
              "    }\n",
              "    20% {\n",
              "      border-color: transparent;\n",
              "      border-left-color: var(--fill-color);\n",
              "      border-top-color: var(--fill-color);\n",
              "    }\n",
              "    30% {\n",
              "      border-color: transparent;\n",
              "      border-left-color: var(--fill-color);\n",
              "      border-top-color: var(--fill-color);\n",
              "      border-right-color: var(--fill-color);\n",
              "    }\n",
              "    40% {\n",
              "      border-color: transparent;\n",
              "      border-right-color: var(--fill-color);\n",
              "      border-top-color: var(--fill-color);\n",
              "    }\n",
              "    60% {\n",
              "      border-color: transparent;\n",
              "      border-right-color: var(--fill-color);\n",
              "    }\n",
              "    80% {\n",
              "      border-color: transparent;\n",
              "      border-right-color: var(--fill-color);\n",
              "      border-bottom-color: var(--fill-color);\n",
              "    }\n",
              "    90% {\n",
              "      border-color: transparent;\n",
              "      border-bottom-color: var(--fill-color);\n",
              "    }\n",
              "  }\n",
              "</style>\n",
              "\n",
              "      <script>\n",
              "        async function quickchart(key) {\n",
              "          const quickchartButtonEl =\n",
              "            document.querySelector('#' + key + ' button');\n",
              "          quickchartButtonEl.disabled = true;  // To prevent multiple clicks.\n",
              "          quickchartButtonEl.classList.add('colab-df-spinner');\n",
              "          try {\n",
              "            const charts = await google.colab.kernel.invokeFunction(\n",
              "                'suggestCharts', [key], {});\n",
              "          } catch (error) {\n",
              "            console.error('Error during call to suggestCharts:', error);\n",
              "          }\n",
              "          quickchartButtonEl.classList.remove('colab-df-spinner');\n",
              "          quickchartButtonEl.classList.add('colab-df-quickchart-complete');\n",
              "        }\n",
              "        (() => {\n",
              "          let quickchartButtonEl =\n",
              "            document.querySelector('#df-2e8bcd49-844d-4189-88df-8998b3da1014 button');\n",
              "          quickchartButtonEl.style.display =\n",
              "            google.colab.kernel.accessAllowed ? 'block' : 'none';\n",
              "        })();\n",
              "      </script>\n",
              "    </div>\n",
              "\n",
              "  <div id=\"id_5c3d1129-2bad-41b4-b3f3-5fc29b117ff0\">\n",
              "    <style>\n",
              "      .colab-df-generate {\n",
              "        background-color: #E8F0FE;\n",
              "        border: none;\n",
              "        border-radius: 50%;\n",
              "        cursor: pointer;\n",
              "        display: none;\n",
              "        fill: #1967D2;\n",
              "        height: 32px;\n",
              "        padding: 0 0 0 0;\n",
              "        width: 32px;\n",
              "      }\n",
              "\n",
              "      .colab-df-generate:hover {\n",
              "        background-color: #E2EBFA;\n",
              "        box-shadow: 0px 1px 2px rgba(60, 64, 67, 0.3), 0px 1px 3px 1px rgba(60, 64, 67, 0.15);\n",
              "        fill: #174EA6;\n",
              "      }\n",
              "\n",
              "      [theme=dark] .colab-df-generate {\n",
              "        background-color: #3B4455;\n",
              "        fill: #D2E3FC;\n",
              "      }\n",
              "\n",
              "      [theme=dark] .colab-df-generate:hover {\n",
              "        background-color: #434B5C;\n",
              "        box-shadow: 0px 1px 3px 1px rgba(0, 0, 0, 0.15);\n",
              "        filter: drop-shadow(0px 1px 2px rgba(0, 0, 0, 0.3));\n",
              "        fill: #FFFFFF;\n",
              "      }\n",
              "    </style>\n",
              "    <button class=\"colab-df-generate\" onclick=\"generateWithVariable('ground_truth_sub_cat')\"\n",
              "            title=\"Generate code using this dataframe.\"\n",
              "            style=\"display:none;\">\n",
              "\n",
              "  <svg xmlns=\"http://www.w3.org/2000/svg\" height=\"24px\"viewBox=\"0 0 24 24\"\n",
              "       width=\"24px\">\n",
              "    <path d=\"M7,19H8.4L18.45,9,17,7.55,7,17.6ZM5,21V16.75L18.45,3.32a2,2,0,0,1,2.83,0l1.4,1.43a1.91,1.91,0,0,1,.58,1.4,1.91,1.91,0,0,1-.58,1.4L9.25,21ZM18.45,9,17,7.55Zm-12,3A5.31,5.31,0,0,0,4.9,8.1,5.31,5.31,0,0,0,1,6.5,5.31,5.31,0,0,0,4.9,4.9,5.31,5.31,0,0,0,6.5,1,5.31,5.31,0,0,0,8.1,4.9,5.31,5.31,0,0,0,12,6.5,5.46,5.46,0,0,0,6.5,12Z\"/>\n",
              "  </svg>\n",
              "    </button>\n",
              "    <script>\n",
              "      (() => {\n",
              "      const buttonEl =\n",
              "        document.querySelector('#id_5c3d1129-2bad-41b4-b3f3-5fc29b117ff0 button.colab-df-generate');\n",
              "      buttonEl.style.display =\n",
              "        google.colab.kernel.accessAllowed ? 'block' : 'none';\n",
              "\n",
              "      buttonEl.onclick = () => {\n",
              "        google.colab.notebook.generateWithVariable('ground_truth_sub_cat');\n",
              "      }\n",
              "      })();\n",
              "    </script>\n",
              "  </div>\n",
              "\n",
              "    </div>\n",
              "  </div>\n"
            ],
            "application/vnd.google.colaboratory.intrinsic+json": {
              "type": "dataframe",
              "variable_name": "ground_truth_sub_cat",
              "summary": "{\n  \"name\": \"ground_truth_sub_cat\",\n  \"rows\": 480,\n  \"fields\": [\n    {\n      \"column\": \"query\",\n      \"properties\": {\n        \"dtype\": \"string\",\n        \"num_unique_values\": 480,\n        \"samples\": [\n          \"certified international melamine\",\n          \"tile backsplash\",\n          \"small ladies rocker swivel recliner\"\n        ],\n        \"semantic_type\": \"\",\n        \"description\": \"\"\n      }\n    },\n    {\n      \"column\": \"sub_category\",\n      \"properties\": {\n        \"dtype\": \"category\",\n        \"num_unique_values\": 63,\n        \"samples\": [\n          \" Holiday Lighting\",\n          \" Tableware & Drinkware \",\n          \"No SubCategory Fits\"\n        ],\n        \"semantic_type\": \"\",\n        \"description\": \"\"\n      }\n    },\n    {\n      \"column\": \"count\",\n      \"properties\": {\n        \"dtype\": \"number\",\n        \"std\": 0.05018013259116051,\n        \"min\": 0.8095238095238095,\n        \"max\": 1.0,\n        \"num_unique_values\": 84,\n        \"samples\": [\n          0.9417040358744395,\n          1.0,\n          0.9152542372881356\n        ],\n        \"semantic_type\": \"\",\n        \"description\": \"\"\n      }\n    }\n  ]\n}"
            }
          },
          "metadata": {},
          "execution_count": 3
        }
      ]
    },
    {
      "cell_type": "markdown",
      "metadata": {
        "id": "vQfsjM-5bsF4"
      },
      "source": [
        "## Query -> Category classification  structure\n",
        "\n",
        "As taken from previous notebooks, our category + subcategory classifications."
      ]
    },
    {
      "cell_type": "code",
      "execution_count": null,
      "metadata": {
        "id": "h0-Y8MnKZnF1"
      },
      "outputs": [],
      "source": [
        "from pydantic import BaseModel, Field\n",
        "from typing import List, Literal\n",
        "from cheat_at_search.enrich import AutoEnricher\n",
        "\n",
        "\n",
        "Categories = Literal['Furniture',\n",
        "                     'Home Improvement',\n",
        "                     'Décor & Pillows',\n",
        "                     'Outdoor',\n",
        "                     'Storage & Organization',\n",
        "                     'Lighting',\n",
        "                     'Rugs',\n",
        "                     'Bed & Bath',\n",
        "                     'Kitchen & Tabletop',\n",
        "                     'Baby & Kids',\n",
        "                     'School Furniture and Supplies',\n",
        "                     'Appliances',\n",
        "                     'Holiday Décor',\n",
        "                     'Commercial Business Furniture',\n",
        "                     'Pet',\n",
        "                     'Contractor',\n",
        "                     'Sale',\n",
        "                     'Foodservice ',\n",
        "                     'Reception Area',\n",
        "                     'Clips',\n",
        "                     'No Category Fits']\n",
        "\n",
        "SubCategories = Literal['Bedroom Furniture',\n",
        " 'Small Kitchen Appliances',\n",
        " 'All-Clad',\n",
        " 'Doors & Door Hardware',\n",
        " 'Bathroom Remodel & Bathroom Fixtures',\n",
        " 'Home Accessories',\n",
        " 'Living Room Furniture',\n",
        " 'Outdoor Décor',\n",
        " 'Flooring, Walls & Ceiling',\n",
        " 'Garage & Outdoor Storage & Organization',\n",
        " 'Cookware & Bakeware',\n",
        " 'Bedding',\n",
        " 'Kitchen Utensils & Tools',\n",
        " 'Shower Curtains & Accessories',\n",
        " 'Wall Shelving & Organization',\n",
        " 'Clocks',\n",
        " 'Bedding Essentials',\n",
        " 'Kitchen & Dining Furniture',\n",
        " 'Office Furniture',\n",
        " 'Tableware & Drinkware',\n",
        " 'Nursery Bedding',\n",
        " 'Cat',\n",
        " 'Outdoor Shades',\n",
        " 'Outdoor & Patio Furniture',\n",
        " 'Ceiling Lights',\n",
        " 'Area Rugs',\n",
        " 'Outdoor Lighting',\n",
        " 'Window Treatments',\n",
        " 'Garden',\n",
        " 'Closet Storage & Organization',\n",
        " 'Wall Décor',\n",
        " 'Mirrors',\n",
        " 'Shoe Storage',\n",
        " 'Toddler & Kids Playroom',\n",
        " 'Game Tables & Game Room Furniture',\n",
        " 'Decorative Pillows & Blankets',\n",
        " 'School Furniture',\n",
        " 'Wall Lights',\n",
        " 'Bathroom Storage & Organization',\n",
        " 'Commercial Office Furniture',\n",
        " 'Flowers & Plants',\n",
        " 'Mattresses & Foundations',\n",
        " 'Area Rugs',\n",
        " 'Cleaning & Laundry Organization',\n",
        " 'Kitchen Organization',\n",
        " 'Candles & Holders',\n",
        " 'Christmas',\n",
        " 'Toddler & Kids Bedroom Furniture',\n",
        " 'Front Door Décor & Curb Appeal',\n",
        " 'Storage Furniture',\n",
        " 'School Spaces',\n",
        " 'Hardware',\n",
        " 'Light Bulbs & Hardware',\n",
        " 'Ceiling Fans',\n",
        " 'Doormats',\n",
        " 'Entry & Hallway',\n",
        " 'Storage Containers & Drawers',\n",
        " 'Holiday Lighting',\n",
        " 'Kitchen Mats',\n",
        " 'Facilities & Maintenance',\n",
        " 'Table & Floor Lamps',\n",
        " 'Bird',\n",
        " 'Kitchen Appliances',\n",
        " 'Building Equipment',\n",
        " 'Art',\n",
        " 'Picture Frames & Albums',\n",
        " 'Outdoor Heating',\n",
        " 'Outdoor Recreation',\n",
        " 'Bathroom Accessories & Organization',\n",
        " 'School Boards & Technology',\n",
        " 'Closeout',\n",
        " 'Reception Seating',\n",
        " 'Foodservice Tables',\n",
        " 'Kitchen Remodel & Kitchen Fixtures',\n",
        " 'Hot Tubs & Saunas',\n",
        " 'Teen Bedroom Furniture',\n",
        " 'Outdoor Fencing & Flooring',\n",
        " 'Chairs',\n",
        " 'Bath Rugs & Towels',\n",
        " 'Fish',\n",
        " 'Dog',\n",
        " 'Chicken',\n",
        " 'Boards & Tech Accessories',\n",
        " 'Commercial Contractor',\n",
        " 'Clamps',\n",
        " 'Jewelry Organization',\n",
        " 'Entry & Mudroom Furniture',\n",
        " 'Outdoor Cooking & Tableware',\n",
        " 'Seasonal Décor',\n",
        " 'Nursery Furniture',\n",
        " 'Storage & Organization Sale',\n",
        " 'Washers & Dryers',\n",
        " 'Baby & Kids Décor & Lighting',\n",
        " 'Outdoor Remodel',\n",
        " 'Plumbing',\n",
        " 'Birch Lane™',\n",
        " 'Office Organization',\n",
        " 'Kitchen & Dining Sale',\n",
        " 'Holiday Lighting',\n",
        " 'Baby & Kids Storage',\n",
        " 'Shop All Characters',\n",
        " 'Commercial Kitchen',\n",
        " 'Guest Room Amenities',\n",
        " 'Charlton Home',\n",
        " 'Wade Logan®',\n",
        " 'Heating, Cooling & Air Quality',\n",
        " 'Thanksgiving',\n",
        " 'Fourth of July',\n",
        " 'Vacuums & Deep Cleaners',\n",
        " 'Stair Tread Rugs',\n",
        " 'Small Spaces',\n",
        " 'Toddler & Kids Bedding & Bath',\n",
        " 'Classroom Décor',\n",
        " 'Early Education Play Area',\n",
        " 'Zoomie Kids',\n",
        " 'Fryers',\n",
        " 'August Grove',\n",
        " 'Dorm Décor & Back to School Essentials',\n",
        " 'Symple Stuff',\n",
        " 'Wayfair Basics®',\n",
        " 'The Holiday Aisle',\n",
        " 'Chair Pads & Cushions',\n",
        " 'The Monogram Shop',\n",
        " 'Wedding',\n",
        " 'Wedding',\n",
        " 'Reception Desks & Tables',\n",
        " 'Rug Pads',\n",
        " 'Latitude Run',\n",
        " 'Accommodations Furniture',\n",
        " 'Easter',\n",
        " 'Furniture Sale',\n",
        " 'Shop All Characters',\n",
        " 'Novelty Lights',\n",
        " \"Valentine's Day\",\n",
        " 'Outdoor Sale',\n",
        " 'Classroom & Training Furniture',\n",
        " 'Rebrilliant',\n",
        " 'Rug Pads',\n",
        " 'Commercial Kitchen Storage',\n",
        " 'Teen Bedding',\n",
        " 'Tommy Bahama Home',\n",
        " 'Appliances Sale',\n",
        " 'Massage Products',\n",
        " 'No SubCategory Fits']\n",
        "\n",
        "class Query(BaseModel):\n",
        "    \"\"\"\n",
        "    Base model for search queries, containing common query attributes.\n",
        "    \"\"\"\n",
        "    keywords: str = Field(\n",
        "        ...,\n",
        "        description=\"The original search query keywords sent in as input\"\n",
        "    )\n",
        "\n",
        "class QueryCategory(Query):\n",
        "    \"\"\"\n",
        "    Structured representation of a search query for furniture e-commerce.\n",
        "    Inherits keywords from the base Query model and adds category and sub-category.\n",
        "    \"\"\"\n",
        "    category: Categories = Field(\n",
        "        description=\"Category of the product\"\n",
        "    )\n",
        "    sub_category: SubCategories = Field(\n",
        "        description=\"Sub-category of the product\"\n",
        "    )\n",
        "\n",
        "    @property\n",
        "    def classification(self) -> str:\n",
        "        return f\"{self.category} / {self.sub_category}\"\n",
        "\n",
        "\n",
        "\n"
      ]
    },
    {
      "cell_type": "markdown",
      "metadata": {
        "id": "vnhABrYKb6r6"
      },
      "source": [
        "### Query classification code (cheating)\n",
        "\n",
        "We lookup in the ground truth the category and subcategory and return the right answer"
      ]
    },
    {
      "cell_type": "code",
      "execution_count": null,
      "metadata": {
        "colab": {
          "base_uri": "https://localhost:8080/"
        },
        "id": "RZ-hEr-CSr9T",
        "outputId": "9edda73f-68b0-4d92-d70e-fb4fd47c68a4"
      },
      "outputs": [
        {
          "output_type": "execute_result",
          "data": {
            "text/plain": [
              "QueryCategory(keywords='tv stand', category='No Category Fits', sub_category='No SubCategory Fits')"
            ]
          },
          "metadata": {},
          "execution_count": 5
        }
      ],
      "source": [
        "from re import sub\n",
        "def categorized(query):\n",
        "    category = \"No Category Fits\"\n",
        "    sub_category = \"No SubCategory Fits\"\n",
        "    if query in ground_truth_cat['query'].values:\n",
        "        cat_at_query = ground_truth_cat[ground_truth_cat['query'] == query]['category']\n",
        "        cat_at_query = cat_at_query.values[0].strip()\n",
        "        category = cat_at_query if cat_at_query else \"No Category Fits\"\n",
        "    if query in ground_truth_sub_cat['query'].values:\n",
        "        sub_cat_at_query = ground_truth_sub_cat[ground_truth_sub_cat['query'] == query]['sub_category']\n",
        "        sub_cat_at_query = sub_cat_at_query.values[0].strip()\n",
        "        sub_category = sub_cat_at_query if sub_cat_at_query else \"No SubCategory Fits\"\n",
        "        print(sub_category)\n",
        "    return QueryCategory(keywords=query, category=category, sub_category=sub_category)\n",
        "\n",
        "\n",
        "categorized(\"tv stand\")"
      ]
    },
    {
      "cell_type": "code",
      "source": [
        "TEST_QUERY = \"island estate coffee table\"\n",
        "ground_truth_cat[ground_truth_cat['query'] == TEST_QUERY], categorized(TEST_QUERY)"
      ],
      "metadata": {
        "colab": {
          "base_uri": "https://localhost:8080/"
        },
        "id": "VCmIVrRgsDTx",
        "outputId": "03b61111-0bdd-4aca-d144-2333944c2f5e"
      },
      "execution_count": null,
      "outputs": [
        {
          "output_type": "stream",
          "name": "stdout",
          "text": [
            "Living Room Furniture\n"
          ]
        },
        {
          "output_type": "execute_result",
          "data": {
            "text/plain": [
              "(                          query    category  count\n",
              " 370  island estate coffee table  Furniture     1.0,\n",
              " QueryCategory(keywords='island estate coffee table', category='Furniture', sub_category='Living Room Furniture'))"
            ]
          },
          "metadata": {},
          "execution_count": 6
        }
      ]
    },
    {
      "cell_type": "markdown",
      "metadata": {
        "id": "pz-M4EZSbVeV"
      },
      "source": [
        "### Category search strategy\n",
        "\n",
        "The same search strategy from before, but here we pass the cheating classifier"
      ]
    },
    {
      "cell_type": "code",
      "execution_count": null,
      "metadata": {
        "id": "8wkSe0oo4bdM"
      },
      "outputs": [],
      "source": [
        "from searcharray import SearchArray\n",
        "from cheat_at_search.tokenizers import snowball_tokenizer\n",
        "from cheat_at_search.strategy.strategy import SearchStrategy\n",
        "import numpy as np\n",
        "\n",
        "\n",
        "class CategorySearch(SearchStrategy):\n",
        "    def __init__(self, products, query_to_cat,\n",
        "                 name_boost=9.3,\n",
        "                 description_boost=4.1,\n",
        "                 category_boost=100,\n",
        "                 sub_category_boost=50):\n",
        "        super().__init__(products)\n",
        "        self.index = products\n",
        "        self.index['product_name_snowball'] = SearchArray.index(\n",
        "            products['product_name'], snowball_tokenizer)\n",
        "        self.index['product_description_snowball'] = SearchArray.index(\n",
        "            products['product_description'], snowball_tokenizer)\n",
        "\n",
        "        cat_split = products['category hierarchy'].fillna('').str.split(\"/\")\n",
        "\n",
        "        products['category'] = cat_split.apply(\n",
        "            lambda x: x[0].strip() if len(x) > 0 else \"\"\n",
        "        )\n",
        "        products['subcategory'] = cat_split.apply(\n",
        "            lambda x: x[1].strip() if len(x) > 1 else \"\"\n",
        "        )\n",
        "        self.index['category_snowball'] = SearchArray.index(\n",
        "            products['category'], snowball_tokenizer\n",
        "        )\n",
        "        self.index['subcategory_snowball'] = SearchArray.index(\n",
        "            products['subcategory'], snowball_tokenizer\n",
        "        )\n",
        "\n",
        "        self.query_to_cat = query_to_cat\n",
        "        self.name_boost = name_boost\n",
        "        self.description_boost = description_boost\n",
        "        self.category_boost = category_boost\n",
        "        self.sub_category_boost = sub_category_boost\n",
        "\n",
        "    def search(self, query, k=10):\n",
        "        \"\"\"Dumb baseline lexical search, but add a constant boost when\n",
        "           the desired category or subcategory\"\"\"\n",
        "        bm25_scores = np.zeros(len(self.index))\n",
        "        structured = self.query_to_cat(query)\n",
        "        tokenized = snowball_tokenizer(query)\n",
        "        print(query, structured)\n",
        "\n",
        "        # ****\n",
        "        # Baseline BM25 search from before\n",
        "        for token in tokenized:\n",
        "            bm25_scores += self.index['product_name_snowball'].array.score(token) * self.name_boost\n",
        "            bm25_scores += self.index['product_description_snowball'].array.score(\n",
        "                token) * self.description_boost\n",
        "\n",
        "        # ****\n",
        "        # If there's a subcategory, boost that by a constant amount\n",
        "        if structured.sub_category and structured.sub_category != \"No SubCategory Fits\":\n",
        "            tokenized_subcategory = snowball_tokenizer(structured.sub_category)\n",
        "            subcategory_match = np.ones(len(self.index))\n",
        "            if tokenized_subcategory:\n",
        "                subcategory_match = self.index['subcategory_snowball'].array.score(tokenized_subcategory) > 0\n",
        "            bm25_scores[subcategory_match] += self.sub_category_boost\n",
        "\n",
        "        # ****\n",
        "        # If there's a category, boost that by a constant amount\n",
        "        if structured.category and structured.category != \"No Category Fits\":\n",
        "            tokenized_category = snowball_tokenizer(structured.category)\n",
        "            category_match = np.ones(len(self.index))\n",
        "            if tokenized_category:\n",
        "                category_match = self.index['category_snowball'].array.score(tokenized_category) > 0\n",
        "            bm25_scores[category_match] += self.category_boost\n",
        "\n",
        "        top_k = np.argsort(-bm25_scores)[:k]\n",
        "        scores = bm25_scores[top_k]\n",
        "\n",
        "        return top_k, scores\n"
      ]
    },
    {
      "cell_type": "code",
      "execution_count": null,
      "metadata": {
        "colab": {
          "base_uri": "https://localhost:8080/",
          "height": 1000
        },
        "id": "UzL7dMu_Puey",
        "outputId": "b04e480b-1b05-4ba9-dc7e-4ffa5fe9a7e2"
      },
      "outputs": [
        {
          "output_type": "stream",
          "name": "stdout",
          "text": [
            "2025-08-31 20:51:49,689 - searcharray.indexing - INFO - Indexing begins w/ 4 workers\n"
          ]
        },
        {
          "output_type": "stream",
          "name": "stderr",
          "text": [
            "INFO:searcharray.indexing:Indexing begins w/ 4 workers\n"
          ]
        },
        {
          "output_type": "stream",
          "name": "stdout",
          "text": [
            "2025-08-31 20:51:49,704 - searcharray.indexing - INFO - 0 Batch Start tokenization\n"
          ]
        },
        {
          "output_type": "stream",
          "name": "stderr",
          "text": [
            "INFO:searcharray.indexing:0 Batch Start tokenization\n"
          ]
        },
        {
          "output_type": "stream",
          "name": "stdout",
          "text": [
            "2025-08-31 20:51:49,707 - searcharray.indexing - INFO - Tokenizing 42994 documents\n"
          ]
        },
        {
          "output_type": "stream",
          "name": "stderr",
          "text": [
            "INFO:searcharray.indexing:Tokenizing 42994 documents\n"
          ]
        },
        {
          "output_type": "stream",
          "name": "stdout",
          "text": [
            "2025-08-31 20:51:50,212 - searcharray.indexing - INFO - Tokenized 10000 (23.259059403637718%)\n"
          ]
        },
        {
          "output_type": "stream",
          "name": "stderr",
          "text": [
            "INFO:searcharray.indexing:Tokenized 10000 (23.259059403637718%)\n"
          ]
        },
        {
          "output_type": "stream",
          "name": "stdout",
          "text": [
            "2025-08-31 20:51:50,891 - searcharray.indexing - INFO - Tokenized 20000 (46.518118807275435%)\n"
          ]
        },
        {
          "output_type": "stream",
          "name": "stderr",
          "text": [
            "INFO:searcharray.indexing:Tokenized 20000 (46.518118807275435%)\n"
          ]
        },
        {
          "output_type": "stream",
          "name": "stdout",
          "text": [
            "2025-08-31 20:51:51,562 - searcharray.indexing - INFO - Tokenized 30000 (69.77717821091315%)\n"
          ]
        },
        {
          "output_type": "stream",
          "name": "stderr",
          "text": [
            "INFO:searcharray.indexing:Tokenized 30000 (69.77717821091315%)\n"
          ]
        },
        {
          "output_type": "stream",
          "name": "stdout",
          "text": [
            "2025-08-31 20:51:52,383 - searcharray.indexing - INFO - Tokenized 40000 (93.03623761455087%)\n"
          ]
        },
        {
          "output_type": "stream",
          "name": "stderr",
          "text": [
            "INFO:searcharray.indexing:Tokenized 40000 (93.03623761455087%)\n"
          ]
        },
        {
          "output_type": "stream",
          "name": "stdout",
          "text": [
            "2025-08-31 20:51:52,833 - searcharray.indexing - INFO - Tokenization -- vstacking\n"
          ]
        },
        {
          "output_type": "stream",
          "name": "stderr",
          "text": [
            "INFO:searcharray.indexing:Tokenization -- vstacking\n"
          ]
        },
        {
          "output_type": "stream",
          "name": "stdout",
          "text": [
            "2025-08-31 20:51:52,845 - searcharray.indexing - INFO - Tokenization -- DONE\n"
          ]
        },
        {
          "output_type": "stream",
          "name": "stderr",
          "text": [
            "INFO:searcharray.indexing:Tokenization -- DONE\n"
          ]
        },
        {
          "output_type": "stream",
          "name": "stdout",
          "text": [
            "2025-08-31 20:51:52,862 - searcharray.indexing - INFO - Inverting docs->terms\n"
          ]
        },
        {
          "output_type": "stream",
          "name": "stderr",
          "text": [
            "INFO:searcharray.indexing:Inverting docs->terms\n"
          ]
        },
        {
          "output_type": "stream",
          "name": "stdout",
          "text": [
            "2025-08-31 20:51:52,941 - searcharray.indexing - INFO - Encoding positions to bit array\n"
          ]
        },
        {
          "output_type": "stream",
          "name": "stderr",
          "text": [
            "INFO:searcharray.indexing:Encoding positions to bit array\n"
          ]
        },
        {
          "output_type": "stream",
          "name": "stdout",
          "text": [
            "2025-08-31 20:51:53,052 - searcharray.indexing - INFO - Batch tokenization complete\n"
          ]
        },
        {
          "output_type": "stream",
          "name": "stderr",
          "text": [
            "INFO:searcharray.indexing:Batch tokenization complete\n"
          ]
        },
        {
          "output_type": "stream",
          "name": "stdout",
          "text": [
            "2025-08-31 20:51:53,058 - searcharray.indexing - INFO - (main thread) Processing 1 batch results\n"
          ]
        },
        {
          "output_type": "stream",
          "name": "stderr",
          "text": [
            "INFO:searcharray.indexing:(main thread) Processing 1 batch results\n"
          ]
        },
        {
          "output_type": "stream",
          "name": "stdout",
          "text": [
            "2025-08-31 20:51:53,153 - searcharray.indexing - INFO - Indexing from tokenization complete\n"
          ]
        },
        {
          "output_type": "stream",
          "name": "stderr",
          "text": [
            "INFO:searcharray.indexing:Indexing from tokenization complete\n"
          ]
        },
        {
          "output_type": "stream",
          "name": "stdout",
          "text": [
            "2025-08-31 20:51:53,298 - searcharray.indexing - INFO - Indexing begins w/ 4 workers\n"
          ]
        },
        {
          "output_type": "stream",
          "name": "stderr",
          "text": [
            "INFO:searcharray.indexing:Indexing begins w/ 4 workers\n"
          ]
        },
        {
          "output_type": "stream",
          "name": "stdout",
          "text": [
            "2025-08-31 20:51:53,317 - searcharray.indexing - INFO - 0 Batch Start tokenization\n"
          ]
        },
        {
          "output_type": "stream",
          "name": "stderr",
          "text": [
            "INFO:searcharray.indexing:0 Batch Start tokenization\n"
          ]
        },
        {
          "output_type": "stream",
          "name": "stdout",
          "text": [
            "2025-08-31 20:51:53,323 - searcharray.indexing - INFO - Tokenizing 42994 documents\n"
          ]
        },
        {
          "output_type": "stream",
          "name": "stderr",
          "text": [
            "INFO:searcharray.indexing:Tokenizing 42994 documents\n"
          ]
        },
        {
          "output_type": "stream",
          "name": "stdout",
          "text": [
            "2025-08-31 20:51:56,193 - searcharray.indexing - INFO - Tokenized 10000 (23.259059403637718%)\n"
          ]
        },
        {
          "output_type": "stream",
          "name": "stderr",
          "text": [
            "INFO:searcharray.indexing:Tokenized 10000 (23.259059403637718%)\n"
          ]
        },
        {
          "output_type": "stream",
          "name": "stdout",
          "text": [
            "2025-08-31 20:52:00,944 - searcharray.indexing - INFO - Tokenized 20000 (46.518118807275435%)\n"
          ]
        },
        {
          "output_type": "stream",
          "name": "stderr",
          "text": [
            "INFO:searcharray.indexing:Tokenized 20000 (46.518118807275435%)\n"
          ]
        },
        {
          "output_type": "stream",
          "name": "stdout",
          "text": [
            "2025-08-31 20:52:04,632 - searcharray.indexing - INFO - Tokenized 30000 (69.77717821091315%)\n"
          ]
        },
        {
          "output_type": "stream",
          "name": "stderr",
          "text": [
            "INFO:searcharray.indexing:Tokenized 30000 (69.77717821091315%)\n"
          ]
        },
        {
          "output_type": "stream",
          "name": "stdout",
          "text": [
            "2025-08-31 20:52:05,903 - searcharray.indexing - INFO - Tokenized 40000 (93.03623761455087%)\n"
          ]
        },
        {
          "output_type": "stream",
          "name": "stderr",
          "text": [
            "INFO:searcharray.indexing:Tokenized 40000 (93.03623761455087%)\n"
          ]
        },
        {
          "output_type": "stream",
          "name": "stdout",
          "text": [
            "2025-08-31 20:52:06,487 - searcharray.indexing - INFO - Tokenization -- vstacking\n"
          ]
        },
        {
          "output_type": "stream",
          "name": "stderr",
          "text": [
            "INFO:searcharray.indexing:Tokenization -- vstacking\n"
          ]
        },
        {
          "output_type": "stream",
          "name": "stdout",
          "text": [
            "2025-08-31 20:52:06,522 - searcharray.indexing - INFO - Tokenization -- DONE\n"
          ]
        },
        {
          "output_type": "stream",
          "name": "stderr",
          "text": [
            "INFO:searcharray.indexing:Tokenization -- DONE\n"
          ]
        },
        {
          "output_type": "stream",
          "name": "stdout",
          "text": [
            "2025-08-31 20:52:06,556 - searcharray.indexing - INFO - Inverting docs->terms\n"
          ]
        },
        {
          "output_type": "stream",
          "name": "stderr",
          "text": [
            "INFO:searcharray.indexing:Inverting docs->terms\n"
          ]
        },
        {
          "output_type": "stream",
          "name": "stdout",
          "text": [
            "2025-08-31 20:52:07,124 - searcharray.indexing - INFO - Encoding positions to bit array\n"
          ]
        },
        {
          "output_type": "stream",
          "name": "stderr",
          "text": [
            "INFO:searcharray.indexing:Encoding positions to bit array\n"
          ]
        },
        {
          "output_type": "stream",
          "name": "stdout",
          "text": [
            "2025-08-31 20:52:07,391 - searcharray.indexing - INFO - Batch tokenization complete\n"
          ]
        },
        {
          "output_type": "stream",
          "name": "stderr",
          "text": [
            "INFO:searcharray.indexing:Batch tokenization complete\n"
          ]
        },
        {
          "output_type": "stream",
          "name": "stdout",
          "text": [
            "2025-08-31 20:52:07,394 - searcharray.indexing - INFO - (main thread) Processing 1 batch results\n"
          ]
        },
        {
          "output_type": "stream",
          "name": "stderr",
          "text": [
            "INFO:searcharray.indexing:(main thread) Processing 1 batch results\n"
          ]
        },
        {
          "output_type": "stream",
          "name": "stdout",
          "text": [
            "2025-08-31 20:52:07,594 - searcharray.indexing - INFO - Indexing from tokenization complete\n"
          ]
        },
        {
          "output_type": "stream",
          "name": "stderr",
          "text": [
            "INFO:searcharray.indexing:Indexing from tokenization complete\n"
          ]
        },
        {
          "output_type": "stream",
          "name": "stdout",
          "text": [
            "2025-08-31 20:52:07,993 - searcharray.indexing - INFO - Indexing begins w/ 4 workers\n"
          ]
        },
        {
          "output_type": "stream",
          "name": "stderr",
          "text": [
            "INFO:searcharray.indexing:Indexing begins w/ 4 workers\n"
          ]
        },
        {
          "output_type": "stream",
          "name": "stdout",
          "text": [
            "2025-08-31 20:52:08,001 - searcharray.indexing - INFO - 0 Batch Start tokenization\n"
          ]
        },
        {
          "output_type": "stream",
          "name": "stderr",
          "text": [
            "INFO:searcharray.indexing:0 Batch Start tokenization\n"
          ]
        },
        {
          "output_type": "stream",
          "name": "stdout",
          "text": [
            "2025-08-31 20:52:08,004 - searcharray.indexing - INFO - Tokenizing 42994 documents\n"
          ]
        },
        {
          "output_type": "stream",
          "name": "stderr",
          "text": [
            "INFO:searcharray.indexing:Tokenizing 42994 documents\n"
          ]
        },
        {
          "output_type": "stream",
          "name": "stdout",
          "text": [
            "2025-08-31 20:52:08,200 - searcharray.indexing - INFO - Tokenized 10000 (23.259059403637718%)\n"
          ]
        },
        {
          "output_type": "stream",
          "name": "stderr",
          "text": [
            "INFO:searcharray.indexing:Tokenized 10000 (23.259059403637718%)\n"
          ]
        },
        {
          "output_type": "stream",
          "name": "stdout",
          "text": [
            "2025-08-31 20:52:08,438 - searcharray.indexing - INFO - Tokenized 20000 (46.518118807275435%)\n"
          ]
        },
        {
          "output_type": "stream",
          "name": "stderr",
          "text": [
            "INFO:searcharray.indexing:Tokenized 20000 (46.518118807275435%)\n"
          ]
        },
        {
          "output_type": "stream",
          "name": "stdout",
          "text": [
            "2025-08-31 20:52:08,639 - searcharray.indexing - INFO - Tokenized 30000 (69.77717821091315%)\n"
          ]
        },
        {
          "output_type": "stream",
          "name": "stderr",
          "text": [
            "INFO:searcharray.indexing:Tokenized 30000 (69.77717821091315%)\n"
          ]
        },
        {
          "output_type": "stream",
          "name": "stdout",
          "text": [
            "2025-08-31 20:52:08,834 - searcharray.indexing - INFO - Tokenized 40000 (93.03623761455087%)\n"
          ]
        },
        {
          "output_type": "stream",
          "name": "stderr",
          "text": [
            "INFO:searcharray.indexing:Tokenized 40000 (93.03623761455087%)\n"
          ]
        },
        {
          "output_type": "stream",
          "name": "stdout",
          "text": [
            "2025-08-31 20:52:08,992 - searcharray.indexing - INFO - Tokenization -- vstacking\n"
          ]
        },
        {
          "output_type": "stream",
          "name": "stderr",
          "text": [
            "INFO:searcharray.indexing:Tokenization -- vstacking\n"
          ]
        },
        {
          "output_type": "stream",
          "name": "stdout",
          "text": [
            "2025-08-31 20:52:08,995 - searcharray.indexing - INFO - Tokenization -- DONE\n"
          ]
        },
        {
          "output_type": "stream",
          "name": "stderr",
          "text": [
            "INFO:searcharray.indexing:Tokenization -- DONE\n"
          ]
        },
        {
          "output_type": "stream",
          "name": "stdout",
          "text": [
            "2025-08-31 20:52:08,999 - searcharray.indexing - INFO - Inverting docs->terms\n"
          ]
        },
        {
          "output_type": "stream",
          "name": "stderr",
          "text": [
            "INFO:searcharray.indexing:Inverting docs->terms\n"
          ]
        },
        {
          "output_type": "stream",
          "name": "stdout",
          "text": [
            "2025-08-31 20:52:09,006 - searcharray.indexing - INFO - Encoding positions to bit array\n"
          ]
        },
        {
          "output_type": "stream",
          "name": "stderr",
          "text": [
            "INFO:searcharray.indexing:Encoding positions to bit array\n"
          ]
        },
        {
          "output_type": "stream",
          "name": "stdout",
          "text": [
            "2025-08-31 20:52:09,014 - searcharray.indexing - INFO - Batch tokenization complete\n"
          ]
        },
        {
          "output_type": "stream",
          "name": "stderr",
          "text": [
            "INFO:searcharray.indexing:Batch tokenization complete\n"
          ]
        },
        {
          "output_type": "stream",
          "name": "stdout",
          "text": [
            "2025-08-31 20:52:09,017 - searcharray.indexing - INFO - (main thread) Processing 1 batch results\n"
          ]
        },
        {
          "output_type": "stream",
          "name": "stderr",
          "text": [
            "INFO:searcharray.indexing:(main thread) Processing 1 batch results\n"
          ]
        },
        {
          "output_type": "stream",
          "name": "stdout",
          "text": [
            "2025-08-31 20:52:09,036 - searcharray.indexing - INFO - Indexing from tokenization complete\n"
          ]
        },
        {
          "output_type": "stream",
          "name": "stderr",
          "text": [
            "INFO:searcharray.indexing:Indexing from tokenization complete\n"
          ]
        },
        {
          "output_type": "stream",
          "name": "stdout",
          "text": [
            "2025-08-31 20:52:09,046 - searcharray.indexing - INFO - Indexing begins w/ 4 workers\n"
          ]
        },
        {
          "output_type": "stream",
          "name": "stderr",
          "text": [
            "INFO:searcharray.indexing:Indexing begins w/ 4 workers\n"
          ]
        },
        {
          "output_type": "stream",
          "name": "stdout",
          "text": [
            "2025-08-31 20:52:09,054 - searcharray.indexing - INFO - 0 Batch Start tokenization\n"
          ]
        },
        {
          "output_type": "stream",
          "name": "stderr",
          "text": [
            "INFO:searcharray.indexing:0 Batch Start tokenization\n"
          ]
        },
        {
          "output_type": "stream",
          "name": "stdout",
          "text": [
            "2025-08-31 20:52:09,057 - searcharray.indexing - INFO - Tokenizing 42994 documents\n"
          ]
        },
        {
          "output_type": "stream",
          "name": "stderr",
          "text": [
            "INFO:searcharray.indexing:Tokenizing 42994 documents\n"
          ]
        },
        {
          "output_type": "stream",
          "name": "stdout",
          "text": [
            "2025-08-31 20:52:09,292 - searcharray.indexing - INFO - Tokenized 10000 (23.259059403637718%)\n"
          ]
        },
        {
          "output_type": "stream",
          "name": "stderr",
          "text": [
            "INFO:searcharray.indexing:Tokenized 10000 (23.259059403637718%)\n"
          ]
        },
        {
          "output_type": "stream",
          "name": "stdout",
          "text": [
            "2025-08-31 20:52:09,542 - searcharray.indexing - INFO - Tokenized 20000 (46.518118807275435%)\n"
          ]
        },
        {
          "output_type": "stream",
          "name": "stderr",
          "text": [
            "INFO:searcharray.indexing:Tokenized 20000 (46.518118807275435%)\n"
          ]
        },
        {
          "output_type": "stream",
          "name": "stdout",
          "text": [
            "2025-08-31 20:52:09,765 - searcharray.indexing - INFO - Tokenized 30000 (69.77717821091315%)\n"
          ]
        },
        {
          "output_type": "stream",
          "name": "stderr",
          "text": [
            "INFO:searcharray.indexing:Tokenized 30000 (69.77717821091315%)\n"
          ]
        },
        {
          "output_type": "stream",
          "name": "stdout",
          "text": [
            "2025-08-31 20:52:09,992 - searcharray.indexing - INFO - Tokenized 40000 (93.03623761455087%)\n"
          ]
        },
        {
          "output_type": "stream",
          "name": "stderr",
          "text": [
            "INFO:searcharray.indexing:Tokenized 40000 (93.03623761455087%)\n"
          ]
        },
        {
          "output_type": "stream",
          "name": "stdout",
          "text": [
            "2025-08-31 20:52:10,167 - searcharray.indexing - INFO - Tokenization -- vstacking\n"
          ]
        },
        {
          "output_type": "stream",
          "name": "stderr",
          "text": [
            "INFO:searcharray.indexing:Tokenization -- vstacking\n"
          ]
        },
        {
          "output_type": "stream",
          "name": "stdout",
          "text": [
            "2025-08-31 20:52:10,170 - searcharray.indexing - INFO - Tokenization -- DONE\n"
          ]
        },
        {
          "output_type": "stream",
          "name": "stderr",
          "text": [
            "INFO:searcharray.indexing:Tokenization -- DONE\n"
          ]
        },
        {
          "output_type": "stream",
          "name": "stdout",
          "text": [
            "2025-08-31 20:52:10,174 - searcharray.indexing - INFO - Inverting docs->terms\n"
          ]
        },
        {
          "output_type": "stream",
          "name": "stderr",
          "text": [
            "INFO:searcharray.indexing:Inverting docs->terms\n"
          ]
        },
        {
          "output_type": "stream",
          "name": "stdout",
          "text": [
            "2025-08-31 20:52:10,186 - searcharray.indexing - INFO - Encoding positions to bit array\n"
          ]
        },
        {
          "output_type": "stream",
          "name": "stderr",
          "text": [
            "INFO:searcharray.indexing:Encoding positions to bit array\n"
          ]
        },
        {
          "output_type": "stream",
          "name": "stdout",
          "text": [
            "2025-08-31 20:52:10,195 - searcharray.indexing - INFO - Batch tokenization complete\n"
          ]
        },
        {
          "output_type": "stream",
          "name": "stderr",
          "text": [
            "INFO:searcharray.indexing:Batch tokenization complete\n"
          ]
        },
        {
          "output_type": "stream",
          "name": "stdout",
          "text": [
            "2025-08-31 20:52:10,201 - searcharray.indexing - INFO - (main thread) Processing 1 batch results\n"
          ]
        },
        {
          "output_type": "stream",
          "name": "stderr",
          "text": [
            "INFO:searcharray.indexing:(main thread) Processing 1 batch results\n"
          ]
        },
        {
          "output_type": "stream",
          "name": "stdout",
          "text": [
            "2025-08-31 20:52:10,224 - searcharray.indexing - INFO - Indexing from tokenization complete\n"
          ]
        },
        {
          "output_type": "stream",
          "name": "stderr",
          "text": [
            "INFO:searcharray.indexing:Indexing from tokenization complete\n",
            "Searching:   0%|          | 0/480 [00:00<?, ?it/s]"
          ]
        },
        {
          "output_type": "stream",
          "name": "stdout",
          "text": [
            "No SubCategory Fits\n",
            "salon chair keywords='salon chair' category='No Category Fits' sub_category='No SubCategory Fits'\n",
            "Living Room Furniture\n",
            "smart coffee table keywords='smart coffee table' category='Furniture' sub_category='Living Room Furniture'\n",
            "No SubCategory Fits\n",
            "dinosaur keywords='dinosaur' category='No Category Fits' sub_category='No SubCategory Fits'\n",
            "Decorative Pillows & Blankets\n",
            "turquoise pillows keywords='turquoise pillows' category='Décor & Pillows' sub_category='Decorative Pillows & Blankets'\n",
            "Living Room Furniture\n",
            "chair and a half recliner keywords='chair and a half recliner' category='Furniture' sub_category='Living Room Furniture'\n"
          ]
        },
        {
          "output_type": "stream",
          "name": "stderr",
          "text": [
            "\rSearching:   1%|          | 5/480 [00:00<00:12, 39.44it/s]"
          ]
        },
        {
          "output_type": "stream",
          "name": "stdout",
          "text": [
            "Living Room Furniture\n",
            "sofa with ottoman keywords='sofa with ottoman' category='Furniture' sub_category='Living Room Furniture'\n",
            "No SubCategory Fits\n",
            "acrylic clear chair keywords='acrylic clear chair' category='No Category Fits' sub_category='No SubCategory Fits'\n",
            "Mirrors\n",
            "driftwood mirror keywords='driftwood mirror' category='Décor & Pillows' sub_category='Mirrors'\n"
          ]
        },
        {
          "output_type": "stream",
          "name": "stderr",
          "text": [
            "\rSearching:   2%|▏         | 9/480 [00:00<00:12, 36.43it/s]"
          ]
        },
        {
          "output_type": "stream",
          "name": "stdout",
          "text": [
            "Wall Décor\n",
            "home sweet home sign keywords='home sweet home sign' category='Décor & Pillows' sub_category='Wall Décor'\n",
            "No SubCategory Fits\n",
            "coffee table fire pit keywords='coffee table fire pit' category='No Category Fits' sub_category='No SubCategory Fits'\n",
            "Bedroom Furniture\n",
            "king poster bed keywords='king poster bed' category='Furniture' sub_category='Bedroom Furniture'\n",
            "No SubCategory Fits\n",
            "ombre rug keywords='ombre rug' category='Rugs' sub_category='No SubCategory Fits'\n",
            "Wall Décor\n",
            "large spoon and fork wall decor keywords='large spoon and fork wall decor' category='Décor & Pillows' sub_category='Wall Décor'\n"
          ]
        },
        {
          "output_type": "stream",
          "name": "stderr",
          "text": [
            "\rSearching:   3%|▎         | 14/480 [00:00<00:12, 38.35it/s]"
          ]
        },
        {
          "output_type": "stream",
          "name": "stdout",
          "text": [
            "Outdoor Fencing & Flooring\n",
            "outdoor privacy wall keywords='outdoor privacy wall' category='Outdoor' sub_category='Outdoor Fencing & Flooring'\n",
            "Bedroom Furniture\n",
            "beds that have leds keywords='beds that have leds' category='Furniture' sub_category='Bedroom Furniture'\n",
            "Bedroom Furniture\n",
            "black 5 drawer dresser by guilford keywords='black 5 drawer dresser by guilford' category='Furniture' sub_category='Bedroom Furniture'\n"
          ]
        },
        {
          "output_type": "stream",
          "name": "stderr",
          "text": [
            "\rSearching:   4%|▍         | 18/480 [00:00<00:12, 38.25it/s]"
          ]
        },
        {
          "output_type": "stream",
          "name": "stdout",
          "text": [
            "No SubCategory Fits\n",
            "blk 18x18 seat cushions keywords='blk 18x18 seat cushions' category='No Category Fits' sub_category='No SubCategory Fits'\n",
            "Closet Storage & Organization\n",
            "closet storage with zipper keywords='closet storage with zipper' category='Storage & Organization' sub_category='Closet Storage & Organization'\n",
            "Wall Lights\n",
            "chrome bathroom 4 light vanity light keywords='chrome bathroom 4 light vanity light' category='Lighting' sub_category='Wall Lights'\n",
            "No SubCategory Fits\n",
            "gurney  slade 56 keywords='gurney  slade 56' category='No Category Fits' sub_category='No SubCategory Fits'\n",
            "No SubCategory Fits\n",
            "foutains with brick look keywords='foutains with brick look' category='No Category Fits' sub_category='No SubCategory Fits'\n",
            "Window Treatments\n",
            "living curtains pearl keywords='living curtains pearl' category='Décor & Pillows' sub_category='Window Treatments'\n"
          ]
        },
        {
          "output_type": "stream",
          "name": "stderr",
          "text": [
            "\rSearching:   5%|▍         | 23/480 [00:00<00:11, 39.15it/s]"
          ]
        },
        {
          "output_type": "stream",
          "name": "stdout",
          "text": [
            "Decorative Pillows & Blankets\n",
            "light and navy blue decorative pillow keywords='light and navy blue decorative pillow' category='Décor & Pillows' sub_category='Decorative Pillows & Blankets'\n",
            "No SubCategory Fits\n",
            "stoneford end tables white and wood keywords='stoneford end tables white and wood' category='No Category Fits' sub_category='No SubCategory Fits'\n",
            "Living Room Furniture\n",
            "wood coffee table set by storage keywords='wood coffee table set by storage' category='Furniture' sub_category='Living Room Furniture'\n"
          ]
        },
        {
          "output_type": "stream",
          "name": "stderr",
          "text": [
            "\rSearching:   6%|▌         | 28/480 [00:00<00:11, 39.72it/s]"
          ]
        },
        {
          "output_type": "stream",
          "name": "stdout",
          "text": [
            "No SubCategory Fits\n",
            "sunflower keywords='sunflower' category='No Category Fits' sub_category='No SubCategory Fits'\n",
            "No SubCategory Fits\n",
            "leather chairs keywords='leather chairs' category='Furniture' sub_category='No SubCategory Fits'\n",
            "Doormats\n",
            "outdoor welcome rug keywords='outdoor welcome rug' category='Rugs' sub_category='Doormats'\n",
            "No SubCategory Fits\n",
            "rooster decor keywords='rooster decor' category='Décor & Pillows' sub_category='No SubCategory Fits'\n",
            "Hardware\n",
            "bathroom vanity knobs keywords='bathroom vanity knobs' category='Home Improvement' sub_category='Hardware'\n",
            "Hardware\n",
            "3 1/2 inch drawer pull keywords='3 1/2 inch drawer pull' category='Home Improvement' sub_category='Hardware'\n"
          ]
        },
        {
          "output_type": "stream",
          "name": "stderr",
          "text": [
            "\rSearching:   7%|▋         | 32/480 [00:00<00:11, 39.73it/s]"
          ]
        },
        {
          "output_type": "stream",
          "name": "stdout",
          "text": [
            "Area Rugs\n",
            "burnt orange curtains keywords='burnt orange curtains' category='Rugs' sub_category='Area Rugs'\n",
            "Bedroom Furniture\n",
            "dark gray dresser keywords='dark gray dresser' category='Furniture' sub_category='Bedroom Furniture'\n",
            "Flooring, Walls & Ceiling\n",
            "non slip shower floor tile keywords='non slip shower floor tile' category='Home Improvement' sub_category='Flooring, Walls & Ceiling'\n"
          ]
        },
        {
          "output_type": "stream",
          "name": "stderr",
          "text": [
            "\rSearching:   8%|▊         | 36/480 [00:00<00:11, 38.44it/s]"
          ]
        },
        {
          "output_type": "stream",
          "name": "stdout",
          "text": [
            "Kitchen & Dining Furniture\n",
            "bar stool with backrest keywords='bar stool with backrest' category='Furniture' sub_category='Kitchen & Dining Furniture'\n",
            "Shoe Storage\n",
            "enclosed shoe rack keywords='enclosed shoe rack' category='Storage & Organization' sub_category='Shoe Storage'\n",
            "Bathroom Storage & Organization\n",
            "laundry basket with wheels keywords='laundry basket with wheels' category='Storage & Organization' sub_category='Bathroom Storage & Organization'\n",
            "Kitchen & Dining Furniture\n",
            "bar stool 24 inches height keywords='bar stool 24 inches height' category='Furniture' sub_category='Kitchen & Dining Furniture'\n",
            "Outdoor & Patio Furniture\n",
            "calvin patio chair keywords='calvin patio chair' category='Outdoor' sub_category='Outdoor & Patio Furniture'\n"
          ]
        },
        {
          "output_type": "stream",
          "name": "stderr",
          "text": [
            "\rSearching:   8%|▊         | 40/480 [00:01<00:11, 37.61it/s]"
          ]
        },
        {
          "output_type": "stream",
          "name": "stdout",
          "text": [
            "Bedroom Furniture\n",
            "door jewelry organizer keywords='door jewelry organizer' category='Furniture' sub_category='Bedroom Furniture'\n",
            "Office Furniture\n",
            "elegant executive chair keywords='elegant executive chair' category='Furniture' sub_category='Office Furniture'\n",
            "Closet Storage & Organization\n",
            "closet pull out valet rod keywords='closet pull out valet rod' category='Storage & Organization' sub_category='Closet Storage & Organization'\n"
          ]
        },
        {
          "output_type": "stream",
          "name": "stderr",
          "text": [
            "\rSearching:   9%|▉         | 44/480 [00:01<00:11, 37.40it/s]"
          ]
        },
        {
          "output_type": "stream",
          "name": "stdout",
          "text": [
            "Toddler & Kids Playroom\n",
            "toddler couch fold out keywords='toddler couch fold out' category='Baby & Kids' sub_category='Toddler & Kids Playroom'\n",
            "Living Room Furniture\n",
            "solid teak end table keywords='solid teak end table' category='Furniture' sub_category='Living Room Furniture'\n",
            "Bathroom Remodel & Bathroom Fixtures\n",
            "chrome shower head and valve keywords='chrome shower head and valve' category='Home Improvement' sub_category='Bathroom Remodel & Bathroom Fixtures'\n",
            "Living Room Furniture\n",
            "70s inspired furniture keywords='70s inspired furniture' category='Furniture' sub_category='Living Room Furniture'\n"
          ]
        },
        {
          "output_type": "stream",
          "name": "stderr",
          "text": [
            "\rSearching:  10%|█         | 48/480 [00:01<00:12, 36.00it/s]"
          ]
        },
        {
          "output_type": "stream",
          "name": "stdout",
          "text": [
            "Bedroom Furniture\n",
            "beach blue headboard keywords='beach blue headboard' category='Furniture' sub_category='Bedroom Furniture'\n",
            "No SubCategory Fits\n",
            "porcelain loaf pan keywords='porcelain loaf pan' category='No Category Fits' sub_category='No SubCategory Fits'\n",
            "Table & Floor Lamps\n",
            "arwen table lamp keywords='arwen table lamp' category='Lighting' sub_category='Table & Floor Lamps'\n",
            "No SubCategory Fits\n",
            "moen matte black hooks keywords='moen matte black hooks' category='No Category Fits' sub_category='No SubCategory Fits'\n"
          ]
        },
        {
          "output_type": "stream",
          "name": "stderr",
          "text": [
            "\rSearching:  11%|█         | 52/480 [00:01<00:11, 35.88it/s]"
          ]
        },
        {
          "output_type": "stream",
          "name": "stdout",
          "text": [
            "No SubCategory Fits\n",
            "tufted chair with gold legs keywords='tufted chair with gold legs' category='Furniture' sub_category='No SubCategory Fits'\n",
            "Bedroom Furniture\n",
            "kohen 5 drawer dresser keywords='kohen 5 drawer dresser' category='Furniture' sub_category='Bedroom Furniture'\n",
            "No SubCategory Fits\n",
            "westling coffee table keywords='westling coffee table' category='No Category Fits' sub_category='No SubCategory Fits'\n",
            "No SubCategory Fits\n",
            "carolyn console table keywords='carolyn console table' category='No Category Fits' sub_category='No SubCategory Fits'\n",
            "No SubCategory Fits\n",
            "wayfair sleep zippered keywords='wayfair sleep zippered' category='No Category Fits' sub_category='No SubCategory Fits'\n",
            "Area Rugs\n",
            "tollette teal outdoor rug keywords='tollette teal outdoor rug' category='Rugs' sub_category='Area Rugs'\n"
          ]
        },
        {
          "output_type": "stream",
          "name": "stderr",
          "text": [
            "\rSearching:  12%|█▏        | 56/480 [00:01<00:11, 36.67it/s]"
          ]
        },
        {
          "output_type": "stream",
          "name": "stdout",
          "text": [
            "No SubCategory Fits\n",
            "royal blue counter height chairs keywords='royal blue counter height chairs' category='No Category Fits' sub_category='No SubCategory Fits'\n",
            "Outdoor & Patio Furniture\n",
            "jordanna solid wood rocking keywords='jordanna solid wood rocking' category='Outdoor' sub_category='Outdoor & Patio Furniture'\n"
          ]
        },
        {
          "output_type": "stream",
          "name": "stderr",
          "text": [
            "\rSearching:  12%|█▎        | 60/480 [00:01<00:11, 37.35it/s]"
          ]
        },
        {
          "output_type": "stream",
          "name": "stdout",
          "text": [
            "Ceiling Lights\n",
            "medium size chandelier keywords='medium size chandelier' category='Lighting' sub_category='Ceiling Lights'\n",
            "Doors & Door Hardware\n",
            "broadway lever keywords='broadway lever' category='Home Improvement' sub_category='Doors & Door Hardware'\n",
            "Bedroom Furniture\n",
            "capricorn chest keywords='capricorn chest' category='Furniture' sub_category='Bedroom Furniture'\n",
            "Kitchen & Dining Furniture\n",
            "overstreet rustic pub stools keywords='overstreet rustic pub stools' category='Furniture' sub_category='Kitchen & Dining Furniture'\n",
            "No SubCategory Fits\n",
            "7qt slow cooker keywords='7qt slow cooker' category='Kitchen & Tabletop' sub_category='No SubCategory Fits'\n",
            "No SubCategory Fits\n",
            "monthly calendar keywords='monthly calendar' category='No Category Fits' sub_category='No SubCategory Fits'\n"
          ]
        },
        {
          "output_type": "stream",
          "name": "stderr",
          "text": [
            "\rSearching:  13%|█▎        | 64/480 [00:01<00:11, 37.40it/s]"
          ]
        },
        {
          "output_type": "stream",
          "name": "stdout",
          "text": [
            "Living Room Furniture\n",
            "zachary 72.5 keywords='zachary 72.5' category='Furniture' sub_category='Living Room Furniture'\n",
            "Outdoor Décor\n",
            "gnome fairy garden keywords='gnome fairy garden' category='Outdoor' sub_category='Outdoor Décor'\n"
          ]
        },
        {
          "output_type": "stream",
          "name": "stderr",
          "text": [
            "\rSearching:  14%|█▍        | 68/480 [00:01<00:10, 37.90it/s]"
          ]
        },
        {
          "output_type": "stream",
          "name": "stdout",
          "text": [
            "Outdoor Shades\n",
            "novara pergola keywords='novara pergola' category='Outdoor' sub_category='Outdoor Shades'\n",
            "No SubCategory Fits\n",
            "osgood mirror keywords='osgood mirror' category='No Category Fits' sub_category='No SubCategory Fits'\n",
            "No SubCategory Fits\n",
            "nautical platters keywords='nautical platters' category='No Category Fits' sub_category='No SubCategory Fits'\n",
            "No SubCategory Fits\n",
            "wall sconce with usb port keywords='wall sconce with usb port' category='No Category Fits' sub_category='No SubCategory Fits'\n",
            "Bedroom Furniture\n",
            "annex dresser keywords='annex dresser' category='Furniture' sub_category='Bedroom Furniture'\n",
            "Nursery Bedding\n",
            "infant girl crib bedding keywords='infant girl crib bedding' category='Baby & Kids' sub_category='Nursery Bedding'\n"
          ]
        },
        {
          "output_type": "stream",
          "name": "stderr",
          "text": [
            "\rSearching:  15%|█▌        | 72/480 [00:01<00:10, 37.72it/s]"
          ]
        },
        {
          "output_type": "stream",
          "name": "stdout",
          "text": [
            "School Furniture\n",
            "fold in half table keywords='fold in half table' category='School Furniture and Supplies' sub_category='School Furniture'\n",
            "No SubCategory Fits\n",
            "certified international melamine keywords='certified international melamine' category='No Category Fits' sub_category='No SubCategory Fits'\n"
          ]
        },
        {
          "output_type": "stream",
          "name": "stderr",
          "text": [
            "\rSearching:  16%|█▌        | 76/480 [00:02<00:11, 34.55it/s]"
          ]
        },
        {
          "output_type": "stream",
          "name": "stdout",
          "text": [
            "Mattresses & Foundations\n",
            "serta kleinmon keywords='serta kleinmon' category='Bed & Bath' sub_category='Mattresses & Foundations'\n",
            "Bathroom Remodel & Bathroom Fixtures\n",
            "sheffield home bath set keywords='sheffield home bath set' category='Home Improvement' sub_category='Bathroom Remodel & Bathroom Fixtures'\n",
            "Doors & Door Hardware\n",
            "46 inch closet door keywords='46 inch closet door' category='Home Improvement' sub_category='Doors & Door Hardware'\n",
            "Living Room Furniture\n",
            "sancroft armchair keywords='sancroft armchair' category='Furniture' sub_category='Living Room Furniture'\n",
            "Bathroom Remodel & Bathroom Fixtures\n",
            "dorel vanity keywords='dorel vanity' category='Home Improvement' sub_category='Bathroom Remodel & Bathroom Fixtures'\n"
          ]
        },
        {
          "output_type": "stream",
          "name": "stderr",
          "text": [
            "\rSearching:  17%|█▋        | 80/480 [00:02<00:13, 30.63it/s]"
          ]
        },
        {
          "output_type": "stream",
          "name": "stdout",
          "text": [
            "No SubCategory Fits\n",
            "palram harmony greenhouses keywords='palram harmony greenhouses' category='No Category Fits' sub_category='No SubCategory Fits'\n",
            "No SubCategory Fits\n",
            "7 draw white dresser keywords='7 draw white dresser' category='No Category Fits' sub_category='No SubCategory Fits'\n",
            "Office Furniture\n",
            "orren ellis l shape desk keywords='orren ellis l shape desk' category='Furniture' sub_category='Office Furniture'\n",
            "Bathroom Remodel & Bathroom Fixtures\n",
            "bathroom vanity with counter space keywords='bathroom vanity with counter space' category='Home Improvement' sub_category='Bathroom Remodel & Bathroom Fixtures'\n",
            "No SubCategory Fits\n",
            "wall art fiji keywords='wall art fiji' category='No Category Fits' sub_category='No SubCategory Fits'\n"
          ]
        },
        {
          "output_type": "stream",
          "name": "stderr",
          "text": [
            "Searching:  18%|█▊        | 87/480 [00:02<00:13, 28.30it/s]"
          ]
        },
        {
          "output_type": "stream",
          "name": "stdout",
          "text": [
            "Teen Bedroom Furniture\n",
            "full metal bed rose gold keywords='full metal bed rose gold' category='Baby & Kids' sub_category='Teen Bedroom Furniture'\n",
            "No SubCategory Fits\n",
            "3/4 size mattress keywords='3/4 size mattress' category='No Category Fits' sub_category='No SubCategory Fits'\n",
            "No SubCategory Fits\n",
            "aloe vera plant pot keywords='aloe vera plant pot' category='No Category Fits' sub_category='No SubCategory Fits'\n",
            "No SubCategory Fits\n",
            "vlad modular sectional keywords='vlad modular sectional' category='No Category Fits' sub_category='No SubCategory Fits'\n",
            "Kitchen & Dining Furniture\n",
            "rose gold lounge keywords='rose gold lounge' category='Furniture' sub_category='Kitchen & Dining Furniture'\n",
            "Outdoor Lighting\n",
            "whimsical solar lights keywords='whimsical solar lights' category='Lighting' sub_category='Outdoor Lighting'\n"
          ]
        },
        {
          "output_type": "stream",
          "name": "stderr",
          "text": [
            "Searching:  19%|█▉        | 93/480 [00:02<00:14, 27.38it/s]"
          ]
        },
        {
          "output_type": "stream",
          "name": "stdout",
          "text": [
            "No SubCategory Fits\n",
            "filaret outdoor sofa keywords='filaret outdoor sofa' category='No Category Fits' sub_category='No SubCategory Fits'\n",
            "Kitchen & Dining Furniture\n",
            "industrial pipe dining  table keywords='industrial pipe dining  table' category='Furniture' sub_category='Kitchen & Dining Furniture'\n",
            "No SubCategory Fits\n",
            "antique silver entry table keywords='antique silver entry table' category='No Category Fits' sub_category='No SubCategory Fits'\n",
            "Outdoor & Patio Furniture\n",
            "outdoor sectional dining keywords='outdoor sectional dining' category='Outdoor' sub_category='Outdoor & Patio Furniture'\n",
            "Kitchen Remodel & Kitchen Fixtures\n",
            "kohler whitehaven farmhouse kitchen sink keywords='kohler whitehaven farmhouse kitchen sink' category='Home Improvement' sub_category='Kitchen Remodel & Kitchen Fixtures'\n",
            "Living Room Furniture\n",
            "entertainment stand end table keywords='entertainment stand end table' category='Furniture' sub_category='Living Room Furniture'\n"
          ]
        },
        {
          "output_type": "stream",
          "name": "stderr",
          "text": [
            "Searching:  21%|██        | 99/480 [00:02<00:14, 26.72it/s]"
          ]
        },
        {
          "output_type": "stream",
          "name": "stdout",
          "text": [
            "Wall Décor\n",
            "bar room wall decor keywords='bar room wall decor' category='Décor & Pillows' sub_category='Wall Décor'\n",
            "Area Rugs\n",
            "regner power loom red keywords='regner power loom red' category='Rugs' sub_category='Area Rugs'\n",
            "No SubCategory Fits\n",
            "gracie oaks 62 oller 14 ceiling fan keywords='gracie oaks 62 oller 14 ceiling fan' category='No Category Fits' sub_category='No SubCategory Fits'\n",
            "No SubCategory Fits\n",
            "arched christmas tree keywords='arched christmas tree' category='No Category Fits' sub_category='No SubCategory Fits'\n",
            "Bedroom Furniture\n",
            "tufted upholstered bed diamond keywords='tufted upholstered bed diamond' category='Furniture' sub_category='Bedroom Furniture'\n",
            "Living Room Furniture\n",
            "48 in entry table with side by side drawer keywords='48 in entry table with side by side drawer' category='Furniture' sub_category='Living Room Furniture'\n"
          ]
        },
        {
          "output_type": "stream",
          "name": "stderr",
          "text": [
            "Searching:  22%|██▏       | 105/480 [00:03<00:13, 26.94it/s]"
          ]
        },
        {
          "output_type": "stream",
          "name": "stdout",
          "text": [
            "No SubCategory Fits\n",
            "flamingo keywords='flamingo' category='No Category Fits' sub_category='No SubCategory Fits'\n",
            "Kitchen Mats\n",
            "kitchen anti fatigue mats keywords='kitchen anti fatigue mats' category='Rugs' sub_category='Kitchen Mats'\n",
            "No SubCategory Fits\n",
            "flour and sugar containers keywords='flour and sugar containers' category='No Category Fits' sub_category='No SubCategory Fits'\n",
            "No SubCategory Fits\n",
            "outdoor movie screen keywords='outdoor movie screen' category='No Category Fits' sub_category='No SubCategory Fits'\n",
            "No SubCategory Fits\n",
            "bed risers keywords='bed risers' category='No Category Fits' sub_category='No SubCategory Fits'\n",
            "Outdoor & Patio Furniture\n",
            "front porch furniture sets keywords='front porch furniture sets' category='Outdoor' sub_category='Outdoor & Patio Furniture'\n"
          ]
        },
        {
          "output_type": "stream",
          "name": "stderr",
          "text": [
            "Searching:  23%|██▎       | 111/480 [00:03<00:15, 24.51it/s]"
          ]
        },
        {
          "output_type": "stream",
          "name": "stdout",
          "text": [
            "No SubCategory Fits\n",
            "ayesha curry kitchen keywords='ayesha curry kitchen' category='Kitchen & Tabletop' sub_category='No SubCategory Fits'\n",
            "No SubCategory Fits\n",
            "hillsby oriental rug keywords='hillsby oriental rug' category='Rugs' sub_category='No SubCategory Fits'\n",
            "No SubCategory Fits\n",
            "mila task chair keywords='mila task chair' category='No Category Fits' sub_category='No SubCategory Fits'\n",
            "No SubCategory Fits\n",
            "delta trinsic keywords='delta trinsic' category='Home Improvement' sub_category='No SubCategory Fits'\n",
            "No SubCategory Fits\n",
            "pineapple keywords='pineapple' category='No Category Fits' sub_category='No SubCategory Fits'\n"
          ]
        },
        {
          "output_type": "stream",
          "name": "stderr",
          "text": [
            "Searching:  24%|██▍       | 117/480 [00:03<00:13, 26.08it/s]"
          ]
        },
        {
          "output_type": "stream",
          "name": "stdout",
          "text": [
            "Wall Lights\n",
            "led light strip keywords='led light strip' category='Lighting' sub_category='Wall Lights'\n",
            "Bedroom Furniture\n",
            "geralyn upholstered storage platform bed keywords='geralyn upholstered storage platform bed' category='Furniture' sub_category='Bedroom Furniture'\n",
            "No SubCategory Fits\n",
            "peacock keywords='peacock' category='No Category Fits' sub_category='No SubCategory Fits'\n",
            "No SubCategory Fits\n",
            "brockham solid blackout thermal grommet curtain panels keywords='brockham solid blackout thermal grommet curtain panels' category='No Category Fits' sub_category='No SubCategory Fits'\n",
            "No SubCategory Fits\n",
            "tall storage cabinet keywords='tall storage cabinet' category='No Category Fits' sub_category='No SubCategory Fits'\n",
            "Bedding\n",
            "body pillow case keywords='body pillow case' category='Bed & Bath' sub_category='Bedding'\n"
          ]
        },
        {
          "output_type": "stream",
          "name": "stderr",
          "text": [
            "Searching:  26%|██▌       | 123/480 [00:03<00:13, 26.03it/s]"
          ]
        },
        {
          "output_type": "stream",
          "name": "stdout",
          "text": [
            "No SubCategory Fits\n",
            "welcome sign keywords='welcome sign' category='No Category Fits' sub_category='No SubCategory Fits'\n",
            "Decorative Pillows & Blankets\n",
            "zodiac pillow keywords='zodiac pillow' category='Décor & Pillows' sub_category='Decorative Pillows & Blankets'\n",
            "Bedroom Furniture\n",
            "upholstered bed keywords='upholstered bed' category='Furniture' sub_category='Bedroom Furniture'\n",
            "Bedroom Furniture\n",
            "king size bed keywords='king size bed' category='Furniture' sub_category='Bedroom Furniture'\n",
            "Living Room Furniture\n",
            "entrance table keywords='entrance table' category='Furniture' sub_category='Living Room Furniture'\n",
            "Living Room Furniture\n",
            "unique coffee tables keywords='unique coffee tables' category='Furniture' sub_category='Living Room Furniture'\n"
          ]
        },
        {
          "output_type": "stream",
          "name": "stderr",
          "text": [
            "Searching:  27%|██▋       | 129/480 [00:04<00:13, 25.58it/s]"
          ]
        },
        {
          "output_type": "stream",
          "name": "stdout",
          "text": [
            "Bedroom Furniture\n",
            "boho bed frame keywords='boho bed frame' category='Furniture' sub_category='Bedroom Furniture'\n",
            "Kitchen & Dining Furniture\n",
            "leather dining chairs keywords='leather dining chairs' category='Furniture' sub_category='Kitchen & Dining Furniture'\n",
            "Kitchen & Dining Furniture\n",
            "wine bar keywords='wine bar' category='Furniture' sub_category='Kitchen & Dining Furniture'\n",
            "Living Room Furniture\n",
            "block coffee table keywords='block coffee table' category='Furniture' sub_category='Living Room Furniture'\n",
            "Flooring, Walls & Ceiling\n",
            "wainscoting ideas keywords='wainscoting ideas' category='Home Improvement' sub_category='Flooring, Walls & Ceiling'\n",
            "Living Room Furniture\n",
            "entertainment console keywords='entertainment console' category='Furniture' sub_category='Living Room Furniture'\n"
          ]
        },
        {
          "output_type": "stream",
          "name": "stderr",
          "text": [
            "\rSearching:  28%|██▊       | 132/480 [00:04<00:13, 26.36it/s]"
          ]
        },
        {
          "output_type": "stream",
          "name": "stdout",
          "text": [
            "Toddler & Kids Playroom\n",
            "kids chair keywords='kids chair' category='Baby & Kids' sub_category='Toddler & Kids Playroom'\n",
            "No SubCategory Fits\n",
            "farmhouse cabinet keywords='farmhouse cabinet' category='Furniture' sub_category='No SubCategory Fits'\n",
            "Outdoor Lighting\n",
            "outdoor light fixtures keywords='outdoor light fixtures' category='Lighting' sub_category='Outdoor Lighting'\n",
            "No SubCategory Fits\n",
            "black hanging bookshelf keywords='black hanging bookshelf' category='No Category Fits' sub_category='No SubCategory Fits'\n",
            "Living Room Furniture\n",
            "low profile loveseat recliner keywords='low profile loveseat recliner' category='Furniture' sub_category='Living Room Furniture'\n"
          ]
        },
        {
          "output_type": "stream",
          "name": "stderr",
          "text": [
            "\rSearching:  28%|██▊       | 136/480 [00:04<00:12, 27.50it/s]"
          ]
        },
        {
          "output_type": "stream",
          "name": "stdout",
          "text": [
            "No SubCategory Fits\n",
            "black fluffy stool keywords='black fluffy stool' category='No Category Fits' sub_category='No SubCategory Fits'\n"
          ]
        },
        {
          "output_type": "stream",
          "name": "stderr",
          "text": [
            "\rSearching:  29%|██▉       | 139/480 [00:04<00:13, 26.17it/s]"
          ]
        },
        {
          "output_type": "stream",
          "name": "stdout",
          "text": [
            "Office Furniture\n",
            "orren ellis l shaped desk keywords='orren ellis l shaped desk' category='Furniture' sub_category='Office Furniture'\n",
            "Bathroom Remodel & Bathroom Fixtures\n",
            "glass doors for bath keywords='glass doors for bath' category='Home Improvement' sub_category='Bathroom Remodel & Bathroom Fixtures'\n",
            "No SubCategory Fits\n",
            "auburn throw pillows keywords='auburn throw pillows' category='No Category Fits' sub_category='No SubCategory Fits'\n",
            "Storage Containers & Drawers\n",
            "wire basket with dividers keywords='wire basket with dividers' category='Storage & Organization' sub_category='Storage Containers & Drawers'\n",
            "School Spaces\n",
            "podium with locking cabinet keywords='podium with locking cabinet' category='School Furniture and Supplies' sub_category='School Spaces'\n"
          ]
        },
        {
          "output_type": "stream",
          "name": "stderr",
          "text": [
            "Searching:  30%|███       | 145/480 [00:04<00:12, 26.89it/s]"
          ]
        },
        {
          "output_type": "stream",
          "name": "stdout",
          "text": [
            "No SubCategory Fits\n",
            "kitchen wooden stand keywords='kitchen wooden stand' category='No Category Fits' sub_category='No SubCategory Fits'\n",
            "Living Room Furniture\n",
            "queen wingback chair keywords='queen wingback chair' category='Furniture' sub_category='Living Room Furniture'\n",
            "No SubCategory Fits\n",
            "rug plum keywords='rug plum' category='Rugs' sub_category='No SubCategory Fits'\n",
            "Hardware\n",
            "liberty hardware francisco keywords='liberty hardware francisco' category='Home Improvement' sub_category='Hardware'\n",
            "No SubCategory Fits\n",
            "laundry vanity cabinet keywords='laundry vanity cabinet' category='No Category Fits' sub_category='No SubCategory Fits'\n"
          ]
        },
        {
          "output_type": "stream",
          "name": "stderr",
          "text": [
            "\rSearching:  31%|███       | 148/480 [00:04<00:12, 27.66it/s]"
          ]
        },
        {
          "output_type": "stream",
          "name": "stdout",
          "text": [
            "Art\n",
            "drum picture keywords='drum picture' category='Décor & Pillows' sub_category='Art'\n"
          ]
        },
        {
          "output_type": "stream",
          "name": "stderr",
          "text": [
            "\rSearching:  31%|███▏      | 151/480 [00:04<00:11, 28.03it/s]"
          ]
        },
        {
          "output_type": "stream",
          "name": "stdout",
          "text": [
            "No SubCategory Fits\n",
            "industrial keywords='industrial' category='No Category Fits' sub_category='No SubCategory Fits'\n",
            "No SubCategory Fits\n",
            "mid century modern keywords='mid century modern' category='No Category Fits' sub_category='No SubCategory Fits'\n",
            "No SubCategory Fits\n",
            "dumbbells keywords='dumbbells' category='No Category Fits' sub_category='No SubCategory Fits'\n",
            "No SubCategory Fits\n",
            "leather chair keywords='leather chair' category='Furniture' sub_category='No SubCategory Fits'\n",
            "No SubCategory Fits\n",
            "wishbone chair keywords='wishbone chair' category='Furniture' sub_category='No SubCategory Fits'\n",
            "No SubCategory Fits\n",
            "bohemian keywords='bohemian' category='No Category Fits' sub_category='No SubCategory Fits'\n"
          ]
        },
        {
          "output_type": "stream",
          "name": "stderr",
          "text": [
            "Searching:  33%|███▎      | 157/480 [00:05<00:12, 26.76it/s]"
          ]
        },
        {
          "output_type": "stream",
          "name": "stdout",
          "text": [
            "Bedroom Furniture\n",
            "floating bed keywords='floating bed' category='Furniture' sub_category='Bedroom Furniture'\n",
            "Living Room Furniture\n",
            "papasan chair frame only keywords='papasan chair frame only' category='Furniture' sub_category='Living Room Furniture'\n",
            "Living Room Furniture\n",
            "velvet chaise keywords='velvet chaise' category='Furniture' sub_category='Living Room Furniture'\n",
            "Bedroom Furniture\n",
            "led nightstand keywords='led nightstand' category='Furniture' sub_category='Bedroom Furniture'\n",
            "No SubCategory Fits\n",
            "meditation keywords='meditation' category='No Category Fits' sub_category='No SubCategory Fits'\n",
            "No SubCategory Fits\n",
            "marble keywords='marble' category='No Category Fits' sub_category='No SubCategory Fits'\n"
          ]
        },
        {
          "output_type": "stream",
          "name": "stderr",
          "text": [
            "Searching:  34%|███▍      | 164/480 [00:05<00:11, 27.97it/s]"
          ]
        },
        {
          "output_type": "stream",
          "name": "stdout",
          "text": [
            "Living Room Furniture\n",
            "accent chair recliner keywords='accent chair recliner' category='Furniture' sub_category='Living Room Furniture'\n",
            "No SubCategory Fits\n",
            "turquoise chair keywords='turquoise chair' category='Furniture' sub_category='No SubCategory Fits'\n",
            "No SubCategory Fits\n",
            "dual monitor stand keywords='dual monitor stand' category='No Category Fits' sub_category='No SubCategory Fits'\n",
            "Outdoor & Patio Furniture\n",
            "modern outdoor furniture keywords='modern outdoor furniture' category='Outdoor' sub_category='Outdoor & Patio Furniture'\n",
            "Garage & Outdoor Storage & Organization\n",
            "kitchen storage shelves keywords='kitchen storage shelves' category='Storage & Organization' sub_category='Garage & Outdoor Storage & Organization'\n",
            "No SubCategory Fits\n",
            "feather wall art keywords='feather wall art' category='Décor & Pillows' sub_category='No SubCategory Fits'\n"
          ]
        },
        {
          "output_type": "stream",
          "name": "stderr",
          "text": [
            "Searching:  35%|███▌      | 170/480 [00:05<00:11, 27.31it/s]"
          ]
        },
        {
          "output_type": "stream",
          "name": "stdout",
          "text": [
            "No SubCategory Fits\n",
            "camper keywords='camper' category='No Category Fits' sub_category='No SubCategory Fits'\n",
            "No SubCategory Fits\n",
            "printers keywords='printers' category='No Category Fits' sub_category='No SubCategory Fits'\n",
            "Kitchen & Dining Furniture\n",
            "coffee bar buffet keywords='coffee bar buffet' category='Furniture' sub_category='Kitchen & Dining Furniture'\n",
            "No SubCategory Fits\n",
            "zen keywords='zen' category='No Category Fits' sub_category='No SubCategory Fits'\n",
            "No SubCategory Fits\n",
            "nectar queen mattress keywords='nectar queen mattress' category='No Category Fits' sub_category='No SubCategory Fits'\n",
            "No SubCategory Fits\n",
            "picasso keywords='picasso' category='Décor & Pillows' sub_category='No SubCategory Fits'\n"
          ]
        },
        {
          "output_type": "stream",
          "name": "stderr",
          "text": [
            "Searching:  37%|███▋      | 176/480 [00:05<00:10, 27.83it/s]"
          ]
        },
        {
          "output_type": "stream",
          "name": "stdout",
          "text": [
            "No SubCategory Fits\n",
            "bedroom accessories keywords='bedroom accessories' category='Décor & Pillows' sub_category='No SubCategory Fits'\n",
            "No SubCategory Fits\n",
            "star wars rug keywords='star wars rug' category='No Category Fits' sub_category='No SubCategory Fits'\n",
            "Garden\n",
            "basket planter keywords='basket planter' category='Outdoor' sub_category='Garden'\n",
            "No SubCategory Fits\n",
            "mexican art keywords='mexican art' category='Décor & Pillows' sub_category='No SubCategory Fits'\n",
            "No SubCategory Fits\n",
            "rustic storage cabinet keywords='rustic storage cabinet' category='Furniture' sub_category='No SubCategory Fits'\n",
            "Hot Tubs & Saunas\n",
            "almost heaven sauna keywords='almost heaven sauna' category='Outdoor' sub_category='Hot Tubs & Saunas'\n"
          ]
        },
        {
          "output_type": "stream",
          "name": "stderr",
          "text": [
            "Searching:  38%|███▊      | 183/480 [00:06<00:09, 29.87it/s]"
          ]
        },
        {
          "output_type": "stream",
          "name": "stdout",
          "text": [
            "No SubCategory Fits\n",
            "promo codes or discounts keywords='promo codes or discounts' category='No Category Fits' sub_category='No SubCategory Fits'\n",
            "No SubCategory Fits\n",
            "outdoor lounge cushions keywords='outdoor lounge cushions' category='No Category Fits' sub_category='No SubCategory Fits'\n",
            "Light Bulbs & Hardware\n",
            "e12/candelabra keywords='e12/candelabra' category='Lighting' sub_category='Light Bulbs & Hardware'\n",
            "Flooring, Walls & Ceiling\n",
            "penny round tile keywords='penny round tile' category='Home Improvement' sub_category='Flooring, Walls & Ceiling'\n",
            "Kitchen Organization\n",
            "farmhouse bread box keywords='farmhouse bread box' category='Kitchen & Tabletop' sub_category='Kitchen Organization'\n",
            "No SubCategory Fits\n",
            "sugar canister keywords='sugar canister' category='No Category Fits' sub_category='No SubCategory Fits'\n",
            "Outdoor Cooking & Tableware\n",
            "lunch bag keywords='lunch bag' category='Outdoor' sub_category='Outdoor Cooking & Tableware'\n",
            "Game Tables & Game Room Furniture\n",
            "board game storage cabinet keywords='board game storage cabinet' category='Furniture' sub_category='Game Tables & Game Room Furniture'\n"
          ]
        },
        {
          "output_type": "stream",
          "name": "stderr",
          "text": [
            "Searching:  40%|███▉      | 191/480 [00:06<00:08, 33.55it/s]"
          ]
        },
        {
          "output_type": "stream",
          "name": "stdout",
          "text": [
            "Art\n",
            "bedroom wall decor floral, multicolored with some teal (prints) keywords='bedroom wall decor floral, multicolored with some teal (prints)' category='Décor & Pillows' sub_category='Art'\n",
            "Bathroom Storage & Organization\n",
            "big basket for dirty cloths keywords='big basket for dirty cloths' category='Storage & Organization' sub_category='Bathroom Storage & Organization'\n",
            "No SubCategory Fits\n",
            "benjiamino faux leather power lift chair keywords='benjiamino faux leather power lift chair' category='Furniture' sub_category='No SubCategory Fits'\n",
            "No SubCategory Fits\n",
            "biycicle plant stands keywords='biycicle plant stands' category='No Category Fits' sub_category='No SubCategory Fits'\n",
            "No SubCategory Fits\n",
            "belchertown table lamp keywords='belchertown table lamp' category='No Category Fits' sub_category='No SubCategory Fits'\n",
            "No SubCategory Fits\n",
            "black frame 22 x 36 keywords='black frame 22 x 36' category='No Category Fits' sub_category='No SubCategory Fits'\n",
            "Bathroom Remodel & Bathroom Fixtures\n",
            "black freestanding tub  with faucet keywords='black freestanding tub  with faucet' category='Home Improvement' sub_category='Bathroom Remodel & Bathroom Fixtures'\n",
            "No SubCategory Fits\n",
            "chabely 5 draw chest keywords='chabely 5 draw chest' category='No Category Fits' sub_category='No SubCategory Fits'\n"
          ]
        },
        {
          "output_type": "stream",
          "name": "stderr",
          "text": [
            "Searching:  42%|████▏     | 200/480 [00:06<00:07, 36.16it/s]"
          ]
        },
        {
          "output_type": "stream",
          "name": "stdout",
          "text": [
            "Toddler & Kids Bedroom Furniture\n",
            "desk for kids tjat ate 10 year old keywords='desk for kids tjat ate 10 year old' category='Baby & Kids' sub_category='Toddler & Kids Bedroom Furniture'\n",
            "No SubCategory Fits\n",
            "cake plates with tops keywords='cake plates with tops' category='No Category Fits' sub_category='No SubCategory Fits'\n",
            "No SubCategory Fits\n",
            "blue faux throw with pillows keywords='blue faux throw with pillows' category='No Category Fits' sub_category='No SubCategory Fits'\n",
            "Flooring, Walls & Ceiling\n",
            "ceramic tile sea shell keywords='ceramic tile sea shell' category='Home Improvement' sub_category='Flooring, Walls & Ceiling'\n",
            "No SubCategory Fits\n",
            "delta trinsic double towel hook in champagne bronze keywords='delta trinsic double towel hook in champagne bronze' category='No Category Fits' sub_category='No SubCategory Fits'\n",
            "Bedding Essentials\n",
            "full mattress padded liner keywords='full mattress padded liner' category='Bed & Bath' sub_category='Bedding Essentials'\n",
            "Washers & Dryers\n",
            "ge top loading washer 4.5 keywords='ge top loading washer 4.5' category='Appliances' sub_category='Washers & Dryers'\n",
            "Candles & Holders\n",
            "fleur de lis living candle wall sconce bronze keywords='fleur de lis living candle wall sconce bronze' category='Décor & Pillows' sub_category='Candles & Holders'\n"
          ]
        },
        {
          "output_type": "stream",
          "name": "stderr",
          "text": [
            "Searching:  43%|████▎     | 208/480 [00:06<00:07, 36.19it/s]"
          ]
        },
        {
          "output_type": "stream",
          "name": "stdout",
          "text": [
            "Area Rugs\n",
            "ines shag rug w003096809 keywords='ines shag rug w003096809' category='Rugs' sub_category='Area Rugs'\n",
            "Garage & Outdoor Storage & Organization\n",
            "grill cover 73 keywords='grill cover 73' category='Storage & Organization' sub_category='Garage & Outdoor Storage & Organization'\n",
            "No SubCategory Fits\n",
            "dull bed with shirt head board keywords='dull bed with shirt head board' category='No Category Fits' sub_category='No SubCategory Fits'\n",
            "No SubCategory Fits\n",
            "fawkes 36\" blue vanity keywords='fawkes 36\" blue vanity' category='No Category Fits' sub_category='No SubCategory Fits'\n",
            "No SubCategory Fits\n",
            "door pulls bronze matte 4 inch keywords='door pulls bronze matte 4 inch' category='No Category Fits' sub_category='No SubCategory Fits'\n",
            "Living Room Furniture\n",
            "love seat wide faux leather tuxedo arm sofa keywords='love seat wide faux leather tuxedo arm sofa' category='Furniture' sub_category='Living Room Furniture'\n",
            "No SubCategory Fits\n",
            "memory foam rug galveston keywords='memory foam rug galveston' category='No Category Fits' sub_category='No SubCategory Fits'\n",
            "Outdoor & Patio Furniture\n",
            "nettie 5 pc bar set keywords='nettie 5 pc bar set' category='Outdoor' sub_category='Outdoor & Patio Furniture'\n"
          ]
        },
        {
          "output_type": "stream",
          "name": "stderr",
          "text": [
            "Searching:  45%|████▌     | 217/480 [00:06<00:06, 38.97it/s]"
          ]
        },
        {
          "output_type": "stream",
          "name": "stdout",
          "text": [
            "Kitchen Remodel & Kitchen Fixtures\n",
            "kraus kitchen sink faucet oletto kpf 2820 sfs keywords='kraus kitchen sink faucet oletto kpf 2820 sfs' category='Home Improvement' sub_category='Kitchen Remodel & Kitchen Fixtures'\n",
            "No SubCategory Fits\n",
            "light wood nightstand with silver accents keywords='light wood nightstand with silver accents' category='No Category Fits' sub_category='No SubCategory Fits'\n",
            "No SubCategory Fits\n",
            "king adjustable bed including mattress keywords='king adjustable bed including mattress' category='No Category Fits' sub_category='No SubCategory Fits'\n",
            "Hardware\n",
            "music plug wall plate keywords='music plug wall plate' category='Home Improvement' sub_category='Hardware'\n",
            "No SubCategory Fits\n",
            "wand bunk beds keywords='wand bunk beds' category='No Category Fits' sub_category='No SubCategory Fits'\n",
            "No SubCategory Fits\n",
            "trinaic towel rod keywords='trinaic towel rod' category='No Category Fits' sub_category='No SubCategory Fits'\n",
            "Bedding\n",
            "sheets for twinxl keywords='sheets for twinxl' category='Bed & Bath' sub_category='Bedding'\n",
            "Kitchen & Dining Furniture\n",
            "small space dining table and chairs sets keywords='small space dining table and chairs sets' category='Furniture' sub_category='Kitchen & Dining Furniture'\n",
            "Living Room Furniture\n",
            "small loving roomtables keywords='small loving roomtables' category='Furniture' sub_category='Living Room Furniture'\n"
          ]
        },
        {
          "output_type": "stream",
          "name": "stderr",
          "text": [
            "Searching:  47%|████▋     | 225/480 [00:07<00:06, 38.60it/s]"
          ]
        },
        {
          "output_type": "stream",
          "name": "stdout",
          "text": [
            "Hardware\n",
            "wisdom stone river 3-3/4 keywords='wisdom stone river 3-3/4' category='Home Improvement' sub_category='Hardware'\n",
            "Toddler & Kids Bedroom Furniture\n",
            "twin over full bunk beds cool desins keywords='twin over full bunk beds cool desins' category='Baby & Kids' sub_category='Toddler & Kids Bedroom Furniture'\n",
            "No SubCategory Fits\n",
            "white splashproof shiplap wallpaper keywords='white splashproof shiplap wallpaper' category='No Category Fits' sub_category='No SubCategory Fits'\n",
            "Living Room Furniture\n",
            "power lift chair keywords='power lift chair' category='Furniture' sub_category='Living Room Furniture'\n",
            "No SubCategory Fits\n",
            "owl keywords='owl' category='No Category Fits' sub_category='No SubCategory Fits'\n",
            "No SubCategory Fits\n",
            "bee keywords='bee' category='No Category Fits' sub_category='No SubCategory Fits'\n",
            "Bathroom Remodel & Bathroom Fixtures\n",
            "waterfall faucet keywords='waterfall faucet' category='Home Improvement' sub_category='Bathroom Remodel & Bathroom Fixtures'\n",
            "No SubCategory Fits\n",
            "gold keywords='gold' category='No Category Fits' sub_category='No SubCategory Fits'\n",
            "Kitchen Mats"
          ]
        },
        {
          "output_type": "stream",
          "name": "stderr",
          "text": [
            "Searching:  49%|████▉     | 234/480 [00:07<00:06, 39.61it/s]"
          ]
        },
        {
          "output_type": "stream",
          "name": "stdout",
          "text": [
            "\n",
            "anti fatigue mat keywords='anti fatigue mat' category='Rugs' sub_category='Kitchen Mats'\n",
            "Bedroom Furniture\n",
            "storage dresser keywords='storage dresser' category='Furniture' sub_category='Bedroom Furniture'\n",
            "No SubCategory Fits\n",
            "kelly clarkson light fixtures keywords='kelly clarkson light fixtures' category='Lighting' sub_category='No SubCategory Fits'\n",
            "Flowers & Plants\n",
            "artificial orchid arrangement keywords='artificial orchid arrangement' category='Décor & Pillows' sub_category='Flowers & Plants'\n",
            "No SubCategory Fits\n",
            "bathroom wastebasket keywords='bathroom wastebasket' category='No Category Fits' sub_category='No SubCategory Fits'\n",
            "No SubCategory Fits\n",
            "3 piece rug set with runners keywords='3 piece rug set with runners' category='Rugs' sub_category='No SubCategory Fits'\n",
            "Living Room Furniture\n",
            "cloud modular sectional keywords='cloud modular sectional' category='Furniture' sub_category='Living Room Furniture'\n",
            "No SubCategory Fits\n",
            "outdoor seat/back cushion keywords='outdoor seat/back cushion' category='No Category Fits' sub_category='No SubCategory Fits'\n",
            "Bathroom Remodel & Bathroom Fixtures\n",
            "bathroom single faucet keywords='bathroom single faucet' category='Home Improvement' sub_category='Bathroom Remodel & Bathroom Fixtures'\n"
          ]
        },
        {
          "output_type": "stream",
          "name": "stderr",
          "text": [
            "Searching:  50%|█████     | 242/480 [00:07<00:06, 39.55it/s]"
          ]
        },
        {
          "output_type": "stream",
          "name": "stdout",
          "text": [
            "Art\n",
            "eiffel tower wall art keywords='eiffel tower wall art' category='Décor & Pillows' sub_category='Art'\n",
            "Clocks\n",
            "decorative wall clocks keywords='decorative wall clocks' category='Décor & Pillows' sub_category='Clocks'\n",
            "Living Room Furniture\n",
            "accent leather chair keywords='accent leather chair' category='Furniture' sub_category='Living Room Furniture'\n",
            "No SubCategory Fits\n",
            "indoor multi tiered plant stand keywords='indoor multi tiered plant stand' category='No Category Fits' sub_category='No SubCategory Fits'\n",
            "No SubCategory Fits\n",
            "pull out sleeper loveseat keywords='pull out sleeper loveseat' category='No Category Fits' sub_category='No SubCategory Fits'\n",
            "No SubCategory Fits\n",
            "anchor decor keywords='anchor decor' category='Décor & Pillows' sub_category='No SubCategory Fits'\n",
            "Shower Curtains & Accessories\n",
            "clear shower curtain keywords='clear shower curtain' category='Bed & Bath' sub_category='Shower Curtains & Accessories'\n",
            "Window Treatments\n",
            "beaded curtains keywords='beaded curtains' category='Décor & Pillows' sub_category='Window Treatments'\n",
            "No SubCategory Fits\n",
            "surge protector keywords='surge protector' category='No Category Fits' sub_category='No SubCategory Fits'\n"
          ]
        },
        {
          "output_type": "stream",
          "name": "stderr",
          "text": [
            "Searching:  52%|█████▏    | 250/480 [00:07<00:05, 39.05it/s]"
          ]
        },
        {
          "output_type": "stream",
          "name": "stdout",
          "text": [
            "Outdoor & Patio Furniture\n",
            "bistro table and chairs keywords='bistro table and chairs' category='Outdoor' sub_category='Outdoor & Patio Furniture'\n",
            "No SubCategory Fits\n",
            "multi color rug keywords='multi color rug' category='Rugs' sub_category='No SubCategory Fits'\n",
            "No SubCategory Fits\n",
            "coffee container keywords='coffee container' category='No Category Fits' sub_category='No SubCategory Fits'\n",
            "Living Room Furniture\n",
            "accent chairs living room keywords='accent chairs living room' category='Furniture' sub_category='Living Room Furniture'\n",
            "Bathroom Remodel & Bathroom Fixtures\n",
            "antique brass faucet keywords='antique brass faucet' category='Home Improvement' sub_category='Bathroom Remodel & Bathroom Fixtures'\n",
            "Living Room Furniture\n",
            "comfortable accent chair keywords='comfortable accent chair' category='Furniture' sub_category='Living Room Furniture'\n",
            "No SubCategory Fits\n",
            "desk and chair set keywords='desk and chair set' category='No Category Fits' sub_category='No SubCategory Fits'\n",
            "Toddler & Kids Bedroom Furniture\n",
            "high weight capacity bunk beds keywords='high weight capacity bunk beds' category='Baby & Kids' sub_category='Toddler & Kids Bedroom Furniture'\n"
          ]
        },
        {
          "output_type": "stream",
          "name": "stderr",
          "text": [
            "Searching:  54%|█████▍    | 259/480 [00:08<00:05, 39.77it/s]"
          ]
        },
        {
          "output_type": "stream",
          "name": "stdout",
          "text": [
            "Living Room Furniture\n",
            "living room coffee table sets keywords='living room coffee table sets' category='Furniture' sub_category='Living Room Furniture'\n",
            "Kitchen & Dining Furniture\n",
            "breakfast bar table keywords='breakfast bar table' category='Furniture' sub_category='Kitchen & Dining Furniture'\n",
            "No SubCategory Fits\n",
            "nursery end table keywords='nursery end table' category='No Category Fits' sub_category='No SubCategory Fits'\n",
            "Outdoor Shades\n",
            "retractable side awning keywords='retractable side awning' category='Outdoor' sub_category='Outdoor Shades'\n",
            "No SubCategory Fits\n",
            "semi flush foyer light keywords='semi flush foyer light' category='No Category Fits' sub_category='No SubCategory Fits'\n",
            "Bathroom Storage & Organization\n",
            "bathroom freestanding cabinet keywords='bathroom freestanding cabinet' category='Storage & Organization' sub_category='Bathroom Storage & Organization'\n",
            "Window Treatments\n",
            "small curtain rods keywords='small curtain rods' category='Décor & Pillows' sub_category='Window Treatments'\n",
            "Decorative Pillows & Blankets\n",
            "cortez pillow keywords='cortez pillow' category='Décor & Pillows' sub_category='Decorative Pillows & Blankets'\n",
            "No SubCategory Fits\n",
            "candace wingback upholstered bed keywords='candace wingback upholstered bed' category='No Category Fits' sub_category='No SubCategory Fits'\n"
          ]
        },
        {
          "output_type": "stream",
          "name": "stderr",
          "text": [
            "Searching:  56%|█████▌    | 269/480 [00:08<00:05, 41.19it/s]"
          ]
        },
        {
          "output_type": "stream",
          "name": "stdout",
          "text": [
            "Office Furniture\n",
            "champagne velvet desk chair keywords='champagne velvet desk chair' category='Furniture' sub_category='Office Furniture'\n",
            "Flooring, Walls & Ceiling\n",
            "dolomite subway tile keywords='dolomite subway tile' category='Home Improvement' sub_category='Flooring, Walls & Ceiling'\n",
            "Outdoor Shades\n",
            "betty resin free standing umbrella keywords='betty resin free standing umbrella' category='Outdoor' sub_category='Outdoor Shades'\n",
            "No SubCategory Fits\n",
            "donaldson teak couch keywords='donaldson teak couch' category='No Category Fits' sub_category='No SubCategory Fits'\n",
            "Office Furniture\n",
            "edge chair mat keywords='edge chair mat' category='Furniture' sub_category='Office Furniture'\n",
            "Living Room Furniture\n",
            "chinese flower stand keywords='chinese flower stand' category='Furniture' sub_category='Living Room Furniture'\n",
            "No SubCategory Fits\n",
            "oliver parsons keywords='oliver parsons' category='No Category Fits' sub_category='No SubCategory Fits'\n",
            "Bathroom Remodel & Bathroom Fixtures\n",
            "stainless steel free standing shower caddy keywords='stainless steel free standing shower caddy' category='Home Improvement' sub_category='Bathroom Remodel & Bathroom Fixtures'\n",
            "Office Furniture\n",
            "gowdy height adjustable standing desk keywords='gowdy height adjustable standing desk' category='Furniture' sub_category='Office Furniture'\n"
          ]
        },
        {
          "output_type": "stream",
          "name": "stderr",
          "text": [
            "Searching:  58%|█████▊    | 279/480 [00:08<00:04, 40.88it/s]"
          ]
        },
        {
          "output_type": "stream",
          "name": "stdout",
          "text": [
            "Living Room Furniture\n",
            "hinged square ottoman keywords='hinged square ottoman' category='Furniture' sub_category='Living Room Furniture'\n",
            "No SubCategory Fits\n",
            "chaves l-shape floating desk with hutch keywords='chaves l-shape floating desk with hutch' category='No Category Fits' sub_category='No SubCategory Fits'\n",
            "Outdoor & Patio Furniture\n",
            "barstool patio sets keywords='barstool patio sets' category='Outdoor' sub_category='Outdoor & Patio Furniture'\n",
            "No SubCategory Fits\n",
            "parakeet toy keywords='parakeet toy' category='No Category Fits' sub_category='No SubCategory Fits'\n",
            "Bedroom Furniture\n",
            "marlon tufted queen bed keywords='marlon tufted queen bed' category='Furniture' sub_category='Bedroom Furniture'\n",
            "No SubCategory Fits\n",
            "johan desk by laurel foundry keywords='johan desk by laurel foundry' category='No Category Fits' sub_category='No SubCategory Fits'\n",
            "Home Accessories\n",
            "brunk ship wheel keywords='brunk ship wheel' category='Décor & Pillows' sub_category='Home Accessories'\n",
            "Mirrors\n",
            "grantola wall mirror keywords='grantola wall mirror' category='Décor & Pillows' sub_category='Mirrors'\n",
            "Kitchen & Dining Furniture\n",
            "gaia driftwood table keywords='gaia driftwood table' category='Furniture' sub_category='Kitchen & Dining Furniture'\n"
          ]
        },
        {
          "output_type": "stream",
          "name": "stderr",
          "text": [
            "\rSearching:  59%|█████▉    | 284/480 [00:08<00:04, 40.48it/s]"
          ]
        },
        {
          "output_type": "stream",
          "name": "stdout",
          "text": [
            "No SubCategory Fits\n",
            "family lamp keywords='family lamp' category='No Category Fits' sub_category='No SubCategory Fits'\n",
            "Doors & Door Hardware\n",
            "48\" sliding single track , barn door for laundry keywords='48\" sliding single track , barn door for laundry' category='Home Improvement' sub_category='Doors & Door Hardware'\n",
            "No SubCategory Fits\n",
            "hitchcock mid-century wall shelf keywords='hitchcock mid-century wall shelf' category='No Category Fits' sub_category='No SubCategory Fits'\n",
            "Garage & Outdoor Storage & Organization\n",
            "cover set for outdoor furniture keywords='cover set for outdoor furniture' category='Storage & Organization' sub_category='Garage & Outdoor Storage & Organization'\n",
            "No SubCategory Fits\n",
            "round outdoor patio cover keywords='round outdoor patio cover' category='No Category Fits' sub_category='No SubCategory Fits'\n",
            "Bedding\n",
            "coma inducer comforter king set keywords='coma inducer comforter king set' category='Bed & Bath' sub_category='Bedding'\n",
            "No SubCategory Fits\n",
            "mission double vanity keywords='mission double vanity' category='No Category Fits' sub_category='No SubCategory Fits'\n",
            "Living Room Furniture\n",
            "front door cabinet with doors keywords='front door cabinet with doors' category='Furniture' sub_category='Living Room Furniture'\n"
          ]
        },
        {
          "output_type": "stream",
          "name": "stderr",
          "text": [
            "Searching:  61%|██████    | 293/480 [00:08<00:04, 38.34it/s]"
          ]
        },
        {
          "output_type": "stream",
          "name": "stdout",
          "text": [
            "Decorative Pillows & Blankets\n",
            "decorative white pillow keywords='decorative white pillow' category='Décor & Pillows' sub_category='Decorative Pillows & Blankets'\n",
            "Office Furniture\n",
            "wood floor protector mat keywords='wood floor protector mat' category='Furniture' sub_category='Office Furniture'\n",
            "No SubCategory Fits\n",
            "moen multi function dual shower head keywords='moen multi function dual shower head' category='No Category Fits' sub_category='No SubCategory Fits'\n",
            "Living Room Furniture\n",
            "end table between recliners keywords='end table between recliners' category='Furniture' sub_category='Living Room Furniture'\n",
            "Toddler & Kids Bedroom Furniture\n",
            "zakariyah twin platform keywords='zakariyah twin platform' category='Baby & Kids' sub_category='Toddler & Kids Bedroom Furniture'\n",
            "Office Furniture\n",
            "seat cushions desk keywords='seat cushions desk' category='Furniture' sub_category='Office Furniture'\n",
            "Living Room Furniture\n",
            "small woven pouf keywords='small woven pouf' category='Furniture' sub_category='Living Room Furniture'\n",
            "Area Rugs\n",
            "animal print handmade tufted wool beige/black area rug by allmodern keywords='animal print handmade tufted wool beige/black area rug by allmodern' category='Rugs' sub_category='Area Rugs'\n"
          ]
        },
        {
          "output_type": "stream",
          "name": "stderr",
          "text": [
            "Searching:  63%|██████▎   | 302/480 [00:09<00:04, 39.68it/s]"
          ]
        },
        {
          "output_type": "stream",
          "name": "stdout",
          "text": [
            "Hardware\n",
            "circle cabinet pulls keywords='circle cabinet pulls' category='Home Improvement' sub_category='Hardware'\n",
            "Bedding Essentials\n",
            "mattress foam topper queen keywords='mattress foam topper queen' category='Bed & Bath' sub_category='Bedding Essentials'\n",
            "Art\n",
            "hawaii vintage art keywords='hawaii vintage art' category='Décor & Pillows' sub_category='Art'\n",
            "No SubCategory Fits\n",
            "merlyn 6 keywords='merlyn 6' category='No Category Fits' sub_category='No SubCategory Fits'\n",
            "Light Bulbs & Hardware\n",
            "ligth bulb keywords='ligth bulb' category='Lighting' sub_category='Light Bulbs & Hardware'\n",
            "Mattresses & Foundations\n",
            "mobley zero gravity adjustable bed with wireless remote keywords='mobley zero gravity adjustable bed with wireless remote' category='Bed & Bath' sub_category='Mattresses & Foundations'\n",
            "Flowers & Plants\n",
            "real touch roses floral arrangements in glass vase keywords='real touch roses floral arrangements in glass vase' category='Décor & Pillows' sub_category='Flowers & Plants'\n",
            "Outdoor Lighting\n",
            "led 60 keywords='led 60' category='Lighting' sub_category='Outdoor Lighting'\n",
            "No SubCategory Fits\n",
            "moen 5995 arbor one keywords='moen 5995 arbor one' category='No Category Fits' sub_category='No SubCategory Fits'\n"
          ]
        },
        {
          "output_type": "stream",
          "name": "stderr",
          "text": [
            "Searching:  65%|██████▍   | 311/480 [00:09<00:04, 40.18it/s]"
          ]
        },
        {
          "output_type": "stream",
          "name": "stdout",
          "text": [
            "No SubCategory Fits\n",
            "meade mirror keywords='meade mirror' category='No Category Fits' sub_category='No SubCategory Fits'\n",
            "Living Room Furniture\n",
            "odum velvet keywords='odum velvet' category='Furniture' sub_category='Living Room Furniture'\n",
            "Entry & Hallway\n",
            "coat rack for bedroom keywords='coat rack for bedroom' category='Contractor' sub_category='Entry & Hallway'\n",
            "Living Room Furniture\n",
            "malachi sled keywords='malachi sled' category='Furniture' sub_category='Living Room Furniture'\n",
            "Bedding Essentials\n",
            "body pillow and case keywords='body pillow and case' category='Bed & Bath' sub_category='Bedding Essentials'\n",
            "Clamps\n",
            "medium clips keywords='medium clips' category='Clips' sub_category='Clamps'\n",
            "Living Room Furniture\n",
            "rolande heavy duty power lift assist recliner keywords='rolande heavy duty power lift assist recliner' category='Furniture' sub_category='Living Room Furniture'\n",
            "Office Furniture\n",
            "hulmeville writing desk with hutch keywords='hulmeville writing desk with hutch' category='Furniture' sub_category='Office Furniture'\n"
          ]
        },
        {
          "output_type": "stream",
          "name": "stderr",
          "text": [
            "Searching:  67%|██████▋   | 321/480 [00:09<00:04, 39.59it/s]"
          ]
        },
        {
          "output_type": "stream",
          "name": "stdout",
          "text": [
            "Outdoor Lighting\n",
            "sunjoy lantern keywords='sunjoy lantern' category='Lighting' sub_category='Outdoor Lighting'\n",
            "Bathroom Storage & Organization\n",
            "landis wall mounted bathroom shelves keywords='landis wall mounted bathroom shelves' category='Storage & Organization' sub_category='Bathroom Storage & Organization'\n",
            "Bedroom Furniture\n",
            "blaylock bookcase headboard keywords='blaylock bookcase headboard' category='Furniture' sub_category='Bedroom Furniture'\n",
            "Area Rugs\n",
            "hussain handmade tufted magenta rug keywords='hussain handmade tufted magenta rug' category='Rugs' sub_category='Area Rugs'\n",
            "No SubCategory Fits\n",
            "cream queen duvet cover keywords='cream queen duvet cover' category='No Category Fits' sub_category='No SubCategory Fits'\n",
            "Mirrors\n",
            "hub leaning full length mirror keywords='hub leaning full length mirror' category='Décor & Pillows' sub_category='Mirrors'\n",
            "Cleaning & Laundry Organization\n",
            "chase utility laundry cart keywords='chase utility laundry cart' category='Storage & Organization' sub_category='Cleaning & Laundry Organization'\n",
            "Garage & Outdoor Storage & Organization\n",
            "outdoor waterproof chest keywords='outdoor waterproof chest' category='Storage & Organization' sub_category='Garage & Outdoor Storage & Organization'\n",
            "Office Furniture\n",
            "bowersville ladder writing desk keywords='bowersville ladder writing desk' category='Furniture' sub_category='Office Furniture'\n"
          ]
        },
        {
          "output_type": "stream",
          "name": "stderr",
          "text": [
            "Searching:  69%|██████▊   | 329/480 [00:09<00:03, 38.25it/s]"
          ]
        },
        {
          "output_type": "stream",
          "name": "stdout",
          "text": [
            "No SubCategory Fits\n",
            "kohler purist brushed bronze keywords='kohler purist brushed bronze' category='Home Improvement' sub_category='No SubCategory Fits'\n",
            "Kitchen & Dining Furniture\n",
            "golub dining table keywords='golub dining table' category='Furniture' sub_category='Kitchen & Dining Furniture'\n",
            "Window Treatments\n",
            "wayfair tension rod keywords='wayfair tension rod' category='Décor & Pillows' sub_category='Window Treatments'\n",
            "Living Room Furniture\n",
            "kari 2 piece keywords='kari 2 piece' category='Furniture' sub_category='Living Room Furniture'\n",
            "Bedroom Furniture\n",
            "upholstered girls bed keywords='upholstered girls bed' category='Furniture' sub_category='Bedroom Furniture'\n",
            "Living Room Furniture\n",
            "attleboro drum coffee table keywords='attleboro drum coffee table' category='Furniture' sub_category='Living Room Furniture'\n",
            "Kitchen Utensils & Tools\n",
            "stainless steel colander set keywords='stainless steel colander set' category='Kitchen & Tabletop' sub_category='Kitchen Utensils & Tools'\n",
            "Kitchen & Dining Furniture\n",
            "itchington butterfly keywords='itchington butterfly' category='Furniture' sub_category='Kitchen & Dining Furniture'\n"
          ]
        },
        {
          "output_type": "stream",
          "name": "stderr",
          "text": [
            "\rSearching:  70%|██████▉   | 334/480 [00:09<00:03, 39.13it/s]"
          ]
        },
        {
          "output_type": "stream",
          "name": "stdout",
          "text": [
            "No SubCategory Fits\n",
            "canadian keywords='canadian' category='No Category Fits' sub_category='No SubCategory Fits'\n",
            "Kitchen & Dining Furniture\n",
            "mystic swivel keywords='mystic swivel' category='Furniture' sub_category='Kitchen & Dining Furniture'\n",
            "Tableware & Drinkware\n",
            "iittala bowl keywords='iittala bowl' category='Kitchen & Tabletop' sub_category='Tableware & Drinkware'\n",
            "Outdoor & Patio Furniture\n",
            "mahone porch rocking chair keywords='mahone porch rocking chair' category='Outdoor' sub_category='Outdoor & Patio Furniture'\n",
            "School Furniture\n",
            "ruckus chair keywords='ruckus chair' category='School Furniture and Supplies' sub_category='School Furniture'\n",
            "No SubCategory Fits\n",
            "berenice 4 storage cabinet keywords='berenice 4 storage cabinet' category='Furniture' sub_category='No SubCategory Fits'\n",
            "Art\n",
            "canvas map art keywords='canvas map art' category='Décor & Pillows' sub_category='Art'\n",
            "Kitchen & Dining Furniture\n",
            "brendon counter stool keywords='brendon counter stool' category='Furniture' sub_category='Kitchen & Dining Furniture'\n",
            "No SubCategory Fits\n",
            "navy and peach bedding keywords='navy and peach bedding' category='No Category Fits' sub_category='No SubCategory Fits'\n"
          ]
        },
        {
          "output_type": "stream",
          "name": "stderr",
          "text": [
            "Searching:  72%|███████▏  | 344/480 [00:10<00:03, 40.89it/s]"
          ]
        },
        {
          "output_type": "stream",
          "name": "stdout",
          "text": [
            "No SubCategory Fits\n",
            "ottoman bed queen keywords='ottoman bed queen' category='No Category Fits' sub_category='No SubCategory Fits'\n",
            "No SubCategory Fits\n",
            "oriental vanity keywords='oriental vanity' category='No Category Fits' sub_category='No SubCategory Fits'\n",
            "No SubCategory Fits\n",
            "nesting tray set keywords='nesting tray set' category='No Category Fits' sub_category='No SubCategory Fits'\n",
            "No SubCategory Fits\n",
            "olive green console table keywords='olive green console table' category='No Category Fits' sub_category='No SubCategory Fits'\n",
            "No SubCategory Fits\n",
            "one alium way keywords='one alium way' category='No Category Fits' sub_category='No SubCategory Fits'\n",
            "No SubCategory Fits\n",
            "mud room sign keywords='mud room sign' category='No Category Fits' sub_category='No SubCategory Fits'\n",
            "No SubCategory Fits\n",
            "white bathroom vanity black hardware keywords='white bathroom vanity black hardware' category='No Category Fits' sub_category='No SubCategory Fits'\n",
            "No SubCategory Fits\n",
            "amarillo keywords='amarillo' category='No Category Fits' sub_category='No SubCategory Fits'\n",
            "No SubCategory Fits\n",
            "pennfield playhouse keywords='pennfield playhouse' category='No Category Fits' sub_category='No SubCategory Fits'\n",
            "No SubCategory Fits\n",
            "tressler rug keywords='tressler rug' category='No Category Fits' sub_category='No SubCategory Fits'\n"
          ]
        },
        {
          "output_type": "stream",
          "name": "stderr",
          "text": [
            "Searching:  74%|███████▍  | 354/480 [00:10<00:02, 42.94it/s]"
          ]
        },
        {
          "output_type": "stream",
          "name": "stdout",
          "text": [
            "Art\n",
            "argenteuil keywords='argenteuil' category='Décor & Pillows' sub_category='Art'\n",
            "No SubCategory Fits\n",
            "platform bed side table keywords='platform bed side table' category='No Category Fits' sub_category='No SubCategory Fits'\n",
            "Dog\n",
            "tall free standing pet gate keywords='tall free standing pet gate' category='Pet' sub_category='Dog'\n",
            "No SubCategory Fits\n",
            "sliding closet mirror keywords='sliding closet mirror' category='No Category Fits' sub_category='No SubCategory Fits'\n",
            "Flooring, Walls & Ceiling\n",
            "french molding keywords='french molding' category='Home Improvement' sub_category='Flooring, Walls & Ceiling'\n",
            "No SubCategory Fits\n",
            "huntsville sectional sofa keywords='huntsville sectional sofa' category='No Category Fits' sub_category='No SubCategory Fits'\n",
            "No SubCategory Fits\n",
            "kisner keywords='kisner' category='No Category Fits' sub_category='No SubCategory Fits'\n",
            "No SubCategory Fits\n",
            "brushed gold wall decor keywords='brushed gold wall decor' category='No Category Fits' sub_category='No SubCategory Fits'\n",
            "Living Room Furniture\n",
            "fortunat coffee table keywords='fortunat coffee table' category='Furniture' sub_category='Living Room Furniture'\n"
          ]
        },
        {
          "output_type": "stream",
          "name": "stderr",
          "text": [
            "Searching:  76%|███████▌  | 364/480 [00:10<00:02, 41.88it/s]"
          ]
        },
        {
          "output_type": "stream",
          "name": "stdout",
          "text": [
            "No SubCategory Fits\n",
            "croscill ashton keywords='croscill ashton' category='No Category Fits' sub_category='No SubCategory Fits'\n",
            "Kitchen Remodel & Kitchen Fixtures\n",
            "gas detector keywords='gas detector' category='Home Improvement' sub_category='Kitchen Remodel & Kitchen Fixtures'\n",
            "No SubCategory Fits\n",
            "drudge report keywords='drudge report' category='No Category Fits' sub_category='No SubCategory Fits'\n",
            "Outdoor & Patio Furniture\n",
            "wooden chair outdoor keywords='wooden chair outdoor' category='Outdoor' sub_category='Outdoor & Patio Furniture'\n",
            "Kitchen Utensils & Tools\n",
            "pasta tools keywords='pasta tools' category='Kitchen & Tabletop' sub_category='Kitchen Utensils & Tools'\n",
            "Living Room Furniture\n",
            "wrought tv stand keywords='wrought tv stand' category='Furniture' sub_category='Living Room Furniture'\n",
            "Area Rugs\n",
            "rug for teen room keywords='rug for teen room' category='Rugs' sub_category='Area Rugs'\n",
            "Living Room Furniture\n",
            "milk cow chair keywords='milk cow chair' category='Furniture' sub_category='Living Room Furniture'\n",
            "Bedding\n",
            "verden callan keywords='verden callan' category='Bed & Bath' sub_category='Bedding'\n"
          ]
        },
        {
          "output_type": "stream",
          "name": "stderr",
          "text": [
            "Searching:  78%|███████▊  | 374/480 [00:10<00:02, 40.32it/s]"
          ]
        },
        {
          "output_type": "stream",
          "name": "stdout",
          "text": [
            "No SubCategory Fits\n",
            "togo chair keywords='togo chair' category='No Category Fits' sub_category='No SubCategory Fits'\n",
            "No SubCategory Fits\n",
            "sinks bed frame keywords='sinks bed frame' category='No Category Fits' sub_category='No SubCategory Fits'\n",
            "No SubCategory Fits\n",
            "pastel pink desk chair keywords='pastel pink desk chair' category='No Category Fits' sub_category='No SubCategory Fits'\n",
            "Living Room Furniture\n",
            "island estate coffee table keywords='island estate coffee table' category='Furniture' sub_category='Living Room Furniture'\n",
            "No SubCategory Fits\n",
            "glinda upholstered bench keywords='glinda upholstered bench' category='No Category Fits' sub_category='No SubCategory Fits'\n",
            "No SubCategory Fits\n",
            "cliffside 5 light candle style drum chandelier keywords='cliffside 5 light candle style drum chandelier' category='No Category Fits' sub_category='No SubCategory Fits'\n",
            "No SubCategory Fits\n",
            "urban outfitters duvet keywords='urban outfitters duvet' category='No Category Fits' sub_category='No SubCategory Fits'\n",
            "Dog\n",
            "gravity feeder keywords='gravity feeder' category='Pet' sub_category='Dog'\n",
            "No SubCategory Fits\n",
            "farmhouse hood vent keywords='farmhouse hood vent' category='No Category Fits' sub_category='No SubCategory Fits'\n"
          ]
        },
        {
          "output_type": "stream",
          "name": "stderr",
          "text": [
            "Searching:  80%|████████  | 384/480 [00:11<00:02, 40.48it/s]"
          ]
        },
        {
          "output_type": "stream",
          "name": "stdout",
          "text": [
            "No SubCategory Fits\n",
            "counter top one cup hot water dispenser keywords='counter top one cup hot water dispenser' category='No Category Fits' sub_category='No SubCategory Fits'\n",
            "No SubCategory Fits\n",
            "minnestrista keywords='minnestrista' category='No Category Fits' sub_category='No SubCategory Fits'\n",
            "Tableware & Drinkware\n",
            "dining table vinyl cloth keywords='dining table vinyl cloth' category='Kitchen & Tabletop' sub_category='Tableware & Drinkware'\n",
            "No SubCategory Fits\n",
            "mom urn keywords='mom urn' category='No Category Fits' sub_category='No SubCategory Fits'\n",
            "No SubCategory Fits\n",
            "alter furniture keywords='alter furniture' category='No Category Fits' sub_category='No SubCategory Fits'\n",
            "No SubCategory Fits\n",
            "self enclosed planters keywords='self enclosed planters' category='No Category Fits' sub_category='No SubCategory Fits'\n",
            "No SubCategory Fits\n",
            "outdoor sectional doning keywords='outdoor sectional doning' category='No Category Fits' sub_category='No SubCategory Fits'\n",
            "Bathroom Remodel & Bathroom Fixtures\n",
            "brush nickel faucet bathroom keywords='brush nickel faucet bathroom' category='Home Improvement' sub_category='Bathroom Remodel & Bathroom Fixtures'\n",
            "No SubCategory Fits\n",
            "cushion replacement insert keywords='cushion replacement insert' category='No Category Fits' sub_category='No SubCategory Fits'\n"
          ]
        },
        {
          "output_type": "stream",
          "name": "stderr",
          "text": [
            "Searching:  82%|████████▏ | 394/480 [00:11<00:02, 42.10it/s]"
          ]
        },
        {
          "output_type": "stream",
          "name": "stdout",
          "text": [
            "No SubCategory Fits\n",
            "writing desk 48\" keywords='writing desk 48\"' category='No Category Fits' sub_category='No SubCategory Fits'\n",
            "No SubCategory Fits\n",
            "china clock keywords='china clock' category='No Category Fits' sub_category='No SubCategory Fits'\n",
            "No SubCategory Fits\n",
            "propane gas dryer keywords='propane gas dryer' category='No Category Fits' sub_category='No SubCategory Fits'\n",
            "No SubCategory Fits\n",
            "gray leather cocktail table keywords='gray leather cocktail table' category='No Category Fits' sub_category='No SubCategory Fits'\n",
            "No SubCategory Fits\n",
            "pantry grey keywords='pantry grey' category='No Category Fits' sub_category='No SubCategory Fits'\n",
            "Ceiling Lights\n",
            "alyse 8 light keywords='alyse 8 light' category='Lighting' sub_category='Ceiling Lights'\n",
            "No SubCategory Fits\n",
            "maryford queen tufted bed keywords='maryford queen tufted bed' category='No Category Fits' sub_category='No SubCategory Fits'\n",
            "No SubCategory Fits\n",
            "super bright lights keywords='super bright lights' category='No Category Fits' sub_category='No SubCategory Fits'\n",
            "No SubCategory Fits\n",
            "12v dirt bike keywords='12v dirt bike' category='No Category Fits' sub_category='No SubCategory Fits'\n"
          ]
        },
        {
          "output_type": "stream",
          "name": "stderr",
          "text": [
            "\rSearching:  83%|████████▎ | 399/480 [00:11<00:01, 41.69it/s]"
          ]
        },
        {
          "output_type": "stream",
          "name": "stdout",
          "text": [
            "No SubCategory Fits\n",
            "small ladies rocker swivel recliner keywords='small ladies rocker swivel recliner' category='No Category Fits' sub_category='No SubCategory Fits'\n",
            "Light Bulbs & Hardware\n",
            "glass lsmp shades keywords='glass lsmp shades' category='Lighting' sub_category='Light Bulbs & Hardware'\n",
            "Ceiling Lights\n",
            "modern farmhouse lighting semi flush mount keywords='modern farmhouse lighting semi flush mount' category='Lighting' sub_category='Ceiling Lights'\n",
            "Garage & Outdoor Storage & Organization\n",
            "wood rack wide keywords='wood rack wide' category='Storage & Organization' sub_category='Garage & Outdoor Storage & Organization'\n",
            "No SubCategory Fits\n",
            "large cushion outdoor chair keywords='large cushion outdoor chair' category='No Category Fits' sub_category='No SubCategory Fits'\n",
            "No SubCategory Fits\n",
            "queen ann style living room chair keywords='queen ann style living room chair' category='No Category Fits' sub_category='No SubCategory Fits'\n",
            "Kitchen Appliances\n",
            "refrigerator with ice an water in door keywords='refrigerator with ice an water in door' category='Appliances' sub_category='Kitchen Appliances'\n",
            "Living Room Furniture\n",
            "huge bookcase keywords='huge bookcase' category='Furniture' sub_category='Living Room Furniture'\n",
            "Outdoor Décor\n",
            "girl reading statue keywords='girl reading statue' category='Outdoor' sub_category='Outdoor Décor'\n"
          ]
        },
        {
          "output_type": "stream",
          "name": "stderr",
          "text": [
            "Searching:  85%|████████▌ | 409/480 [00:11<00:01, 41.54it/s]"
          ]
        },
        {
          "output_type": "stream",
          "name": "stdout",
          "text": [
            "No SubCategory Fits\n",
            "teal chair keywords='teal chair' category='Furniture' sub_category='No SubCategory Fits'\n",
            "No SubCategory Fits\n",
            "pool floats keywords='pool floats' category='No Category Fits' sub_category='No SubCategory Fits'\n",
            "No SubCategory Fits\n",
            "outdoor clock keywords='outdoor clock' category='No Category Fits' sub_category='No SubCategory Fits'\n",
            "Bedroom Furniture\n",
            "jennie tufted upholstered low profile platform bed keywords='jennie tufted upholstered low profile platform bed' category='Furniture' sub_category='Bedroom Furniture'\n",
            "Outdoor & Patio Furniture\n",
            "burruss patio sectional with cushions keywords='burruss patio sectional with cushions' category='Outdoor' sub_category='Outdoor & Patio Furniture'\n",
            "Shower Curtains & Accessories\n",
            "shower hooks keywords='shower hooks' category='Bed & Bath' sub_category='Shower Curtains & Accessories'\n",
            "Bathroom Remodel & Bathroom Fixtures\n",
            "toilet paper stand keywords='toilet paper stand' category='Home Improvement' sub_category='Bathroom Remodel & Bathroom Fixtures'\n",
            "No SubCategory Fits\n",
            "wayfair coffee table keywords='wayfair coffee table' category='No Category Fits' sub_category='No SubCategory Fits'\n",
            "No SubCategory Fits\n",
            "twin bed frame keywords='twin bed frame' category='No Category Fits' sub_category='No SubCategory Fits'\n"
          ]
        },
        {
          "output_type": "stream",
          "name": "stderr",
          "text": [
            "Searching:  87%|████████▋ | 419/480 [00:11<00:01, 40.51it/s]"
          ]
        },
        {
          "output_type": "stream",
          "name": "stdout",
          "text": [
            "Office Furniture\n",
            "writing desk keywords='writing desk' category='Furniture' sub_category='Office Furniture'\n",
            "No SubCategory Fits\n",
            "living room ideas keywords='living room ideas' category='No Category Fits' sub_category='No SubCategory Fits'\n",
            "Flooring, Walls & Ceiling\n",
            "tile backsplash keywords='tile backsplash' category='Home Improvement' sub_category='Flooring, Walls & Ceiling'\n",
            "Kitchen & Dining Furniture\n",
            "dining room tables keywords='dining room tables' category='Furniture' sub_category='Kitchen & Dining Furniture'\n",
            "Office Furniture\n",
            "ergonomic chair keywords='ergonomic chair' category='Furniture' sub_category='Office Furniture'\n",
            "No SubCategory Fits\n",
            "wall shelves keywords='wall shelves' category='Storage & Organization' sub_category='No SubCategory Fits'\n",
            "No SubCategory Fits\n",
            "wayfair comforters keywords='wayfair comforters' category='Bed & Bath' sub_category='No SubCategory Fits'\n",
            "Living Room Furniture\n",
            "side table with storage keywords='side table with storage' category='Furniture' sub_category='Living Room Furniture'\n"
          ]
        },
        {
          "output_type": "stream",
          "name": "stderr",
          "text": [
            "\rSearching:  88%|████████▊ | 424/480 [00:12<00:01, 40.47it/s]"
          ]
        },
        {
          "output_type": "stream",
          "name": "stdout",
          "text": [
            "Garage & Outdoor Storage & Organization\n",
            "outdoor storage keywords='outdoor storage' category='Storage & Organization' sub_category='Garage & Outdoor Storage & Organization'\n",
            "No SubCategory Fits\n",
            "lowes tile keywords='lowes tile' category='No Category Fits' sub_category='No SubCategory Fits'\n",
            "No SubCategory Fits\n",
            "kitchen storage cabinet keywords='kitchen storage cabinet' category='No Category Fits' sub_category='No SubCategory Fits'\n",
            "No SubCategory Fits\n",
            "gray dresser keywords='gray dresser' category='No Category Fits' sub_category='No SubCategory Fits'\n",
            "Bathroom Remodel & Bathroom Fixtures\n",
            "30 inch bathroom vanity keywords='30 inch bathroom vanity' category='Home Improvement' sub_category='Bathroom Remodel & Bathroom Fixtures'\n",
            "No SubCategory Fits\n",
            "shoe bench entryway keywords='shoe bench entryway' category='No Category Fits' sub_category='No SubCategory Fits'\n",
            "Kitchen & Dining Furniture\n",
            "butcher block island keywords='butcher block island' category='Furniture' sub_category='Kitchen & Dining Furniture'\n",
            "Bedroom Furniture\n",
            "trundle daybed keywords='trundle daybed' category='Furniture' sub_category='Bedroom Furniture'\n",
            "Wall Lights\n",
            "bathroom lighting keywords='bathroom lighting' category='Lighting' sub_category='Wall Lights'\n"
          ]
        },
        {
          "output_type": "stream",
          "name": "stderr",
          "text": [
            "Searching:  91%|█████████ | 437/480 [00:12<00:01, 39.50it/s]"
          ]
        },
        {
          "output_type": "stream",
          "name": "stdout",
          "text": [
            "Shoe Storage\n",
            "shoe closet keywords='shoe closet' category='Storage & Organization' sub_category='Shoe Storage'\n",
            "No SubCategory Fits\n",
            "full bed with trundle keywords='full bed with trundle' category='No Category Fits' sub_category='No SubCategory Fits'\n",
            "Kitchen & Dining Furniture\n",
            "kitchen islands with seating keywords='kitchen islands with seating' category='Furniture' sub_category='Kitchen & Dining Furniture'\n",
            "No SubCategory Fits\n",
            "indoor water fountain keywords='indoor water fountain' category='No Category Fits' sub_category='No SubCategory Fits'\n",
            "Kitchen & Dining Furniture\n",
            "parsons chairs keywords='parsons chairs' category='Furniture' sub_category='Kitchen & Dining Furniture'\n",
            "Kitchen & Dining Furniture\n",
            "wood bar stools keywords='wood bar stools' category='Furniture' sub_category='Kitchen & Dining Furniture'\n",
            "No SubCategory Fits\n",
            "desk for kids keywords='desk for kids' category='Baby & Kids' sub_category='No SubCategory Fits'\n",
            "Bathroom Storage & Organization\n",
            "above toilet cabinet keywords='above toilet cabinet' category='Storage & Organization' sub_category='Bathroom Storage & Organization'\n",
            "No SubCategory Fits\n",
            "patio design keywords='patio design' category='No Category Fits' sub_category='No SubCategory Fits'\n"
          ]
        },
        {
          "output_type": "stream",
          "name": "stderr",
          "text": [
            "Searching:  93%|█████████▎| 446/480 [00:12<00:00, 39.61it/s]"
          ]
        },
        {
          "output_type": "stream",
          "name": "stdout",
          "text": [
            "Outdoor & Patio Furniture\n",
            "outdoor lounge chair keywords='outdoor lounge chair' category='Outdoor' sub_category='Outdoor & Patio Furniture'\n",
            "Living Room Furniture\n",
            "chaise lounge couch keywords='chaise lounge couch' category='Furniture' sub_category='Living Room Furniture'\n",
            "Game Tables & Game Room Furniture\n",
            "card table keywords='card table' category='Furniture' sub_category='Game Tables & Game Room Furniture'\n",
            "Kitchen & Dining Furniture\n",
            "tall buffet cabinet keywords='tall buffet cabinet' category='Furniture' sub_category='Kitchen & Dining Furniture'\n",
            "Bedroom Furniture\n",
            "bed side table keywords='bed side table' category='Furniture' sub_category='Bedroom Furniture'\n",
            "No SubCategory Fits\n",
            "living room designs keywords='living room designs' category='No Category Fits' sub_category='No SubCategory Fits'\n",
            "No SubCategory Fits\n",
            "aiden black velvet bed keywords='aiden black velvet bed' category='No Category Fits' sub_category='No SubCategory Fits'\n",
            "No SubCategory Fits\n",
            "day bed indian keywords='day bed indian' category='No Category Fits' sub_category='No SubCategory Fits'\n",
            "Living Room Furniture\n",
            "midcentury tv unit keywords='midcentury tv unit' category='Furniture' sub_category='Living Room Furniture'\n"
          ]
        },
        {
          "output_type": "stream",
          "name": "stderr",
          "text": [
            "Searching:  95%|█████████▍| 454/480 [00:12<00:00, 38.49it/s]"
          ]
        },
        {
          "output_type": "stream",
          "name": "stdout",
          "text": [
            "No SubCategory Fits\n",
            "carpet 5x6 keywords='carpet 5x6' category='No Category Fits' sub_category='No SubCategory Fits'\n",
            "Entry & Hallway\n",
            "deer coat hooks keywords='deer coat hooks' category='Contractor' sub_category='Entry & Hallway'\n",
            "Wall Shelving & Organization\n",
            "wall design shelf keywords='wall design shelf' category='Storage & Organization' sub_category='Wall Shelving & Organization'\n",
            "No SubCategory Fits\n",
            "5 gang light switch keywords='5 gang light switch' category='No Category Fits' sub_category='No SubCategory Fits'\n",
            "No SubCategory Fits\n",
            "bubble guppies chair keywords='bubble guppies chair' category='No Category Fits' sub_category='No SubCategory Fits'\n",
            "Bedding\n",
            "tye dye duvet cover keywords='tye dye duvet cover' category='Bed & Bath' sub_category='Bedding'\n",
            "Bedroom Furniture\n",
            "small wardrobe grey keywords='small wardrobe grey' category='Furniture' sub_category='Bedroom Furniture'\n",
            "Holiday Lighting\n",
            "luau string lights keywords='luau string lights' category='Holiday Décor' sub_category='Holiday Lighting'\n"
          ]
        },
        {
          "output_type": "stream",
          "name": "stderr",
          "text": [
            "Searching:  96%|█████████▋| 462/480 [00:13<00:00, 36.98it/s]"
          ]
        },
        {
          "output_type": "stream",
          "name": "stdout",
          "text": [
            "No SubCategory Fits\n",
            "large bases keywords='large bases' category='No Category Fits' sub_category='No SubCategory Fits'\n",
            "Outdoor & Patio Furniture\n",
            "bistro sets patio keywords='bistro sets patio' category='Outdoor' sub_category='Outdoor & Patio Furniture'\n",
            "Tableware & Drinkware\n",
            "cake cutlery keywords='cake cutlery' category='Kitchen & Tabletop' sub_category='Tableware & Drinkware'\n",
            "Window Treatments\n",
            "white abstract keywords='white abstract' category='Décor & Pillows' sub_category='Window Treatments'\n",
            "Christmas\n",
            "rock climbing wall kids keywords='rock climbing wall kids' category='Holiday Décor' sub_category='Christmas'\n",
            "No SubCategory Fits\n",
            "town & country living curtains keywords='town & country living curtains' category='No Category Fits' sub_category='No SubCategory Fits'\n",
            "Clocks\n",
            "glow in the dark silent wall clock keywords='glow in the dark silent wall clock' category='Décor & Pillows' sub_category='Clocks'\n",
            "Garage & Outdoor Storage & Organization\n",
            "garage sports storage rack keywords='garage sports storage rack' category='Storage & Organization' sub_category='Garage & Outdoor Storage & Organization'\n"
          ]
        },
        {
          "output_type": "stream",
          "name": "stderr",
          "text": [
            "Searching:  98%|█████████▊| 471/480 [00:13<00:00, 38.58it/s]"
          ]
        },
        {
          "output_type": "stream",
          "name": "stdout",
          "text": [
            "No SubCategory Fits\n",
            "elephant framed keywords='elephant framed' category='No Category Fits' sub_category='No SubCategory Fits'\n",
            "Office Furniture\n",
            "adjustable height artist stool keywords='adjustable height artist stool' category='Furniture' sub_category='Office Furniture'\n",
            "Wall Décor\n",
            "window wall accent keywords='window wall accent' category='Décor & Pillows' sub_category='Wall Décor'\n",
            "No SubCategory Fits\n",
            "chair pillow cushion keywords='chair pillow cushion' category='No Category Fits' sub_category='No SubCategory Fits'\n",
            "No SubCategory Fits\n",
            "48 inch bathroom vanity with trough sink keywords='48 inch bathroom vanity with trough sink' category='No Category Fits' sub_category='No SubCategory Fits'\n",
            "No SubCategory Fits\n",
            "rattan truck keywords='rattan truck' category='No Category Fits' sub_category='No SubCategory Fits'\n",
            "No SubCategory Fits\n",
            "hardwood beds keywords='hardwood beds' category='No Category Fits' sub_category='No SubCategory Fits'\n",
            "Office Furniture\n",
            "worn leather office chair keywords='worn leather office chair' category='Furniture' sub_category='Office Furniture'\n",
            "No SubCategory Fits\n",
            "garage door mail slot keywords='garage door mail slot' category='No Category Fits' sub_category='No SubCategory Fits'\n"
          ]
        },
        {
          "output_type": "stream",
          "name": "stderr",
          "text": [
            "Searching: 100%|██████████| 480/480 [00:13<00:00, 35.48it/s]"
          ]
        },
        {
          "output_type": "stream",
          "name": "stdout",
          "text": [
            "No SubCategory Fits\n",
            "pictures to hang over fireplace keywords='pictures to hang over fireplace' category='No Category Fits' sub_category='No SubCategory Fits'\n",
            "Toddler & Kids Bedroom Furniture\n",
            "emma headboard keywords='emma headboard' category='Baby & Kids' sub_category='Toddler & Kids Bedroom Furniture'\n",
            "Kitchen Appliances\n",
            "48 inch kitchen hood keywords='48 inch kitchen hood' category='Appliances' sub_category='Kitchen Appliances'\n",
            "No SubCategory Fits\n",
            "rustic twig keywords='rustic twig' category='Décor & Pillows' sub_category='No SubCategory Fits'\n",
            "No SubCategory Fits\n",
            "nespresso vertuo next premium by breville with aeroccino keywords='nespresso vertuo next premium by breville with aeroccino' category='No Category Fits' sub_category='No SubCategory Fits'\n",
            "No SubCategory Fits\n",
            "pedistole sink keywords='pedistole sink' category='No Category Fits' sub_category='No SubCategory Fits'\n",
            "No SubCategory Fits\n",
            "54 in bench cushion keywords='54 in bench cushion' category='No Category Fits' sub_category='No SubCategory Fits'\n",
            "No SubCategory Fits\n",
            "rack glass keywords='rack glass' category='No Category Fits' sub_category='No SubCategory Fits'\n"
          ]
        },
        {
          "output_type": "stream",
          "name": "stderr",
          "text": [
            "\n"
          ]
        },
        {
          "output_type": "execute_result",
          "data": {
            "text/plain": [
              "      product_id                                       product_name  \\\n",
              "0           7465                                   hair salon chair   \n",
              "1          25431                      barberpub salon massage chair   \n",
              "2           7468  mercer41 hair salon chair hydraulic styling ch...   \n",
              "3          39461         professional salon reclining massage chair   \n",
              "4           9234                            beauty salon task chair   \n",
              "...          ...                                                ...   \n",
              "4795       22194                                    wine glass rack   \n",
              "4796       40243                    madisen hanging wine glass rack   \n",
              "4797       40244                       kena hanging wine glass rack   \n",
              "4798       39976                       wall mounted wine glass rack   \n",
              "4799       40247                       winn hanging wine glass rack   \n",
              "\n",
              "                 product_class  \\\n",
              "0     Massage Chairs|Recliners   \n",
              "1               Massage Chairs   \n",
              "2               Massage Chairs   \n",
              "3               Massage Chairs   \n",
              "4                          NaN   \n",
              "...                        ...   \n",
              "4795      Kitchen Sink Storage   \n",
              "4796                Wine Racks   \n",
              "4797                Wine Racks   \n",
              "4798                Wine Racks   \n",
              "4799                Wine Racks   \n",
              "\n",
              "                                     category hierarchy  \\\n",
              "0     Furniture / Living Room Furniture / Chairs & S...   \n",
              "1     Furniture / Living Room Furniture / Chairs & S...   \n",
              "2     Furniture / Living Room Furniture / Chairs & S...   \n",
              "3     Furniture / Living Room Furniture / Chairs & S...   \n",
              "4          Furniture / Office Furniture / Office Chairs   \n",
              "...                                                 ...   \n",
              "4795  Kitchen & Tabletop / Kitchen Organization / Co...   \n",
              "4796  Kitchen & Tabletop / Tableware & Drinkware / B...   \n",
              "4797  Kitchen & Tabletop / Tableware & Drinkware / B...   \n",
              "4798  Kitchen & Tabletop / Tableware & Drinkware / B...   \n",
              "4799  Kitchen & Tabletop / Tableware & Drinkware / B...   \n",
              "\n",
              "                                    product_description  \\\n",
              "0     offers a wide selection of professional salon ...   \n",
              "1     salon chairs are a wonderful avenue for hairst...   \n",
              "2     mercer41 beauty offers a wide selection profes...   \n",
              "3     new and in a good condition . first-rate metal...   \n",
              "4     applicable scene : office , home life , beauty...   \n",
              "...                                                 ...   \n",
              "4795  drip-dry up to eight wineglasses with this cle...   \n",
              "4796  complement your farmhouse kitchen decor with t...   \n",
              "4797  spruce up your farmhouse kitchen decor with th...   \n",
              "4798  the latest addition to this collection , this ...   \n",
              "4799  are you looking for a safe and decorative solu...   \n",
              "\n",
              "                                       product_features  rating_count  \\\n",
              "0     fauxleathertype : pu|legheight-toptobottom:18|...          69.0   \n",
              "1     supplierintendedandapproveduse : non residenti...           4.0   \n",
              "2     seatfillmaterial : foam|waterrepellant : no re...           1.0   \n",
              "3     overalldepth-fronttoback:39.4|warrantylength:1...           NaN   \n",
              "4     overallheight-toptobottom:37|backcolor : brown...           NaN   \n",
              "...                                                 ...           ...   \n",
              "4795  glasscapacity:8|countryoforigin : united state...           5.0   \n",
              "4796  producttype : wine glass rack|overallwidth-sid...          29.0   \n",
              "4797  warrantylength:1 year|producttype : wine glass...          23.0   \n",
              "4798  overallheight-toptobottom:4|design : wall moun...          34.0   \n",
              "4799  overallheight-toptobottom:1.5|overallwidth-sid...         305.0   \n",
              "\n",
              "      average_rating  review_count  \\\n",
              "0                4.5          53.0   \n",
              "1                5.0           4.0   \n",
              "2                5.0           1.0   \n",
              "3                NaN           NaN   \n",
              "4                NaN           NaN   \n",
              "...              ...           ...   \n",
              "4795             4.5           3.0   \n",
              "4796             5.0          20.0   \n",
              "4797             5.0          18.0   \n",
              "4798             4.5          18.0   \n",
              "4799             5.0         187.0   \n",
              "\n",
              "                                               features  ... query_id rank  \\\n",
              "0     [fauxleathertype : pu, legheight-toptobottom:1...  ...        0    1   \n",
              "1     [supplierintendedandapproveduse : non resident...  ...        0    2   \n",
              "2     [seatfillmaterial : foam, waterrepellant : no ...  ...        0    3   \n",
              "3     [overalldepth-fronttoback:39.4, warrantylength...  ...        0    4   \n",
              "4     [overallheight-toptobottom:37, backcolor : bro...  ...        0    5   \n",
              "...                                                 ...  ...      ...  ...   \n",
              "4795  [glasscapacity:8, countryoforigin : united sta...  ...      487    6   \n",
              "4796  [producttype : wine glass rack, overallwidth-s...  ...      487    7   \n",
              "4797  [warrantylength:1 year, producttype : wine gla...  ...      487    8   \n",
              "4798  [overallheight-toptobottom:4, design : wall mo...  ...      487    9   \n",
              "4799  [overallheight-toptobottom:1.5, overallwidth-s...  ...      487   10   \n",
              "\n",
              "         query_class     id    label grade  discounted_gain      idcg  \\\n",
              "0     Massage Chairs   80.0    Exact   2.0             3.00  8.786905   \n",
              "1     Massage Chairs   29.0    Exact   2.0             1.50  8.786905   \n",
              "2     Massage Chairs  104.0    Exact   2.0             1.00  8.786905   \n",
              "3     Massage Chairs  114.0    Exact   2.0             0.75  8.786905   \n",
              "4     Massage Chairs   32.0  Partial   1.0             0.20  8.786905   \n",
              "...              ...    ...      ...   ...              ...       ...   \n",
              "4795             NaN    NaN      NaN   0.0             0.00  8.786905   \n",
              "4796             NaN    NaN      NaN   0.0             0.00  8.786905   \n",
              "4797             NaN    NaN      NaN   0.0             0.00  8.786905   \n",
              "4798             NaN    NaN      NaN   0.0             0.00  8.786905   \n",
              "4799             NaN    NaN      NaN   0.0             0.00  8.786905   \n",
              "\n",
              "          dcg      ndcg  \n",
              "0     8.10119  0.921962  \n",
              "1     8.10119  0.921962  \n",
              "2     8.10119  0.921962  \n",
              "3     8.10119  0.921962  \n",
              "4     8.10119  0.921962  \n",
              "...       ...       ...  \n",
              "4795  0.00000  0.000000  \n",
              "4796  0.00000  0.000000  \n",
              "4797  0.00000  0.000000  \n",
              "4798  0.00000  0.000000  \n",
              "4799  0.00000  0.000000  \n",
              "\n",
              "[4800 rows x 26 columns]"
            ],
            "text/html": [
              "\n",
              "  <div id=\"df-141ad531-f04c-4f7e-8ea3-3af397f3d376\" class=\"colab-df-container\">\n",
              "    <div>\n",
              "<style scoped>\n",
              "    .dataframe tbody tr th:only-of-type {\n",
              "        vertical-align: middle;\n",
              "    }\n",
              "\n",
              "    .dataframe tbody tr th {\n",
              "        vertical-align: top;\n",
              "    }\n",
              "\n",
              "    .dataframe thead th {\n",
              "        text-align: right;\n",
              "    }\n",
              "</style>\n",
              "<table border=\"1\" class=\"dataframe\">\n",
              "  <thead>\n",
              "    <tr style=\"text-align: right;\">\n",
              "      <th></th>\n",
              "      <th>product_id</th>\n",
              "      <th>product_name</th>\n",
              "      <th>product_class</th>\n",
              "      <th>category hierarchy</th>\n",
              "      <th>product_description</th>\n",
              "      <th>product_features</th>\n",
              "      <th>rating_count</th>\n",
              "      <th>average_rating</th>\n",
              "      <th>review_count</th>\n",
              "      <th>features</th>\n",
              "      <th>...</th>\n",
              "      <th>query_id</th>\n",
              "      <th>rank</th>\n",
              "      <th>query_class</th>\n",
              "      <th>id</th>\n",
              "      <th>label</th>\n",
              "      <th>grade</th>\n",
              "      <th>discounted_gain</th>\n",
              "      <th>idcg</th>\n",
              "      <th>dcg</th>\n",
              "      <th>ndcg</th>\n",
              "    </tr>\n",
              "  </thead>\n",
              "  <tbody>\n",
              "    <tr>\n",
              "      <th>0</th>\n",
              "      <td>7465</td>\n",
              "      <td>hair salon chair</td>\n",
              "      <td>Massage Chairs|Recliners</td>\n",
              "      <td>Furniture / Living Room Furniture / Chairs &amp; S...</td>\n",
              "      <td>offers a wide selection of professional salon ...</td>\n",
              "      <td>fauxleathertype : pu|legheight-toptobottom:18|...</td>\n",
              "      <td>69.0</td>\n",
              "      <td>4.5</td>\n",
              "      <td>53.0</td>\n",
              "      <td>[fauxleathertype : pu, legheight-toptobottom:1...</td>\n",
              "      <td>...</td>\n",
              "      <td>0</td>\n",
              "      <td>1</td>\n",
              "      <td>Massage Chairs</td>\n",
              "      <td>80.0</td>\n",
              "      <td>Exact</td>\n",
              "      <td>2.0</td>\n",
              "      <td>3.00</td>\n",
              "      <td>8.786905</td>\n",
              "      <td>8.10119</td>\n",
              "      <td>0.921962</td>\n",
              "    </tr>\n",
              "    <tr>\n",
              "      <th>1</th>\n",
              "      <td>25431</td>\n",
              "      <td>barberpub salon massage chair</td>\n",
              "      <td>Massage Chairs</td>\n",
              "      <td>Furniture / Living Room Furniture / Chairs &amp; S...</td>\n",
              "      <td>salon chairs are a wonderful avenue for hairst...</td>\n",
              "      <td>supplierintendedandapproveduse : non residenti...</td>\n",
              "      <td>4.0</td>\n",
              "      <td>5.0</td>\n",
              "      <td>4.0</td>\n",
              "      <td>[supplierintendedandapproveduse : non resident...</td>\n",
              "      <td>...</td>\n",
              "      <td>0</td>\n",
              "      <td>2</td>\n",
              "      <td>Massage Chairs</td>\n",
              "      <td>29.0</td>\n",
              "      <td>Exact</td>\n",
              "      <td>2.0</td>\n",
              "      <td>1.50</td>\n",
              "      <td>8.786905</td>\n",
              "      <td>8.10119</td>\n",
              "      <td>0.921962</td>\n",
              "    </tr>\n",
              "    <tr>\n",
              "      <th>2</th>\n",
              "      <td>7468</td>\n",
              "      <td>mercer41 hair salon chair hydraulic styling ch...</td>\n",
              "      <td>Massage Chairs</td>\n",
              "      <td>Furniture / Living Room Furniture / Chairs &amp; S...</td>\n",
              "      <td>mercer41 beauty offers a wide selection profes...</td>\n",
              "      <td>seatfillmaterial : foam|waterrepellant : no re...</td>\n",
              "      <td>1.0</td>\n",
              "      <td>5.0</td>\n",
              "      <td>1.0</td>\n",
              "      <td>[seatfillmaterial : foam, waterrepellant : no ...</td>\n",
              "      <td>...</td>\n",
              "      <td>0</td>\n",
              "      <td>3</td>\n",
              "      <td>Massage Chairs</td>\n",
              "      <td>104.0</td>\n",
              "      <td>Exact</td>\n",
              "      <td>2.0</td>\n",
              "      <td>1.00</td>\n",
              "      <td>8.786905</td>\n",
              "      <td>8.10119</td>\n",
              "      <td>0.921962</td>\n",
              "    </tr>\n",
              "    <tr>\n",
              "      <th>3</th>\n",
              "      <td>39461</td>\n",
              "      <td>professional salon reclining massage chair</td>\n",
              "      <td>Massage Chairs</td>\n",
              "      <td>Furniture / Living Room Furniture / Chairs &amp; S...</td>\n",
              "      <td>new and in a good condition . first-rate metal...</td>\n",
              "      <td>overalldepth-fronttoback:39.4|warrantylength:1...</td>\n",
              "      <td>NaN</td>\n",
              "      <td>NaN</td>\n",
              "      <td>NaN</td>\n",
              "      <td>[overalldepth-fronttoback:39.4, warrantylength...</td>\n",
              "      <td>...</td>\n",
              "      <td>0</td>\n",
              "      <td>4</td>\n",
              "      <td>Massage Chairs</td>\n",
              "      <td>114.0</td>\n",
              "      <td>Exact</td>\n",
              "      <td>2.0</td>\n",
              "      <td>0.75</td>\n",
              "      <td>8.786905</td>\n",
              "      <td>8.10119</td>\n",
              "      <td>0.921962</td>\n",
              "    </tr>\n",
              "    <tr>\n",
              "      <th>4</th>\n",
              "      <td>9234</td>\n",
              "      <td>beauty salon task chair</td>\n",
              "      <td>NaN</td>\n",
              "      <td>Furniture / Office Furniture / Office Chairs</td>\n",
              "      <td>applicable scene : office , home life , beauty...</td>\n",
              "      <td>overallheight-toptobottom:37|backcolor : brown...</td>\n",
              "      <td>NaN</td>\n",
              "      <td>NaN</td>\n",
              "      <td>NaN</td>\n",
              "      <td>[overallheight-toptobottom:37, backcolor : bro...</td>\n",
              "      <td>...</td>\n",
              "      <td>0</td>\n",
              "      <td>5</td>\n",
              "      <td>Massage Chairs</td>\n",
              "      <td>32.0</td>\n",
              "      <td>Partial</td>\n",
              "      <td>1.0</td>\n",
              "      <td>0.20</td>\n",
              "      <td>8.786905</td>\n",
              "      <td>8.10119</td>\n",
              "      <td>0.921962</td>\n",
              "    </tr>\n",
              "    <tr>\n",
              "      <th>...</th>\n",
              "      <td>...</td>\n",
              "      <td>...</td>\n",
              "      <td>...</td>\n",
              "      <td>...</td>\n",
              "      <td>...</td>\n",
              "      <td>...</td>\n",
              "      <td>...</td>\n",
              "      <td>...</td>\n",
              "      <td>...</td>\n",
              "      <td>...</td>\n",
              "      <td>...</td>\n",
              "      <td>...</td>\n",
              "      <td>...</td>\n",
              "      <td>...</td>\n",
              "      <td>...</td>\n",
              "      <td>...</td>\n",
              "      <td>...</td>\n",
              "      <td>...</td>\n",
              "      <td>...</td>\n",
              "      <td>...</td>\n",
              "      <td>...</td>\n",
              "    </tr>\n",
              "    <tr>\n",
              "      <th>4795</th>\n",
              "      <td>22194</td>\n",
              "      <td>wine glass rack</td>\n",
              "      <td>Kitchen Sink Storage</td>\n",
              "      <td>Kitchen &amp; Tabletop / Kitchen Organization / Co...</td>\n",
              "      <td>drip-dry up to eight wineglasses with this cle...</td>\n",
              "      <td>glasscapacity:8|countryoforigin : united state...</td>\n",
              "      <td>5.0</td>\n",
              "      <td>4.5</td>\n",
              "      <td>3.0</td>\n",
              "      <td>[glasscapacity:8, countryoforigin : united sta...</td>\n",
              "      <td>...</td>\n",
              "      <td>487</td>\n",
              "      <td>6</td>\n",
              "      <td>NaN</td>\n",
              "      <td>NaN</td>\n",
              "      <td>NaN</td>\n",
              "      <td>0.0</td>\n",
              "      <td>0.00</td>\n",
              "      <td>8.786905</td>\n",
              "      <td>0.00000</td>\n",
              "      <td>0.000000</td>\n",
              "    </tr>\n",
              "    <tr>\n",
              "      <th>4796</th>\n",
              "      <td>40243</td>\n",
              "      <td>madisen hanging wine glass rack</td>\n",
              "      <td>Wine Racks</td>\n",
              "      <td>Kitchen &amp; Tabletop / Tableware &amp; Drinkware / B...</td>\n",
              "      <td>complement your farmhouse kitchen decor with t...</td>\n",
              "      <td>producttype : wine glass rack|overallwidth-sid...</td>\n",
              "      <td>29.0</td>\n",
              "      <td>5.0</td>\n",
              "      <td>20.0</td>\n",
              "      <td>[producttype : wine glass rack, overallwidth-s...</td>\n",
              "      <td>...</td>\n",
              "      <td>487</td>\n",
              "      <td>7</td>\n",
              "      <td>NaN</td>\n",
              "      <td>NaN</td>\n",
              "      <td>NaN</td>\n",
              "      <td>0.0</td>\n",
              "      <td>0.00</td>\n",
              "      <td>8.786905</td>\n",
              "      <td>0.00000</td>\n",
              "      <td>0.000000</td>\n",
              "    </tr>\n",
              "    <tr>\n",
              "      <th>4797</th>\n",
              "      <td>40244</td>\n",
              "      <td>kena hanging wine glass rack</td>\n",
              "      <td>Wine Racks</td>\n",
              "      <td>Kitchen &amp; Tabletop / Tableware &amp; Drinkware / B...</td>\n",
              "      <td>spruce up your farmhouse kitchen decor with th...</td>\n",
              "      <td>warrantylength:1 year|producttype : wine glass...</td>\n",
              "      <td>23.0</td>\n",
              "      <td>5.0</td>\n",
              "      <td>18.0</td>\n",
              "      <td>[warrantylength:1 year, producttype : wine gla...</td>\n",
              "      <td>...</td>\n",
              "      <td>487</td>\n",
              "      <td>8</td>\n",
              "      <td>NaN</td>\n",
              "      <td>NaN</td>\n",
              "      <td>NaN</td>\n",
              "      <td>0.0</td>\n",
              "      <td>0.00</td>\n",
              "      <td>8.786905</td>\n",
              "      <td>0.00000</td>\n",
              "      <td>0.000000</td>\n",
              "    </tr>\n",
              "    <tr>\n",
              "      <th>4798</th>\n",
              "      <td>39976</td>\n",
              "      <td>wall mounted wine glass rack</td>\n",
              "      <td>Wine Racks</td>\n",
              "      <td>Kitchen &amp; Tabletop / Tableware &amp; Drinkware / B...</td>\n",
              "      <td>the latest addition to this collection , this ...</td>\n",
              "      <td>overallheight-toptobottom:4|design : wall moun...</td>\n",
              "      <td>34.0</td>\n",
              "      <td>4.5</td>\n",
              "      <td>18.0</td>\n",
              "      <td>[overallheight-toptobottom:4, design : wall mo...</td>\n",
              "      <td>...</td>\n",
              "      <td>487</td>\n",
              "      <td>9</td>\n",
              "      <td>NaN</td>\n",
              "      <td>NaN</td>\n",
              "      <td>NaN</td>\n",
              "      <td>0.0</td>\n",
              "      <td>0.00</td>\n",
              "      <td>8.786905</td>\n",
              "      <td>0.00000</td>\n",
              "      <td>0.000000</td>\n",
              "    </tr>\n",
              "    <tr>\n",
              "      <th>4799</th>\n",
              "      <td>40247</td>\n",
              "      <td>winn hanging wine glass rack</td>\n",
              "      <td>Wine Racks</td>\n",
              "      <td>Kitchen &amp; Tabletop / Tableware &amp; Drinkware / B...</td>\n",
              "      <td>are you looking for a safe and decorative solu...</td>\n",
              "      <td>overallheight-toptobottom:1.5|overallwidth-sid...</td>\n",
              "      <td>305.0</td>\n",
              "      <td>5.0</td>\n",
              "      <td>187.0</td>\n",
              "      <td>[overallheight-toptobottom:1.5, overallwidth-s...</td>\n",
              "      <td>...</td>\n",
              "      <td>487</td>\n",
              "      <td>10</td>\n",
              "      <td>NaN</td>\n",
              "      <td>NaN</td>\n",
              "      <td>NaN</td>\n",
              "      <td>0.0</td>\n",
              "      <td>0.00</td>\n",
              "      <td>8.786905</td>\n",
              "      <td>0.00000</td>\n",
              "      <td>0.000000</td>\n",
              "    </tr>\n",
              "  </tbody>\n",
              "</table>\n",
              "<p>4800 rows × 26 columns</p>\n",
              "</div>\n",
              "    <div class=\"colab-df-buttons\">\n",
              "\n",
              "  <div class=\"colab-df-container\">\n",
              "    <button class=\"colab-df-convert\" onclick=\"convertToInteractive('df-141ad531-f04c-4f7e-8ea3-3af397f3d376')\"\n",
              "            title=\"Convert this dataframe to an interactive table.\"\n",
              "            style=\"display:none;\">\n",
              "\n",
              "  <svg xmlns=\"http://www.w3.org/2000/svg\" height=\"24px\" viewBox=\"0 -960 960 960\">\n",
              "    <path d=\"M120-120v-720h720v720H120Zm60-500h600v-160H180v160Zm220 220h160v-160H400v160Zm0 220h160v-160H400v160ZM180-400h160v-160H180v160Zm440 0h160v-160H620v160ZM180-180h160v-160H180v160Zm440 0h160v-160H620v160Z\"/>\n",
              "  </svg>\n",
              "    </button>\n",
              "\n",
              "  <style>\n",
              "    .colab-df-container {\n",
              "      display:flex;\n",
              "      gap: 12px;\n",
              "    }\n",
              "\n",
              "    .colab-df-convert {\n",
              "      background-color: #E8F0FE;\n",
              "      border: none;\n",
              "      border-radius: 50%;\n",
              "      cursor: pointer;\n",
              "      display: none;\n",
              "      fill: #1967D2;\n",
              "      height: 32px;\n",
              "      padding: 0 0 0 0;\n",
              "      width: 32px;\n",
              "    }\n",
              "\n",
              "    .colab-df-convert:hover {\n",
              "      background-color: #E2EBFA;\n",
              "      box-shadow: 0px 1px 2px rgba(60, 64, 67, 0.3), 0px 1px 3px 1px rgba(60, 64, 67, 0.15);\n",
              "      fill: #174EA6;\n",
              "    }\n",
              "\n",
              "    .colab-df-buttons div {\n",
              "      margin-bottom: 4px;\n",
              "    }\n",
              "\n",
              "    [theme=dark] .colab-df-convert {\n",
              "      background-color: #3B4455;\n",
              "      fill: #D2E3FC;\n",
              "    }\n",
              "\n",
              "    [theme=dark] .colab-df-convert:hover {\n",
              "      background-color: #434B5C;\n",
              "      box-shadow: 0px 1px 3px 1px rgba(0, 0, 0, 0.15);\n",
              "      filter: drop-shadow(0px 1px 2px rgba(0, 0, 0, 0.3));\n",
              "      fill: #FFFFFF;\n",
              "    }\n",
              "  </style>\n",
              "\n",
              "    <script>\n",
              "      const buttonEl =\n",
              "        document.querySelector('#df-141ad531-f04c-4f7e-8ea3-3af397f3d376 button.colab-df-convert');\n",
              "      buttonEl.style.display =\n",
              "        google.colab.kernel.accessAllowed ? 'block' : 'none';\n",
              "\n",
              "      async function convertToInteractive(key) {\n",
              "        const element = document.querySelector('#df-141ad531-f04c-4f7e-8ea3-3af397f3d376');\n",
              "        const dataTable =\n",
              "          await google.colab.kernel.invokeFunction('convertToInteractive',\n",
              "                                                    [key], {});\n",
              "        if (!dataTable) return;\n",
              "\n",
              "        const docLinkHtml = 'Like what you see? Visit the ' +\n",
              "          '<a target=\"_blank\" href=https://colab.research.google.com/notebooks/data_table.ipynb>data table notebook</a>'\n",
              "          + ' to learn more about interactive tables.';\n",
              "        element.innerHTML = '';\n",
              "        dataTable['output_type'] = 'display_data';\n",
              "        await google.colab.output.renderOutput(dataTable, element);\n",
              "        const docLink = document.createElement('div');\n",
              "        docLink.innerHTML = docLinkHtml;\n",
              "        element.appendChild(docLink);\n",
              "      }\n",
              "    </script>\n",
              "  </div>\n",
              "\n",
              "\n",
              "    <div id=\"df-20f660ea-f093-48f8-b02f-afc012d2cb90\">\n",
              "      <button class=\"colab-df-quickchart\" onclick=\"quickchart('df-20f660ea-f093-48f8-b02f-afc012d2cb90')\"\n",
              "                title=\"Suggest charts\"\n",
              "                style=\"display:none;\">\n",
              "\n",
              "<svg xmlns=\"http://www.w3.org/2000/svg\" height=\"24px\"viewBox=\"0 0 24 24\"\n",
              "     width=\"24px\">\n",
              "    <g>\n",
              "        <path d=\"M19 3H5c-1.1 0-2 .9-2 2v14c0 1.1.9 2 2 2h14c1.1 0 2-.9 2-2V5c0-1.1-.9-2-2-2zM9 17H7v-7h2v7zm4 0h-2V7h2v10zm4 0h-2v-4h2v4z\"/>\n",
              "    </g>\n",
              "</svg>\n",
              "      </button>\n",
              "\n",
              "<style>\n",
              "  .colab-df-quickchart {\n",
              "      --bg-color: #E8F0FE;\n",
              "      --fill-color: #1967D2;\n",
              "      --hover-bg-color: #E2EBFA;\n",
              "      --hover-fill-color: #174EA6;\n",
              "      --disabled-fill-color: #AAA;\n",
              "      --disabled-bg-color: #DDD;\n",
              "  }\n",
              "\n",
              "  [theme=dark] .colab-df-quickchart {\n",
              "      --bg-color: #3B4455;\n",
              "      --fill-color: #D2E3FC;\n",
              "      --hover-bg-color: #434B5C;\n",
              "      --hover-fill-color: #FFFFFF;\n",
              "      --disabled-bg-color: #3B4455;\n",
              "      --disabled-fill-color: #666;\n",
              "  }\n",
              "\n",
              "  .colab-df-quickchart {\n",
              "    background-color: var(--bg-color);\n",
              "    border: none;\n",
              "    border-radius: 50%;\n",
              "    cursor: pointer;\n",
              "    display: none;\n",
              "    fill: var(--fill-color);\n",
              "    height: 32px;\n",
              "    padding: 0;\n",
              "    width: 32px;\n",
              "  }\n",
              "\n",
              "  .colab-df-quickchart:hover {\n",
              "    background-color: var(--hover-bg-color);\n",
              "    box-shadow: 0 1px 2px rgba(60, 64, 67, 0.3), 0 1px 3px 1px rgba(60, 64, 67, 0.15);\n",
              "    fill: var(--button-hover-fill-color);\n",
              "  }\n",
              "\n",
              "  .colab-df-quickchart-complete:disabled,\n",
              "  .colab-df-quickchart-complete:disabled:hover {\n",
              "    background-color: var(--disabled-bg-color);\n",
              "    fill: var(--disabled-fill-color);\n",
              "    box-shadow: none;\n",
              "  }\n",
              "\n",
              "  .colab-df-spinner {\n",
              "    border: 2px solid var(--fill-color);\n",
              "    border-color: transparent;\n",
              "    border-bottom-color: var(--fill-color);\n",
              "    animation:\n",
              "      spin 1s steps(1) infinite;\n",
              "  }\n",
              "\n",
              "  @keyframes spin {\n",
              "    0% {\n",
              "      border-color: transparent;\n",
              "      border-bottom-color: var(--fill-color);\n",
              "      border-left-color: var(--fill-color);\n",
              "    }\n",
              "    20% {\n",
              "      border-color: transparent;\n",
              "      border-left-color: var(--fill-color);\n",
              "      border-top-color: var(--fill-color);\n",
              "    }\n",
              "    30% {\n",
              "      border-color: transparent;\n",
              "      border-left-color: var(--fill-color);\n",
              "      border-top-color: var(--fill-color);\n",
              "      border-right-color: var(--fill-color);\n",
              "    }\n",
              "    40% {\n",
              "      border-color: transparent;\n",
              "      border-right-color: var(--fill-color);\n",
              "      border-top-color: var(--fill-color);\n",
              "    }\n",
              "    60% {\n",
              "      border-color: transparent;\n",
              "      border-right-color: var(--fill-color);\n",
              "    }\n",
              "    80% {\n",
              "      border-color: transparent;\n",
              "      border-right-color: var(--fill-color);\n",
              "      border-bottom-color: var(--fill-color);\n",
              "    }\n",
              "    90% {\n",
              "      border-color: transparent;\n",
              "      border-bottom-color: var(--fill-color);\n",
              "    }\n",
              "  }\n",
              "</style>\n",
              "\n",
              "      <script>\n",
              "        async function quickchart(key) {\n",
              "          const quickchartButtonEl =\n",
              "            document.querySelector('#' + key + ' button');\n",
              "          quickchartButtonEl.disabled = true;  // To prevent multiple clicks.\n",
              "          quickchartButtonEl.classList.add('colab-df-spinner');\n",
              "          try {\n",
              "            const charts = await google.colab.kernel.invokeFunction(\n",
              "                'suggestCharts', [key], {});\n",
              "          } catch (error) {\n",
              "            console.error('Error during call to suggestCharts:', error);\n",
              "          }\n",
              "          quickchartButtonEl.classList.remove('colab-df-spinner');\n",
              "          quickchartButtonEl.classList.add('colab-df-quickchart-complete');\n",
              "        }\n",
              "        (() => {\n",
              "          let quickchartButtonEl =\n",
              "            document.querySelector('#df-20f660ea-f093-48f8-b02f-afc012d2cb90 button');\n",
              "          quickchartButtonEl.style.display =\n",
              "            google.colab.kernel.accessAllowed ? 'block' : 'none';\n",
              "        })();\n",
              "      </script>\n",
              "    </div>\n",
              "\n",
              "  <div id=\"id_cd71489c-e791-43bf-b32d-ebc8a56b2831\">\n",
              "    <style>\n",
              "      .colab-df-generate {\n",
              "        background-color: #E8F0FE;\n",
              "        border: none;\n",
              "        border-radius: 50%;\n",
              "        cursor: pointer;\n",
              "        display: none;\n",
              "        fill: #1967D2;\n",
              "        height: 32px;\n",
              "        padding: 0 0 0 0;\n",
              "        width: 32px;\n",
              "      }\n",
              "\n",
              "      .colab-df-generate:hover {\n",
              "        background-color: #E2EBFA;\n",
              "        box-shadow: 0px 1px 2px rgba(60, 64, 67, 0.3), 0px 1px 3px 1px rgba(60, 64, 67, 0.15);\n",
              "        fill: #174EA6;\n",
              "      }\n",
              "\n",
              "      [theme=dark] .colab-df-generate {\n",
              "        background-color: #3B4455;\n",
              "        fill: #D2E3FC;\n",
              "      }\n",
              "\n",
              "      [theme=dark] .colab-df-generate:hover {\n",
              "        background-color: #434B5C;\n",
              "        box-shadow: 0px 1px 3px 1px rgba(0, 0, 0, 0.15);\n",
              "        filter: drop-shadow(0px 1px 2px rgba(0, 0, 0, 0.3));\n",
              "        fill: #FFFFFF;\n",
              "      }\n",
              "    </style>\n",
              "    <button class=\"colab-df-generate\" onclick=\"generateWithVariable('graded_categorized')\"\n",
              "            title=\"Generate code using this dataframe.\"\n",
              "            style=\"display:none;\">\n",
              "\n",
              "  <svg xmlns=\"http://www.w3.org/2000/svg\" height=\"24px\"viewBox=\"0 0 24 24\"\n",
              "       width=\"24px\">\n",
              "    <path d=\"M7,19H8.4L18.45,9,17,7.55,7,17.6ZM5,21V16.75L18.45,3.32a2,2,0,0,1,2.83,0l1.4,1.43a1.91,1.91,0,0,1,.58,1.4,1.91,1.91,0,0,1-.58,1.4L9.25,21ZM18.45,9,17,7.55Zm-12,3A5.31,5.31,0,0,0,4.9,8.1,5.31,5.31,0,0,0,1,6.5,5.31,5.31,0,0,0,4.9,4.9,5.31,5.31,0,0,0,6.5,1,5.31,5.31,0,0,0,8.1,4.9,5.31,5.31,0,0,0,12,6.5,5.46,5.46,0,0,0,6.5,12Z\"/>\n",
              "  </svg>\n",
              "    </button>\n",
              "    <script>\n",
              "      (() => {\n",
              "      const buttonEl =\n",
              "        document.querySelector('#id_cd71489c-e791-43bf-b32d-ebc8a56b2831 button.colab-df-generate');\n",
              "      buttonEl.style.display =\n",
              "        google.colab.kernel.accessAllowed ? 'block' : 'none';\n",
              "\n",
              "      buttonEl.onclick = () => {\n",
              "        google.colab.notebook.generateWithVariable('graded_categorized');\n",
              "      }\n",
              "      })();\n",
              "    </script>\n",
              "  </div>\n",
              "\n",
              "    </div>\n",
              "  </div>\n"
            ],
            "application/vnd.google.colaboratory.intrinsic+json": {
              "type": "dataframe",
              "variable_name": "graded_categorized"
            }
          },
          "metadata": {},
          "execution_count": 8
        }
      ],
      "source": [
        "categorized_search = CategorySearch(products, categorized)\n",
        "graded_categorized = run_strategy(categorized_search)\n",
        "graded_categorized"
      ]
    },
    {
      "cell_type": "markdown",
      "source": [
        "### Analyze the results\n",
        "\n",
        "What's the upside / downside?"
      ],
      "metadata": {
        "id": "KGjjhYSwN401"
      }
    },
    {
      "cell_type": "code",
      "execution_count": null,
      "metadata": {
        "id": "FRPiJHEgaOnl",
        "colab": {
          "base_uri": "https://localhost:8080/"
        },
        "outputId": "b84bde06-983b-411e-ab8d-833223464ee1"
      },
      "outputs": [
        {
          "output_type": "execute_result",
          "data": {
            "text/plain": [
              "(np.float64(0.5411098691836396), np.float64(0.5748049609357359))"
            ]
          },
          "metadata": {},
          "execution_count": 9
        }
      ],
      "source": [
        "ndcgs(graded_bm25).mean(), ndcgs(graded_categorized).mean()"
      ]
    },
    {
      "cell_type": "code",
      "execution_count": null,
      "metadata": {
        "id": "ORAOMuhIbne6",
        "colab": {
          "base_uri": "https://localhost:8080/",
          "height": 490
        },
        "outputId": "cffe7756-2b5d-4f92-a715-2e3ba2f17d47"
      },
      "outputs": [
        {
          "output_type": "execute_result",
          "data": {
            "text/plain": [
              "query\n",
              "drum picture                                     0.886510\n",
              "bathroom freestanding cabinet                    0.692589\n",
              "outdoor lounge chair                             0.658131\n",
              "wood rack wide                                   0.591790\n",
              "outdoor light fixtures                           0.550061\n",
              "                                                   ...   \n",
              "wall shelves                                    -0.099264\n",
              "fleur de lis living candle wall sconce bronze   -0.106219\n",
              "zodiac pillow                                   -0.113806\n",
              "papasan chair frame only                        -0.123290\n",
              "bed side table                                  -0.333333\n",
              "Name: ndcg, Length: 143, dtype: float64"
            ],
            "text/html": [
              "<div>\n",
              "<style scoped>\n",
              "    .dataframe tbody tr th:only-of-type {\n",
              "        vertical-align: middle;\n",
              "    }\n",
              "\n",
              "    .dataframe tbody tr th {\n",
              "        vertical-align: top;\n",
              "    }\n",
              "\n",
              "    .dataframe thead th {\n",
              "        text-align: right;\n",
              "    }\n",
              "</style>\n",
              "<table border=\"1\" class=\"dataframe\">\n",
              "  <thead>\n",
              "    <tr style=\"text-align: right;\">\n",
              "      <th></th>\n",
              "      <th>ndcg</th>\n",
              "    </tr>\n",
              "    <tr>\n",
              "      <th>query</th>\n",
              "      <th></th>\n",
              "    </tr>\n",
              "  </thead>\n",
              "  <tbody>\n",
              "    <tr>\n",
              "      <th>drum picture</th>\n",
              "      <td>0.886510</td>\n",
              "    </tr>\n",
              "    <tr>\n",
              "      <th>bathroom freestanding cabinet</th>\n",
              "      <td>0.692589</td>\n",
              "    </tr>\n",
              "    <tr>\n",
              "      <th>outdoor lounge chair</th>\n",
              "      <td>0.658131</td>\n",
              "    </tr>\n",
              "    <tr>\n",
              "      <th>wood rack wide</th>\n",
              "      <td>0.591790</td>\n",
              "    </tr>\n",
              "    <tr>\n",
              "      <th>outdoor light fixtures</th>\n",
              "      <td>0.550061</td>\n",
              "    </tr>\n",
              "    <tr>\n",
              "      <th>...</th>\n",
              "      <td>...</td>\n",
              "    </tr>\n",
              "    <tr>\n",
              "      <th>wall shelves</th>\n",
              "      <td>-0.099264</td>\n",
              "    </tr>\n",
              "    <tr>\n",
              "      <th>fleur de lis living candle wall sconce bronze</th>\n",
              "      <td>-0.106219</td>\n",
              "    </tr>\n",
              "    <tr>\n",
              "      <th>zodiac pillow</th>\n",
              "      <td>-0.113806</td>\n",
              "    </tr>\n",
              "    <tr>\n",
              "      <th>papasan chair frame only</th>\n",
              "      <td>-0.123290</td>\n",
              "    </tr>\n",
              "    <tr>\n",
              "      <th>bed side table</th>\n",
              "      <td>-0.333333</td>\n",
              "    </tr>\n",
              "  </tbody>\n",
              "</table>\n",
              "<p>143 rows × 1 columns</p>\n",
              "</div><br><label><b>dtype:</b> float64</label>"
            ]
          },
          "metadata": {},
          "execution_count": 10
        }
      ],
      "source": [
        "deltas = ndcg_delta(graded_categorized, graded_bm25)\n",
        "deltas"
      ]
    },
    {
      "cell_type": "code",
      "source": [
        "sig_improved = len(deltas[deltas > 0.1])\n",
        "print(f\"Num Significatly Improved: {sig_improved}\")\n",
        "deltas[deltas > 0.1]"
      ],
      "metadata": {
        "id": "V39OEEtoh0Yb",
        "colab": {
          "base_uri": "https://localhost:8080/",
          "height": 1000
        },
        "outputId": "2e2fd40c-e2a0-4ebf-c270-c812c40fba8a"
      },
      "execution_count": null,
      "outputs": [
        {
          "output_type": "stream",
          "name": "stdout",
          "text": [
            "Num Significatly Improved: 56\n"
          ]
        },
        {
          "output_type": "execute_result",
          "data": {
            "text/plain": [
              "query\n",
              "drum picture                                                       0.886510\n",
              "bathroom freestanding cabinet                                      0.692589\n",
              "outdoor lounge chair                                               0.658131\n",
              "wood rack wide                                                     0.591790\n",
              "outdoor light fixtures                                             0.550061\n",
              "bathroom vanity knobs                                              0.524455\n",
              "door jewelry organizer                                             0.495958\n",
              "beds that have leds                                                0.493565\n",
              "non slip shower floor tile                                         0.477081\n",
              "turquoise chair                                                    0.469494\n",
              "modern outdoor furniture                                           0.446462\n",
              "podium with locking cabinet                                        0.371269\n",
              "closet storage with zipper                                         0.368965\n",
              "barstool patio sets                                                0.363546\n",
              "ayesha curry kitchen                                               0.342320\n",
              "led 60                                                             0.341417\n",
              "wisdom stone river 3-3/4                                           0.331933\n",
              "liberty hardware francisco                                         0.327056\n",
              "french molding                                                     0.320869\n",
              "glass doors for bath                                               0.316217\n",
              "accent leather chair                                               0.305198\n",
              "dark gray dresser                                                  0.299192\n",
              "wainscoting ideas                                                  0.276927\n",
              "floating bed                                                       0.261889\n",
              "dining table vinyl cloth                                           0.254573\n",
              "entrance table                                                     0.243779\n",
              "storage dresser                                                    0.236147\n",
              "almost heaven sauna                                                0.223818\n",
              "toddler couch fold out                                             0.212302\n",
              "outdoor welcome rug                                                0.211263\n",
              "wooden chair outdoor                                               0.200063\n",
              "emma headboard                                                     0.186967\n",
              "outdoor privacy wall                                               0.177754\n",
              "driftwood mirror                                                   0.173960\n",
              "white abstract                                                     0.170709\n",
              "bedroom accessories                                                0.168360\n",
              "bathroom lighting                                                  0.167547\n",
              "light and navy blue decorative pillow                              0.160728\n",
              "gnome fairy garden                                                 0.145418\n",
              "medium size chandelier                                             0.144696\n",
              "above toilet cabinet                                               0.138238\n",
              "odum velvet                                                        0.132773\n",
              "ruckus chair                                                       0.130289\n",
              "modern farmhouse lighting semi flush mount                         0.123922\n",
              "teal chair                                                         0.123606\n",
              "bedroom wall decor floral, multicolored with some teal (prints)    0.119361\n",
              "big basket for dirty cloths                                        0.118231\n",
              "milk cow chair                                                     0.117870\n",
              "small wardrobe grey                                                0.113806\n",
              "glow in the dark silent wall clock                                 0.113173\n",
              "medium clips                                                       0.111909\n",
              "desk for kids tjat ate 10 year old                                 0.111367\n",
              "industrial pipe dining  table                                      0.110419\n",
              "itchington butterfly                                               0.102741\n",
              "midcentury tv unit                                                 0.102425\n",
              "gas detector                                                       0.101296\n",
              "Name: ndcg, dtype: float64"
            ],
            "text/html": [
              "<div>\n",
              "<style scoped>\n",
              "    .dataframe tbody tr th:only-of-type {\n",
              "        vertical-align: middle;\n",
              "    }\n",
              "\n",
              "    .dataframe tbody tr th {\n",
              "        vertical-align: top;\n",
              "    }\n",
              "\n",
              "    .dataframe thead th {\n",
              "        text-align: right;\n",
              "    }\n",
              "</style>\n",
              "<table border=\"1\" class=\"dataframe\">\n",
              "  <thead>\n",
              "    <tr style=\"text-align: right;\">\n",
              "      <th></th>\n",
              "      <th>ndcg</th>\n",
              "    </tr>\n",
              "    <tr>\n",
              "      <th>query</th>\n",
              "      <th></th>\n",
              "    </tr>\n",
              "  </thead>\n",
              "  <tbody>\n",
              "    <tr>\n",
              "      <th>drum picture</th>\n",
              "      <td>0.886510</td>\n",
              "    </tr>\n",
              "    <tr>\n",
              "      <th>bathroom freestanding cabinet</th>\n",
              "      <td>0.692589</td>\n",
              "    </tr>\n",
              "    <tr>\n",
              "      <th>outdoor lounge chair</th>\n",
              "      <td>0.658131</td>\n",
              "    </tr>\n",
              "    <tr>\n",
              "      <th>wood rack wide</th>\n",
              "      <td>0.591790</td>\n",
              "    </tr>\n",
              "    <tr>\n",
              "      <th>outdoor light fixtures</th>\n",
              "      <td>0.550061</td>\n",
              "    </tr>\n",
              "    <tr>\n",
              "      <th>bathroom vanity knobs</th>\n",
              "      <td>0.524455</td>\n",
              "    </tr>\n",
              "    <tr>\n",
              "      <th>door jewelry organizer</th>\n",
              "      <td>0.495958</td>\n",
              "    </tr>\n",
              "    <tr>\n",
              "      <th>beds that have leds</th>\n",
              "      <td>0.493565</td>\n",
              "    </tr>\n",
              "    <tr>\n",
              "      <th>non slip shower floor tile</th>\n",
              "      <td>0.477081</td>\n",
              "    </tr>\n",
              "    <tr>\n",
              "      <th>turquoise chair</th>\n",
              "      <td>0.469494</td>\n",
              "    </tr>\n",
              "    <tr>\n",
              "      <th>modern outdoor furniture</th>\n",
              "      <td>0.446462</td>\n",
              "    </tr>\n",
              "    <tr>\n",
              "      <th>podium with locking cabinet</th>\n",
              "      <td>0.371269</td>\n",
              "    </tr>\n",
              "    <tr>\n",
              "      <th>closet storage with zipper</th>\n",
              "      <td>0.368965</td>\n",
              "    </tr>\n",
              "    <tr>\n",
              "      <th>barstool patio sets</th>\n",
              "      <td>0.363546</td>\n",
              "    </tr>\n",
              "    <tr>\n",
              "      <th>ayesha curry kitchen</th>\n",
              "      <td>0.342320</td>\n",
              "    </tr>\n",
              "    <tr>\n",
              "      <th>led 60</th>\n",
              "      <td>0.341417</td>\n",
              "    </tr>\n",
              "    <tr>\n",
              "      <th>wisdom stone river 3-3/4</th>\n",
              "      <td>0.331933</td>\n",
              "    </tr>\n",
              "    <tr>\n",
              "      <th>liberty hardware francisco</th>\n",
              "      <td>0.327056</td>\n",
              "    </tr>\n",
              "    <tr>\n",
              "      <th>french molding</th>\n",
              "      <td>0.320869</td>\n",
              "    </tr>\n",
              "    <tr>\n",
              "      <th>glass doors for bath</th>\n",
              "      <td>0.316217</td>\n",
              "    </tr>\n",
              "    <tr>\n",
              "      <th>accent leather chair</th>\n",
              "      <td>0.305198</td>\n",
              "    </tr>\n",
              "    <tr>\n",
              "      <th>dark gray dresser</th>\n",
              "      <td>0.299192</td>\n",
              "    </tr>\n",
              "    <tr>\n",
              "      <th>wainscoting ideas</th>\n",
              "      <td>0.276927</td>\n",
              "    </tr>\n",
              "    <tr>\n",
              "      <th>floating bed</th>\n",
              "      <td>0.261889</td>\n",
              "    </tr>\n",
              "    <tr>\n",
              "      <th>dining table vinyl cloth</th>\n",
              "      <td>0.254573</td>\n",
              "    </tr>\n",
              "    <tr>\n",
              "      <th>entrance table</th>\n",
              "      <td>0.243779</td>\n",
              "    </tr>\n",
              "    <tr>\n",
              "      <th>storage dresser</th>\n",
              "      <td>0.236147</td>\n",
              "    </tr>\n",
              "    <tr>\n",
              "      <th>almost heaven sauna</th>\n",
              "      <td>0.223818</td>\n",
              "    </tr>\n",
              "    <tr>\n",
              "      <th>toddler couch fold out</th>\n",
              "      <td>0.212302</td>\n",
              "    </tr>\n",
              "    <tr>\n",
              "      <th>outdoor welcome rug</th>\n",
              "      <td>0.211263</td>\n",
              "    </tr>\n",
              "    <tr>\n",
              "      <th>wooden chair outdoor</th>\n",
              "      <td>0.200063</td>\n",
              "    </tr>\n",
              "    <tr>\n",
              "      <th>emma headboard</th>\n",
              "      <td>0.186967</td>\n",
              "    </tr>\n",
              "    <tr>\n",
              "      <th>outdoor privacy wall</th>\n",
              "      <td>0.177754</td>\n",
              "    </tr>\n",
              "    <tr>\n",
              "      <th>driftwood mirror</th>\n",
              "      <td>0.173960</td>\n",
              "    </tr>\n",
              "    <tr>\n",
              "      <th>white abstract</th>\n",
              "      <td>0.170709</td>\n",
              "    </tr>\n",
              "    <tr>\n",
              "      <th>bedroom accessories</th>\n",
              "      <td>0.168360</td>\n",
              "    </tr>\n",
              "    <tr>\n",
              "      <th>bathroom lighting</th>\n",
              "      <td>0.167547</td>\n",
              "    </tr>\n",
              "    <tr>\n",
              "      <th>light and navy blue decorative pillow</th>\n",
              "      <td>0.160728</td>\n",
              "    </tr>\n",
              "    <tr>\n",
              "      <th>gnome fairy garden</th>\n",
              "      <td>0.145418</td>\n",
              "    </tr>\n",
              "    <tr>\n",
              "      <th>medium size chandelier</th>\n",
              "      <td>0.144696</td>\n",
              "    </tr>\n",
              "    <tr>\n",
              "      <th>above toilet cabinet</th>\n",
              "      <td>0.138238</td>\n",
              "    </tr>\n",
              "    <tr>\n",
              "      <th>odum velvet</th>\n",
              "      <td>0.132773</td>\n",
              "    </tr>\n",
              "    <tr>\n",
              "      <th>ruckus chair</th>\n",
              "      <td>0.130289</td>\n",
              "    </tr>\n",
              "    <tr>\n",
              "      <th>modern farmhouse lighting semi flush mount</th>\n",
              "      <td>0.123922</td>\n",
              "    </tr>\n",
              "    <tr>\n",
              "      <th>teal chair</th>\n",
              "      <td>0.123606</td>\n",
              "    </tr>\n",
              "    <tr>\n",
              "      <th>bedroom wall decor floral, multicolored with some teal (prints)</th>\n",
              "      <td>0.119361</td>\n",
              "    </tr>\n",
              "    <tr>\n",
              "      <th>big basket for dirty cloths</th>\n",
              "      <td>0.118231</td>\n",
              "    </tr>\n",
              "    <tr>\n",
              "      <th>milk cow chair</th>\n",
              "      <td>0.117870</td>\n",
              "    </tr>\n",
              "    <tr>\n",
              "      <th>small wardrobe grey</th>\n",
              "      <td>0.113806</td>\n",
              "    </tr>\n",
              "    <tr>\n",
              "      <th>glow in the dark silent wall clock</th>\n",
              "      <td>0.113173</td>\n",
              "    </tr>\n",
              "    <tr>\n",
              "      <th>medium clips</th>\n",
              "      <td>0.111909</td>\n",
              "    </tr>\n",
              "    <tr>\n",
              "      <th>desk for kids tjat ate 10 year old</th>\n",
              "      <td>0.111367</td>\n",
              "    </tr>\n",
              "    <tr>\n",
              "      <th>industrial pipe dining  table</th>\n",
              "      <td>0.110419</td>\n",
              "    </tr>\n",
              "    <tr>\n",
              "      <th>itchington butterfly</th>\n",
              "      <td>0.102741</td>\n",
              "    </tr>\n",
              "    <tr>\n",
              "      <th>midcentury tv unit</th>\n",
              "      <td>0.102425</td>\n",
              "    </tr>\n",
              "    <tr>\n",
              "      <th>gas detector</th>\n",
              "      <td>0.101296</td>\n",
              "    </tr>\n",
              "  </tbody>\n",
              "</table>\n",
              "</div><br><label><b>dtype:</b> float64</label>"
            ]
          },
          "metadata": {},
          "execution_count": 11
        }
      ]
    },
    {
      "cell_type": "code",
      "source": [
        "sig_harmed = len(deltas[deltas < -0.1])\n",
        "print(f\"Num Significatly Harmed: {sig_harmed}\")\n",
        "print(f\"Prop improved/harmed: {sig_improved / (sig_harmed + sig_improved)} | {sig_harmed / (sig_harmed + sig_improved)}\")\n",
        "deltas[deltas < -0.1]"
      ],
      "metadata": {
        "id": "iqW5QUVHiEXA",
        "colab": {
          "base_uri": "https://localhost:8080/",
          "height": 275
        },
        "outputId": "e6976372-e1a7-4ea6-cb55-15c2ff6bf327"
      },
      "execution_count": null,
      "outputs": [
        {
          "output_type": "stream",
          "name": "stdout",
          "text": [
            "Num Significatly Harmed: 4\n",
            "Prop improved/harmed: 0.9333333333333333 | 0.06666666666666667\n"
          ]
        },
        {
          "output_type": "execute_result",
          "data": {
            "text/plain": [
              "query\n",
              "fleur de lis living candle wall sconce bronze   -0.106219\n",
              "zodiac pillow                                   -0.113806\n",
              "papasan chair frame only                        -0.123290\n",
              "bed side table                                  -0.333333\n",
              "Name: ndcg, dtype: float64"
            ],
            "text/html": [
              "<div>\n",
              "<style scoped>\n",
              "    .dataframe tbody tr th:only-of-type {\n",
              "        vertical-align: middle;\n",
              "    }\n",
              "\n",
              "    .dataframe tbody tr th {\n",
              "        vertical-align: top;\n",
              "    }\n",
              "\n",
              "    .dataframe thead th {\n",
              "        text-align: right;\n",
              "    }\n",
              "</style>\n",
              "<table border=\"1\" class=\"dataframe\">\n",
              "  <thead>\n",
              "    <tr style=\"text-align: right;\">\n",
              "      <th></th>\n",
              "      <th>ndcg</th>\n",
              "    </tr>\n",
              "    <tr>\n",
              "      <th>query</th>\n",
              "      <th></th>\n",
              "    </tr>\n",
              "  </thead>\n",
              "  <tbody>\n",
              "    <tr>\n",
              "      <th>fleur de lis living candle wall sconce bronze</th>\n",
              "      <td>-0.106219</td>\n",
              "    </tr>\n",
              "    <tr>\n",
              "      <th>zodiac pillow</th>\n",
              "      <td>-0.113806</td>\n",
              "    </tr>\n",
              "    <tr>\n",
              "      <th>papasan chair frame only</th>\n",
              "      <td>-0.123290</td>\n",
              "    </tr>\n",
              "    <tr>\n",
              "      <th>bed side table</th>\n",
              "      <td>-0.333333</td>\n",
              "    </tr>\n",
              "  </tbody>\n",
              "</table>\n",
              "</div><br><label><b>dtype:</b> float64</label>"
            ]
          },
          "metadata": {},
          "execution_count": 12
        }
      ]
    },
    {
      "cell_type": "code",
      "source": [
        "impacted_queries = deltas[deltas > 0.1].index.to_list() + deltas[deltas < -0.1].index.to_list()\n",
        "impacted_queries"
      ],
      "metadata": {
        "id": "zClwydQTST7w",
        "colab": {
          "base_uri": "https://localhost:8080/"
        },
        "outputId": "a87926b7-ae80-42b6-ab2b-1f7815c22d14"
      },
      "execution_count": null,
      "outputs": [
        {
          "output_type": "execute_result",
          "data": {
            "text/plain": [
              "['drum picture',\n",
              " 'bathroom freestanding cabinet',\n",
              " 'outdoor lounge chair',\n",
              " 'wood rack wide',\n",
              " 'outdoor light fixtures',\n",
              " 'bathroom vanity knobs',\n",
              " 'door jewelry organizer',\n",
              " 'beds that have leds',\n",
              " 'non slip shower floor tile',\n",
              " 'turquoise chair',\n",
              " 'modern outdoor furniture',\n",
              " 'podium with locking cabinet',\n",
              " 'closet storage with zipper',\n",
              " 'barstool patio sets',\n",
              " 'ayesha curry kitchen',\n",
              " 'led 60',\n",
              " 'wisdom stone river 3-3/4',\n",
              " 'liberty hardware francisco',\n",
              " 'french molding',\n",
              " 'glass doors for bath',\n",
              " 'accent leather chair',\n",
              " 'dark gray dresser',\n",
              " 'wainscoting ideas',\n",
              " 'floating bed',\n",
              " 'dining table vinyl cloth',\n",
              " 'entrance table',\n",
              " 'storage dresser',\n",
              " 'almost heaven sauna',\n",
              " 'toddler couch fold out',\n",
              " 'outdoor welcome rug',\n",
              " 'wooden chair outdoor',\n",
              " 'emma headboard',\n",
              " 'outdoor privacy wall',\n",
              " 'driftwood mirror',\n",
              " 'white abstract',\n",
              " 'bedroom accessories',\n",
              " 'bathroom lighting',\n",
              " 'light and navy blue decorative pillow',\n",
              " 'gnome fairy garden',\n",
              " 'medium size chandelier',\n",
              " 'above toilet cabinet',\n",
              " 'odum velvet',\n",
              " 'ruckus chair',\n",
              " 'modern farmhouse lighting semi flush mount',\n",
              " 'teal chair',\n",
              " 'bedroom wall decor floral, multicolored with some teal (prints)',\n",
              " 'big basket for dirty cloths',\n",
              " 'milk cow chair',\n",
              " 'small wardrobe grey',\n",
              " 'glow in the dark silent wall clock',\n",
              " 'medium clips',\n",
              " 'desk for kids tjat ate 10 year old',\n",
              " 'industrial pipe dining  table',\n",
              " 'itchington butterfly',\n",
              " 'midcentury tv unit',\n",
              " 'gas detector',\n",
              " 'fleur de lis living candle wall sconce bronze',\n",
              " 'zodiac pillow',\n",
              " 'papasan chair frame only',\n",
              " 'bed side table']"
            ]
          },
          "metadata": {},
          "execution_count": 13
        }
      ]
    },
    {
      "cell_type": "markdown",
      "metadata": {
        "id": "Ay27Xxf4mrUG"
      },
      "source": [
        "### Look at a query"
      ]
    },
    {
      "cell_type": "code",
      "execution_count": null,
      "metadata": {
        "id": "syEYAzRajypT",
        "colab": {
          "base_uri": "https://localhost:8080/"
        },
        "outputId": "ecb820df-dea2-4a2d-c75e-e84292d4f590"
      },
      "outputs": [
        {
          "output_type": "stream",
          "name": "stdout",
          "text": [
            "Decorative Pillows & Blankets\n"
          ]
        },
        {
          "output_type": "execute_result",
          "data": {
            "text/plain": [
              "QueryCategory(keywords='zodiac pillow', category='Décor & Pillows', sub_category='Decorative Pillows & Blankets')"
            ]
          },
          "metadata": {},
          "execution_count": 14
        }
      ],
      "source": [
        "QUERY = \"zodiac pillow\"\n",
        "categorized(QUERY)"
      ]
    },
    {
      "cell_type": "code",
      "execution_count": null,
      "metadata": {
        "id": "dSyLRsLkjgx1",
        "colab": {
          "base_uri": "https://localhost:8080/",
          "height": 363
        },
        "outputId": "0d846586-69a8-4821-f597-4c260ceb9cfa"
      },
      "outputs": [
        {
          "output_type": "execute_result",
          "data": {
            "text/plain": [
              "                                    product_name  \\\n",
              "1200                leo zodiac sign pillow cover   \n",
              "1201             gemini zodiac sign pillow cover   \n",
              "1202          capricorn zodiac sign throw pillow   \n",
              "1203             cancer zodiac sign pillow cover   \n",
              "1204        dulin aries zodiac sign throw pillow   \n",
              "1205          dulin leo zodiac sign throw pillow   \n",
              "1206      dulin scorpio zodiac sign throw pillow   \n",
              "1207       dulin cancer zodiac sign throw pillow   \n",
              "1208        dulin libra zodiac sign throw pillow   \n",
              "1209  dulin sagittarius zodiac sign throw pillow   \n",
              "\n",
              "                                     category hierarchy  grade  \n",
              "1200  Décor & Pillows / Decorative Pillows & Blanket...    1.0  \n",
              "1201  Décor & Pillows / Decorative Pillows & Blanket...    2.0  \n",
              "1202  Décor & Pillows / Decorative Pillows & Blanket...    2.0  \n",
              "1203  Décor & Pillows / Decorative Pillows & Blanket...    1.0  \n",
              "1204  Décor & Pillows / Decorative Pillows & Blanket...    2.0  \n",
              "1205  Décor & Pillows / Decorative Pillows & Blanket...    2.0  \n",
              "1206  Décor & Pillows / Decorative Pillows & Blanket...    2.0  \n",
              "1207  Décor & Pillows / Decorative Pillows & Blanket...    2.0  \n",
              "1208  Décor & Pillows / Decorative Pillows & Blanket...    2.0  \n",
              "1209  Décor & Pillows / Decorative Pillows & Blanket...    2.0  "
            ],
            "text/html": [
              "\n",
              "  <div id=\"df-2af0b964-ca9e-4bea-846e-665932ee7146\" class=\"colab-df-container\">\n",
              "    <div>\n",
              "<style scoped>\n",
              "    .dataframe tbody tr th:only-of-type {\n",
              "        vertical-align: middle;\n",
              "    }\n",
              "\n",
              "    .dataframe tbody tr th {\n",
              "        vertical-align: top;\n",
              "    }\n",
              "\n",
              "    .dataframe thead th {\n",
              "        text-align: right;\n",
              "    }\n",
              "</style>\n",
              "<table border=\"1\" class=\"dataframe\">\n",
              "  <thead>\n",
              "    <tr style=\"text-align: right;\">\n",
              "      <th></th>\n",
              "      <th>product_name</th>\n",
              "      <th>category hierarchy</th>\n",
              "      <th>grade</th>\n",
              "    </tr>\n",
              "  </thead>\n",
              "  <tbody>\n",
              "    <tr>\n",
              "      <th>1200</th>\n",
              "      <td>leo zodiac sign pillow cover</td>\n",
              "      <td>Décor &amp; Pillows / Decorative Pillows &amp; Blanket...</td>\n",
              "      <td>1.0</td>\n",
              "    </tr>\n",
              "    <tr>\n",
              "      <th>1201</th>\n",
              "      <td>gemini zodiac sign pillow cover</td>\n",
              "      <td>Décor &amp; Pillows / Decorative Pillows &amp; Blanket...</td>\n",
              "      <td>2.0</td>\n",
              "    </tr>\n",
              "    <tr>\n",
              "      <th>1202</th>\n",
              "      <td>capricorn zodiac sign throw pillow</td>\n",
              "      <td>Décor &amp; Pillows / Decorative Pillows &amp; Blanket...</td>\n",
              "      <td>2.0</td>\n",
              "    </tr>\n",
              "    <tr>\n",
              "      <th>1203</th>\n",
              "      <td>cancer zodiac sign pillow cover</td>\n",
              "      <td>Décor &amp; Pillows / Decorative Pillows &amp; Blanket...</td>\n",
              "      <td>1.0</td>\n",
              "    </tr>\n",
              "    <tr>\n",
              "      <th>1204</th>\n",
              "      <td>dulin aries zodiac sign throw pillow</td>\n",
              "      <td>Décor &amp; Pillows / Decorative Pillows &amp; Blanket...</td>\n",
              "      <td>2.0</td>\n",
              "    </tr>\n",
              "    <tr>\n",
              "      <th>1205</th>\n",
              "      <td>dulin leo zodiac sign throw pillow</td>\n",
              "      <td>Décor &amp; Pillows / Decorative Pillows &amp; Blanket...</td>\n",
              "      <td>2.0</td>\n",
              "    </tr>\n",
              "    <tr>\n",
              "      <th>1206</th>\n",
              "      <td>dulin scorpio zodiac sign throw pillow</td>\n",
              "      <td>Décor &amp; Pillows / Decorative Pillows &amp; Blanket...</td>\n",
              "      <td>2.0</td>\n",
              "    </tr>\n",
              "    <tr>\n",
              "      <th>1207</th>\n",
              "      <td>dulin cancer zodiac sign throw pillow</td>\n",
              "      <td>Décor &amp; Pillows / Decorative Pillows &amp; Blanket...</td>\n",
              "      <td>2.0</td>\n",
              "    </tr>\n",
              "    <tr>\n",
              "      <th>1208</th>\n",
              "      <td>dulin libra zodiac sign throw pillow</td>\n",
              "      <td>Décor &amp; Pillows / Decorative Pillows &amp; Blanket...</td>\n",
              "      <td>2.0</td>\n",
              "    </tr>\n",
              "    <tr>\n",
              "      <th>1209</th>\n",
              "      <td>dulin sagittarius zodiac sign throw pillow</td>\n",
              "      <td>Décor &amp; Pillows / Decorative Pillows &amp; Blanket...</td>\n",
              "      <td>2.0</td>\n",
              "    </tr>\n",
              "  </tbody>\n",
              "</table>\n",
              "</div>\n",
              "    <div class=\"colab-df-buttons\">\n",
              "\n",
              "  <div class=\"colab-df-container\">\n",
              "    <button class=\"colab-df-convert\" onclick=\"convertToInteractive('df-2af0b964-ca9e-4bea-846e-665932ee7146')\"\n",
              "            title=\"Convert this dataframe to an interactive table.\"\n",
              "            style=\"display:none;\">\n",
              "\n",
              "  <svg xmlns=\"http://www.w3.org/2000/svg\" height=\"24px\" viewBox=\"0 -960 960 960\">\n",
              "    <path d=\"M120-120v-720h720v720H120Zm60-500h600v-160H180v160Zm220 220h160v-160H400v160Zm0 220h160v-160H400v160ZM180-400h160v-160H180v160Zm440 0h160v-160H620v160ZM180-180h160v-160H180v160Zm440 0h160v-160H620v160Z\"/>\n",
              "  </svg>\n",
              "    </button>\n",
              "\n",
              "  <style>\n",
              "    .colab-df-container {\n",
              "      display:flex;\n",
              "      gap: 12px;\n",
              "    }\n",
              "\n",
              "    .colab-df-convert {\n",
              "      background-color: #E8F0FE;\n",
              "      border: none;\n",
              "      border-radius: 50%;\n",
              "      cursor: pointer;\n",
              "      display: none;\n",
              "      fill: #1967D2;\n",
              "      height: 32px;\n",
              "      padding: 0 0 0 0;\n",
              "      width: 32px;\n",
              "    }\n",
              "\n",
              "    .colab-df-convert:hover {\n",
              "      background-color: #E2EBFA;\n",
              "      box-shadow: 0px 1px 2px rgba(60, 64, 67, 0.3), 0px 1px 3px 1px rgba(60, 64, 67, 0.15);\n",
              "      fill: #174EA6;\n",
              "    }\n",
              "\n",
              "    .colab-df-buttons div {\n",
              "      margin-bottom: 4px;\n",
              "    }\n",
              "\n",
              "    [theme=dark] .colab-df-convert {\n",
              "      background-color: #3B4455;\n",
              "      fill: #D2E3FC;\n",
              "    }\n",
              "\n",
              "    [theme=dark] .colab-df-convert:hover {\n",
              "      background-color: #434B5C;\n",
              "      box-shadow: 0px 1px 3px 1px rgba(0, 0, 0, 0.15);\n",
              "      filter: drop-shadow(0px 1px 2px rgba(0, 0, 0, 0.3));\n",
              "      fill: #FFFFFF;\n",
              "    }\n",
              "  </style>\n",
              "\n",
              "    <script>\n",
              "      const buttonEl =\n",
              "        document.querySelector('#df-2af0b964-ca9e-4bea-846e-665932ee7146 button.colab-df-convert');\n",
              "      buttonEl.style.display =\n",
              "        google.colab.kernel.accessAllowed ? 'block' : 'none';\n",
              "\n",
              "      async function convertToInteractive(key) {\n",
              "        const element = document.querySelector('#df-2af0b964-ca9e-4bea-846e-665932ee7146');\n",
              "        const dataTable =\n",
              "          await google.colab.kernel.invokeFunction('convertToInteractive',\n",
              "                                                    [key], {});\n",
              "        if (!dataTable) return;\n",
              "\n",
              "        const docLinkHtml = 'Like what you see? Visit the ' +\n",
              "          '<a target=\"_blank\" href=https://colab.research.google.com/notebooks/data_table.ipynb>data table notebook</a>'\n",
              "          + ' to learn more about interactive tables.';\n",
              "        element.innerHTML = '';\n",
              "        dataTable['output_type'] = 'display_data';\n",
              "        await google.colab.output.renderOutput(dataTable, element);\n",
              "        const docLink = document.createElement('div');\n",
              "        docLink.innerHTML = docLinkHtml;\n",
              "        element.appendChild(docLink);\n",
              "      }\n",
              "    </script>\n",
              "  </div>\n",
              "\n",
              "\n",
              "    <div id=\"df-721fbddd-680e-4f8e-917e-2514ca8ec1b0\">\n",
              "      <button class=\"colab-df-quickchart\" onclick=\"quickchart('df-721fbddd-680e-4f8e-917e-2514ca8ec1b0')\"\n",
              "                title=\"Suggest charts\"\n",
              "                style=\"display:none;\">\n",
              "\n",
              "<svg xmlns=\"http://www.w3.org/2000/svg\" height=\"24px\"viewBox=\"0 0 24 24\"\n",
              "     width=\"24px\">\n",
              "    <g>\n",
              "        <path d=\"M19 3H5c-1.1 0-2 .9-2 2v14c0 1.1.9 2 2 2h14c1.1 0 2-.9 2-2V5c0-1.1-.9-2-2-2zM9 17H7v-7h2v7zm4 0h-2V7h2v10zm4 0h-2v-4h2v4z\"/>\n",
              "    </g>\n",
              "</svg>\n",
              "      </button>\n",
              "\n",
              "<style>\n",
              "  .colab-df-quickchart {\n",
              "      --bg-color: #E8F0FE;\n",
              "      --fill-color: #1967D2;\n",
              "      --hover-bg-color: #E2EBFA;\n",
              "      --hover-fill-color: #174EA6;\n",
              "      --disabled-fill-color: #AAA;\n",
              "      --disabled-bg-color: #DDD;\n",
              "  }\n",
              "\n",
              "  [theme=dark] .colab-df-quickchart {\n",
              "      --bg-color: #3B4455;\n",
              "      --fill-color: #D2E3FC;\n",
              "      --hover-bg-color: #434B5C;\n",
              "      --hover-fill-color: #FFFFFF;\n",
              "      --disabled-bg-color: #3B4455;\n",
              "      --disabled-fill-color: #666;\n",
              "  }\n",
              "\n",
              "  .colab-df-quickchart {\n",
              "    background-color: var(--bg-color);\n",
              "    border: none;\n",
              "    border-radius: 50%;\n",
              "    cursor: pointer;\n",
              "    display: none;\n",
              "    fill: var(--fill-color);\n",
              "    height: 32px;\n",
              "    padding: 0;\n",
              "    width: 32px;\n",
              "  }\n",
              "\n",
              "  .colab-df-quickchart:hover {\n",
              "    background-color: var(--hover-bg-color);\n",
              "    box-shadow: 0 1px 2px rgba(60, 64, 67, 0.3), 0 1px 3px 1px rgba(60, 64, 67, 0.15);\n",
              "    fill: var(--button-hover-fill-color);\n",
              "  }\n",
              "\n",
              "  .colab-df-quickchart-complete:disabled,\n",
              "  .colab-df-quickchart-complete:disabled:hover {\n",
              "    background-color: var(--disabled-bg-color);\n",
              "    fill: var(--disabled-fill-color);\n",
              "    box-shadow: none;\n",
              "  }\n",
              "\n",
              "  .colab-df-spinner {\n",
              "    border: 2px solid var(--fill-color);\n",
              "    border-color: transparent;\n",
              "    border-bottom-color: var(--fill-color);\n",
              "    animation:\n",
              "      spin 1s steps(1) infinite;\n",
              "  }\n",
              "\n",
              "  @keyframes spin {\n",
              "    0% {\n",
              "      border-color: transparent;\n",
              "      border-bottom-color: var(--fill-color);\n",
              "      border-left-color: var(--fill-color);\n",
              "    }\n",
              "    20% {\n",
              "      border-color: transparent;\n",
              "      border-left-color: var(--fill-color);\n",
              "      border-top-color: var(--fill-color);\n",
              "    }\n",
              "    30% {\n",
              "      border-color: transparent;\n",
              "      border-left-color: var(--fill-color);\n",
              "      border-top-color: var(--fill-color);\n",
              "      border-right-color: var(--fill-color);\n",
              "    }\n",
              "    40% {\n",
              "      border-color: transparent;\n",
              "      border-right-color: var(--fill-color);\n",
              "      border-top-color: var(--fill-color);\n",
              "    }\n",
              "    60% {\n",
              "      border-color: transparent;\n",
              "      border-right-color: var(--fill-color);\n",
              "    }\n",
              "    80% {\n",
              "      border-color: transparent;\n",
              "      border-right-color: var(--fill-color);\n",
              "      border-bottom-color: var(--fill-color);\n",
              "    }\n",
              "    90% {\n",
              "      border-color: transparent;\n",
              "      border-bottom-color: var(--fill-color);\n",
              "    }\n",
              "  }\n",
              "</style>\n",
              "\n",
              "      <script>\n",
              "        async function quickchart(key) {\n",
              "          const quickchartButtonEl =\n",
              "            document.querySelector('#' + key + ' button');\n",
              "          quickchartButtonEl.disabled = true;  // To prevent multiple clicks.\n",
              "          quickchartButtonEl.classList.add('colab-df-spinner');\n",
              "          try {\n",
              "            const charts = await google.colab.kernel.invokeFunction(\n",
              "                'suggestCharts', [key], {});\n",
              "          } catch (error) {\n",
              "            console.error('Error during call to suggestCharts:', error);\n",
              "          }\n",
              "          quickchartButtonEl.classList.remove('colab-df-spinner');\n",
              "          quickchartButtonEl.classList.add('colab-df-quickchart-complete');\n",
              "        }\n",
              "        (() => {\n",
              "          let quickchartButtonEl =\n",
              "            document.querySelector('#df-721fbddd-680e-4f8e-917e-2514ca8ec1b0 button');\n",
              "          quickchartButtonEl.style.display =\n",
              "            google.colab.kernel.accessAllowed ? 'block' : 'none';\n",
              "        })();\n",
              "      </script>\n",
              "    </div>\n",
              "\n",
              "    </div>\n",
              "  </div>\n"
            ],
            "application/vnd.google.colaboratory.intrinsic+json": {
              "type": "dataframe",
              "summary": "{\n  \"name\": \"graded_categorized[graded_categorized['query'] == QUERY][['product_name', 'category hierarchy', 'grade']]\",\n  \"rows\": 10,\n  \"fields\": [\n    {\n      \"column\": \"product_name\",\n      \"properties\": {\n        \"dtype\": \"string\",\n        \"num_unique_values\": 10,\n        \"samples\": [\n          \"dulin libra zodiac sign throw pillow\",\n          \"gemini zodiac sign pillow cover\",\n          \"dulin leo zodiac sign throw pillow\"\n        ],\n        \"semantic_type\": \"\",\n        \"description\": \"\"\n      }\n    },\n    {\n      \"column\": \"category hierarchy\",\n      \"properties\": {\n        \"dtype\": \"category\",\n        \"num_unique_values\": 1,\n        \"samples\": [\n          \"D\\u00e9cor & Pillows / Decorative Pillows & Blankets / Throw Pillows\"\n        ],\n        \"semantic_type\": \"\",\n        \"description\": \"\"\n      }\n    },\n    {\n      \"column\": \"grade\",\n      \"properties\": {\n        \"dtype\": \"number\",\n        \"std\": 0.42163702135578396,\n        \"min\": 1.0,\n        \"max\": 2.0,\n        \"num_unique_values\": 2,\n        \"samples\": [\n          2.0\n        ],\n        \"semantic_type\": \"\",\n        \"description\": \"\"\n      }\n    }\n  ]\n}"
            }
          },
          "metadata": {},
          "execution_count": 15
        }
      ],
      "source": [
        "graded_categorized[graded_categorized['query'] == QUERY][['product_name', 'category hierarchy', 'grade']]"
      ]
    },
    {
      "cell_type": "code",
      "execution_count": null,
      "metadata": {
        "id": "R-6azIQyjrZe",
        "colab": {
          "base_uri": "https://localhost:8080/"
        },
        "outputId": "d076612d-2c8a-4e6a-be58-b6d7c28988da"
      },
      "outputs": [
        {
          "output_type": "execute_result",
          "data": {
            "text/plain": [
              "                               product_name  \\\n",
              "1200        gemini zodiac sign pillow cover   \n",
              "1201        cancer zodiac sign pillow cover   \n",
              "1202     capricorn zodiac sign throw pillow   \n",
              "1203           leo zodiac sign pillow cover   \n",
              "1204  dulin pisces zodiac sign throw pillow   \n",
              "1205  dulin cancer zodiac sign throw pillow   \n",
              "1206  dulin gemini zodiac sign throw pillow   \n",
              "1207   dulin aries zodiac sign throw pillow   \n",
              "1208   dulin libra zodiac sign throw pillow   \n",
              "1209     dulin leo zodiac sign throw pillow   \n",
              "\n",
              "                                     category hierarchy  grade  \n",
              "1200  Décor & Pillows / Decorative Pillows & Blanket...    2.0  \n",
              "1201  Décor & Pillows / Decorative Pillows & Blanket...    1.0  \n",
              "1202  Décor & Pillows / Decorative Pillows & Blanket...    2.0  \n",
              "1203  Décor & Pillows / Decorative Pillows & Blanket...    1.0  \n",
              "1204  Décor & Pillows / Decorative Pillows & Blanket...    2.0  \n",
              "1205  Décor & Pillows / Decorative Pillows & Blanket...    2.0  \n",
              "1206  Décor & Pillows / Decorative Pillows & Blanket...    2.0  \n",
              "1207  Décor & Pillows / Decorative Pillows & Blanket...    2.0  \n",
              "1208  Décor & Pillows / Decorative Pillows & Blanket...    2.0  \n",
              "1209  Décor & Pillows / Decorative Pillows & Blanket...    2.0  "
            ],
            "text/html": [
              "\n",
              "  <div id=\"df-ea13de0f-9f98-401c-98f5-deb1f263e40f\" class=\"colab-df-container\">\n",
              "    <div>\n",
              "<style scoped>\n",
              "    .dataframe tbody tr th:only-of-type {\n",
              "        vertical-align: middle;\n",
              "    }\n",
              "\n",
              "    .dataframe tbody tr th {\n",
              "        vertical-align: top;\n",
              "    }\n",
              "\n",
              "    .dataframe thead th {\n",
              "        text-align: right;\n",
              "    }\n",
              "</style>\n",
              "<table border=\"1\" class=\"dataframe\">\n",
              "  <thead>\n",
              "    <tr style=\"text-align: right;\">\n",
              "      <th></th>\n",
              "      <th>product_name</th>\n",
              "      <th>category hierarchy</th>\n",
              "      <th>grade</th>\n",
              "    </tr>\n",
              "  </thead>\n",
              "  <tbody>\n",
              "    <tr>\n",
              "      <th>1200</th>\n",
              "      <td>gemini zodiac sign pillow cover</td>\n",
              "      <td>Décor &amp; Pillows / Decorative Pillows &amp; Blanket...</td>\n",
              "      <td>2.0</td>\n",
              "    </tr>\n",
              "    <tr>\n",
              "      <th>1201</th>\n",
              "      <td>cancer zodiac sign pillow cover</td>\n",
              "      <td>Décor &amp; Pillows / Decorative Pillows &amp; Blanket...</td>\n",
              "      <td>1.0</td>\n",
              "    </tr>\n",
              "    <tr>\n",
              "      <th>1202</th>\n",
              "      <td>capricorn zodiac sign throw pillow</td>\n",
              "      <td>Décor &amp; Pillows / Decorative Pillows &amp; Blanket...</td>\n",
              "      <td>2.0</td>\n",
              "    </tr>\n",
              "    <tr>\n",
              "      <th>1203</th>\n",
              "      <td>leo zodiac sign pillow cover</td>\n",
              "      <td>Décor &amp; Pillows / Decorative Pillows &amp; Blanket...</td>\n",
              "      <td>1.0</td>\n",
              "    </tr>\n",
              "    <tr>\n",
              "      <th>1204</th>\n",
              "      <td>dulin pisces zodiac sign throw pillow</td>\n",
              "      <td>Décor &amp; Pillows / Decorative Pillows &amp; Blanket...</td>\n",
              "      <td>2.0</td>\n",
              "    </tr>\n",
              "    <tr>\n",
              "      <th>1205</th>\n",
              "      <td>dulin cancer zodiac sign throw pillow</td>\n",
              "      <td>Décor &amp; Pillows / Decorative Pillows &amp; Blanket...</td>\n",
              "      <td>2.0</td>\n",
              "    </tr>\n",
              "    <tr>\n",
              "      <th>1206</th>\n",
              "      <td>dulin gemini zodiac sign throw pillow</td>\n",
              "      <td>Décor &amp; Pillows / Decorative Pillows &amp; Blanket...</td>\n",
              "      <td>2.0</td>\n",
              "    </tr>\n",
              "    <tr>\n",
              "      <th>1207</th>\n",
              "      <td>dulin aries zodiac sign throw pillow</td>\n",
              "      <td>Décor &amp; Pillows / Decorative Pillows &amp; Blanket...</td>\n",
              "      <td>2.0</td>\n",
              "    </tr>\n",
              "    <tr>\n",
              "      <th>1208</th>\n",
              "      <td>dulin libra zodiac sign throw pillow</td>\n",
              "      <td>Décor &amp; Pillows / Decorative Pillows &amp; Blanket...</td>\n",
              "      <td>2.0</td>\n",
              "    </tr>\n",
              "    <tr>\n",
              "      <th>1209</th>\n",
              "      <td>dulin leo zodiac sign throw pillow</td>\n",
              "      <td>Décor &amp; Pillows / Decorative Pillows &amp; Blanket...</td>\n",
              "      <td>2.0</td>\n",
              "    </tr>\n",
              "  </tbody>\n",
              "</table>\n",
              "</div>\n",
              "    <div class=\"colab-df-buttons\">\n",
              "\n",
              "  <div class=\"colab-df-container\">\n",
              "    <button class=\"colab-df-convert\" onclick=\"convertToInteractive('df-ea13de0f-9f98-401c-98f5-deb1f263e40f')\"\n",
              "            title=\"Convert this dataframe to an interactive table.\"\n",
              "            style=\"display:none;\">\n",
              "\n",
              "  <svg xmlns=\"http://www.w3.org/2000/svg\" height=\"24px\" viewBox=\"0 -960 960 960\">\n",
              "    <path d=\"M120-120v-720h720v720H120Zm60-500h600v-160H180v160Zm220 220h160v-160H400v160Zm0 220h160v-160H400v160ZM180-400h160v-160H180v160Zm440 0h160v-160H620v160ZM180-180h160v-160H180v160Zm440 0h160v-160H620v160Z\"/>\n",
              "  </svg>\n",
              "    </button>\n",
              "\n",
              "  <style>\n",
              "    .colab-df-container {\n",
              "      display:flex;\n",
              "      gap: 12px;\n",
              "    }\n",
              "\n",
              "    .colab-df-convert {\n",
              "      background-color: #E8F0FE;\n",
              "      border: none;\n",
              "      border-radius: 50%;\n",
              "      cursor: pointer;\n",
              "      display: none;\n",
              "      fill: #1967D2;\n",
              "      height: 32px;\n",
              "      padding: 0 0 0 0;\n",
              "      width: 32px;\n",
              "    }\n",
              "\n",
              "    .colab-df-convert:hover {\n",
              "      background-color: #E2EBFA;\n",
              "      box-shadow: 0px 1px 2px rgba(60, 64, 67, 0.3), 0px 1px 3px 1px rgba(60, 64, 67, 0.15);\n",
              "      fill: #174EA6;\n",
              "    }\n",
              "\n",
              "    .colab-df-buttons div {\n",
              "      margin-bottom: 4px;\n",
              "    }\n",
              "\n",
              "    [theme=dark] .colab-df-convert {\n",
              "      background-color: #3B4455;\n",
              "      fill: #D2E3FC;\n",
              "    }\n",
              "\n",
              "    [theme=dark] .colab-df-convert:hover {\n",
              "      background-color: #434B5C;\n",
              "      box-shadow: 0px 1px 3px 1px rgba(0, 0, 0, 0.15);\n",
              "      filter: drop-shadow(0px 1px 2px rgba(0, 0, 0, 0.3));\n",
              "      fill: #FFFFFF;\n",
              "    }\n",
              "  </style>\n",
              "\n",
              "    <script>\n",
              "      const buttonEl =\n",
              "        document.querySelector('#df-ea13de0f-9f98-401c-98f5-deb1f263e40f button.colab-df-convert');\n",
              "      buttonEl.style.display =\n",
              "        google.colab.kernel.accessAllowed ? 'block' : 'none';\n",
              "\n",
              "      async function convertToInteractive(key) {\n",
              "        const element = document.querySelector('#df-ea13de0f-9f98-401c-98f5-deb1f263e40f');\n",
              "        const dataTable =\n",
              "          await google.colab.kernel.invokeFunction('convertToInteractive',\n",
              "                                                    [key], {});\n",
              "        if (!dataTable) return;\n",
              "\n",
              "        const docLinkHtml = 'Like what you see? Visit the ' +\n",
              "          '<a target=\"_blank\" href=https://colab.research.google.com/notebooks/data_table.ipynb>data table notebook</a>'\n",
              "          + ' to learn more about interactive tables.';\n",
              "        element.innerHTML = '';\n",
              "        dataTable['output_type'] = 'display_data';\n",
              "        await google.colab.output.renderOutput(dataTable, element);\n",
              "        const docLink = document.createElement('div');\n",
              "        docLink.innerHTML = docLinkHtml;\n",
              "        element.appendChild(docLink);\n",
              "      }\n",
              "    </script>\n",
              "  </div>\n",
              "\n",
              "\n",
              "    <div id=\"df-959e08fa-82be-452d-9735-a496bc87e899\">\n",
              "      <button class=\"colab-df-quickchart\" onclick=\"quickchart('df-959e08fa-82be-452d-9735-a496bc87e899')\"\n",
              "                title=\"Suggest charts\"\n",
              "                style=\"display:none;\">\n",
              "\n",
              "<svg xmlns=\"http://www.w3.org/2000/svg\" height=\"24px\"viewBox=\"0 0 24 24\"\n",
              "     width=\"24px\">\n",
              "    <g>\n",
              "        <path d=\"M19 3H5c-1.1 0-2 .9-2 2v14c0 1.1.9 2 2 2h14c1.1 0 2-.9 2-2V5c0-1.1-.9-2-2-2zM9 17H7v-7h2v7zm4 0h-2V7h2v10zm4 0h-2v-4h2v4z\"/>\n",
              "    </g>\n",
              "</svg>\n",
              "      </button>\n",
              "\n",
              "<style>\n",
              "  .colab-df-quickchart {\n",
              "      --bg-color: #E8F0FE;\n",
              "      --fill-color: #1967D2;\n",
              "      --hover-bg-color: #E2EBFA;\n",
              "      --hover-fill-color: #174EA6;\n",
              "      --disabled-fill-color: #AAA;\n",
              "      --disabled-bg-color: #DDD;\n",
              "  }\n",
              "\n",
              "  [theme=dark] .colab-df-quickchart {\n",
              "      --bg-color: #3B4455;\n",
              "      --fill-color: #D2E3FC;\n",
              "      --hover-bg-color: #434B5C;\n",
              "      --hover-fill-color: #FFFFFF;\n",
              "      --disabled-bg-color: #3B4455;\n",
              "      --disabled-fill-color: #666;\n",
              "  }\n",
              "\n",
              "  .colab-df-quickchart {\n",
              "    background-color: var(--bg-color);\n",
              "    border: none;\n",
              "    border-radius: 50%;\n",
              "    cursor: pointer;\n",
              "    display: none;\n",
              "    fill: var(--fill-color);\n",
              "    height: 32px;\n",
              "    padding: 0;\n",
              "    width: 32px;\n",
              "  }\n",
              "\n",
              "  .colab-df-quickchart:hover {\n",
              "    background-color: var(--hover-bg-color);\n",
              "    box-shadow: 0 1px 2px rgba(60, 64, 67, 0.3), 0 1px 3px 1px rgba(60, 64, 67, 0.15);\n",
              "    fill: var(--button-hover-fill-color);\n",
              "  }\n",
              "\n",
              "  .colab-df-quickchart-complete:disabled,\n",
              "  .colab-df-quickchart-complete:disabled:hover {\n",
              "    background-color: var(--disabled-bg-color);\n",
              "    fill: var(--disabled-fill-color);\n",
              "    box-shadow: none;\n",
              "  }\n",
              "\n",
              "  .colab-df-spinner {\n",
              "    border: 2px solid var(--fill-color);\n",
              "    border-color: transparent;\n",
              "    border-bottom-color: var(--fill-color);\n",
              "    animation:\n",
              "      spin 1s steps(1) infinite;\n",
              "  }\n",
              "\n",
              "  @keyframes spin {\n",
              "    0% {\n",
              "      border-color: transparent;\n",
              "      border-bottom-color: var(--fill-color);\n",
              "      border-left-color: var(--fill-color);\n",
              "    }\n",
              "    20% {\n",
              "      border-color: transparent;\n",
              "      border-left-color: var(--fill-color);\n",
              "      border-top-color: var(--fill-color);\n",
              "    }\n",
              "    30% {\n",
              "      border-color: transparent;\n",
              "      border-left-color: var(--fill-color);\n",
              "      border-top-color: var(--fill-color);\n",
              "      border-right-color: var(--fill-color);\n",
              "    }\n",
              "    40% {\n",
              "      border-color: transparent;\n",
              "      border-right-color: var(--fill-color);\n",
              "      border-top-color: var(--fill-color);\n",
              "    }\n",
              "    60% {\n",
              "      border-color: transparent;\n",
              "      border-right-color: var(--fill-color);\n",
              "    }\n",
              "    80% {\n",
              "      border-color: transparent;\n",
              "      border-right-color: var(--fill-color);\n",
              "      border-bottom-color: var(--fill-color);\n",
              "    }\n",
              "    90% {\n",
              "      border-color: transparent;\n",
              "      border-bottom-color: var(--fill-color);\n",
              "    }\n",
              "  }\n",
              "</style>\n",
              "\n",
              "      <script>\n",
              "        async function quickchart(key) {\n",
              "          const quickchartButtonEl =\n",
              "            document.querySelector('#' + key + ' button');\n",
              "          quickchartButtonEl.disabled = true;  // To prevent multiple clicks.\n",
              "          quickchartButtonEl.classList.add('colab-df-spinner');\n",
              "          try {\n",
              "            const charts = await google.colab.kernel.invokeFunction(\n",
              "                'suggestCharts', [key], {});\n",
              "          } catch (error) {\n",
              "            console.error('Error during call to suggestCharts:', error);\n",
              "          }\n",
              "          quickchartButtonEl.classList.remove('colab-df-spinner');\n",
              "          quickchartButtonEl.classList.add('colab-df-quickchart-complete');\n",
              "        }\n",
              "        (() => {\n",
              "          let quickchartButtonEl =\n",
              "            document.querySelector('#df-959e08fa-82be-452d-9735-a496bc87e899 button');\n",
              "          quickchartButtonEl.style.display =\n",
              "            google.colab.kernel.accessAllowed ? 'block' : 'none';\n",
              "        })();\n",
              "      </script>\n",
              "    </div>\n",
              "\n",
              "    </div>\n",
              "  </div>\n"
            ],
            "application/vnd.google.colaboratory.intrinsic+json": {
              "type": "dataframe",
              "summary": "{\n  \"name\": \"graded_bm25[graded_bm25['query'] == QUERY][['product_name', 'category hierarchy', 'grade']]\",\n  \"rows\": 10,\n  \"fields\": [\n    {\n      \"column\": \"product_name\",\n      \"properties\": {\n        \"dtype\": \"string\",\n        \"num_unique_values\": 10,\n        \"samples\": [\n          \"dulin libra zodiac sign throw pillow\",\n          \"cancer zodiac sign pillow cover\",\n          \"dulin cancer zodiac sign throw pillow\"\n        ],\n        \"semantic_type\": \"\",\n        \"description\": \"\"\n      }\n    },\n    {\n      \"column\": \"category hierarchy\",\n      \"properties\": {\n        \"dtype\": \"category\",\n        \"num_unique_values\": 1,\n        \"samples\": [\n          \"D\\u00e9cor & Pillows / Decorative Pillows & Blankets / Throw Pillows\"\n        ],\n        \"semantic_type\": \"\",\n        \"description\": \"\"\n      }\n    },\n    {\n      \"column\": \"grade\",\n      \"properties\": {\n        \"dtype\": \"number\",\n        \"std\": 0.42163702135578396,\n        \"min\": 1.0,\n        \"max\": 2.0,\n        \"num_unique_values\": 2,\n        \"samples\": [\n          1.0\n        ],\n        \"semantic_type\": \"\",\n        \"description\": \"\"\n      }\n    }\n  ]\n}"
            }
          },
          "metadata": {},
          "execution_count": 16
        }
      ],
      "source": [
        "graded_bm25[graded_bm25['query'] == QUERY][['product_name', 'category hierarchy', 'grade']]"
      ]
    },
    {
      "cell_type": "markdown",
      "metadata": {
        "id": "5qgZQTqvmtBb"
      },
      "source": [
        "## Discussion points / questions\n",
        "\n",
        "* Why do we still have a few negative 'deltas'?\n",
        "* Is this truly the \"upper bound\" of having a category / subcategory in our ranking function?"
      ]
    }
  ],
  "metadata": {
    "colab": {
      "provenance": []
    },
    "kernelspec": {
      "display_name": "Python 3",
      "name": "python3"
    },
    "language_info": {
      "name": "python"
    }
  },
  "nbformat": 4,
  "nbformat_minor": 0
}