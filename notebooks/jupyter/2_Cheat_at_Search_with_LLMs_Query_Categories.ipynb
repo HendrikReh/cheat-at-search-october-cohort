{
  "cells": [
    {
      "cell_type": "markdown",
      "metadata": {
        "id": "VVSVNVA3JhhL"
      },
      "source": [
        "# Query -> Category\n",
        "\n",
        "<small>\n",
        "(from <a href=\"http://maven.com/softwaredoug/cheat-at-search\">Cheat at Search with LLMs</a> training course by Doug Turnbull.)\n",
        "</small>\n",
        "\n",
        "We learned that we want to try to model aspects of the user's _information need_ not just make queries better.\n",
        "\n",
        "One such common dimension is query -> category classification.\n",
        "\n",
        "The Wayfair dataset has an existing classification scheme. We'll use that. It has entries such as:\n",
        "\n",
        "```\n",
        "Furniture / Living Room Furniture / Chairs & Seating / Accent Chairs,\n",
        "Rugs / Area Rugs,\n",
        "...\n",
        "```\n",
        "\n",
        "The top level we'll call \"category\" the second level we'll call \"subcategory\"\n",
        "\n",
        "\n",
        "In this notebook, we'll use OpenAI to classify our queries into a category and subcategory per query."
      ]
    },
    {
      "cell_type": "markdown",
      "metadata": {
        "id": "Kx2BXoqTMmIX"
      },
      "source": [
        "## Boilerplate\n",
        "\n",
        "Install deps, mount GDrive, prompt for your OpenAI Key (placed in your GDrive), and import needed cheat at search helpers.\n",
        "\n",
        "We cover this extensively in the [synonyms notebook](https://colab.research.google.com/drive/1aUCvcBa1YdmsbIgYc74jlknl9_iRotp1) walkthrough"
      ]
    },
    {
      "cell_type": "code",
      "execution_count": null,
      "metadata": {
        "colab": {
          "base_uri": "https://localhost:8080/",
          "height": 1000
        },
        "id": "hWofdB7RMi4z",
        "outputId": "a53e5761-bcb0-43ec-e235-294e3fa51c90"
      },
      "outputs": [
        {
          "output_type": "stream",
          "name": "stdout",
          "text": [
            "Collecting git+https://github.com/softwaredoug/cheat-at-search.git\n",
            "  Cloning https://github.com/softwaredoug/cheat-at-search.git to /tmp/pip-req-build-_a699r87\n",
            "  Running command git clone --filter=blob:none --quiet https://github.com/softwaredoug/cheat-at-search.git /tmp/pip-req-build-_a699r87\n",
            "  Resolved https://github.com/softwaredoug/cheat-at-search.git to commit 8b45aa193bb58c42c89e1aed1c6279be0be54afa\n",
            "  Installing build dependencies ... \u001b[?25l\u001b[?25hdone\n",
            "  Getting requirements to build wheel ... \u001b[?25l\u001b[?25hdone\n",
            "  Preparing metadata (pyproject.toml) ... \u001b[?25l\u001b[?25hdone\n",
            "Requirement already satisfied: google-genai<2.0.0,>=1.2.0 in /usr/local/lib/python3.12/dist-packages (from cheat_at_search==0.1.0) (1.41.0)\n",
            "Requirement already satisfied: openai<2.0.0,>=1.84.0 in /usr/local/lib/python3.12/dist-packages (from cheat_at_search==0.1.0) (1.109.1)\n",
            "Requirement already satisfied: pandas<3.0.0,>=2.2.0 in /usr/local/lib/python3.12/dist-packages (from cheat_at_search==0.1.0) (2.2.2)\n",
            "Requirement already satisfied: pyarrow<22.0.0,>=14.0.0 in /usr/local/lib/python3.12/dist-packages (from cheat_at_search==0.1.0) (18.1.0)\n",
            "Requirement already satisfied: pydantic<3.0.0,>=2.11.0 in /usr/local/lib/python3.12/dist-packages (from cheat_at_search==0.1.0) (2.11.10)\n",
            "Collecting pystemmer<4.0.0,>=3.0.0 (from cheat_at_search==0.1.0)\n",
            "  Using cached PyStemmer-3.0.0-cp312-cp312-manylinux_2_5_x86_64.manylinux1_x86_64.manylinux_2_17_x86_64.manylinux2014_x86_64.whl.metadata (3.8 kB)\n",
            "Requirement already satisfied: pyyaml<7.0.0,>=6.0.3 in /usr/local/lib/python3.12/dist-packages (from cheat_at_search==0.1.0) (6.0.3)\n",
            "Collecting searcharray<0.0.74,>=0.0.73 (from cheat_at_search==0.1.0)\n",
            "  Downloading searcharray-0.0.73-cp312-cp312-manylinux_2_17_x86_64.manylinux2014_x86_64.whl.metadata (13 kB)\n",
            "Requirement already satisfied: anyio<5.0.0,>=4.8.0 in /usr/local/lib/python3.12/dist-packages (from google-genai<2.0.0,>=1.2.0->cheat_at_search==0.1.0) (4.11.0)\n",
            "Requirement already satisfied: google-auth<3.0.0,>=2.14.1 in /usr/local/lib/python3.12/dist-packages (from google-genai<2.0.0,>=1.2.0->cheat_at_search==0.1.0) (2.38.0)\n",
            "Requirement already satisfied: httpx<1.0.0,>=0.28.1 in /usr/local/lib/python3.12/dist-packages (from google-genai<2.0.0,>=1.2.0->cheat_at_search==0.1.0) (0.28.1)\n",
            "Requirement already satisfied: requests<3.0.0,>=2.28.1 in /usr/local/lib/python3.12/dist-packages (from google-genai<2.0.0,>=1.2.0->cheat_at_search==0.1.0) (2.32.4)\n",
            "Requirement already satisfied: tenacity<9.2.0,>=8.2.3 in /usr/local/lib/python3.12/dist-packages (from google-genai<2.0.0,>=1.2.0->cheat_at_search==0.1.0) (8.5.0)\n",
            "Requirement already satisfied: websockets<15.1.0,>=13.0.0 in /usr/local/lib/python3.12/dist-packages (from google-genai<2.0.0,>=1.2.0->cheat_at_search==0.1.0) (15.0.1)\n",
            "Requirement already satisfied: typing-extensions<5.0.0,>=4.11.0 in /usr/local/lib/python3.12/dist-packages (from google-genai<2.0.0,>=1.2.0->cheat_at_search==0.1.0) (4.15.0)\n",
            "Requirement already satisfied: distro<2,>=1.7.0 in /usr/local/lib/python3.12/dist-packages (from openai<2.0.0,>=1.84.0->cheat_at_search==0.1.0) (1.9.0)\n",
            "Requirement already satisfied: jiter<1,>=0.4.0 in /usr/local/lib/python3.12/dist-packages (from openai<2.0.0,>=1.84.0->cheat_at_search==0.1.0) (0.11.0)\n",
            "Requirement already satisfied: sniffio in /usr/local/lib/python3.12/dist-packages (from openai<2.0.0,>=1.84.0->cheat_at_search==0.1.0) (1.3.1)\n",
            "Requirement already satisfied: tqdm>4 in /usr/local/lib/python3.12/dist-packages (from openai<2.0.0,>=1.84.0->cheat_at_search==0.1.0) (4.67.1)\n",
            "Requirement already satisfied: numpy>=1.26.0 in /usr/local/lib/python3.12/dist-packages (from pandas<3.0.0,>=2.2.0->cheat_at_search==0.1.0) (2.0.2)\n",
            "Requirement already satisfied: python-dateutil>=2.8.2 in /usr/local/lib/python3.12/dist-packages (from pandas<3.0.0,>=2.2.0->cheat_at_search==0.1.0) (2.9.0.post0)\n",
            "Requirement already satisfied: pytz>=2020.1 in /usr/local/lib/python3.12/dist-packages (from pandas<3.0.0,>=2.2.0->cheat_at_search==0.1.0) (2025.2)\n",
            "Requirement already satisfied: tzdata>=2022.7 in /usr/local/lib/python3.12/dist-packages (from pandas<3.0.0,>=2.2.0->cheat_at_search==0.1.0) (2025.2)\n",
            "Requirement already satisfied: annotated-types>=0.6.0 in /usr/local/lib/python3.12/dist-packages (from pydantic<3.0.0,>=2.11.0->cheat_at_search==0.1.0) (0.7.0)\n",
            "Requirement already satisfied: pydantic-core==2.33.2 in /usr/local/lib/python3.12/dist-packages (from pydantic<3.0.0,>=2.11.0->cheat_at_search==0.1.0) (2.33.2)\n",
            "Requirement already satisfied: typing-inspection>=0.4.0 in /usr/local/lib/python3.12/dist-packages (from pydantic<3.0.0,>=2.11.0->cheat_at_search==0.1.0) (0.4.2)\n",
            "Requirement already satisfied: Cython in /usr/local/lib/python3.12/dist-packages (from searcharray<0.0.74,>=0.0.73->cheat_at_search==0.1.0) (3.0.12)\n",
            "Requirement already satisfied: idna>=2.8 in /usr/local/lib/python3.12/dist-packages (from anyio<5.0.0,>=4.8.0->google-genai<2.0.0,>=1.2.0->cheat_at_search==0.1.0) (3.10)\n",
            "Requirement already satisfied: cachetools<6.0,>=2.0.0 in /usr/local/lib/python3.12/dist-packages (from google-auth<3.0.0,>=2.14.1->google-genai<2.0.0,>=1.2.0->cheat_at_search==0.1.0) (5.5.2)\n",
            "Requirement already satisfied: pyasn1-modules>=0.2.1 in /usr/local/lib/python3.12/dist-packages (from google-auth<3.0.0,>=2.14.1->google-genai<2.0.0,>=1.2.0->cheat_at_search==0.1.0) (0.4.2)\n",
            "Requirement already satisfied: rsa<5,>=3.1.4 in /usr/local/lib/python3.12/dist-packages (from google-auth<3.0.0,>=2.14.1->google-genai<2.0.0,>=1.2.0->cheat_at_search==0.1.0) (4.9.1)\n",
            "Requirement already satisfied: certifi in /usr/local/lib/python3.12/dist-packages (from httpx<1.0.0,>=0.28.1->google-genai<2.0.0,>=1.2.0->cheat_at_search==0.1.0) (2025.10.5)\n",
            "Requirement already satisfied: httpcore==1.* in /usr/local/lib/python3.12/dist-packages (from httpx<1.0.0,>=0.28.1->google-genai<2.0.0,>=1.2.0->cheat_at_search==0.1.0) (1.0.9)\n",
            "Requirement already satisfied: h11>=0.16 in /usr/local/lib/python3.12/dist-packages (from httpcore==1.*->httpx<1.0.0,>=0.28.1->google-genai<2.0.0,>=1.2.0->cheat_at_search==0.1.0) (0.16.0)\n",
            "Requirement already satisfied: six>=1.5 in /usr/local/lib/python3.12/dist-packages (from python-dateutil>=2.8.2->pandas<3.0.0,>=2.2.0->cheat_at_search==0.1.0) (1.17.0)\n",
            "Requirement already satisfied: charset_normalizer<4,>=2 in /usr/local/lib/python3.12/dist-packages (from requests<3.0.0,>=2.28.1->google-genai<2.0.0,>=1.2.0->cheat_at_search==0.1.0) (3.4.3)\n",
            "Requirement already satisfied: urllib3<3,>=1.21.1 in /usr/local/lib/python3.12/dist-packages (from requests<3.0.0,>=2.28.1->google-genai<2.0.0,>=1.2.0->cheat_at_search==0.1.0) (2.5.0)\n",
            "Requirement already satisfied: pyasn1<0.7.0,>=0.6.1 in /usr/local/lib/python3.12/dist-packages (from pyasn1-modules>=0.2.1->google-auth<3.0.0,>=2.14.1->google-genai<2.0.0,>=1.2.0->cheat_at_search==0.1.0) (0.6.1)\n",
            "Downloading PyStemmer-3.0.0-cp312-cp312-manylinux_2_5_x86_64.manylinux1_x86_64.manylinux_2_17_x86_64.manylinux2014_x86_64.whl (745 kB)\n",
            "\u001b[2K   \u001b[90m━━━━━━━━━━━━━━━━━━━━━━━━━━━━━━━━━━━━━━━━\u001b[0m \u001b[32m745.3/745.3 kB\u001b[0m \u001b[31m11.3 MB/s\u001b[0m eta \u001b[36m0:00:00\u001b[0m\n",
            "\u001b[?25hDownloading searcharray-0.0.73-cp312-cp312-manylinux_2_17_x86_64.manylinux2014_x86_64.whl (3.7 MB)\n",
            "\u001b[2K   \u001b[90m━━━━━━━━━━━━━━━━━━━━━━━━━━━━━━━━━━━━━━━━\u001b[0m \u001b[32m3.7/3.7 MB\u001b[0m \u001b[31m15.0 MB/s\u001b[0m eta \u001b[36m0:00:00\u001b[0m\n",
            "\u001b[?25hBuilding wheels for collected packages: cheat_at_search\n",
            "  Building wheel for cheat_at_search (pyproject.toml) ... \u001b[?25l\u001b[?25hdone\n",
            "  Created wheel for cheat_at_search: filename=cheat_at_search-0.1.0-py3-none-any.whl size=40949 sha256=4c60e230a1247526ce295f2a6fa9e50d16c71f6f858fafffb866ac5eed2b3e85\n",
            "  Stored in directory: /tmp/pip-ephem-wheel-cache-dz3z8dj5/wheels/ea/96/d3/e69453e5f86e6f891864e5b5baf2b11ffda2d0981d9f8a138e\n",
            "Successfully built cheat_at_search\n",
            "Installing collected packages: pystemmer, searcharray, cheat_at_search\n",
            "Successfully installed cheat_at_search-0.1.0 pystemmer-3.0.0 searcharray-0.0.73\n",
            "Mounted at /content/drive\n"
          ]
        },
        {
          "output_type": "execute_result",
          "data": {
            "text/plain": [
              "       product_id                                       product_name  \\\n",
              "0               0                            solid wood platform bed   \n",
              "1               1                        all-clad 7 qt . slow cooker   \n",
              "2               2            all-clad electrics 6.5 qt . slow cooker   \n",
              "3               3       all-clad all professional tools pizza cutter   \n",
              "4               4  baldwin prestige alcott passage knob with roun...   \n",
              "...           ...                                                ...   \n",
              "42989       42989  malibu pressure balanced diverter fixed shower...   \n",
              "42990       42990              emmeline 5 piece breakfast dining set   \n",
              "42991       42991                      maloney 3 piece pub table set   \n",
              "42992       42992           fletcher 27.5 '' wide polyester armchair   \n",
              "42993       42993                            griffin 29 '' bar stool   \n",
              "\n",
              "                             product_class  \\\n",
              "0                                     Beds   \n",
              "1                             Slow Cookers   \n",
              "2                             Slow Cookers   \n",
              "3             Slicers, Peelers And Graters   \n",
              "4                               Door Knobs   \n",
              "...                                    ...   \n",
              "42989                        Shower Panels   \n",
              "42990                    Dining Table Sets   \n",
              "42991                    Dining Table Sets   \n",
              "42992  Teen Lounge Furniture|Accent Chairs   \n",
              "42993                           Bar Stools   \n",
              "\n",
              "                                      category hierarchy  \\\n",
              "0      Furniture / Bedroom Furniture / Beds & Headboa...   \n",
              "1      Kitchen & Tabletop / Small Kitchen Appliances ...   \n",
              "2      Kitchen & Tabletop / Small Kitchen Appliances ...   \n",
              "3                             Browse By Brand / All-Clad   \n",
              "4      Home Improvement / Doors & Door Hardware / Doo...   \n",
              "...                                                  ...   \n",
              "42989  Home Improvement / Bathroom Remodel & Bathroom...   \n",
              "42990  Furniture / Kitchen & Dining Furniture / Dinin...   \n",
              "42991  Furniture / Kitchen & Dining Furniture / Dinin...   \n",
              "42992  Furniture / Living Room Furniture / Chairs & S...   \n",
              "42993  Furniture / Kitchen & Dining Furniture / Bar F...   \n",
              "\n",
              "                                     product_description  \\\n",
              "0      good , deep sleep can be quite difficult to ha...   \n",
              "1      create delicious slow-cooked meals , from tend...   \n",
              "2      prepare home-cooked meals on any schedule with...   \n",
              "3      this original stainless tool was designed to c...   \n",
              "4      the hardware has a rich heritage of delivering...   \n",
              "...                                                  ...   \n",
              "42989  the malibu pressure balanced diverter fixed sh...   \n",
              "42990                                                      \n",
              "42991  this pub table set includes 1 counter height t...   \n",
              "42992  bring iconic , modern style to your space in a...   \n",
              "42993  this set of two barstools features a minimalis...   \n",
              "\n",
              "                                        product_features  rating_count  \\\n",
              "0      overallwidth-sidetoside:64.7|dsprimaryproducts...          15.0   \n",
              "1      capacityquarts:7|producttype : slow cooker|pro...         100.0   \n",
              "2      features : keep warm setting|capacityquarts:6....         208.0   \n",
              "3      overallwidth-sidetoside:3.5|warrantylength : l...          69.0   \n",
              "4      compatibledoorthickness:1.375 '' |countryofori...          70.0   \n",
              "...                                                  ...           ...   \n",
              "42989  producttype : shower panel|spraypattern : rain...           3.0   \n",
              "42990  basematerialdetails : steel| : gray wood|ofhar...        1314.0   \n",
              "42991  additionaltoolsrequirednotincluded : power dri...          49.0   \n",
              "42992  legmaterialdetails : rubberwood|backheight-sea...        1746.0   \n",
              "42993  distancebetweenfloorandfootrest:7.5|dssecondar...          20.0   \n",
              "\n",
              "       average_rating  review_count  \\\n",
              "0                 4.5          15.0   \n",
              "1                 2.0          98.0   \n",
              "2                 3.0         181.0   \n",
              "3                 4.5          42.0   \n",
              "4                 5.0          42.0   \n",
              "...               ...           ...   \n",
              "42989             4.5           2.0   \n",
              "42990             4.5         864.0   \n",
              "42991             4.0          41.0   \n",
              "42992             4.5        1226.0   \n",
              "42993             4.5          20.0   \n",
              "\n",
              "                                                features             category  \\\n",
              "0      [overallwidth-sidetoside:64.7, dsprimaryproduc...           Furniture    \n",
              "1      [capacityquarts:7, producttype : slow cooker, ...  Kitchen & Tabletop    \n",
              "2      [features : keep warm setting, capacityquarts:...  Kitchen & Tabletop    \n",
              "3      [overallwidth-sidetoside:3.5, warrantylength :...     Browse By Brand    \n",
              "4      [compatibledoorthickness:1.375 '' , countryofo...    Home Improvement    \n",
              "...                                                  ...                  ...   \n",
              "42989  [producttype : shower panel, spraypattern : ra...    Home Improvement    \n",
              "42990  [basematerialdetails : steel,  : gray wood, of...           Furniture    \n",
              "42991  [additionaltoolsrequirednotincluded : power dr...           Furniture    \n",
              "42992  [legmaterialdetails : rubberwood, backheight-s...           Furniture    \n",
              "42993  [distancebetweenfloorandfootrest:7.5, dssecond...           Furniture    \n",
              "\n",
              "                                 sub_category  \\\n",
              "0                          Bedroom Furniture    \n",
              "1                   Small Kitchen Appliances    \n",
              "2                   Small Kitchen Appliances    \n",
              "3                                    All-Clad   \n",
              "4                      Doors & Door Hardware    \n",
              "...                                       ...   \n",
              "42989   Bathroom Remodel & Bathroom Fixtures    \n",
              "42990             Kitchen & Dining Furniture    \n",
              "42991             Kitchen & Dining Furniture    \n",
              "42992                  Living Room Furniture    \n",
              "42993             Kitchen & Dining Furniture    \n",
              "\n",
              "                                              cat_subcat  \n",
              "0                       Furniture  /  Bedroom Furniture   \n",
              "1       Kitchen & Tabletop  /  Small Kitchen Appliances   \n",
              "2       Kitchen & Tabletop  /  Small Kitchen Appliances   \n",
              "3                           Browse By Brand  /  All-Clad  \n",
              "4            Home Improvement  /  Doors & Door Hardware   \n",
              "...                                                  ...  \n",
              "42989  Home Improvement  /  Bathroom Remodel & Bathro...  \n",
              "42990          Furniture  /  Kitchen & Dining Furniture   \n",
              "42991          Furniture  /  Kitchen & Dining Furniture   \n",
              "42992               Furniture  /  Living Room Furniture   \n",
              "42993          Furniture  /  Kitchen & Dining Furniture   \n",
              "\n",
              "[42994 rows x 13 columns]"
            ],
            "text/html": [
              "\n",
              "  <div id=\"df-1b09740b-0f5c-4368-8d11-3bb36b0e33a0\" class=\"colab-df-container\">\n",
              "    <div>\n",
              "<style scoped>\n",
              "    .dataframe tbody tr th:only-of-type {\n",
              "        vertical-align: middle;\n",
              "    }\n",
              "\n",
              "    .dataframe tbody tr th {\n",
              "        vertical-align: top;\n",
              "    }\n",
              "\n",
              "    .dataframe thead th {\n",
              "        text-align: right;\n",
              "    }\n",
              "</style>\n",
              "<table border=\"1\" class=\"dataframe\">\n",
              "  <thead>\n",
              "    <tr style=\"text-align: right;\">\n",
              "      <th></th>\n",
              "      <th>product_id</th>\n",
              "      <th>product_name</th>\n",
              "      <th>product_class</th>\n",
              "      <th>category hierarchy</th>\n",
              "      <th>product_description</th>\n",
              "      <th>product_features</th>\n",
              "      <th>rating_count</th>\n",
              "      <th>average_rating</th>\n",
              "      <th>review_count</th>\n",
              "      <th>features</th>\n",
              "      <th>category</th>\n",
              "      <th>sub_category</th>\n",
              "      <th>cat_subcat</th>\n",
              "    </tr>\n",
              "  </thead>\n",
              "  <tbody>\n",
              "    <tr>\n",
              "      <th>0</th>\n",
              "      <td>0</td>\n",
              "      <td>solid wood platform bed</td>\n",
              "      <td>Beds</td>\n",
              "      <td>Furniture / Bedroom Furniture / Beds &amp; Headboa...</td>\n",
              "      <td>good , deep sleep can be quite difficult to ha...</td>\n",
              "      <td>overallwidth-sidetoside:64.7|dsprimaryproducts...</td>\n",
              "      <td>15.0</td>\n",
              "      <td>4.5</td>\n",
              "      <td>15.0</td>\n",
              "      <td>[overallwidth-sidetoside:64.7, dsprimaryproduc...</td>\n",
              "      <td>Furniture</td>\n",
              "      <td>Bedroom Furniture</td>\n",
              "      <td>Furniture  /  Bedroom Furniture</td>\n",
              "    </tr>\n",
              "    <tr>\n",
              "      <th>1</th>\n",
              "      <td>1</td>\n",
              "      <td>all-clad 7 qt . slow cooker</td>\n",
              "      <td>Slow Cookers</td>\n",
              "      <td>Kitchen &amp; Tabletop / Small Kitchen Appliances ...</td>\n",
              "      <td>create delicious slow-cooked meals , from tend...</td>\n",
              "      <td>capacityquarts:7|producttype : slow cooker|pro...</td>\n",
              "      <td>100.0</td>\n",
              "      <td>2.0</td>\n",
              "      <td>98.0</td>\n",
              "      <td>[capacityquarts:7, producttype : slow cooker, ...</td>\n",
              "      <td>Kitchen &amp; Tabletop</td>\n",
              "      <td>Small Kitchen Appliances</td>\n",
              "      <td>Kitchen &amp; Tabletop  /  Small Kitchen Appliances</td>\n",
              "    </tr>\n",
              "    <tr>\n",
              "      <th>2</th>\n",
              "      <td>2</td>\n",
              "      <td>all-clad electrics 6.5 qt . slow cooker</td>\n",
              "      <td>Slow Cookers</td>\n",
              "      <td>Kitchen &amp; Tabletop / Small Kitchen Appliances ...</td>\n",
              "      <td>prepare home-cooked meals on any schedule with...</td>\n",
              "      <td>features : keep warm setting|capacityquarts:6....</td>\n",
              "      <td>208.0</td>\n",
              "      <td>3.0</td>\n",
              "      <td>181.0</td>\n",
              "      <td>[features : keep warm setting, capacityquarts:...</td>\n",
              "      <td>Kitchen &amp; Tabletop</td>\n",
              "      <td>Small Kitchen Appliances</td>\n",
              "      <td>Kitchen &amp; Tabletop  /  Small Kitchen Appliances</td>\n",
              "    </tr>\n",
              "    <tr>\n",
              "      <th>3</th>\n",
              "      <td>3</td>\n",
              "      <td>all-clad all professional tools pizza cutter</td>\n",
              "      <td>Slicers, Peelers And Graters</td>\n",
              "      <td>Browse By Brand / All-Clad</td>\n",
              "      <td>this original stainless tool was designed to c...</td>\n",
              "      <td>overallwidth-sidetoside:3.5|warrantylength : l...</td>\n",
              "      <td>69.0</td>\n",
              "      <td>4.5</td>\n",
              "      <td>42.0</td>\n",
              "      <td>[overallwidth-sidetoside:3.5, warrantylength :...</td>\n",
              "      <td>Browse By Brand</td>\n",
              "      <td>All-Clad</td>\n",
              "      <td>Browse By Brand  /  All-Clad</td>\n",
              "    </tr>\n",
              "    <tr>\n",
              "      <th>4</th>\n",
              "      <td>4</td>\n",
              "      <td>baldwin prestige alcott passage knob with roun...</td>\n",
              "      <td>Door Knobs</td>\n",
              "      <td>Home Improvement / Doors &amp; Door Hardware / Doo...</td>\n",
              "      <td>the hardware has a rich heritage of delivering...</td>\n",
              "      <td>compatibledoorthickness:1.375 '' |countryofori...</td>\n",
              "      <td>70.0</td>\n",
              "      <td>5.0</td>\n",
              "      <td>42.0</td>\n",
              "      <td>[compatibledoorthickness:1.375 '' , countryofo...</td>\n",
              "      <td>Home Improvement</td>\n",
              "      <td>Doors &amp; Door Hardware</td>\n",
              "      <td>Home Improvement  /  Doors &amp; Door Hardware</td>\n",
              "    </tr>\n",
              "    <tr>\n",
              "      <th>...</th>\n",
              "      <td>...</td>\n",
              "      <td>...</td>\n",
              "      <td>...</td>\n",
              "      <td>...</td>\n",
              "      <td>...</td>\n",
              "      <td>...</td>\n",
              "      <td>...</td>\n",
              "      <td>...</td>\n",
              "      <td>...</td>\n",
              "      <td>...</td>\n",
              "      <td>...</td>\n",
              "      <td>...</td>\n",
              "      <td>...</td>\n",
              "    </tr>\n",
              "    <tr>\n",
              "      <th>42989</th>\n",
              "      <td>42989</td>\n",
              "      <td>malibu pressure balanced diverter fixed shower...</td>\n",
              "      <td>Shower Panels</td>\n",
              "      <td>Home Improvement / Bathroom Remodel &amp; Bathroom...</td>\n",
              "      <td>the malibu pressure balanced diverter fixed sh...</td>\n",
              "      <td>producttype : shower panel|spraypattern : rain...</td>\n",
              "      <td>3.0</td>\n",
              "      <td>4.5</td>\n",
              "      <td>2.0</td>\n",
              "      <td>[producttype : shower panel, spraypattern : ra...</td>\n",
              "      <td>Home Improvement</td>\n",
              "      <td>Bathroom Remodel &amp; Bathroom Fixtures</td>\n",
              "      <td>Home Improvement  /  Bathroom Remodel &amp; Bathro...</td>\n",
              "    </tr>\n",
              "    <tr>\n",
              "      <th>42990</th>\n",
              "      <td>42990</td>\n",
              "      <td>emmeline 5 piece breakfast dining set</td>\n",
              "      <td>Dining Table Sets</td>\n",
              "      <td>Furniture / Kitchen &amp; Dining Furniture / Dinin...</td>\n",
              "      <td></td>\n",
              "      <td>basematerialdetails : steel| : gray wood|ofhar...</td>\n",
              "      <td>1314.0</td>\n",
              "      <td>4.5</td>\n",
              "      <td>864.0</td>\n",
              "      <td>[basematerialdetails : steel,  : gray wood, of...</td>\n",
              "      <td>Furniture</td>\n",
              "      <td>Kitchen &amp; Dining Furniture</td>\n",
              "      <td>Furniture  /  Kitchen &amp; Dining Furniture</td>\n",
              "    </tr>\n",
              "    <tr>\n",
              "      <th>42991</th>\n",
              "      <td>42991</td>\n",
              "      <td>maloney 3 piece pub table set</td>\n",
              "      <td>Dining Table Sets</td>\n",
              "      <td>Furniture / Kitchen &amp; Dining Furniture / Dinin...</td>\n",
              "      <td>this pub table set includes 1 counter height t...</td>\n",
              "      <td>additionaltoolsrequirednotincluded : power dri...</td>\n",
              "      <td>49.0</td>\n",
              "      <td>4.0</td>\n",
              "      <td>41.0</td>\n",
              "      <td>[additionaltoolsrequirednotincluded : power dr...</td>\n",
              "      <td>Furniture</td>\n",
              "      <td>Kitchen &amp; Dining Furniture</td>\n",
              "      <td>Furniture  /  Kitchen &amp; Dining Furniture</td>\n",
              "    </tr>\n",
              "    <tr>\n",
              "      <th>42992</th>\n",
              "      <td>42992</td>\n",
              "      <td>fletcher 27.5 '' wide polyester armchair</td>\n",
              "      <td>Teen Lounge Furniture|Accent Chairs</td>\n",
              "      <td>Furniture / Living Room Furniture / Chairs &amp; S...</td>\n",
              "      <td>bring iconic , modern style to your space in a...</td>\n",
              "      <td>legmaterialdetails : rubberwood|backheight-sea...</td>\n",
              "      <td>1746.0</td>\n",
              "      <td>4.5</td>\n",
              "      <td>1226.0</td>\n",
              "      <td>[legmaterialdetails : rubberwood, backheight-s...</td>\n",
              "      <td>Furniture</td>\n",
              "      <td>Living Room Furniture</td>\n",
              "      <td>Furniture  /  Living Room Furniture</td>\n",
              "    </tr>\n",
              "    <tr>\n",
              "      <th>42993</th>\n",
              "      <td>42993</td>\n",
              "      <td>griffin 29 '' bar stool</td>\n",
              "      <td>Bar Stools</td>\n",
              "      <td>Furniture / Kitchen &amp; Dining Furniture / Bar F...</td>\n",
              "      <td>this set of two barstools features a minimalis...</td>\n",
              "      <td>distancebetweenfloorandfootrest:7.5|dssecondar...</td>\n",
              "      <td>20.0</td>\n",
              "      <td>4.5</td>\n",
              "      <td>20.0</td>\n",
              "      <td>[distancebetweenfloorandfootrest:7.5, dssecond...</td>\n",
              "      <td>Furniture</td>\n",
              "      <td>Kitchen &amp; Dining Furniture</td>\n",
              "      <td>Furniture  /  Kitchen &amp; Dining Furniture</td>\n",
              "    </tr>\n",
              "  </tbody>\n",
              "</table>\n",
              "<p>42994 rows × 13 columns</p>\n",
              "</div>\n",
              "    <div class=\"colab-df-buttons\">\n",
              "\n",
              "  <div class=\"colab-df-container\">\n",
              "    <button class=\"colab-df-convert\" onclick=\"convertToInteractive('df-1b09740b-0f5c-4368-8d11-3bb36b0e33a0')\"\n",
              "            title=\"Convert this dataframe to an interactive table.\"\n",
              "            style=\"display:none;\">\n",
              "\n",
              "  <svg xmlns=\"http://www.w3.org/2000/svg\" height=\"24px\" viewBox=\"0 -960 960 960\">\n",
              "    <path d=\"M120-120v-720h720v720H120Zm60-500h600v-160H180v160Zm220 220h160v-160H400v160Zm0 220h160v-160H400v160ZM180-400h160v-160H180v160Zm440 0h160v-160H620v160ZM180-180h160v-160H180v160Zm440 0h160v-160H620v160Z\"/>\n",
              "  </svg>\n",
              "    </button>\n",
              "\n",
              "  <style>\n",
              "    .colab-df-container {\n",
              "      display:flex;\n",
              "      gap: 12px;\n",
              "    }\n",
              "\n",
              "    .colab-df-convert {\n",
              "      background-color: #E8F0FE;\n",
              "      border: none;\n",
              "      border-radius: 50%;\n",
              "      cursor: pointer;\n",
              "      display: none;\n",
              "      fill: #1967D2;\n",
              "      height: 32px;\n",
              "      padding: 0 0 0 0;\n",
              "      width: 32px;\n",
              "    }\n",
              "\n",
              "    .colab-df-convert:hover {\n",
              "      background-color: #E2EBFA;\n",
              "      box-shadow: 0px 1px 2px rgba(60, 64, 67, 0.3), 0px 1px 3px 1px rgba(60, 64, 67, 0.15);\n",
              "      fill: #174EA6;\n",
              "    }\n",
              "\n",
              "    .colab-df-buttons div {\n",
              "      margin-bottom: 4px;\n",
              "    }\n",
              "\n",
              "    [theme=dark] .colab-df-convert {\n",
              "      background-color: #3B4455;\n",
              "      fill: #D2E3FC;\n",
              "    }\n",
              "\n",
              "    [theme=dark] .colab-df-convert:hover {\n",
              "      background-color: #434B5C;\n",
              "      box-shadow: 0px 1px 3px 1px rgba(0, 0, 0, 0.15);\n",
              "      filter: drop-shadow(0px 1px 2px rgba(0, 0, 0, 0.3));\n",
              "      fill: #FFFFFF;\n",
              "    }\n",
              "  </style>\n",
              "\n",
              "    <script>\n",
              "      const buttonEl =\n",
              "        document.querySelector('#df-1b09740b-0f5c-4368-8d11-3bb36b0e33a0 button.colab-df-convert');\n",
              "      buttonEl.style.display =\n",
              "        google.colab.kernel.accessAllowed ? 'block' : 'none';\n",
              "\n",
              "      async function convertToInteractive(key) {\n",
              "        const element = document.querySelector('#df-1b09740b-0f5c-4368-8d11-3bb36b0e33a0');\n",
              "        const dataTable =\n",
              "          await google.colab.kernel.invokeFunction('convertToInteractive',\n",
              "                                                    [key], {});\n",
              "        if (!dataTable) return;\n",
              "\n",
              "        const docLinkHtml = 'Like what you see? Visit the ' +\n",
              "          '<a target=\"_blank\" href=https://colab.research.google.com/notebooks/data_table.ipynb>data table notebook</a>'\n",
              "          + ' to learn more about interactive tables.';\n",
              "        element.innerHTML = '';\n",
              "        dataTable['output_type'] = 'display_data';\n",
              "        await google.colab.output.renderOutput(dataTable, element);\n",
              "        const docLink = document.createElement('div');\n",
              "        docLink.innerHTML = docLinkHtml;\n",
              "        element.appendChild(docLink);\n",
              "      }\n",
              "    </script>\n",
              "  </div>\n",
              "\n",
              "\n",
              "    <div id=\"df-d79695cb-3a2d-499d-ad4c-e62491ab50b4\">\n",
              "      <button class=\"colab-df-quickchart\" onclick=\"quickchart('df-d79695cb-3a2d-499d-ad4c-e62491ab50b4')\"\n",
              "                title=\"Suggest charts\"\n",
              "                style=\"display:none;\">\n",
              "\n",
              "<svg xmlns=\"http://www.w3.org/2000/svg\" height=\"24px\"viewBox=\"0 0 24 24\"\n",
              "     width=\"24px\">\n",
              "    <g>\n",
              "        <path d=\"M19 3H5c-1.1 0-2 .9-2 2v14c0 1.1.9 2 2 2h14c1.1 0 2-.9 2-2V5c0-1.1-.9-2-2-2zM9 17H7v-7h2v7zm4 0h-2V7h2v10zm4 0h-2v-4h2v4z\"/>\n",
              "    </g>\n",
              "</svg>\n",
              "      </button>\n",
              "\n",
              "<style>\n",
              "  .colab-df-quickchart {\n",
              "      --bg-color: #E8F0FE;\n",
              "      --fill-color: #1967D2;\n",
              "      --hover-bg-color: #E2EBFA;\n",
              "      --hover-fill-color: #174EA6;\n",
              "      --disabled-fill-color: #AAA;\n",
              "      --disabled-bg-color: #DDD;\n",
              "  }\n",
              "\n",
              "  [theme=dark] .colab-df-quickchart {\n",
              "      --bg-color: #3B4455;\n",
              "      --fill-color: #D2E3FC;\n",
              "      --hover-bg-color: #434B5C;\n",
              "      --hover-fill-color: #FFFFFF;\n",
              "      --disabled-bg-color: #3B4455;\n",
              "      --disabled-fill-color: #666;\n",
              "  }\n",
              "\n",
              "  .colab-df-quickchart {\n",
              "    background-color: var(--bg-color);\n",
              "    border: none;\n",
              "    border-radius: 50%;\n",
              "    cursor: pointer;\n",
              "    display: none;\n",
              "    fill: var(--fill-color);\n",
              "    height: 32px;\n",
              "    padding: 0;\n",
              "    width: 32px;\n",
              "  }\n",
              "\n",
              "  .colab-df-quickchart:hover {\n",
              "    background-color: var(--hover-bg-color);\n",
              "    box-shadow: 0 1px 2px rgba(60, 64, 67, 0.3), 0 1px 3px 1px rgba(60, 64, 67, 0.15);\n",
              "    fill: var(--button-hover-fill-color);\n",
              "  }\n",
              "\n",
              "  .colab-df-quickchart-complete:disabled,\n",
              "  .colab-df-quickchart-complete:disabled:hover {\n",
              "    background-color: var(--disabled-bg-color);\n",
              "    fill: var(--disabled-fill-color);\n",
              "    box-shadow: none;\n",
              "  }\n",
              "\n",
              "  .colab-df-spinner {\n",
              "    border: 2px solid var(--fill-color);\n",
              "    border-color: transparent;\n",
              "    border-bottom-color: var(--fill-color);\n",
              "    animation:\n",
              "      spin 1s steps(1) infinite;\n",
              "  }\n",
              "\n",
              "  @keyframes spin {\n",
              "    0% {\n",
              "      border-color: transparent;\n",
              "      border-bottom-color: var(--fill-color);\n",
              "      border-left-color: var(--fill-color);\n",
              "    }\n",
              "    20% {\n",
              "      border-color: transparent;\n",
              "      border-left-color: var(--fill-color);\n",
              "      border-top-color: var(--fill-color);\n",
              "    }\n",
              "    30% {\n",
              "      border-color: transparent;\n",
              "      border-left-color: var(--fill-color);\n",
              "      border-top-color: var(--fill-color);\n",
              "      border-right-color: var(--fill-color);\n",
              "    }\n",
              "    40% {\n",
              "      border-color: transparent;\n",
              "      border-right-color: var(--fill-color);\n",
              "      border-top-color: var(--fill-color);\n",
              "    }\n",
              "    60% {\n",
              "      border-color: transparent;\n",
              "      border-right-color: var(--fill-color);\n",
              "    }\n",
              "    80% {\n",
              "      border-color: transparent;\n",
              "      border-right-color: var(--fill-color);\n",
              "      border-bottom-color: var(--fill-color);\n",
              "    }\n",
              "    90% {\n",
              "      border-color: transparent;\n",
              "      border-bottom-color: var(--fill-color);\n",
              "    }\n",
              "  }\n",
              "</style>\n",
              "\n",
              "      <script>\n",
              "        async function quickchart(key) {\n",
              "          const quickchartButtonEl =\n",
              "            document.querySelector('#' + key + ' button');\n",
              "          quickchartButtonEl.disabled = true;  // To prevent multiple clicks.\n",
              "          quickchartButtonEl.classList.add('colab-df-spinner');\n",
              "          try {\n",
              "            const charts = await google.colab.kernel.invokeFunction(\n",
              "                'suggestCharts', [key], {});\n",
              "          } catch (error) {\n",
              "            console.error('Error during call to suggestCharts:', error);\n",
              "          }\n",
              "          quickchartButtonEl.classList.remove('colab-df-spinner');\n",
              "          quickchartButtonEl.classList.add('colab-df-quickchart-complete');\n",
              "        }\n",
              "        (() => {\n",
              "          let quickchartButtonEl =\n",
              "            document.querySelector('#df-d79695cb-3a2d-499d-ad4c-e62491ab50b4 button');\n",
              "          quickchartButtonEl.style.display =\n",
              "            google.colab.kernel.accessAllowed ? 'block' : 'none';\n",
              "        })();\n",
              "      </script>\n",
              "    </div>\n",
              "\n",
              "  <div id=\"id_d6157421-d7cd-49a7-982c-5e2f004e6851\">\n",
              "    <style>\n",
              "      .colab-df-generate {\n",
              "        background-color: #E8F0FE;\n",
              "        border: none;\n",
              "        border-radius: 50%;\n",
              "        cursor: pointer;\n",
              "        display: none;\n",
              "        fill: #1967D2;\n",
              "        height: 32px;\n",
              "        padding: 0 0 0 0;\n",
              "        width: 32px;\n",
              "      }\n",
              "\n",
              "      .colab-df-generate:hover {\n",
              "        background-color: #E2EBFA;\n",
              "        box-shadow: 0px 1px 2px rgba(60, 64, 67, 0.3), 0px 1px 3px 1px rgba(60, 64, 67, 0.15);\n",
              "        fill: #174EA6;\n",
              "      }\n",
              "\n",
              "      [theme=dark] .colab-df-generate {\n",
              "        background-color: #3B4455;\n",
              "        fill: #D2E3FC;\n",
              "      }\n",
              "\n",
              "      [theme=dark] .colab-df-generate:hover {\n",
              "        background-color: #434B5C;\n",
              "        box-shadow: 0px 1px 3px 1px rgba(0, 0, 0, 0.15);\n",
              "        filter: drop-shadow(0px 1px 2px rgba(0, 0, 0, 0.3));\n",
              "        fill: #FFFFFF;\n",
              "      }\n",
              "    </style>\n",
              "    <button class=\"colab-df-generate\" onclick=\"generateWithVariable('products')\"\n",
              "            title=\"Generate code using this dataframe.\"\n",
              "            style=\"display:none;\">\n",
              "\n",
              "  <svg xmlns=\"http://www.w3.org/2000/svg\" height=\"24px\"viewBox=\"0 0 24 24\"\n",
              "       width=\"24px\">\n",
              "    <path d=\"M7,19H8.4L18.45,9,17,7.55,7,17.6ZM5,21V16.75L18.45,3.32a2,2,0,0,1,2.83,0l1.4,1.43a1.91,1.91,0,0,1,.58,1.4,1.91,1.91,0,0,1-.58,1.4L9.25,21ZM18.45,9,17,7.55Zm-12,3A5.31,5.31,0,0,0,4.9,8.1,5.31,5.31,0,0,0,1,6.5,5.31,5.31,0,0,0,4.9,4.9,5.31,5.31,0,0,0,6.5,1,5.31,5.31,0,0,0,8.1,4.9,5.31,5.31,0,0,0,12,6.5,5.46,5.46,0,0,0,6.5,12Z\"/>\n",
              "  </svg>\n",
              "    </button>\n",
              "    <script>\n",
              "      (() => {\n",
              "      const buttonEl =\n",
              "        document.querySelector('#id_d6157421-d7cd-49a7-982c-5e2f004e6851 button.colab-df-generate');\n",
              "      buttonEl.style.display =\n",
              "        google.colab.kernel.accessAllowed ? 'block' : 'none';\n",
              "\n",
              "      buttonEl.onclick = () => {\n",
              "        google.colab.notebook.generateWithVariable('products');\n",
              "      }\n",
              "      })();\n",
              "    </script>\n",
              "  </div>\n",
              "\n",
              "    </div>\n",
              "  </div>\n"
            ],
            "application/vnd.google.colaboratory.intrinsic+json": {
              "type": "dataframe",
              "variable_name": "products",
              "summary": "{\n  \"name\": \"products\",\n  \"rows\": 42994,\n  \"fields\": [\n    {\n      \"column\": \"product_id\",\n      \"properties\": {\n        \"dtype\": \"number\",\n        \"std\": 12411,\n        \"min\": 0,\n        \"max\": 42993,\n        \"num_unique_values\": 42994,\n        \"samples\": [\n          32193,\n          21379,\n          42275\n        ],\n        \"semantic_type\": \"\",\n        \"description\": \"\"\n      }\n    },\n    {\n      \"column\": \"product_name\",\n      \"properties\": {\n        \"dtype\": \"string\",\n        \"num_unique_values\": 42577,\n        \"samples\": [\n          \"standard single hole bathroom faucet\",\n          \"marshaw wardrobe\",\n          \"sanner 55 '' wide power standard recliner\"\n        ],\n        \"semantic_type\": \"\",\n        \"description\": \"\"\n      }\n    },\n    {\n      \"column\": \"product_class\",\n      \"properties\": {\n        \"dtype\": \"category\",\n        \"num_unique_values\": 860,\n        \"samples\": [\n          \"Hall Trees|Benches\",\n          \"Patio Dining Sets|Patio Tables\",\n          \"Kitchen Islands\"\n        ],\n        \"semantic_type\": \"\",\n        \"description\": \"\"\n      }\n    },\n    {\n      \"column\": \"category hierarchy\",\n      \"properties\": {\n        \"dtype\": \"category\",\n        \"num_unique_values\": 1623,\n        \"samples\": [\n          \"Outdoor / Outdoor & Patio Furniture / Patio Furniture Sets / Patio Dining Sets\",\n          \"Kitchen & Tabletop / Kitchen Utensils & Tools / Knives & Accessories / Knife Sets / Starter Knife Sets\",\n          \"Home Improvement / Flooring, Walls & Ceiling / Floor Tiles & Wall Tiles / Shell Floor Tiles & Wall Tiles\"\n        ],\n        \"semantic_type\": \"\",\n        \"description\": \"\"\n      }\n    },\n    {\n      \"column\": \"product_description\",\n      \"properties\": {\n        \"dtype\": \"string\",\n        \"num_unique_values\": 33837,\n        \"samples\": [\n          \"get a fun novelty street sign for your home and office and show off your sense of humor . looking for a fun , hilarious street sign to hang on your cubicle or in your `` man cave '' ? if so signmission has all the cute , funny , hilarious , and even work-related novelty signs you 're looking for ! something for everyone we 've got a wide range of american-made signs just like this sign that will tickle your funny bone , make others smile , or even show off your snarky attitude . made to last made from a special plastic designed to hold up to a beating , this sign can bend without breaking and will never chip or crack , the colorful lettering will last a lifetime indoors and up to 4 years in the sun for outdoor use .\",\n          \"the holland bar stool ncaa grill cover is a perfect blend of style and functionality . the vinyl made grill cover ensures excellent fabric quality and durability . the grill cover can be printed with your favorite ncaa team logo on a classic black background . the logo is printed with a detailed step by step screen print process . the grill cover will protect your grill from all the outdoor elements and highlights your support for the team at the same time . the ncaa grill cover by holland bar stool lends a sporty touch to your grill , while protecting it at the same time . the grill cover is manufactured in the united states .\",\n          \"compact yet spacious , this metal storage cabinet features sturdy construction with strong metal legs for stability and a smart , powder-coated finish to keep it looking great . the door is secured with a metal handle for easy opening , and gestures vents , making it suitable for a variety of situations and contexts . the interior is easily accessed through the wide opening door , and it features a shelf that divides the space into two separate compartments , ideal for keeping belongings or items apart where needed . all metal construction makes this a hard-wearing storage solution for any situation .\"\n        ],\n        \"semantic_type\": \"\",\n        \"description\": \"\"\n      }\n    },\n    {\n      \"column\": \"product_features\",\n      \"properties\": {\n        \"dtype\": \"string\",\n        \"num_unique_values\": 42979,\n        \"samples\": [\n          \"materialdetails : brass|levelofassembly : partial assembly|features : none|glassfeatures : tempered|shelfdepth-fronttoback:4.45|internalonly-roomuse : living|wallmountingtype : anchor + screw|material : glass|overalldepth-fronttoback:4.45|additionaltoolsrequirednotincluded : power drill|style : modern & contemporary|supplierintendedandapproveduse : non residential use|roomuse : bathroom|producttype : bracket shelf|shape : rectangle|finish : chrome plated|overallheight-toptobottom:1.65|overallproductweight:1.41|overallwidth-sidetoside:23.62|overallweightcapacity:30|warrantylength:2 years|countryoforigin : taiwan|countryoforigin-additionaldetails : made in taiwan|warrantylength : lifetime|shelfwidth-sidetoside:23.62|totalnumberofpiecesincluded:1|numberofshelves:1|numberofinstallationholes:2|uniformpackagingandlabelingregulationsuplrcompliant : no|compositewoodproductcwp : no| : no|canadaproductrestriction : no|adjustableshelves : no|avoidpowertools : no|commercialwarranty : yes|cpsc-16cfr1303compliant : yes|installationrequired : yes|productwarranty : yes|adultassemblyrequired : yes|sor2016-193-surfacecoatingmaterialsregulations : yes|assemblyhardwareincluded : yes|material : metal|fullorlimitedwarranty : limited|supplierintendedandapproveduse : residential use\",\n          \"sheetcolor : blue|theme : animal|cribsizeshape : standard crib|greenguardgoldcertified : |typeofsheetsincluded : fitted sheet|animal : safari / jungle|overallwidth-sidetoside:32|overallproductweight:2.3|piecesincluded:1 quilt , 1 skirt , and 1 fitted sheet|greenguardcertified : |dryingmethod : tumble dry|material : polyester|overallthickness-fronttoback:0.25|washingmethod : delicate cycle|totalnumberofpiecesincluded:3|overalllength-headtotoe:42|fillmaterial : polyester/polyfill|gender : gender neutral|washingmethod : machine wash|color : blue/yellow/beige|numberofsheetsincluded:1|numberofdustrufflescribskirtsincluded:1|numberofblanketsquiltsincluded:1|railguardcover : no|licensedproduct : no|changingpadcoverincluded : no| : no|pillowcaseincluded : no|additionalitem : no|reversible : no|mobileincluded : no|pillowsincluded : no|children \\u2019 sproductcertificatecpc : no|astmf1917-12compliant : no|toybagincluded : no|diaperstackerincluded : no|walldcor : no|mobile : no|pillow : no|walldcorincluded : no|railguardcoverincluded : no|oeko-texcertified : no|changingpadcover : no|pillowcase : no|bumperincluded : no|bumper : no|bib : no|organic : no|knitted : no|additionalitemsincluded : no|diaperstacker : no|bibincluded : no|toybag : no|windowtreatmentsincluded : no|windowtreatment : no| : yes|dustrufflecribskirtincluded : yes|blanketquiltincluded : yes|sheetsincluded : yes|cpsc-16cfr1303compliant : yes|sor2018-83-consumerproductscontainingleadregulations : yes|dustrufflecribskirt : yes|cpsc-16cfr1500.49compliant : yes|blanketquilt : yes|sheet : yes|embroidered : yes|countryoforigin : china\",\n          \"producttype : privacy screen|panellength-endtoend:45|supplierintendedandapproveduse : non residential use|overallheight-toptobottom:48|overalldepth-fronttoback:36|warrantydetails : warranty only covers residential use|overallproductweight:9|overallwidth-sidetoside:36|primarymaterial : vinyl|warrantylength:10 years|color : white|panelwidth-sidetoside:36|primarymaterialdetails : polyvinyl chloride|productcare : spray with garden hose or use cloth and mild cleanser|piecesincluded:2 privacy screens|heighttobottomoffence:2|stainable : no|gatehardwareincluded : no|commercialwarranty : no| : no|panelsincluded : no|fencepostanchorincluded : no|californiaproposition65warningrequired : no|post : no|compositewoodproductcwp : no|postrequired : no|uvresistant : yes|adultassemblyrequired : yes|installationrequired : yes|waterresistant : yes|productwarranty : yes|paintable : yes|weatherresistant : yes|doublesided : yes|countryoforigin : china|fullorlimitedwarranty : limited|supplierintendedandapproveduse : residential use\"\n        ],\n        \"semantic_type\": \"\",\n        \"description\": \"\"\n      }\n    },\n    {\n      \"column\": \"rating_count\",\n      \"properties\": {\n        \"dtype\": \"number\",\n        \"std\": 2407.921579153146,\n        \"min\": 1.0,\n        \"max\": 109226.0,\n        \"num_unique_values\": 2861,\n        \"samples\": [\n          801.0,\n          18183.0,\n          690.0\n        ],\n        \"semantic_type\": \"\",\n        \"description\": \"\"\n      }\n    },\n    {\n      \"column\": \"average_rating\",\n      \"properties\": {\n        \"dtype\": \"number\",\n        \"std\": 0.5092626796749238,\n        \"min\": 1.0,\n        \"max\": 5.0,\n        \"num_unique_values\": 9,\n        \"samples\": [\n          3.5,\n          2.0,\n          4.0\n        ],\n        \"semantic_type\": \"\",\n        \"description\": \"\"\n      }\n    },\n    {\n      \"column\": \"review_count\",\n      \"properties\": {\n        \"dtype\": \"number\",\n        \"std\": 1539.6117373952657,\n        \"min\": 0.0,\n        \"max\": 61362.0,\n        \"num_unique_values\": 2310,\n        \"samples\": [\n          1430.0,\n          1489.0,\n          1663.0\n        ],\n        \"semantic_type\": \"\",\n        \"description\": \"\"\n      }\n    },\n    {\n      \"column\": \"features\",\n      \"properties\": {\n        \"dtype\": \"object\",\n        \"semantic_type\": \"\",\n        \"description\": \"\"\n      }\n    },\n    {\n      \"column\": \"category\",\n      \"properties\": {\n        \"dtype\": \"category\",\n        \"num_unique_values\": 56,\n        \"samples\": [\n          \"Furniture \",\n          \"Outdoor \",\n          \"Ergonomic Accessories\"\n        ],\n        \"semantic_type\": \"\",\n        \"description\": \"\"\n      }\n    },\n    {\n      \"column\": \"sub_category\",\n      \"properties\": {\n        \"dtype\": \"category\",\n        \"num_unique_values\": 145,\n        \"samples\": [\n          \" Bathroom Accessories & Organization \",\n          \" Teen Bedding \",\n          \" Outdoor Lighting \"\n        ],\n        \"semantic_type\": \"\",\n        \"description\": \"\"\n      }\n    },\n    {\n      \"column\": \"cat_subcat\",\n      \"properties\": {\n        \"dtype\": \"category\",\n        \"num_unique_values\": 175,\n        \"samples\": [\n          \"Table Accessories / \",\n          \"Browse By Brand  /  Latitude Run\",\n          \"Bed Accessories / \"\n        ],\n        \"semantic_type\": \"\",\n        \"description\": \"\"\n      }\n    }\n  ]\n}"
            }
          },
          "metadata": {},
          "execution_count": 2
        }
      ],
      "source": [
        "!pip install git+https://github.com/softwaredoug/cheat-at-search.git\n",
        "from cheat_at_search.data_dir import mount\n",
        "mount(use_gdrive=True)\n",
        "from cheat_at_search.search import run_strategy, graded_bm25, ndcgs, ndcg_delta, vs_ideal\n",
        "from cheat_at_search.wands_data import products\n",
        "\n",
        "products"
      ]
    },
    {
      "cell_type": "markdown",
      "metadata": {
        "id": "vQfsjM-5bsF4"
      },
      "source": [
        "## Query -> Category classification baseline\n",
        "\n",
        "We'll setup a task of classifying query to category and subcategory. Here we have a first-pass baseline that might make sense."
      ]
    },
    {
      "cell_type": "markdown",
      "source": [
        "### Define allowed output\n",
        "\n"
      ],
      "metadata": {
        "id": "4TmNIf5guHOP"
      }
    },
    {
      "cell_type": "markdown",
      "source": [
        "You'll notice we constrain the allowed output of the LLM to the allowed categories. We do this in Pydantic with a `Literal` type."
      ],
      "metadata": {
        "id": "GTh9A5jFuLFt"
      }
    },
    {
      "cell_type": "code",
      "execution_count": null,
      "metadata": {
        "id": "h0-Y8MnKZnF1"
      },
      "outputs": [],
      "source": [
        "from pydantic import BaseModel, Field\n",
        "from typing import List, Literal\n",
        "from cheat_at_search.enrich import AutoEnricher\n",
        "\n",
        "\n",
        "Categories = Literal['Furniture',\n",
        "                     'Home Improvement',\n",
        "                     'Décor & Pillows',\n",
        "                     'Outdoor',\n",
        "                     'Storage & Organization',\n",
        "                     'Lighting',\n",
        "                     'Rugs',\n",
        "                     'Bed & Bath',\n",
        "                     'Kitchen & Tabletop',\n",
        "                     'Baby & Kids',\n",
        "                     'School Furniture and Supplies',\n",
        "                     'Appliances',\n",
        "                     'Holiday Décor',\n",
        "                     'Commercial Business Furniture',\n",
        "                     'Pet',\n",
        "                     'Contractor',\n",
        "                     'Sale',\n",
        "                     'Foodservice ',\n",
        "                     'Reception Area',\n",
        "                     'Clips']\n",
        "\n",
        "SubCategories = Literal['Bedroom Furniture',\n",
        " 'Small Kitchen Appliances',\n",
        " 'All-Clad',\n",
        " 'Doors & Door Hardware',\n",
        " 'Bathroom Remodel & Bathroom Fixtures',\n",
        " 'Home Accessories',\n",
        " 'Living Room Furniture',\n",
        " 'Outdoor Décor',\n",
        " 'Flooring, Walls & Ceiling',\n",
        " 'Garage & Outdoor Storage & Organization',\n",
        " 'Cookware & Bakeware',\n",
        " 'Bedding',\n",
        " 'Kitchen Utensils & Tools',\n",
        " 'Shower Curtains & Accessories',\n",
        " 'Wall Shelving & Organization',\n",
        " 'Clocks',\n",
        " 'Bedding Essentials',\n",
        " 'Kitchen & Dining Furniture',\n",
        " 'Office Furniture',\n",
        " 'Tableware & Drinkware',\n",
        " 'Nursery Bedding',\n",
        " 'Cat',\n",
        " 'Outdoor Shades',\n",
        " 'Outdoor & Patio Furniture',\n",
        " 'Ceiling Lights',\n",
        " 'Area Rugs',\n",
        " 'Outdoor Lighting',\n",
        " 'Window Treatments',\n",
        " 'Garden',\n",
        " 'Closet Storage & Organization',\n",
        " 'Wall Décor',\n",
        " 'Mirrors',\n",
        " 'Shoe Storage',\n",
        " 'Toddler & Kids Playroom',\n",
        " 'Game Tables & Game Room Furniture',\n",
        " 'Decorative Pillows & Blankets',\n",
        " 'School Furniture',\n",
        " 'Wall Lights',\n",
        " 'Bathroom Storage & Organization',\n",
        " 'Commercial Office Furniture',\n",
        " 'Flowers & Plants',\n",
        " 'Mattresses & Foundations',\n",
        " 'Area Rugs',\n",
        " 'Cleaning & Laundry Organization',\n",
        " 'Kitchen Organization',\n",
        " 'Candles & Holders',\n",
        " 'Christmas',\n",
        " 'Toddler & Kids Bedroom Furniture',\n",
        " 'Front Door Décor & Curb Appeal',\n",
        " 'Storage Furniture',\n",
        " 'School Spaces',\n",
        " 'Hardware',\n",
        " 'Light Bulbs & Hardware',\n",
        " 'Ceiling Fans',\n",
        " 'Doormats',\n",
        " 'Entry & Hallway',\n",
        " 'Storage Containers & Drawers',\n",
        " 'Holiday Lighting',\n",
        " 'Kitchen Mats',\n",
        " 'Facilities & Maintenance',\n",
        " 'Table & Floor Lamps',\n",
        " 'Bird',\n",
        " 'Kitchen Appliances',\n",
        " 'Building Equipment',\n",
        " 'Art',\n",
        " 'Picture Frames & Albums',\n",
        " 'Outdoor Heating',\n",
        " 'Outdoor Recreation',\n",
        " 'Bathroom Accessories & Organization',\n",
        " 'School Boards & Technology',\n",
        " 'Closeout',\n",
        " 'Reception Seating',\n",
        " 'Foodservice Tables',\n",
        " 'Kitchen Remodel & Kitchen Fixtures',\n",
        " 'Hot Tubs & Saunas',\n",
        " 'Teen Bedroom Furniture',\n",
        " 'Outdoor Fencing & Flooring',\n",
        " 'Chairs',\n",
        " 'Bath Rugs & Towels',\n",
        " 'Fish',\n",
        " 'Dog',\n",
        " 'Chicken',\n",
        " 'Boards & Tech Accessories',\n",
        " 'Commercial Contractor',\n",
        " 'Clamps',\n",
        " 'Jewelry Organization',\n",
        " 'Entry & Mudroom Furniture',\n",
        " 'Outdoor Cooking & Tableware',\n",
        " 'Seasonal Décor',\n",
        " 'Nursery Furniture',\n",
        " 'Storage & Organization Sale',\n",
        " 'Washers & Dryers',\n",
        " 'Baby & Kids Décor & Lighting',\n",
        " 'Outdoor Remodel',\n",
        " 'Plumbing',\n",
        " 'Birch Lane™',\n",
        " 'Office Organization',\n",
        " 'Kitchen & Dining Sale',\n",
        " 'Holiday Lighting',\n",
        " 'Baby & Kids Storage',\n",
        " 'Shop All Characters',\n",
        " 'Commercial Kitchen',\n",
        " 'Guest Room Amenities',\n",
        " 'Charlton Home',\n",
        " 'Wade Logan®',\n",
        " 'Heating, Cooling & Air Quality',\n",
        " 'Thanksgiving',\n",
        " 'Fourth of July',\n",
        " 'Vacuums & Deep Cleaners',\n",
        " 'Stair Tread Rugs',\n",
        " 'Small Spaces',\n",
        " 'Toddler & Kids Bedding & Bath',\n",
        " 'Classroom Décor',\n",
        " 'Early Education Play Area',\n",
        " 'Zoomie Kids',\n",
        " 'Fryers',\n",
        " 'August Grove',\n",
        " 'Dorm Décor & Back to School Essentials',\n",
        " 'Symple Stuff',\n",
        " 'Wayfair Basics®',\n",
        " 'The Holiday Aisle',\n",
        " 'Chair Pads & Cushions',\n",
        " 'The Monogram Shop',\n",
        " 'Wedding',\n",
        " 'Wedding',\n",
        " 'Reception Desks & Tables',\n",
        " 'Rug Pads',\n",
        " 'Latitude Run',\n",
        " 'Accommodations Furniture',\n",
        " 'Easter',\n",
        " 'Furniture Sale',\n",
        " 'Shop All Characters',\n",
        " 'Novelty Lights',\n",
        " \"Valentine's Day\",\n",
        " 'Outdoor Sale',\n",
        " 'Classroom & Training Furniture',\n",
        " 'Rebrilliant',\n",
        " 'Rug Pads',\n",
        " 'Commercial Kitchen Storage',\n",
        " 'Teen Bedding',\n",
        " 'Tommy Bahama Home',\n",
        " 'Appliances Sale',\n",
        " 'Massage Products']\n",
        "\n",
        "\n",
        "class Query(BaseModel):\n",
        "    \"\"\"\n",
        "    Base model for search queries, containing common query attributes.\n",
        "    \"\"\"\n",
        "    keywords: str = Field(\n",
        "        ...,\n",
        "        description=\"The original search query keywords sent in as input\"\n",
        "    )\n",
        "    query_intent: str = Field(\n",
        "        description=\"Explain the intent of this query\"\n",
        "    )\n",
        "\n",
        "class QueryCategory(Query):\n",
        "    \"\"\"\n",
        "    Representation of the category and subcategory classification of a search query\n",
        "    \"\"\"\n",
        "    category: Categories = Field(\n",
        "        description=\"Category of the product\"\n",
        "    )\n",
        "    sub_category: SubCategories = Field(\n",
        "        description=\"Sub-category of the product\"\n",
        "    )\n",
        "    labeling_explanation: str = Field(\n",
        "        description=\"Why did you label this the way you did?\"\n",
        "    )\n",
        "\n",
        "    @property\n",
        "    def classification(self) -> str:\n",
        "        return f\"{self.category} / {self.sub_category}\"\n",
        "\n"
      ]
    },
    {
      "cell_type": "markdown",
      "metadata": {
        "id": "vnhABrYKb6r6"
      },
      "source": [
        "### Query classification code\n",
        "\n",
        "Here we define a prompt and setup the enricher."
      ]
    },
    {
      "cell_type": "code",
      "execution_count": null,
      "metadata": {
        "colab": {
          "base_uri": "https://localhost:8080/"
        },
        "id": "RZ-hEr-CSr9T",
        "outputId": "8ac640a3-3297-4594-d7f3-171e591fe8f1"
      },
      "outputs": [
        {
          "output_type": "execute_result",
          "data": {
            "text/plain": [
              "QueryCategory(keywords='tv stand', query_intent='The user is looking for a piece of furniture to hold a television, typically used in living rooms or entertainment areas.', category='Furniture', sub_category='Living Room Furniture', labeling_explanation=\"A TV stand is a piece of furniture commonly used in living rooms to support televisions and related media equipment, fitting under the 'Living Room Furniture' subcategory.\")"
            ]
          },
          "metadata": {},
          "execution_count": 4
        }
      ],
      "source": [
        "enricher = AutoEnricher(\n",
        "     model=\"openai/gpt-4o\",\n",
        "     system_prompt=\"You are a helpful furniture shopping agent that helps users construct search queries.\",\n",
        "     response_model=QueryCategory\n",
        ")\n",
        "\n",
        "def get_prompt(query):\n",
        "    prompt = f\"\"\"\n",
        "        As a helpful agent, you'll recieve requests from users looking for furniture products.\n",
        "\n",
        "        Your task is to search with a structured query against a furniture product catalog.\n",
        "\n",
        "        Here is the users request:\n",
        "\n",
        "        {query}\n",
        "\n",
        "        Return Category / Subcategory:\n",
        "\n",
        "        * Category - the allowed categories (as listed in schema) for the product.\n",
        "        * SubCategory - the allowed subcategories (as listed in schema) for the product.\n",
        "    \"\"\"\n",
        "    return prompt\n",
        "\n",
        "\n",
        "def categorized(query):\n",
        "    prompt = get_prompt(query)\n",
        "    return enricher.enrich(prompt)\n",
        "\n",
        "\n",
        "categorized(\"tv stand\")"
      ]
    },
    {
      "cell_type": "markdown",
      "metadata": {
        "id": "pz-M4EZSbVeV"
      },
      "source": [
        "### Category search strategy\n",
        "\n",
        "Below is how we'll use category in search, we\n",
        "\n",
        "1. Tokenize category / sub category into their own fields\n",
        "2. Predict the category / subcategory for the query\n",
        "3. Apply a constant boost (`category_boost` / `sub_category_boost`) to the results below"
      ]
    },
    {
      "cell_type": "code",
      "execution_count": null,
      "metadata": {
        "id": "8wkSe0oo4bdM"
      },
      "outputs": [],
      "source": [
        "from searcharray import SearchArray\n",
        "from cheat_at_search.tokenizers import snowball_tokenizer\n",
        "from cheat_at_search.strategy.strategy import SearchStrategy\n",
        "import numpy as np\n",
        "\n",
        "\n",
        "class CategorySearch(SearchStrategy):\n",
        "    def __init__(self, products, query_to_cat,\n",
        "                 name_boost=9.3,\n",
        "                 description_boost=4.1,\n",
        "                 category_boost=10,\n",
        "                 sub_category_boost=5):\n",
        "        super().__init__(products)\n",
        "        self.index = products\n",
        "        self.index['product_name_snowball'] = SearchArray.index(\n",
        "            products['product_name'], snowball_tokenizer)\n",
        "        self.index['product_description_snowball'] = SearchArray.index(\n",
        "            products['product_description'], snowball_tokenizer)\n",
        "\n",
        "        cat_split = products['category hierarchy'].fillna('').str.split(\"/\")\n",
        "\n",
        "        products['category'] = cat_split.apply(\n",
        "            lambda x: x[0].strip() if len(x) > 0 else \"\"\n",
        "        )\n",
        "        products['subcategory'] = cat_split.apply(\n",
        "            lambda x: x[1].strip() if len(x) > 1 else \"\"\n",
        "        )\n",
        "        self.index['category_snowball'] = SearchArray.index(\n",
        "            products['category'], snowball_tokenizer\n",
        "        )\n",
        "        self.index['subcategory_snowball'] = SearchArray.index(\n",
        "            products['subcategory'], snowball_tokenizer\n",
        "        )\n",
        "\n",
        "        self.query_to_cat = query_to_cat\n",
        "        self.name_boost = name_boost\n",
        "        self.description_boost = description_boost\n",
        "        self.category_boost = category_boost\n",
        "        self.sub_category_boost = sub_category_boost\n",
        "\n",
        "    def search(self, query, k=10):\n",
        "        \"\"\"Dumb baseline lexical search, but add a constant boost when\n",
        "           the desired category or subcategory\"\"\"\n",
        "        bm25_scores = np.zeros(len(self.index))\n",
        "        structured = self.query_to_cat(query)\n",
        "        tokenized = snowball_tokenizer(query)\n",
        "\n",
        "        # ****\n",
        "        # Baseline BM25 search from before\n",
        "        for token in tokenized:\n",
        "            bm25_scores += self.index['product_name_snowball'].array.score(token) * self.name_boost\n",
        "            bm25_scores += self.index['product_description_snowball'].array.score(\n",
        "                token) * self.description_boost\n",
        "\n",
        "        # ****\n",
        "        # If there's a subcategory, boost that by a constant amount\n",
        "        if structured.sub_category and structured.sub_category != \"No SubCategory Fits\":\n",
        "            tokenized_subcategory = snowball_tokenizer(structured.sub_category)\n",
        "            subcategory_match = np.ones(len(self.index))\n",
        "            if tokenized_subcategory:\n",
        "                subcategory_match = self.index['subcategory_snowball'].array.score(tokenized_subcategory) > 0\n",
        "            bm25_scores[subcategory_match] += self.sub_category_boost\n",
        "\n",
        "        # ****\n",
        "        # If there's a category, boost that by a constant amount\n",
        "        if structured.category and structured.category != \"No Category Fits\":\n",
        "            tokenized_category = snowball_tokenizer(structured.category)\n",
        "            category_match = np.ones(len(self.index))\n",
        "            if tokenized_category:\n",
        "                category_match = self.index['category_snowball'].array.score(tokenized_category) > 0\n",
        "            bm25_scores[category_match] += self.category_boost\n",
        "\n",
        "        top_k = np.argsort(-bm25_scores)[:k]\n",
        "        scores = bm25_scores[top_k]\n",
        "\n",
        "        return top_k, scores\n"
      ]
    },
    {
      "cell_type": "code",
      "execution_count": null,
      "metadata": {
        "colab": {
          "base_uri": "https://localhost:8080/",
          "height": 1000
        },
        "id": "UzL7dMu_Puey",
        "outputId": "14cf6827-d37e-4bd0-ecc2-f12d7ae06223"
      },
      "outputs": [
        {
          "output_type": "stream",
          "name": "stdout",
          "text": [
            "2025-10-13 20:28:48,281 - searcharray.indexing - INFO - Indexing begins w/ 4 workers\n"
          ]
        },
        {
          "output_type": "stream",
          "name": "stderr",
          "text": [
            "INFO:searcharray.indexing:Indexing begins w/ 4 workers\n"
          ]
        },
        {
          "output_type": "stream",
          "name": "stdout",
          "text": [
            "2025-10-13 20:28:48,358 - searcharray.indexing - INFO - 0 Batch Start tokenization\n"
          ]
        },
        {
          "output_type": "stream",
          "name": "stderr",
          "text": [
            "INFO:searcharray.indexing:0 Batch Start tokenization\n"
          ]
        },
        {
          "output_type": "stream",
          "name": "stdout",
          "text": [
            "2025-10-13 20:28:48,364 - searcharray.indexing - INFO - Tokenizing 42994 documents\n"
          ]
        },
        {
          "output_type": "stream",
          "name": "stderr",
          "text": [
            "INFO:searcharray.indexing:Tokenizing 42994 documents\n"
          ]
        },
        {
          "output_type": "stream",
          "name": "stdout",
          "text": [
            "2025-10-13 20:28:50,128 - searcharray.indexing - INFO - Tokenized 10000 (23.259059403637718%)\n"
          ]
        },
        {
          "output_type": "stream",
          "name": "stderr",
          "text": [
            "INFO:searcharray.indexing:Tokenized 10000 (23.259059403637718%)\n"
          ]
        },
        {
          "output_type": "stream",
          "name": "stdout",
          "text": [
            "2025-10-13 20:28:51,702 - searcharray.indexing - INFO - Tokenized 20000 (46.518118807275435%)\n"
          ]
        },
        {
          "output_type": "stream",
          "name": "stderr",
          "text": [
            "INFO:searcharray.indexing:Tokenized 20000 (46.518118807275435%)\n"
          ]
        },
        {
          "output_type": "stream",
          "name": "stdout",
          "text": [
            "2025-10-13 20:28:52,449 - searcharray.indexing - INFO - Tokenized 30000 (69.77717821091315%)\n"
          ]
        },
        {
          "output_type": "stream",
          "name": "stderr",
          "text": [
            "INFO:searcharray.indexing:Tokenized 30000 (69.77717821091315%)\n"
          ]
        },
        {
          "output_type": "stream",
          "name": "stdout",
          "text": [
            "2025-10-13 20:28:53,845 - searcharray.indexing - INFO - Tokenized 40000 (93.03623761455087%)\n"
          ]
        },
        {
          "output_type": "stream",
          "name": "stderr",
          "text": [
            "INFO:searcharray.indexing:Tokenized 40000 (93.03623761455087%)\n"
          ]
        },
        {
          "output_type": "stream",
          "name": "stdout",
          "text": [
            "2025-10-13 20:28:54,082 - searcharray.indexing - INFO - Tokenization -- vstacking\n"
          ]
        },
        {
          "output_type": "stream",
          "name": "stderr",
          "text": [
            "INFO:searcharray.indexing:Tokenization -- vstacking\n"
          ]
        },
        {
          "output_type": "stream",
          "name": "stdout",
          "text": [
            "2025-10-13 20:28:54,094 - searcharray.indexing - INFO - Tokenization -- DONE\n"
          ]
        },
        {
          "output_type": "stream",
          "name": "stderr",
          "text": [
            "INFO:searcharray.indexing:Tokenization -- DONE\n"
          ]
        },
        {
          "output_type": "stream",
          "name": "stdout",
          "text": [
            "2025-10-13 20:28:54,105 - searcharray.indexing - INFO - Inverting docs->terms\n"
          ]
        },
        {
          "output_type": "stream",
          "name": "stderr",
          "text": [
            "INFO:searcharray.indexing:Inverting docs->terms\n"
          ]
        },
        {
          "output_type": "stream",
          "name": "stdout",
          "text": [
            "2025-10-13 20:28:54,158 - searcharray.indexing - INFO - Encoding positions to bit array\n"
          ]
        },
        {
          "output_type": "stream",
          "name": "stderr",
          "text": [
            "INFO:searcharray.indexing:Encoding positions to bit array\n"
          ]
        },
        {
          "output_type": "stream",
          "name": "stdout",
          "text": [
            "2025-10-13 20:28:54,229 - searcharray.indexing - INFO - Batch tokenization complete\n"
          ]
        },
        {
          "output_type": "stream",
          "name": "stderr",
          "text": [
            "INFO:searcharray.indexing:Batch tokenization complete\n"
          ]
        },
        {
          "output_type": "stream",
          "name": "stdout",
          "text": [
            "2025-10-13 20:28:54,231 - searcharray.indexing - INFO - (main thread) Processing 1 batch results\n"
          ]
        },
        {
          "output_type": "stream",
          "name": "stderr",
          "text": [
            "INFO:searcharray.indexing:(main thread) Processing 1 batch results\n"
          ]
        },
        {
          "output_type": "stream",
          "name": "stdout",
          "text": [
            "2025-10-13 20:28:54,268 - searcharray.indexing - INFO - Indexing from tokenization complete\n"
          ]
        },
        {
          "output_type": "stream",
          "name": "stderr",
          "text": [
            "INFO:searcharray.indexing:Indexing from tokenization complete\n"
          ]
        },
        {
          "output_type": "stream",
          "name": "stdout",
          "text": [
            "2025-10-13 20:28:54,296 - searcharray.indexing - INFO - Indexing begins w/ 4 workers\n"
          ]
        },
        {
          "output_type": "stream",
          "name": "stderr",
          "text": [
            "INFO:searcharray.indexing:Indexing begins w/ 4 workers\n"
          ]
        },
        {
          "output_type": "stream",
          "name": "stdout",
          "text": [
            "2025-10-13 20:28:54,308 - searcharray.indexing - INFO - 0 Batch Start tokenization\n"
          ]
        },
        {
          "output_type": "stream",
          "name": "stderr",
          "text": [
            "INFO:searcharray.indexing:0 Batch Start tokenization\n"
          ]
        },
        {
          "output_type": "stream",
          "name": "stdout",
          "text": [
            "2025-10-13 20:28:54,311 - searcharray.indexing - INFO - Tokenizing 42994 documents\n"
          ]
        },
        {
          "output_type": "stream",
          "name": "stderr",
          "text": [
            "INFO:searcharray.indexing:Tokenizing 42994 documents\n"
          ]
        },
        {
          "output_type": "stream",
          "name": "stdout",
          "text": [
            "2025-10-13 20:28:55,428 - searcharray.indexing - INFO - Tokenized 10000 (23.259059403637718%)\n"
          ]
        },
        {
          "output_type": "stream",
          "name": "stderr",
          "text": [
            "INFO:searcharray.indexing:Tokenized 10000 (23.259059403637718%)\n"
          ]
        },
        {
          "output_type": "stream",
          "name": "stdout",
          "text": [
            "2025-10-13 20:28:56,697 - searcharray.indexing - INFO - Tokenized 20000 (46.518118807275435%)\n"
          ]
        },
        {
          "output_type": "stream",
          "name": "stderr",
          "text": [
            "INFO:searcharray.indexing:Tokenized 20000 (46.518118807275435%)\n"
          ]
        },
        {
          "output_type": "stream",
          "name": "stdout",
          "text": [
            "2025-10-13 20:28:58,098 - searcharray.indexing - INFO - Tokenized 30000 (69.77717821091315%)\n"
          ]
        },
        {
          "output_type": "stream",
          "name": "stderr",
          "text": [
            "INFO:searcharray.indexing:Tokenized 30000 (69.77717821091315%)\n"
          ]
        },
        {
          "output_type": "stream",
          "name": "stdout",
          "text": [
            "2025-10-13 20:28:59,441 - searcharray.indexing - INFO - Tokenized 40000 (93.03623761455087%)\n"
          ]
        },
        {
          "output_type": "stream",
          "name": "stderr",
          "text": [
            "INFO:searcharray.indexing:Tokenized 40000 (93.03623761455087%)\n"
          ]
        },
        {
          "output_type": "stream",
          "name": "stdout",
          "text": [
            "2025-10-13 20:29:00,091 - searcharray.indexing - INFO - Tokenization -- vstacking\n"
          ]
        },
        {
          "output_type": "stream",
          "name": "stderr",
          "text": [
            "INFO:searcharray.indexing:Tokenization -- vstacking\n"
          ]
        },
        {
          "output_type": "stream",
          "name": "stdout",
          "text": [
            "2025-10-13 20:29:00,166 - searcharray.indexing - INFO - Tokenization -- DONE\n"
          ]
        },
        {
          "output_type": "stream",
          "name": "stderr",
          "text": [
            "INFO:searcharray.indexing:Tokenization -- DONE\n"
          ]
        },
        {
          "output_type": "stream",
          "name": "stdout",
          "text": [
            "2025-10-13 20:29:00,210 - searcharray.indexing - INFO - Inverting docs->terms\n"
          ]
        },
        {
          "output_type": "stream",
          "name": "stderr",
          "text": [
            "INFO:searcharray.indexing:Inverting docs->terms\n"
          ]
        },
        {
          "output_type": "stream",
          "name": "stdout",
          "text": [
            "2025-10-13 20:29:00,875 - searcharray.indexing - INFO - Encoding positions to bit array\n"
          ]
        },
        {
          "output_type": "stream",
          "name": "stderr",
          "text": [
            "INFO:searcharray.indexing:Encoding positions to bit array\n"
          ]
        },
        {
          "output_type": "stream",
          "name": "stdout",
          "text": [
            "2025-10-13 20:29:01,221 - searcharray.indexing - INFO - Batch tokenization complete\n"
          ]
        },
        {
          "output_type": "stream",
          "name": "stderr",
          "text": [
            "INFO:searcharray.indexing:Batch tokenization complete\n"
          ]
        },
        {
          "output_type": "stream",
          "name": "stdout",
          "text": [
            "2025-10-13 20:29:01,224 - searcharray.indexing - INFO - (main thread) Processing 1 batch results\n"
          ]
        },
        {
          "output_type": "stream",
          "name": "stderr",
          "text": [
            "INFO:searcharray.indexing:(main thread) Processing 1 batch results\n"
          ]
        },
        {
          "output_type": "stream",
          "name": "stdout",
          "text": [
            "2025-10-13 20:29:01,457 - searcharray.indexing - INFO - Indexing from tokenization complete\n"
          ]
        },
        {
          "output_type": "stream",
          "name": "stderr",
          "text": [
            "INFO:searcharray.indexing:Indexing from tokenization complete\n"
          ]
        },
        {
          "output_type": "stream",
          "name": "stdout",
          "text": [
            "2025-10-13 20:29:01,997 - searcharray.indexing - INFO - Indexing begins w/ 4 workers\n"
          ]
        },
        {
          "output_type": "stream",
          "name": "stderr",
          "text": [
            "INFO:searcharray.indexing:Indexing begins w/ 4 workers\n"
          ]
        },
        {
          "output_type": "stream",
          "name": "stdout",
          "text": [
            "2025-10-13 20:29:02,011 - searcharray.indexing - INFO - 0 Batch Start tokenization\n"
          ]
        },
        {
          "output_type": "stream",
          "name": "stderr",
          "text": [
            "INFO:searcharray.indexing:0 Batch Start tokenization\n"
          ]
        },
        {
          "output_type": "stream",
          "name": "stdout",
          "text": [
            "2025-10-13 20:29:02,015 - searcharray.indexing - INFO - Tokenizing 42994 documents\n"
          ]
        },
        {
          "output_type": "stream",
          "name": "stderr",
          "text": [
            "INFO:searcharray.indexing:Tokenizing 42994 documents\n"
          ]
        },
        {
          "output_type": "stream",
          "name": "stdout",
          "text": [
            "2025-10-13 20:29:02,320 - searcharray.indexing - INFO - Tokenized 10000 (23.259059403637718%)\n"
          ]
        },
        {
          "output_type": "stream",
          "name": "stderr",
          "text": [
            "INFO:searcharray.indexing:Tokenized 10000 (23.259059403637718%)\n"
          ]
        },
        {
          "output_type": "stream",
          "name": "stdout",
          "text": [
            "2025-10-13 20:29:02,622 - searcharray.indexing - INFO - Tokenized 20000 (46.518118807275435%)\n"
          ]
        },
        {
          "output_type": "stream",
          "name": "stderr",
          "text": [
            "INFO:searcharray.indexing:Tokenized 20000 (46.518118807275435%)\n"
          ]
        },
        {
          "output_type": "stream",
          "name": "stdout",
          "text": [
            "2025-10-13 20:29:02,914 - searcharray.indexing - INFO - Tokenized 30000 (69.77717821091315%)\n"
          ]
        },
        {
          "output_type": "stream",
          "name": "stderr",
          "text": [
            "INFO:searcharray.indexing:Tokenized 30000 (69.77717821091315%)\n"
          ]
        },
        {
          "output_type": "stream",
          "name": "stdout",
          "text": [
            "2025-10-13 20:29:03,189 - searcharray.indexing - INFO - Tokenized 40000 (93.03623761455087%)\n"
          ]
        },
        {
          "output_type": "stream",
          "name": "stderr",
          "text": [
            "INFO:searcharray.indexing:Tokenized 40000 (93.03623761455087%)\n"
          ]
        },
        {
          "output_type": "stream",
          "name": "stdout",
          "text": [
            "2025-10-13 20:29:03,470 - searcharray.indexing - INFO - Tokenization -- vstacking\n"
          ]
        },
        {
          "output_type": "stream",
          "name": "stderr",
          "text": [
            "INFO:searcharray.indexing:Tokenization -- vstacking\n"
          ]
        },
        {
          "output_type": "stream",
          "name": "stdout",
          "text": [
            "2025-10-13 20:29:03,472 - searcharray.indexing - INFO - Tokenization -- DONE\n"
          ]
        },
        {
          "output_type": "stream",
          "name": "stderr",
          "text": [
            "INFO:searcharray.indexing:Tokenization -- DONE\n"
          ]
        },
        {
          "output_type": "stream",
          "name": "stdout",
          "text": [
            "2025-10-13 20:29:03,477 - searcharray.indexing - INFO - Inverting docs->terms\n"
          ]
        },
        {
          "output_type": "stream",
          "name": "stderr",
          "text": [
            "INFO:searcharray.indexing:Inverting docs->terms\n"
          ]
        },
        {
          "output_type": "stream",
          "name": "stdout",
          "text": [
            "2025-10-13 20:29:03,486 - searcharray.indexing - INFO - Encoding positions to bit array\n"
          ]
        },
        {
          "output_type": "stream",
          "name": "stderr",
          "text": [
            "INFO:searcharray.indexing:Encoding positions to bit array\n"
          ]
        },
        {
          "output_type": "stream",
          "name": "stdout",
          "text": [
            "2025-10-13 20:29:03,498 - searcharray.indexing - INFO - Batch tokenization complete\n"
          ]
        },
        {
          "output_type": "stream",
          "name": "stderr",
          "text": [
            "INFO:searcharray.indexing:Batch tokenization complete\n"
          ]
        },
        {
          "output_type": "stream",
          "name": "stdout",
          "text": [
            "2025-10-13 20:29:03,503 - searcharray.indexing - INFO - (main thread) Processing 1 batch results\n"
          ]
        },
        {
          "output_type": "stream",
          "name": "stderr",
          "text": [
            "INFO:searcharray.indexing:(main thread) Processing 1 batch results\n"
          ]
        },
        {
          "output_type": "stream",
          "name": "stdout",
          "text": [
            "2025-10-13 20:29:03,530 - searcharray.indexing - INFO - Indexing from tokenization complete\n"
          ]
        },
        {
          "output_type": "stream",
          "name": "stderr",
          "text": [
            "INFO:searcharray.indexing:Indexing from tokenization complete\n"
          ]
        },
        {
          "output_type": "stream",
          "name": "stdout",
          "text": [
            "2025-10-13 20:29:03,542 - searcharray.indexing - INFO - Indexing begins w/ 4 workers\n"
          ]
        },
        {
          "output_type": "stream",
          "name": "stderr",
          "text": [
            "INFO:searcharray.indexing:Indexing begins w/ 4 workers\n"
          ]
        },
        {
          "output_type": "stream",
          "name": "stdout",
          "text": [
            "2025-10-13 20:29:03,556 - searcharray.indexing - INFO - 0 Batch Start tokenization\n"
          ]
        },
        {
          "output_type": "stream",
          "name": "stderr",
          "text": [
            "INFO:searcharray.indexing:0 Batch Start tokenization\n"
          ]
        },
        {
          "output_type": "stream",
          "name": "stdout",
          "text": [
            "2025-10-13 20:29:03,558 - searcharray.indexing - INFO - Tokenizing 42994 documents\n"
          ]
        },
        {
          "output_type": "stream",
          "name": "stderr",
          "text": [
            "INFO:searcharray.indexing:Tokenizing 42994 documents\n"
          ]
        },
        {
          "output_type": "stream",
          "name": "stdout",
          "text": [
            "2025-10-13 20:29:03,890 - searcharray.indexing - INFO - Tokenized 10000 (23.259059403637718%)\n"
          ]
        },
        {
          "output_type": "stream",
          "name": "stderr",
          "text": [
            "INFO:searcharray.indexing:Tokenized 10000 (23.259059403637718%)\n"
          ]
        },
        {
          "output_type": "stream",
          "name": "stdout",
          "text": [
            "2025-10-13 20:29:04,226 - searcharray.indexing - INFO - Tokenized 20000 (46.518118807275435%)\n"
          ]
        },
        {
          "output_type": "stream",
          "name": "stderr",
          "text": [
            "INFO:searcharray.indexing:Tokenized 20000 (46.518118807275435%)\n"
          ]
        },
        {
          "output_type": "stream",
          "name": "stdout",
          "text": [
            "2025-10-13 20:29:04,589 - searcharray.indexing - INFO - Tokenized 30000 (69.77717821091315%)\n"
          ]
        },
        {
          "output_type": "stream",
          "name": "stderr",
          "text": [
            "INFO:searcharray.indexing:Tokenized 30000 (69.77717821091315%)\n"
          ]
        },
        {
          "output_type": "stream",
          "name": "stdout",
          "text": [
            "2025-10-13 20:29:04,984 - searcharray.indexing - INFO - Tokenized 40000 (93.03623761455087%)\n"
          ]
        },
        {
          "output_type": "stream",
          "name": "stderr",
          "text": [
            "INFO:searcharray.indexing:Tokenized 40000 (93.03623761455087%)\n"
          ]
        },
        {
          "output_type": "stream",
          "name": "stdout",
          "text": [
            "2025-10-13 20:29:05,262 - searcharray.indexing - INFO - Tokenization -- vstacking\n"
          ]
        },
        {
          "output_type": "stream",
          "name": "stderr",
          "text": [
            "INFO:searcharray.indexing:Tokenization -- vstacking\n"
          ]
        },
        {
          "output_type": "stream",
          "name": "stdout",
          "text": [
            "2025-10-13 20:29:05,265 - searcharray.indexing - INFO - Tokenization -- DONE\n"
          ]
        },
        {
          "output_type": "stream",
          "name": "stderr",
          "text": [
            "INFO:searcharray.indexing:Tokenization -- DONE\n"
          ]
        },
        {
          "output_type": "stream",
          "name": "stdout",
          "text": [
            "2025-10-13 20:29:05,271 - searcharray.indexing - INFO - Inverting docs->terms\n"
          ]
        },
        {
          "output_type": "stream",
          "name": "stderr",
          "text": [
            "INFO:searcharray.indexing:Inverting docs->terms\n"
          ]
        },
        {
          "output_type": "stream",
          "name": "stdout",
          "text": [
            "2025-10-13 20:29:05,291 - searcharray.indexing - INFO - Encoding positions to bit array\n"
          ]
        },
        {
          "output_type": "stream",
          "name": "stderr",
          "text": [
            "INFO:searcharray.indexing:Encoding positions to bit array\n"
          ]
        },
        {
          "output_type": "stream",
          "name": "stdout",
          "text": [
            "2025-10-13 20:29:05,305 - searcharray.indexing - INFO - Batch tokenization complete\n"
          ]
        },
        {
          "output_type": "stream",
          "name": "stderr",
          "text": [
            "INFO:searcharray.indexing:Batch tokenization complete\n"
          ]
        },
        {
          "output_type": "stream",
          "name": "stdout",
          "text": [
            "2025-10-13 20:29:05,309 - searcharray.indexing - INFO - (main thread) Processing 1 batch results\n"
          ]
        },
        {
          "output_type": "stream",
          "name": "stderr",
          "text": [
            "INFO:searcharray.indexing:(main thread) Processing 1 batch results\n"
          ]
        },
        {
          "output_type": "stream",
          "name": "stdout",
          "text": [
            "2025-10-13 20:29:05,345 - searcharray.indexing - INFO - Indexing from tokenization complete\n"
          ]
        },
        {
          "output_type": "stream",
          "name": "stderr",
          "text": [
            "INFO:searcharray.indexing:Indexing from tokenization complete\n",
            "Searching: 100%|██████████| 480/480 [27:11<00:00,  3.40s/it]\n"
          ]
        },
        {
          "output_type": "execute_result",
          "data": {
            "text/plain": [
              "      product_id                                       product_name  \\\n",
              "0           7465                                   hair salon chair   \n",
              "1          25431                      barberpub salon massage chair   \n",
              "2           7468  mercer41 hair salon chair hydraulic styling ch...   \n",
              "3          39461         professional salon reclining massage chair   \n",
              "4           9234                            beauty salon task chair   \n",
              "...          ...                                                ...   \n",
              "4795       22194                                    wine glass rack   \n",
              "4796       40243                    madisen hanging wine glass rack   \n",
              "4797       40244                       kena hanging wine glass rack   \n",
              "4798       39976                       wall mounted wine glass rack   \n",
              "4799       40247                       winn hanging wine glass rack   \n",
              "\n",
              "                 product_class  \\\n",
              "0     Massage Chairs|Recliners   \n",
              "1               Massage Chairs   \n",
              "2               Massage Chairs   \n",
              "3               Massage Chairs   \n",
              "4                          NaN   \n",
              "...                        ...   \n",
              "4795      Kitchen Sink Storage   \n",
              "4796                Wine Racks   \n",
              "4797                Wine Racks   \n",
              "4798                Wine Racks   \n",
              "4799                Wine Racks   \n",
              "\n",
              "                                     category hierarchy  \\\n",
              "0     Furniture / Living Room Furniture / Chairs & S...   \n",
              "1     Furniture / Living Room Furniture / Chairs & S...   \n",
              "2     Furniture / Living Room Furniture / Chairs & S...   \n",
              "3     Furniture / Living Room Furniture / Chairs & S...   \n",
              "4          Furniture / Office Furniture / Office Chairs   \n",
              "...                                                 ...   \n",
              "4795  Kitchen & Tabletop / Kitchen Organization / Co...   \n",
              "4796  Kitchen & Tabletop / Tableware & Drinkware / B...   \n",
              "4797  Kitchen & Tabletop / Tableware & Drinkware / B...   \n",
              "4798  Kitchen & Tabletop / Tableware & Drinkware / B...   \n",
              "4799  Kitchen & Tabletop / Tableware & Drinkware / B...   \n",
              "\n",
              "                                    product_description  \\\n",
              "0     offers a wide selection of professional salon ...   \n",
              "1     salon chairs are a wonderful avenue for hairst...   \n",
              "2     mercer41 beauty offers a wide selection profes...   \n",
              "3     new and in a good condition . first-rate metal...   \n",
              "4     applicable scene : office , home life , beauty...   \n",
              "...                                                 ...   \n",
              "4795  drip-dry up to eight wineglasses with this cle...   \n",
              "4796  complement your farmhouse kitchen decor with t...   \n",
              "4797  spruce up your farmhouse kitchen decor with th...   \n",
              "4798  the latest addition to this collection , this ...   \n",
              "4799  are you looking for a safe and decorative solu...   \n",
              "\n",
              "                                       product_features  rating_count  \\\n",
              "0     fauxleathertype : pu|legheight-toptobottom:18|...          69.0   \n",
              "1     supplierintendedandapproveduse : non residenti...           4.0   \n",
              "2     seatfillmaterial : foam|waterrepellant : no re...           1.0   \n",
              "3     overalldepth-fronttoback:39.4|warrantylength:1...           NaN   \n",
              "4     overallheight-toptobottom:37|backcolor : brown...           NaN   \n",
              "...                                                 ...           ...   \n",
              "4795  glasscapacity:8|countryoforigin : united state...           5.0   \n",
              "4796  producttype : wine glass rack|overallwidth-sid...          29.0   \n",
              "4797  warrantylength:1 year|producttype : wine glass...          23.0   \n",
              "4798  overallheight-toptobottom:4|design : wall moun...          34.0   \n",
              "4799  overallheight-toptobottom:1.5|overallwidth-sid...         305.0   \n",
              "\n",
              "      average_rating  review_count  \\\n",
              "0                4.5          53.0   \n",
              "1                5.0           4.0   \n",
              "2                5.0           1.0   \n",
              "3                NaN           NaN   \n",
              "4                NaN           NaN   \n",
              "...              ...           ...   \n",
              "4795             4.5           3.0   \n",
              "4796             5.0          20.0   \n",
              "4797             5.0          18.0   \n",
              "4798             4.5          18.0   \n",
              "4799             5.0         187.0   \n",
              "\n",
              "                                               features  ... query_id rank  \\\n",
              "0     [fauxleathertype : pu, legheight-toptobottom:1...  ...        0    1   \n",
              "1     [supplierintendedandapproveduse : non resident...  ...        0    2   \n",
              "2     [seatfillmaterial : foam, waterrepellant : no ...  ...        0    3   \n",
              "3     [overalldepth-fronttoback:39.4, warrantylength...  ...        0    4   \n",
              "4     [overallheight-toptobottom:37, backcolor : bro...  ...        0    5   \n",
              "...                                                 ...  ...      ...  ...   \n",
              "4795  [glasscapacity:8, countryoforigin : united sta...  ...      487    6   \n",
              "4796  [producttype : wine glass rack, overallwidth-s...  ...      487    7   \n",
              "4797  [warrantylength:1 year, producttype : wine gla...  ...      487    8   \n",
              "4798  [overallheight-toptobottom:4, design : wall mo...  ...      487    9   \n",
              "4799  [overallheight-toptobottom:1.5, overallwidth-s...  ...      487   10   \n",
              "\n",
              "         query_class     id    label grade  discounted_gain      idcg  \\\n",
              "0     Massage Chairs   80.0    Exact   2.0             3.00  8.786905   \n",
              "1     Massage Chairs   29.0    Exact   2.0             1.50  8.786905   \n",
              "2     Massage Chairs  104.0    Exact   2.0             1.00  8.786905   \n",
              "3     Massage Chairs  114.0    Exact   2.0             0.75  8.786905   \n",
              "4     Massage Chairs   32.0  Partial   1.0             0.20  8.786905   \n",
              "...              ...    ...      ...   ...              ...       ...   \n",
              "4795             NaN    NaN      NaN   0.0             0.00  8.786905   \n",
              "4796             NaN    NaN      NaN   0.0             0.00  8.786905   \n",
              "4797             NaN    NaN      NaN   0.0             0.00  8.786905   \n",
              "4798             NaN    NaN      NaN   0.0             0.00  8.786905   \n",
              "4799             NaN    NaN      NaN   0.0             0.00  8.786905   \n",
              "\n",
              "          dcg      ndcg  \n",
              "0     8.10119  0.921962  \n",
              "1     8.10119  0.921962  \n",
              "2     8.10119  0.921962  \n",
              "3     8.10119  0.921962  \n",
              "4     8.10119  0.921962  \n",
              "...       ...       ...  \n",
              "4795  0.00000  0.000000  \n",
              "4796  0.00000  0.000000  \n",
              "4797  0.00000  0.000000  \n",
              "4798  0.00000  0.000000  \n",
              "4799  0.00000  0.000000  \n",
              "\n",
              "[4800 rows x 26 columns]"
            ],
            "text/html": [
              "\n",
              "  <div id=\"df-8e56d95c-d9db-4bd7-bffe-3db762973081\" class=\"colab-df-container\">\n",
              "    <div>\n",
              "<style scoped>\n",
              "    .dataframe tbody tr th:only-of-type {\n",
              "        vertical-align: middle;\n",
              "    }\n",
              "\n",
              "    .dataframe tbody tr th {\n",
              "        vertical-align: top;\n",
              "    }\n",
              "\n",
              "    .dataframe thead th {\n",
              "        text-align: right;\n",
              "    }\n",
              "</style>\n",
              "<table border=\"1\" class=\"dataframe\">\n",
              "  <thead>\n",
              "    <tr style=\"text-align: right;\">\n",
              "      <th></th>\n",
              "      <th>product_id</th>\n",
              "      <th>product_name</th>\n",
              "      <th>product_class</th>\n",
              "      <th>category hierarchy</th>\n",
              "      <th>product_description</th>\n",
              "      <th>product_features</th>\n",
              "      <th>rating_count</th>\n",
              "      <th>average_rating</th>\n",
              "      <th>review_count</th>\n",
              "      <th>features</th>\n",
              "      <th>...</th>\n",
              "      <th>query_id</th>\n",
              "      <th>rank</th>\n",
              "      <th>query_class</th>\n",
              "      <th>id</th>\n",
              "      <th>label</th>\n",
              "      <th>grade</th>\n",
              "      <th>discounted_gain</th>\n",
              "      <th>idcg</th>\n",
              "      <th>dcg</th>\n",
              "      <th>ndcg</th>\n",
              "    </tr>\n",
              "  </thead>\n",
              "  <tbody>\n",
              "    <tr>\n",
              "      <th>0</th>\n",
              "      <td>7465</td>\n",
              "      <td>hair salon chair</td>\n",
              "      <td>Massage Chairs|Recliners</td>\n",
              "      <td>Furniture / Living Room Furniture / Chairs &amp; S...</td>\n",
              "      <td>offers a wide selection of professional salon ...</td>\n",
              "      <td>fauxleathertype : pu|legheight-toptobottom:18|...</td>\n",
              "      <td>69.0</td>\n",
              "      <td>4.5</td>\n",
              "      <td>53.0</td>\n",
              "      <td>[fauxleathertype : pu, legheight-toptobottom:1...</td>\n",
              "      <td>...</td>\n",
              "      <td>0</td>\n",
              "      <td>1</td>\n",
              "      <td>Massage Chairs</td>\n",
              "      <td>80.0</td>\n",
              "      <td>Exact</td>\n",
              "      <td>2.0</td>\n",
              "      <td>3.00</td>\n",
              "      <td>8.786905</td>\n",
              "      <td>8.10119</td>\n",
              "      <td>0.921962</td>\n",
              "    </tr>\n",
              "    <tr>\n",
              "      <th>1</th>\n",
              "      <td>25431</td>\n",
              "      <td>barberpub salon massage chair</td>\n",
              "      <td>Massage Chairs</td>\n",
              "      <td>Furniture / Living Room Furniture / Chairs &amp; S...</td>\n",
              "      <td>salon chairs are a wonderful avenue for hairst...</td>\n",
              "      <td>supplierintendedandapproveduse : non residenti...</td>\n",
              "      <td>4.0</td>\n",
              "      <td>5.0</td>\n",
              "      <td>4.0</td>\n",
              "      <td>[supplierintendedandapproveduse : non resident...</td>\n",
              "      <td>...</td>\n",
              "      <td>0</td>\n",
              "      <td>2</td>\n",
              "      <td>Massage Chairs</td>\n",
              "      <td>29.0</td>\n",
              "      <td>Exact</td>\n",
              "      <td>2.0</td>\n",
              "      <td>1.50</td>\n",
              "      <td>8.786905</td>\n",
              "      <td>8.10119</td>\n",
              "      <td>0.921962</td>\n",
              "    </tr>\n",
              "    <tr>\n",
              "      <th>2</th>\n",
              "      <td>7468</td>\n",
              "      <td>mercer41 hair salon chair hydraulic styling ch...</td>\n",
              "      <td>Massage Chairs</td>\n",
              "      <td>Furniture / Living Room Furniture / Chairs &amp; S...</td>\n",
              "      <td>mercer41 beauty offers a wide selection profes...</td>\n",
              "      <td>seatfillmaterial : foam|waterrepellant : no re...</td>\n",
              "      <td>1.0</td>\n",
              "      <td>5.0</td>\n",
              "      <td>1.0</td>\n",
              "      <td>[seatfillmaterial : foam, waterrepellant : no ...</td>\n",
              "      <td>...</td>\n",
              "      <td>0</td>\n",
              "      <td>3</td>\n",
              "      <td>Massage Chairs</td>\n",
              "      <td>104.0</td>\n",
              "      <td>Exact</td>\n",
              "      <td>2.0</td>\n",
              "      <td>1.00</td>\n",
              "      <td>8.786905</td>\n",
              "      <td>8.10119</td>\n",
              "      <td>0.921962</td>\n",
              "    </tr>\n",
              "    <tr>\n",
              "      <th>3</th>\n",
              "      <td>39461</td>\n",
              "      <td>professional salon reclining massage chair</td>\n",
              "      <td>Massage Chairs</td>\n",
              "      <td>Furniture / Living Room Furniture / Chairs &amp; S...</td>\n",
              "      <td>new and in a good condition . first-rate metal...</td>\n",
              "      <td>overalldepth-fronttoback:39.4|warrantylength:1...</td>\n",
              "      <td>NaN</td>\n",
              "      <td>NaN</td>\n",
              "      <td>NaN</td>\n",
              "      <td>[overalldepth-fronttoback:39.4, warrantylength...</td>\n",
              "      <td>...</td>\n",
              "      <td>0</td>\n",
              "      <td>4</td>\n",
              "      <td>Massage Chairs</td>\n",
              "      <td>114.0</td>\n",
              "      <td>Exact</td>\n",
              "      <td>2.0</td>\n",
              "      <td>0.75</td>\n",
              "      <td>8.786905</td>\n",
              "      <td>8.10119</td>\n",
              "      <td>0.921962</td>\n",
              "    </tr>\n",
              "    <tr>\n",
              "      <th>4</th>\n",
              "      <td>9234</td>\n",
              "      <td>beauty salon task chair</td>\n",
              "      <td>NaN</td>\n",
              "      <td>Furniture / Office Furniture / Office Chairs</td>\n",
              "      <td>applicable scene : office , home life , beauty...</td>\n",
              "      <td>overallheight-toptobottom:37|backcolor : brown...</td>\n",
              "      <td>NaN</td>\n",
              "      <td>NaN</td>\n",
              "      <td>NaN</td>\n",
              "      <td>[overallheight-toptobottom:37, backcolor : bro...</td>\n",
              "      <td>...</td>\n",
              "      <td>0</td>\n",
              "      <td>5</td>\n",
              "      <td>Massage Chairs</td>\n",
              "      <td>32.0</td>\n",
              "      <td>Partial</td>\n",
              "      <td>1.0</td>\n",
              "      <td>0.20</td>\n",
              "      <td>8.786905</td>\n",
              "      <td>8.10119</td>\n",
              "      <td>0.921962</td>\n",
              "    </tr>\n",
              "    <tr>\n",
              "      <th>...</th>\n",
              "      <td>...</td>\n",
              "      <td>...</td>\n",
              "      <td>...</td>\n",
              "      <td>...</td>\n",
              "      <td>...</td>\n",
              "      <td>...</td>\n",
              "      <td>...</td>\n",
              "      <td>...</td>\n",
              "      <td>...</td>\n",
              "      <td>...</td>\n",
              "      <td>...</td>\n",
              "      <td>...</td>\n",
              "      <td>...</td>\n",
              "      <td>...</td>\n",
              "      <td>...</td>\n",
              "      <td>...</td>\n",
              "      <td>...</td>\n",
              "      <td>...</td>\n",
              "      <td>...</td>\n",
              "      <td>...</td>\n",
              "      <td>...</td>\n",
              "    </tr>\n",
              "    <tr>\n",
              "      <th>4795</th>\n",
              "      <td>22194</td>\n",
              "      <td>wine glass rack</td>\n",
              "      <td>Kitchen Sink Storage</td>\n",
              "      <td>Kitchen &amp; Tabletop / Kitchen Organization / Co...</td>\n",
              "      <td>drip-dry up to eight wineglasses with this cle...</td>\n",
              "      <td>glasscapacity:8|countryoforigin : united state...</td>\n",
              "      <td>5.0</td>\n",
              "      <td>4.5</td>\n",
              "      <td>3.0</td>\n",
              "      <td>[glasscapacity:8, countryoforigin : united sta...</td>\n",
              "      <td>...</td>\n",
              "      <td>487</td>\n",
              "      <td>6</td>\n",
              "      <td>NaN</td>\n",
              "      <td>NaN</td>\n",
              "      <td>NaN</td>\n",
              "      <td>0.0</td>\n",
              "      <td>0.00</td>\n",
              "      <td>8.786905</td>\n",
              "      <td>0.00000</td>\n",
              "      <td>0.000000</td>\n",
              "    </tr>\n",
              "    <tr>\n",
              "      <th>4796</th>\n",
              "      <td>40243</td>\n",
              "      <td>madisen hanging wine glass rack</td>\n",
              "      <td>Wine Racks</td>\n",
              "      <td>Kitchen &amp; Tabletop / Tableware &amp; Drinkware / B...</td>\n",
              "      <td>complement your farmhouse kitchen decor with t...</td>\n",
              "      <td>producttype : wine glass rack|overallwidth-sid...</td>\n",
              "      <td>29.0</td>\n",
              "      <td>5.0</td>\n",
              "      <td>20.0</td>\n",
              "      <td>[producttype : wine glass rack, overallwidth-s...</td>\n",
              "      <td>...</td>\n",
              "      <td>487</td>\n",
              "      <td>7</td>\n",
              "      <td>NaN</td>\n",
              "      <td>NaN</td>\n",
              "      <td>NaN</td>\n",
              "      <td>0.0</td>\n",
              "      <td>0.00</td>\n",
              "      <td>8.786905</td>\n",
              "      <td>0.00000</td>\n",
              "      <td>0.000000</td>\n",
              "    </tr>\n",
              "    <tr>\n",
              "      <th>4797</th>\n",
              "      <td>40244</td>\n",
              "      <td>kena hanging wine glass rack</td>\n",
              "      <td>Wine Racks</td>\n",
              "      <td>Kitchen &amp; Tabletop / Tableware &amp; Drinkware / B...</td>\n",
              "      <td>spruce up your farmhouse kitchen decor with th...</td>\n",
              "      <td>warrantylength:1 year|producttype : wine glass...</td>\n",
              "      <td>23.0</td>\n",
              "      <td>5.0</td>\n",
              "      <td>18.0</td>\n",
              "      <td>[warrantylength:1 year, producttype : wine gla...</td>\n",
              "      <td>...</td>\n",
              "      <td>487</td>\n",
              "      <td>8</td>\n",
              "      <td>NaN</td>\n",
              "      <td>NaN</td>\n",
              "      <td>NaN</td>\n",
              "      <td>0.0</td>\n",
              "      <td>0.00</td>\n",
              "      <td>8.786905</td>\n",
              "      <td>0.00000</td>\n",
              "      <td>0.000000</td>\n",
              "    </tr>\n",
              "    <tr>\n",
              "      <th>4798</th>\n",
              "      <td>39976</td>\n",
              "      <td>wall mounted wine glass rack</td>\n",
              "      <td>Wine Racks</td>\n",
              "      <td>Kitchen &amp; Tabletop / Tableware &amp; Drinkware / B...</td>\n",
              "      <td>the latest addition to this collection , this ...</td>\n",
              "      <td>overallheight-toptobottom:4|design : wall moun...</td>\n",
              "      <td>34.0</td>\n",
              "      <td>4.5</td>\n",
              "      <td>18.0</td>\n",
              "      <td>[overallheight-toptobottom:4, design : wall mo...</td>\n",
              "      <td>...</td>\n",
              "      <td>487</td>\n",
              "      <td>9</td>\n",
              "      <td>NaN</td>\n",
              "      <td>NaN</td>\n",
              "      <td>NaN</td>\n",
              "      <td>0.0</td>\n",
              "      <td>0.00</td>\n",
              "      <td>8.786905</td>\n",
              "      <td>0.00000</td>\n",
              "      <td>0.000000</td>\n",
              "    </tr>\n",
              "    <tr>\n",
              "      <th>4799</th>\n",
              "      <td>40247</td>\n",
              "      <td>winn hanging wine glass rack</td>\n",
              "      <td>Wine Racks</td>\n",
              "      <td>Kitchen &amp; Tabletop / Tableware &amp; Drinkware / B...</td>\n",
              "      <td>are you looking for a safe and decorative solu...</td>\n",
              "      <td>overallheight-toptobottom:1.5|overallwidth-sid...</td>\n",
              "      <td>305.0</td>\n",
              "      <td>5.0</td>\n",
              "      <td>187.0</td>\n",
              "      <td>[overallheight-toptobottom:1.5, overallwidth-s...</td>\n",
              "      <td>...</td>\n",
              "      <td>487</td>\n",
              "      <td>10</td>\n",
              "      <td>NaN</td>\n",
              "      <td>NaN</td>\n",
              "      <td>NaN</td>\n",
              "      <td>0.0</td>\n",
              "      <td>0.00</td>\n",
              "      <td>8.786905</td>\n",
              "      <td>0.00000</td>\n",
              "      <td>0.000000</td>\n",
              "    </tr>\n",
              "  </tbody>\n",
              "</table>\n",
              "<p>4800 rows × 26 columns</p>\n",
              "</div>\n",
              "    <div class=\"colab-df-buttons\">\n",
              "\n",
              "  <div class=\"colab-df-container\">\n",
              "    <button class=\"colab-df-convert\" onclick=\"convertToInteractive('df-8e56d95c-d9db-4bd7-bffe-3db762973081')\"\n",
              "            title=\"Convert this dataframe to an interactive table.\"\n",
              "            style=\"display:none;\">\n",
              "\n",
              "  <svg xmlns=\"http://www.w3.org/2000/svg\" height=\"24px\" viewBox=\"0 -960 960 960\">\n",
              "    <path d=\"M120-120v-720h720v720H120Zm60-500h600v-160H180v160Zm220 220h160v-160H400v160Zm0 220h160v-160H400v160ZM180-400h160v-160H180v160Zm440 0h160v-160H620v160ZM180-180h160v-160H180v160Zm440 0h160v-160H620v160Z\"/>\n",
              "  </svg>\n",
              "    </button>\n",
              "\n",
              "  <style>\n",
              "    .colab-df-container {\n",
              "      display:flex;\n",
              "      gap: 12px;\n",
              "    }\n",
              "\n",
              "    .colab-df-convert {\n",
              "      background-color: #E8F0FE;\n",
              "      border: none;\n",
              "      border-radius: 50%;\n",
              "      cursor: pointer;\n",
              "      display: none;\n",
              "      fill: #1967D2;\n",
              "      height: 32px;\n",
              "      padding: 0 0 0 0;\n",
              "      width: 32px;\n",
              "    }\n",
              "\n",
              "    .colab-df-convert:hover {\n",
              "      background-color: #E2EBFA;\n",
              "      box-shadow: 0px 1px 2px rgba(60, 64, 67, 0.3), 0px 1px 3px 1px rgba(60, 64, 67, 0.15);\n",
              "      fill: #174EA6;\n",
              "    }\n",
              "\n",
              "    .colab-df-buttons div {\n",
              "      margin-bottom: 4px;\n",
              "    }\n",
              "\n",
              "    [theme=dark] .colab-df-convert {\n",
              "      background-color: #3B4455;\n",
              "      fill: #D2E3FC;\n",
              "    }\n",
              "\n",
              "    [theme=dark] .colab-df-convert:hover {\n",
              "      background-color: #434B5C;\n",
              "      box-shadow: 0px 1px 3px 1px rgba(0, 0, 0, 0.15);\n",
              "      filter: drop-shadow(0px 1px 2px rgba(0, 0, 0, 0.3));\n",
              "      fill: #FFFFFF;\n",
              "    }\n",
              "  </style>\n",
              "\n",
              "    <script>\n",
              "      const buttonEl =\n",
              "        document.querySelector('#df-8e56d95c-d9db-4bd7-bffe-3db762973081 button.colab-df-convert');\n",
              "      buttonEl.style.display =\n",
              "        google.colab.kernel.accessAllowed ? 'block' : 'none';\n",
              "\n",
              "      async function convertToInteractive(key) {\n",
              "        const element = document.querySelector('#df-8e56d95c-d9db-4bd7-bffe-3db762973081');\n",
              "        const dataTable =\n",
              "          await google.colab.kernel.invokeFunction('convertToInteractive',\n",
              "                                                    [key], {});\n",
              "        if (!dataTable) return;\n",
              "\n",
              "        const docLinkHtml = 'Like what you see? Visit the ' +\n",
              "          '<a target=\"_blank\" href=https://colab.research.google.com/notebooks/data_table.ipynb>data table notebook</a>'\n",
              "          + ' to learn more about interactive tables.';\n",
              "        element.innerHTML = '';\n",
              "        dataTable['output_type'] = 'display_data';\n",
              "        await google.colab.output.renderOutput(dataTable, element);\n",
              "        const docLink = document.createElement('div');\n",
              "        docLink.innerHTML = docLinkHtml;\n",
              "        element.appendChild(docLink);\n",
              "      }\n",
              "    </script>\n",
              "  </div>\n",
              "\n",
              "\n",
              "    <div id=\"df-980893d0-409e-48a3-8d73-09d8886b7a4b\">\n",
              "      <button class=\"colab-df-quickchart\" onclick=\"quickchart('df-980893d0-409e-48a3-8d73-09d8886b7a4b')\"\n",
              "                title=\"Suggest charts\"\n",
              "                style=\"display:none;\">\n",
              "\n",
              "<svg xmlns=\"http://www.w3.org/2000/svg\" height=\"24px\"viewBox=\"0 0 24 24\"\n",
              "     width=\"24px\">\n",
              "    <g>\n",
              "        <path d=\"M19 3H5c-1.1 0-2 .9-2 2v14c0 1.1.9 2 2 2h14c1.1 0 2-.9 2-2V5c0-1.1-.9-2-2-2zM9 17H7v-7h2v7zm4 0h-2V7h2v10zm4 0h-2v-4h2v4z\"/>\n",
              "    </g>\n",
              "</svg>\n",
              "      </button>\n",
              "\n",
              "<style>\n",
              "  .colab-df-quickchart {\n",
              "      --bg-color: #E8F0FE;\n",
              "      --fill-color: #1967D2;\n",
              "      --hover-bg-color: #E2EBFA;\n",
              "      --hover-fill-color: #174EA6;\n",
              "      --disabled-fill-color: #AAA;\n",
              "      --disabled-bg-color: #DDD;\n",
              "  }\n",
              "\n",
              "  [theme=dark] .colab-df-quickchart {\n",
              "      --bg-color: #3B4455;\n",
              "      --fill-color: #D2E3FC;\n",
              "      --hover-bg-color: #434B5C;\n",
              "      --hover-fill-color: #FFFFFF;\n",
              "      --disabled-bg-color: #3B4455;\n",
              "      --disabled-fill-color: #666;\n",
              "  }\n",
              "\n",
              "  .colab-df-quickchart {\n",
              "    background-color: var(--bg-color);\n",
              "    border: none;\n",
              "    border-radius: 50%;\n",
              "    cursor: pointer;\n",
              "    display: none;\n",
              "    fill: var(--fill-color);\n",
              "    height: 32px;\n",
              "    padding: 0;\n",
              "    width: 32px;\n",
              "  }\n",
              "\n",
              "  .colab-df-quickchart:hover {\n",
              "    background-color: var(--hover-bg-color);\n",
              "    box-shadow: 0 1px 2px rgba(60, 64, 67, 0.3), 0 1px 3px 1px rgba(60, 64, 67, 0.15);\n",
              "    fill: var(--button-hover-fill-color);\n",
              "  }\n",
              "\n",
              "  .colab-df-quickchart-complete:disabled,\n",
              "  .colab-df-quickchart-complete:disabled:hover {\n",
              "    background-color: var(--disabled-bg-color);\n",
              "    fill: var(--disabled-fill-color);\n",
              "    box-shadow: none;\n",
              "  }\n",
              "\n",
              "  .colab-df-spinner {\n",
              "    border: 2px solid var(--fill-color);\n",
              "    border-color: transparent;\n",
              "    border-bottom-color: var(--fill-color);\n",
              "    animation:\n",
              "      spin 1s steps(1) infinite;\n",
              "  }\n",
              "\n",
              "  @keyframes spin {\n",
              "    0% {\n",
              "      border-color: transparent;\n",
              "      border-bottom-color: var(--fill-color);\n",
              "      border-left-color: var(--fill-color);\n",
              "    }\n",
              "    20% {\n",
              "      border-color: transparent;\n",
              "      border-left-color: var(--fill-color);\n",
              "      border-top-color: var(--fill-color);\n",
              "    }\n",
              "    30% {\n",
              "      border-color: transparent;\n",
              "      border-left-color: var(--fill-color);\n",
              "      border-top-color: var(--fill-color);\n",
              "      border-right-color: var(--fill-color);\n",
              "    }\n",
              "    40% {\n",
              "      border-color: transparent;\n",
              "      border-right-color: var(--fill-color);\n",
              "      border-top-color: var(--fill-color);\n",
              "    }\n",
              "    60% {\n",
              "      border-color: transparent;\n",
              "      border-right-color: var(--fill-color);\n",
              "    }\n",
              "    80% {\n",
              "      border-color: transparent;\n",
              "      border-right-color: var(--fill-color);\n",
              "      border-bottom-color: var(--fill-color);\n",
              "    }\n",
              "    90% {\n",
              "      border-color: transparent;\n",
              "      border-bottom-color: var(--fill-color);\n",
              "    }\n",
              "  }\n",
              "</style>\n",
              "\n",
              "      <script>\n",
              "        async function quickchart(key) {\n",
              "          const quickchartButtonEl =\n",
              "            document.querySelector('#' + key + ' button');\n",
              "          quickchartButtonEl.disabled = true;  // To prevent multiple clicks.\n",
              "          quickchartButtonEl.classList.add('colab-df-spinner');\n",
              "          try {\n",
              "            const charts = await google.colab.kernel.invokeFunction(\n",
              "                'suggestCharts', [key], {});\n",
              "          } catch (error) {\n",
              "            console.error('Error during call to suggestCharts:', error);\n",
              "          }\n",
              "          quickchartButtonEl.classList.remove('colab-df-spinner');\n",
              "          quickchartButtonEl.classList.add('colab-df-quickchart-complete');\n",
              "        }\n",
              "        (() => {\n",
              "          let quickchartButtonEl =\n",
              "            document.querySelector('#df-980893d0-409e-48a3-8d73-09d8886b7a4b button');\n",
              "          quickchartButtonEl.style.display =\n",
              "            google.colab.kernel.accessAllowed ? 'block' : 'none';\n",
              "        })();\n",
              "      </script>\n",
              "    </div>\n",
              "\n",
              "  <div id=\"id_f1d5275e-6e7d-457f-928c-a8e768172d72\">\n",
              "    <style>\n",
              "      .colab-df-generate {\n",
              "        background-color: #E8F0FE;\n",
              "        border: none;\n",
              "        border-radius: 50%;\n",
              "        cursor: pointer;\n",
              "        display: none;\n",
              "        fill: #1967D2;\n",
              "        height: 32px;\n",
              "        padding: 0 0 0 0;\n",
              "        width: 32px;\n",
              "      }\n",
              "\n",
              "      .colab-df-generate:hover {\n",
              "        background-color: #E2EBFA;\n",
              "        box-shadow: 0px 1px 2px rgba(60, 64, 67, 0.3), 0px 1px 3px 1px rgba(60, 64, 67, 0.15);\n",
              "        fill: #174EA6;\n",
              "      }\n",
              "\n",
              "      [theme=dark] .colab-df-generate {\n",
              "        background-color: #3B4455;\n",
              "        fill: #D2E3FC;\n",
              "      }\n",
              "\n",
              "      [theme=dark] .colab-df-generate:hover {\n",
              "        background-color: #434B5C;\n",
              "        box-shadow: 0px 1px 3px 1px rgba(0, 0, 0, 0.15);\n",
              "        filter: drop-shadow(0px 1px 2px rgba(0, 0, 0, 0.3));\n",
              "        fill: #FFFFFF;\n",
              "      }\n",
              "    </style>\n",
              "    <button class=\"colab-df-generate\" onclick=\"generateWithVariable('graded_categorized')\"\n",
              "            title=\"Generate code using this dataframe.\"\n",
              "            style=\"display:none;\">\n",
              "\n",
              "  <svg xmlns=\"http://www.w3.org/2000/svg\" height=\"24px\"viewBox=\"0 0 24 24\"\n",
              "       width=\"24px\">\n",
              "    <path d=\"M7,19H8.4L18.45,9,17,7.55,7,17.6ZM5,21V16.75L18.45,3.32a2,2,0,0,1,2.83,0l1.4,1.43a1.91,1.91,0,0,1,.58,1.4,1.91,1.91,0,0,1-.58,1.4L9.25,21ZM18.45,9,17,7.55Zm-12,3A5.31,5.31,0,0,0,4.9,8.1,5.31,5.31,0,0,0,1,6.5,5.31,5.31,0,0,0,4.9,4.9,5.31,5.31,0,0,0,6.5,1,5.31,5.31,0,0,0,8.1,4.9,5.31,5.31,0,0,0,12,6.5,5.46,5.46,0,0,0,6.5,12Z\"/>\n",
              "  </svg>\n",
              "    </button>\n",
              "    <script>\n",
              "      (() => {\n",
              "      const buttonEl =\n",
              "        document.querySelector('#id_f1d5275e-6e7d-457f-928c-a8e768172d72 button.colab-df-generate');\n",
              "      buttonEl.style.display =\n",
              "        google.colab.kernel.accessAllowed ? 'block' : 'none';\n",
              "\n",
              "      buttonEl.onclick = () => {\n",
              "        google.colab.notebook.generateWithVariable('graded_categorized');\n",
              "      }\n",
              "      })();\n",
              "    </script>\n",
              "  </div>\n",
              "\n",
              "    </div>\n",
              "  </div>\n"
            ],
            "application/vnd.google.colaboratory.intrinsic+json": {
              "type": "dataframe",
              "variable_name": "graded_categorized"
            }
          },
          "metadata": {},
          "execution_count": 6
        }
      ],
      "source": [
        "categorized_search = CategorySearch(products, categorized)\n",
        "graded_categorized = run_strategy(categorized_search)\n",
        "graded_categorized"
      ]
    },
    {
      "cell_type": "code",
      "source": [
        "graded_categorized['query'].unique()"
      ],
      "metadata": {
        "colab": {
          "base_uri": "https://localhost:8080/"
        },
        "id": "pMWZj_QOf8sg",
        "outputId": "6d514348-5721-4a6e-e2f9-d45a88c98fdd"
      },
      "execution_count": null,
      "outputs": [
        {
          "output_type": "execute_result",
          "data": {
            "text/plain": [
              "array(['salon chair', 'smart coffee table', 'dinosaur',\n",
              "       'turquoise pillows', 'chair and a half recliner',\n",
              "       'sofa with ottoman', 'acrylic clear chair', 'driftwood mirror',\n",
              "       'home sweet home sign', 'coffee table fire pit', 'king poster bed',\n",
              "       'ombre rug', 'large spoon and fork wall decor',\n",
              "       'outdoor privacy wall', 'beds that have leds',\n",
              "       'black 5 drawer dresser by guilford', 'blk 18x18 seat cushions',\n",
              "       'closet storage with zipper',\n",
              "       'chrome bathroom 4 light vanity light', 'gurney  slade 56',\n",
              "       'foutains with brick look', 'living curtains pearl',\n",
              "       'light and navy blue decorative pillow',\n",
              "       'stoneford end tables white and wood',\n",
              "       'wood coffee table set by storage', 'sunflower', 'leather chairs',\n",
              "       'outdoor welcome rug', 'rooster decor', 'bathroom vanity knobs',\n",
              "       '3 1/2 inch drawer pull', 'burnt orange curtains',\n",
              "       'dark gray dresser', 'non slip shower floor tile',\n",
              "       'bar stool with backrest', 'enclosed shoe rack',\n",
              "       'laundry basket with wheels', 'bar stool 24 inches height',\n",
              "       'calvin patio chair', 'door jewelry organizer',\n",
              "       'elegant executive chair', 'closet pull out valet rod',\n",
              "       'toddler couch fold out', 'solid teak end table',\n",
              "       'chrome shower head and valve', '70s inspired furniture',\n",
              "       'beach blue headboard', 'porcelain loaf pan', 'arwen table lamp',\n",
              "       'moen matte black hooks', 'tufted chair with gold legs',\n",
              "       'kohen 5 drawer dresser', 'westling coffee table',\n",
              "       'carolyn console table', 'wayfair sleep zippered',\n",
              "       'tollette teal outdoor rug', 'royal blue counter height chairs',\n",
              "       'jordanna solid wood rocking', 'medium size chandelier',\n",
              "       'broadway lever', 'capricorn chest',\n",
              "       'overstreet rustic pub stools', '7qt slow cooker',\n",
              "       'monthly calendar', 'zachary 72.5', 'gnome fairy garden',\n",
              "       'novara pergola', 'osgood mirror', 'nautical platters',\n",
              "       'wall sconce with usb port', 'annex dresser',\n",
              "       'infant girl crib bedding', 'fold in half table',\n",
              "       'certified international melamine', 'serta kleinmon',\n",
              "       'sheffield home bath set', '46 inch closet door',\n",
              "       'sancroft armchair', 'dorel vanity', 'palram harmony greenhouses',\n",
              "       '7 draw white dresser', 'orren ellis l shape desk',\n",
              "       'bathroom vanity with counter space', 'wall art fiji',\n",
              "       'full metal bed rose gold', '3/4 size mattress',\n",
              "       'aloe vera plant pot', 'vlad modular sectional',\n",
              "       'rose gold lounge', 'whimsical solar lights',\n",
              "       'filaret outdoor sofa', 'industrial pipe dining  table',\n",
              "       'antique silver entry table', 'outdoor sectional dining',\n",
              "       'kohler whitehaven farmhouse kitchen sink',\n",
              "       'entertainment stand end table', 'bar room wall decor',\n",
              "       'regner power loom red', 'gracie oaks 62 oller 14 ceiling fan',\n",
              "       'arched christmas tree', 'tufted upholstered bed diamond',\n",
              "       '48 in entry table with side by side drawer', 'flamingo',\n",
              "       'kitchen anti fatigue mats', 'flour and sugar containers',\n",
              "       'outdoor movie screen', 'bed risers', 'front porch furniture sets',\n",
              "       'ayesha curry kitchen', 'hillsby oriental rug', 'mila task chair',\n",
              "       'delta trinsic', 'pineapple', 'led light strip',\n",
              "       'geralyn upholstered storage platform bed', 'peacock',\n",
              "       'brockham solid blackout thermal grommet curtain panels',\n",
              "       'tall storage cabinet', 'body pillow case', 'welcome sign',\n",
              "       'zodiac pillow', 'upholstered bed', 'king size bed',\n",
              "       'entrance table', 'unique coffee tables', 'boho bed frame',\n",
              "       'leather dining chairs', 'wine bar', 'block coffee table',\n",
              "       'wainscoting ideas', 'entertainment console', 'kids chair',\n",
              "       'farmhouse cabinet', 'outdoor light fixtures',\n",
              "       'black hanging bookshelf', 'low profile loveseat recliner',\n",
              "       'black fluffy stool', 'orren ellis l shaped desk',\n",
              "       'glass doors for bath', 'auburn throw pillows',\n",
              "       'wire basket with dividers', 'podium with locking cabinet',\n",
              "       'kitchen wooden stand', 'queen wingback chair', 'rug plum',\n",
              "       'liberty hardware francisco', 'laundry vanity cabinet',\n",
              "       'drum picture', 'industrial', 'mid century modern', 'dumbbells',\n",
              "       'leather chair', 'wishbone chair', 'bohemian', 'floating bed',\n",
              "       'papasan chair frame only', 'velvet chaise', 'led nightstand',\n",
              "       'meditation', 'marble', 'accent chair recliner', 'turquoise chair',\n",
              "       'dual monitor stand', 'modern outdoor furniture',\n",
              "       'kitchen storage shelves', 'feather wall art', 'camper',\n",
              "       'printers', 'coffee bar buffet', 'zen', 'nectar queen mattress',\n",
              "       'picasso', 'bedroom accessories', 'star wars rug',\n",
              "       'basket planter', 'mexican art', 'rustic storage cabinet',\n",
              "       'almost heaven sauna', 'promo codes or discounts',\n",
              "       'outdoor lounge cushions', 'e12/candelabra', 'penny round tile',\n",
              "       'farmhouse bread box', 'sugar canister', 'lunch bag',\n",
              "       'board game storage cabinet',\n",
              "       'bedroom wall decor floral, multicolored with some teal (prints)',\n",
              "       'big basket for dirty cloths',\n",
              "       'benjiamino faux leather power lift chair',\n",
              "       'biycicle plant stands', 'belchertown table lamp',\n",
              "       'black frame 22 x 36', 'black freestanding tub  with faucet',\n",
              "       'chabely 5 draw chest', 'desk for kids tjat ate 10 year old',\n",
              "       'cake plates with tops', 'blue faux throw with pillows',\n",
              "       'ceramic tile sea shell',\n",
              "       'delta trinsic double towel hook in champagne bronze',\n",
              "       'full mattress padded liner', 'ge top loading washer 4.5',\n",
              "       'fleur de lis living candle wall sconce bronze',\n",
              "       'ines shag rug w003096809', 'grill cover 73',\n",
              "       'dull bed with shirt head board', 'fawkes 36\" blue vanity',\n",
              "       'door pulls bronze matte 4 inch',\n",
              "       'love seat wide faux leather tuxedo arm sofa',\n",
              "       'memory foam rug galveston', 'nettie 5 pc bar set',\n",
              "       'kraus kitchen sink faucet oletto kpf 2820 sfs',\n",
              "       'light wood nightstand with silver accents',\n",
              "       'king adjustable bed including mattress', 'music plug wall plate',\n",
              "       'wand bunk beds', 'trinaic towel rod', 'sheets for twinxl',\n",
              "       'small space dining table and chairs sets',\n",
              "       'small loving roomtables', 'wisdom stone river 3-3/4',\n",
              "       'twin over full bunk beds cool desins',\n",
              "       'white splashproof shiplap wallpaper', 'power lift chair', 'owl',\n",
              "       'bee', 'waterfall faucet', 'gold', 'anti fatigue mat',\n",
              "       'storage dresser', 'kelly clarkson light fixtures',\n",
              "       'artificial orchid arrangement', 'bathroom wastebasket',\n",
              "       '3 piece rug set with runners', 'cloud modular sectional',\n",
              "       'outdoor seat/back cushion', 'bathroom single faucet',\n",
              "       'eiffel tower wall art', 'decorative wall clocks',\n",
              "       'accent leather chair', 'indoor multi tiered plant stand',\n",
              "       'pull out sleeper loveseat', 'anchor decor',\n",
              "       'clear shower curtain', 'beaded curtains', 'surge protector',\n",
              "       'bistro table and chairs', 'multi color rug', 'coffee container',\n",
              "       'accent chairs living room', 'antique brass faucet',\n",
              "       'comfortable accent chair', 'desk and chair set',\n",
              "       'high weight capacity bunk beds', 'living room coffee table sets',\n",
              "       'breakfast bar table', 'nursery end table',\n",
              "       'retractable side awning', 'semi flush foyer light',\n",
              "       'bathroom freestanding cabinet', 'small curtain rods',\n",
              "       'cortez pillow', 'candace wingback upholstered bed',\n",
              "       'champagne velvet desk chair', 'dolomite subway tile',\n",
              "       'betty resin free standing umbrella', 'donaldson teak couch',\n",
              "       'edge chair mat', 'chinese flower stand', 'oliver parsons',\n",
              "       'stainless steel free standing shower caddy',\n",
              "       'gowdy height adjustable standing desk', 'hinged square ottoman',\n",
              "       'chaves l-shape floating desk with hutch', 'barstool patio sets',\n",
              "       'parakeet toy', 'marlon tufted queen bed',\n",
              "       'johan desk by laurel foundry', 'brunk ship wheel',\n",
              "       'grantola wall mirror', 'gaia driftwood table', 'family lamp',\n",
              "       '48\" sliding single track , barn door for laundry',\n",
              "       'hitchcock mid-century wall shelf',\n",
              "       'cover set for outdoor furniture', 'round outdoor patio cover',\n",
              "       'coma inducer comforter king set', 'mission double vanity',\n",
              "       'front door cabinet with doors', 'decorative white pillow',\n",
              "       'wood floor protector mat', 'moen multi function dual shower head',\n",
              "       'end table between recliners', 'zakariyah twin platform',\n",
              "       'seat cushions desk', 'small woven pouf',\n",
              "       'animal print handmade tufted wool beige/black area rug by allmodern',\n",
              "       'circle cabinet pulls', 'mattress foam topper queen',\n",
              "       'hawaii vintage art', 'merlyn 6', 'ligth bulb',\n",
              "       'mobley zero gravity adjustable bed with wireless remote',\n",
              "       'real touch roses floral arrangements in glass vase', 'led 60',\n",
              "       'moen 5995 arbor one', 'meade mirror', 'odum velvet',\n",
              "       'coat rack for bedroom', 'malachi sled', 'body pillow and case',\n",
              "       'medium clips', 'rolande heavy duty power lift assist recliner',\n",
              "       'hulmeville writing desk with hutch', 'sunjoy lantern',\n",
              "       'landis wall mounted bathroom shelves',\n",
              "       'blaylock bookcase headboard',\n",
              "       'hussain handmade tufted magenta rug', 'cream queen duvet cover',\n",
              "       'hub leaning full length mirror', 'chase utility laundry cart',\n",
              "       'outdoor waterproof chest', 'bowersville ladder writing desk',\n",
              "       'kohler purist brushed bronze', 'golub dining table',\n",
              "       'wayfair tension rod', 'kari 2 piece', 'upholstered girls bed',\n",
              "       'attleboro drum coffee table', 'stainless steel colander set',\n",
              "       'itchington butterfly', 'canadian', 'mystic swivel',\n",
              "       'iittala bowl', 'mahone porch rocking chair', 'ruckus chair',\n",
              "       'berenice 4 storage cabinet', 'canvas map art',\n",
              "       'brendon counter stool', 'navy and peach bedding',\n",
              "       'ottoman bed queen', 'oriental vanity', 'nesting tray set',\n",
              "       'olive green console table', 'one alium way', 'mud room sign',\n",
              "       'white bathroom vanity black hardware', 'amarillo',\n",
              "       'pennfield playhouse', 'tressler rug', 'argenteuil',\n",
              "       'platform bed side table', 'tall free standing pet gate',\n",
              "       'sliding closet mirror', 'french molding',\n",
              "       'huntsville sectional sofa', 'kisner', 'brushed gold wall decor',\n",
              "       'fortunat coffee table', 'croscill ashton', 'gas detector',\n",
              "       'drudge report', 'wooden chair outdoor', 'pasta tools',\n",
              "       'wrought tv stand', 'rug for teen room', 'milk cow chair',\n",
              "       'verden callan', 'togo chair', 'sinks bed frame',\n",
              "       'pastel pink desk chair', 'island estate coffee table',\n",
              "       'glinda upholstered bench',\n",
              "       'cliffside 5 light candle style drum chandelier',\n",
              "       'urban outfitters duvet', 'gravity feeder', 'farmhouse hood vent',\n",
              "       'counter top one cup hot water dispenser', 'minnestrista',\n",
              "       'dining table vinyl cloth', 'mom urn', 'alter furniture',\n",
              "       'self enclosed planters', 'outdoor sectional doning',\n",
              "       'brush nickel faucet bathroom', 'cushion replacement insert',\n",
              "       'writing desk 48\"', 'china clock', 'propane gas dryer',\n",
              "       'gray leather cocktail table', 'pantry grey', 'alyse 8 light',\n",
              "       'maryford queen tufted bed', 'super bright lights',\n",
              "       '12v dirt bike', 'small ladies rocker swivel recliner',\n",
              "       'glass lsmp shades', 'modern farmhouse lighting semi flush mount',\n",
              "       'wood rack wide', 'large cushion outdoor chair',\n",
              "       'queen ann style living room chair',\n",
              "       'refrigerator with ice an water in door', 'huge bookcase',\n",
              "       'girl reading statue', 'teal chair', 'pool floats',\n",
              "       'outdoor clock',\n",
              "       'jennie tufted upholstered low profile platform bed',\n",
              "       'burruss patio sectional with cushions', 'shower hooks',\n",
              "       'toilet paper stand', 'wayfair coffee table', 'twin bed frame',\n",
              "       'writing desk', 'living room ideas', 'tile backsplash',\n",
              "       'dining room tables', 'ergonomic chair', 'wall shelves',\n",
              "       'wayfair comforters', 'side table with storage', 'outdoor storage',\n",
              "       'lowes tile', 'kitchen storage cabinet', 'gray dresser',\n",
              "       '30 inch bathroom vanity', 'shoe bench entryway',\n",
              "       'butcher block island', 'trundle daybed', 'bathroom lighting',\n",
              "       'shoe closet', 'full bed with trundle',\n",
              "       'kitchen islands with seating', 'indoor water fountain',\n",
              "       'parsons chairs', 'wood bar stools', 'desk for kids',\n",
              "       'above toilet cabinet', 'patio design', 'outdoor lounge chair',\n",
              "       'chaise lounge couch', 'card table', 'tall buffet cabinet',\n",
              "       'bed side table', 'living room designs', 'aiden black velvet bed',\n",
              "       'day bed indian', 'midcentury tv unit', 'carpet 5x6',\n",
              "       'deer coat hooks', 'wall design shelf', '5 gang light switch',\n",
              "       'bubble guppies chair', 'tye dye duvet cover',\n",
              "       'small wardrobe grey', 'luau string lights', 'large bases',\n",
              "       'bistro sets patio', 'cake cutlery', 'white abstract',\n",
              "       'rock climbing wall kids', 'town & country living curtains',\n",
              "       'glow in the dark silent wall clock', 'garage sports storage rack',\n",
              "       'elephant framed', 'adjustable height artist stool',\n",
              "       'window wall accent', 'chair pillow cushion',\n",
              "       '48 inch bathroom vanity with trough sink', 'rattan truck',\n",
              "       'hardwood beds', 'worn leather office chair',\n",
              "       'garage door mail slot', 'pictures to hang over fireplace',\n",
              "       'emma headboard', '48 inch kitchen hood', 'rustic twig',\n",
              "       'nespresso vertuo next premium by breville with aeroccino',\n",
              "       'pedistole sink', '54 in bench cushion', 'rack glass'],\n",
              "      dtype=object)"
            ]
          },
          "metadata": {},
          "execution_count": 7
        }
      ]
    },
    {
      "cell_type": "markdown",
      "source": [
        "### Analyze the change\n",
        "\n",
        "1. Look at the mean NDCG between the BM25 baseline and this search strategy. We note a nice improvement.\n",
        "\n",
        "2. We then take a look at what changes were significantly improved or harmed to ask whether we would ship this to prod?\n",
        "\n",
        "3. An we look at individual queries"
      ],
      "metadata": {
        "id": "kAKrJPDvu151"
      }
    },
    {
      "cell_type": "code",
      "execution_count": null,
      "metadata": {
        "id": "FRPiJHEgaOnl"
      },
      "outputs": [],
      "source": [
        "ndcgs(graded_bm25).mean(), ndcgs(graded_categorized).mean()"
      ]
    },
    {
      "cell_type": "code",
      "execution_count": null,
      "metadata": {
        "id": "ORAOMuhIbne6"
      },
      "outputs": [],
      "source": [
        "deltas = ndcg_delta(graded_categorized, graded_bm25)\n",
        "deltas"
      ]
    },
    {
      "cell_type": "code",
      "source": [
        "sig_improved = len(deltas[deltas > 0.1])\n",
        "print(f\"Num Significatly Improved: {sig_improved}\")\n",
        "deltas[deltas > 0.1]"
      ],
      "metadata": {
        "id": "V39OEEtoh0Yb"
      },
      "execution_count": null,
      "outputs": []
    },
    {
      "cell_type": "code",
      "source": [
        "sig_harmed = len(deltas[deltas < -0.1])\n",
        "print(f\"Num Significatly Harmed: {sig_harmed}\")\n",
        "print(f\"Prop improved/harmed: {sig_improved / (sig_harmed + sig_improved)} | {sig_harmed / (sig_harmed + sig_improved)}\")\n",
        "deltas[deltas < -0.1]"
      ],
      "metadata": {
        "id": "iqW5QUVHiEXA"
      },
      "execution_count": null,
      "outputs": []
    },
    {
      "cell_type": "code",
      "source": [
        "categorized(\"chair pillow cushion\")"
      ],
      "metadata": {
        "id": "L5VE3PxI8i4Q"
      },
      "execution_count": null,
      "outputs": []
    },
    {
      "cell_type": "markdown",
      "metadata": {
        "id": "Ay27Xxf4mrUG"
      },
      "source": [
        "### Look at a query"
      ]
    },
    {
      "cell_type": "code",
      "execution_count": null,
      "metadata": {
        "id": "syEYAzRajypT"
      },
      "outputs": [],
      "source": [
        "QUERY = \"bathroom vanity knobs\"\n",
        "categorized(QUERY)"
      ]
    },
    {
      "cell_type": "code",
      "execution_count": null,
      "metadata": {
        "id": "dSyLRsLkjgx1"
      },
      "outputs": [],
      "source": [
        "graded_categorized[graded_categorized['query'] == QUERY][['product_name', 'category hierarchy', 'grade']]"
      ]
    },
    {
      "cell_type": "code",
      "execution_count": null,
      "metadata": {
        "id": "R-6azIQyjrZe"
      },
      "outputs": [],
      "source": [
        "graded_bm25[graded_bm25['query'] == QUERY][['product_name', 'category hierarchy', 'grade']]"
      ]
    },
    {
      "cell_type": "markdown",
      "metadata": {
        "id": "5qgZQTqvmtBb"
      },
      "source": [
        "## Define a ground truth for categories / subcategories\n",
        "\n",
        "We're going to need to focus in on our classifier's specific performance, so we can understand how its performance relates to NDCG improvements, etc.\n",
        "\n",
        "This will let us debug our classifier's errors more carefully."
      ]
    },
    {
      "cell_type": "code",
      "execution_count": null,
      "metadata": {
        "id": "fJzsb6PHpaez"
      },
      "outputs": [],
      "source": [
        "CUTOFF = 0.8\n",
        "\n",
        "from cheat_at_search.wands_data import labeled_query_products, queries\n",
        "\n",
        "# Get relevant products per query\n",
        "top_products = labeled_query_products[labeled_query_products['grade'] == 2]\n",
        "top_products"
      ]
    },
    {
      "cell_type": "code",
      "execution_count": null,
      "metadata": {
        "id": "LqmVg4Ijpf11"
      },
      "outputs": [],
      "source": [
        "# Aggregate top categories\n",
        "categories_per_query_ideal = top_products.groupby('query')['category'].value_counts().reset_index()\n",
        "categories_per_query_ideal"
      ]
    },
    {
      "cell_type": "code",
      "execution_count": null,
      "metadata": {
        "id": "f6O9U4dmmvfG"
      },
      "outputs": [],
      "source": [
        "# Get as percentage of all categories for this query\n",
        "top_cat_proportion = categories_per_query_ideal.groupby(['query', 'category']).sum() / categories_per_query_ideal.groupby('query').sum()\n",
        "top_cat_proportion = top_cat_proportion.drop(columns='category').reset_index()\n",
        "\n",
        "# Only look at cases where the category is > 0.8\n",
        "top_cat_proportion = top_cat_proportion[top_cat_proportion['count'] > CUTOFF]\n",
        "top_cat_proportion['category'].fillna('No Category Fits', inplace=True)\n",
        "ground_truth_cat = top_cat_proportion\n",
        "ground_truth_cat"
      ]
    },
    {
      "cell_type": "code",
      "execution_count": null,
      "metadata": {
        "id": "ea1Qzrebm4Kg"
      },
      "outputs": [],
      "source": [
        "# Give No Category Fits to all others without dominant category\n",
        "ground_truth_cat = ground_truth_cat.merge(queries, how='right', on='query')[['query', 'category', 'count']]\n",
        "ground_truth_cat['category'].fillna('No Category Fits', inplace=True)\n",
        "ground_truth_cat"
      ]
    },
    {
      "cell_type": "markdown",
      "metadata": {
        "id": "4wvwdh8Pi0U3"
      },
      "source": [
        "### Category prediction prec of baseline"
      ]
    },
    {
      "cell_type": "code",
      "execution_count": null,
      "metadata": {
        "id": "S9UIBKERm9AN"
      },
      "outputs": [],
      "source": [
        "def get_pred(cat, column):\n",
        "    if column == 'category':\n",
        "        return cat.category\n",
        "    elif column == 'sub_category':\n",
        "        return cat.sub_category\n",
        "    else:\n",
        "        raise ValueError(f\"Unknown column {column}\")\n",
        "\n",
        "\n",
        "def prec_cat(ground_truth, column, no_fit_label, categorized, N=500):\n",
        "    hits = []\n",
        "    misses = []\n",
        "    for _, row in ground_truth.sample(frac=1).iterrows():\n",
        "        query = row['query']\n",
        "        expected_category = row[column]\n",
        "\n",
        "        cat = categorized(query)\n",
        "        pred = get_pred(cat, column)\n",
        "        if pred == no_fit_label:\n",
        "            print(f\"Skipping {query}\")\n",
        "            continue\n",
        "        if pred == expected_category.strip():\n",
        "            hits.append((expected_category, cat))\n",
        "        else:\n",
        "            print(\"***\")\n",
        "            print(f\"{query} -- predicted:{cat.category} != expected:{expected_category.strip()}\")\n",
        "            misses.append((expected_category, cat))\n",
        "            num_so_far = len(hits) + len(misses)\n",
        "            print(f\"prec (N={num_so_far}) -- {len(hits) / (len(hits) + len(misses))}\")\n",
        "            print(f\"coverage {num_so_far / len(ground_truth)}\")\n",
        "\n",
        "        if len(hits) + len(misses) > N:\n",
        "            break\n",
        "    return len(hits) / (len(hits) + len(misses)), hits, misses\n",
        "\n",
        "prec, hits, misses = prec_cat(ground_truth_cat, 'category', 'No Category Fits', categorized, N=500)\n",
        "prec"
      ]
    },
    {
      "cell_type": "code",
      "execution_count": null,
      "metadata": {
        "id": "IWpuLBDeN47H"
      },
      "outputs": [],
      "source": [
        "from cheat_at_search.wands_data import labeled_query_products, queries\n",
        "\n",
        "def get_top_category(column, no_fit_label, cutoff=0.8):\n",
        "    # Get relevant products per query\n",
        "    top_products = labeled_query_products[labeled_query_products['grade'] == 2]\n",
        "\n",
        "    # Aggregate top categories\n",
        "    categories_per_query_ideal = top_products.groupby('query')[column].value_counts().reset_index()\n",
        "\n",
        "    # Get as percentage of all categories for this query\n",
        "    top_cat_proportion = categories_per_query_ideal.groupby(['query', column]).sum() / categories_per_query_ideal.groupby('query').sum()\n",
        "    top_cat_proportion = top_cat_proportion.drop(columns=column).reset_index()\n",
        "\n",
        "    # Only look at cases where the category is > 0.8\n",
        "    top_cat_proportion = top_cat_proportion[top_cat_proportion['count'] > CUTOFF]\n",
        "    top_cat_proportion[column].fillna(no_fit_label, inplace=True)\n",
        "    ground_truth_cat = top_cat_proportion\n",
        "    # Give No Category Fits to all others without dominant category\n",
        "    ground_truth_cat = ground_truth_cat.merge(queries, how='right', on='query')[['query', column, 'count']]\n",
        "    ground_truth_cat[column].fillna(no_fit_label, inplace=True)\n",
        "    return ground_truth_cat\n",
        "\n",
        "ground_truth_sub_cat = get_top_category('sub_category', 'No SubCategory Fits')\n",
        "ground_truth_sub_cat"
      ]
    },
    {
      "cell_type": "code",
      "source": [
        "prec, hits, misses = prec_cat(ground_truth_sub_cat, 'sub_category', 'No SubCategory Fits', categorized, N=500)\n",
        "prec"
      ],
      "metadata": {
        "id": "ycRkBka_-dDU"
      },
      "execution_count": null,
      "outputs": []
    },
    {
      "cell_type": "code",
      "source": [
        "impacted_queries = [\n",
        " 'drum picture',\n",
        " 'bathroom freestanding cabinet',\n",
        " 'outdoor lounge chair',\n",
        " 'wood rack wide',\n",
        " 'outdoor light fixtures',\n",
        " 'bathroom vanity knobs',\n",
        " 'door jewelry organizer',\n",
        " 'beds that have leds',\n",
        " 'non slip shower floor tile',\n",
        " 'turquoise chair',\n",
        " 'modern outdoor furniture',\n",
        " 'podium with locking cabinet',\n",
        " 'closet storage with zipper',\n",
        " 'barstool patio sets',\n",
        " 'ayesha curry kitchen',\n",
        " 'led 60',\n",
        " 'wisdom stone river 3-3/4',\n",
        " 'liberty hardware francisco',\n",
        " 'french molding',\n",
        " 'glass doors for bath',\n",
        " 'accent leather chair',\n",
        " 'dark gray dresser',\n",
        " 'wainscoting ideas',\n",
        " 'floating bed',\n",
        " 'dining table vinyl cloth',\n",
        " 'entrance table',\n",
        " 'storage dresser',\n",
        " 'almost heaven sauna',\n",
        " 'toddler couch fold out',\n",
        " 'outdoor welcome rug',\n",
        " 'wooden chair outdoor',\n",
        " 'emma headboard',\n",
        " 'outdoor privacy wall',\n",
        " 'driftwood mirror',\n",
        " 'white abstract',\n",
        " 'bedroom accessories',\n",
        " 'bathroom lighting',\n",
        " 'light and navy blue decorative pillow',\n",
        " 'gnome fairy garden',\n",
        " 'medium size chandelier',\n",
        " 'above toilet cabinet',\n",
        " 'odum velvet',\n",
        " 'ruckus chair',\n",
        " 'modern farmhouse lighting semi flush mount',\n",
        " 'teal chair',\n",
        " 'bedroom wall decor floral, multicolored with some teal (prints)',\n",
        " 'big basket for dirty cloths',\n",
        " 'milk cow chair',\n",
        " 'small wardrobe grey',\n",
        " 'glow in the dark silent wall clock',\n",
        " 'medium clips',\n",
        " 'desk for kids tjat ate 10 year old',\n",
        " 'industrial pipe dining  table',\n",
        " 'itchington butterfly',\n",
        " 'midcentury tv unit',\n",
        " 'gas detector',\n",
        " 'fleur de lis living candle wall sconce bronze',\n",
        " 'zodiac pillow',\n",
        " 'papasan chair frame only',\n",
        " 'bed side table']\n",
        "prec, hits, misses = prec_cat(ground_truth_cat[ground_truth_cat['query'].isin(impacted_queries)],\n",
        "                              'category', 'No Category Fits', categorized, N=500)\n",
        "prec"
      ],
      "metadata": {
        "id": "tZP4VMxxSywr"
      },
      "execution_count": null,
      "outputs": []
    },
    {
      "cell_type": "code",
      "source": [
        "products['category hierarchy'].unique()"
      ],
      "metadata": {
        "id": "r-f_ZEgN-jwn"
      },
      "execution_count": null,
      "outputs": []
    },
    {
      "cell_type": "code",
      "source": [
        "labeled_query_products[labeled_query_products['grade'] == 2][['query', 'category hierarchy', 'grade']]\n",
        "# What category / subcategory occurs in > 80% of the relevant results for each query"
      ],
      "metadata": {
        "id": "C5M3OzmaWDtZ"
      },
      "execution_count": null,
      "outputs": []
    },
    {
      "cell_type": "code",
      "source": [],
      "metadata": {
        "id": "eh7DypFjBVJu"
      },
      "execution_count": null,
      "outputs": []
    }
  ],
  "metadata": {
    "colab": {
      "provenance": [],
      "toc_visible": true
    },
    "kernelspec": {
      "display_name": "Python 3",
      "name": "python3"
    },
    "language_info": {
      "name": "python"
    }
  },
  "nbformat": 4,
  "nbformat_minor": 0
}