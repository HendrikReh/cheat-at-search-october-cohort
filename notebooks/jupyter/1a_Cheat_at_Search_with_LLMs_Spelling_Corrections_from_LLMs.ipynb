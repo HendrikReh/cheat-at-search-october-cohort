{
  "cells": [
    {
      "cell_type": "markdown",
      "metadata": {
        "id": "VVSVNVA3JhhL"
      },
      "source": [
        "# Spelling Correction with LLMs\n",
        "\n",
        "<small>\n",
        "(from <a href=\"http://maven.com/softwaredoug/cheat-at-search\">Cheat at Search with LLMs</a> training course by Doug Turnbull.)\n",
        "</small>\n",
        "\n",
        "We'll use an LLM to correct some search queries. We'll try a first pass naive example, hit some walls, and see where we went wrong.\n",
        "\n",
        "**Note** If you haven't already, you may want te review [the first notebook](https://colab.research.google.com/drive/1aUCvcBa1YdmsbIgYc74jlknl9_iRotp1?authuser=2#scrollTo=ccUNd_mLZWdA) which goes through the helpers and other tools here in more detail."
      ]
    },
    {
      "cell_type": "markdown",
      "metadata": {
        "id": "Kx2BXoqTMmIX"
      },
      "source": [
        "## Boilerplate\n",
        "\n",
        "Install deps, mount GDrive, prompt for your OpenAI Key (placed in your GDrive)"
      ]
    },
    {
      "cell_type": "code",
      "execution_count": null,
      "metadata": {
        "colab": {
          "base_uri": "https://localhost:8080/",
          "height": 1000
        },
        "id": "hWofdB7RMi4z",
        "outputId": "d9d10aaf-6440-418d-8a71-3597546b448b"
      },
      "outputs": [
        {
          "output_type": "stream",
          "name": "stdout",
          "text": [
            "Collecting git+https://github.com/softwaredoug/cheat-at-search.git\n",
            "  Cloning https://github.com/softwaredoug/cheat-at-search.git to /tmp/pip-req-build-koze7w5a\n",
            "  Running command git clone --filter=blob:none --quiet https://github.com/softwaredoug/cheat-at-search.git /tmp/pip-req-build-koze7w5a\n",
            "  Resolved https://github.com/softwaredoug/cheat-at-search.git to commit 38a087b480422fb5f29fea8b25fbfb25f3492da3\n",
            "  Installing build dependencies ... \u001b[?25l\u001b[?25hdone\n",
            "  Getting requirements to build wheel ... \u001b[?25l\u001b[?25hdone\n",
            "  Preparing metadata (pyproject.toml) ... \u001b[?25l\u001b[?25hdone\n",
            "Requirement already satisfied: google-genai<2.0.0,>=1.2.0 in /usr/local/lib/python3.12/dist-packages (from cheat_at_search==0.1.0) (1.39.1)\n",
            "Requirement already satisfied: openai<2.0.0,>=1.84.0 in /usr/local/lib/python3.12/dist-packages (from cheat_at_search==0.1.0) (1.109.1)\n",
            "Requirement already satisfied: pandas<3.0.0,>=2.2.0 in /usr/local/lib/python3.12/dist-packages (from cheat_at_search==0.1.0) (2.2.2)\n",
            "Requirement already satisfied: pyarrow<22.0.0,>=14.0.0 in /usr/local/lib/python3.12/dist-packages (from cheat_at_search==0.1.0) (18.1.0)\n",
            "Requirement already satisfied: pydantic<3.0.0,>=2.11.0 in /usr/local/lib/python3.12/dist-packages (from cheat_at_search==0.1.0) (2.11.9)\n",
            "Requirement already satisfied: pystemmer<4.0.0,>=3.0.0 in /usr/local/lib/python3.12/dist-packages (from cheat_at_search==0.1.0) (3.0.0)\n",
            "Requirement already satisfied: pyyaml<7.0.0,>=6.0.3 in /usr/local/lib/python3.12/dist-packages (from cheat_at_search==0.1.0) (6.0.3)\n",
            "Requirement already satisfied: searcharray<0.0.73,>=0.0.72 in /usr/local/lib/python3.12/dist-packages (from cheat_at_search==0.1.0) (0.0.72)\n",
            "Requirement already satisfied: anyio<5.0.0,>=4.8.0 in /usr/local/lib/python3.12/dist-packages (from google-genai<2.0.0,>=1.2.0->cheat_at_search==0.1.0) (4.11.0)\n",
            "Requirement already satisfied: google-auth<3.0.0,>=2.14.1 in /usr/local/lib/python3.12/dist-packages (from google-genai<2.0.0,>=1.2.0->cheat_at_search==0.1.0) (2.38.0)\n",
            "Requirement already satisfied: httpx<1.0.0,>=0.28.1 in /usr/local/lib/python3.12/dist-packages (from google-genai<2.0.0,>=1.2.0->cheat_at_search==0.1.0) (0.28.1)\n",
            "Requirement already satisfied: requests<3.0.0,>=2.28.1 in /usr/local/lib/python3.12/dist-packages (from google-genai<2.0.0,>=1.2.0->cheat_at_search==0.1.0) (2.32.4)\n",
            "Requirement already satisfied: tenacity<9.2.0,>=8.2.3 in /usr/local/lib/python3.12/dist-packages (from google-genai<2.0.0,>=1.2.0->cheat_at_search==0.1.0) (8.5.0)\n",
            "Requirement already satisfied: websockets<15.1.0,>=13.0.0 in /usr/local/lib/python3.12/dist-packages (from google-genai<2.0.0,>=1.2.0->cheat_at_search==0.1.0) (15.0.1)\n",
            "Requirement already satisfied: typing-extensions<5.0.0,>=4.11.0 in /usr/local/lib/python3.12/dist-packages (from google-genai<2.0.0,>=1.2.0->cheat_at_search==0.1.0) (4.15.0)\n",
            "Requirement already satisfied: distro<2,>=1.7.0 in /usr/local/lib/python3.12/dist-packages (from openai<2.0.0,>=1.84.0->cheat_at_search==0.1.0) (1.9.0)\n",
            "Requirement already satisfied: jiter<1,>=0.4.0 in /usr/local/lib/python3.12/dist-packages (from openai<2.0.0,>=1.84.0->cheat_at_search==0.1.0) (0.11.0)\n",
            "Requirement already satisfied: sniffio in /usr/local/lib/python3.12/dist-packages (from openai<2.0.0,>=1.84.0->cheat_at_search==0.1.0) (1.3.1)\n",
            "Requirement already satisfied: tqdm>4 in /usr/local/lib/python3.12/dist-packages (from openai<2.0.0,>=1.84.0->cheat_at_search==0.1.0) (4.67.1)\n",
            "Requirement already satisfied: numpy>=1.26.0 in /usr/local/lib/python3.12/dist-packages (from pandas<3.0.0,>=2.2.0->cheat_at_search==0.1.0) (2.0.2)\n",
            "Requirement already satisfied: python-dateutil>=2.8.2 in /usr/local/lib/python3.12/dist-packages (from pandas<3.0.0,>=2.2.0->cheat_at_search==0.1.0) (2.9.0.post0)\n",
            "Requirement already satisfied: pytz>=2020.1 in /usr/local/lib/python3.12/dist-packages (from pandas<3.0.0,>=2.2.0->cheat_at_search==0.1.0) (2025.2)\n",
            "Requirement already satisfied: tzdata>=2022.7 in /usr/local/lib/python3.12/dist-packages (from pandas<3.0.0,>=2.2.0->cheat_at_search==0.1.0) (2025.2)\n",
            "Requirement already satisfied: annotated-types>=0.6.0 in /usr/local/lib/python3.12/dist-packages (from pydantic<3.0.0,>=2.11.0->cheat_at_search==0.1.0) (0.7.0)\n",
            "Requirement already satisfied: pydantic-core==2.33.2 in /usr/local/lib/python3.12/dist-packages (from pydantic<3.0.0,>=2.11.0->cheat_at_search==0.1.0) (2.33.2)\n",
            "Requirement already satisfied: typing-inspection>=0.4.0 in /usr/local/lib/python3.12/dist-packages (from pydantic<3.0.0,>=2.11.0->cheat_at_search==0.1.0) (0.4.2)\n",
            "Requirement already satisfied: Cython in /usr/local/lib/python3.12/dist-packages (from searcharray<0.0.73,>=0.0.72->cheat_at_search==0.1.0) (3.0.12)\n",
            "Requirement already satisfied: idna>=2.8 in /usr/local/lib/python3.12/dist-packages (from anyio<5.0.0,>=4.8.0->google-genai<2.0.0,>=1.2.0->cheat_at_search==0.1.0) (3.10)\n",
            "Requirement already satisfied: cachetools<6.0,>=2.0.0 in /usr/local/lib/python3.12/dist-packages (from google-auth<3.0.0,>=2.14.1->google-genai<2.0.0,>=1.2.0->cheat_at_search==0.1.0) (5.5.2)\n",
            "Requirement already satisfied: pyasn1-modules>=0.2.1 in /usr/local/lib/python3.12/dist-packages (from google-auth<3.0.0,>=2.14.1->google-genai<2.0.0,>=1.2.0->cheat_at_search==0.1.0) (0.4.2)\n",
            "Requirement already satisfied: rsa<5,>=3.1.4 in /usr/local/lib/python3.12/dist-packages (from google-auth<3.0.0,>=2.14.1->google-genai<2.0.0,>=1.2.0->cheat_at_search==0.1.0) (4.9.1)\n",
            "Requirement already satisfied: certifi in /usr/local/lib/python3.12/dist-packages (from httpx<1.0.0,>=0.28.1->google-genai<2.0.0,>=1.2.0->cheat_at_search==0.1.0) (2025.8.3)\n",
            "Requirement already satisfied: httpcore==1.* in /usr/local/lib/python3.12/dist-packages (from httpx<1.0.0,>=0.28.1->google-genai<2.0.0,>=1.2.0->cheat_at_search==0.1.0) (1.0.9)\n",
            "Requirement already satisfied: h11>=0.16 in /usr/local/lib/python3.12/dist-packages (from httpcore==1.*->httpx<1.0.0,>=0.28.1->google-genai<2.0.0,>=1.2.0->cheat_at_search==0.1.0) (0.16.0)\n",
            "Requirement already satisfied: six>=1.5 in /usr/local/lib/python3.12/dist-packages (from python-dateutil>=2.8.2->pandas<3.0.0,>=2.2.0->cheat_at_search==0.1.0) (1.17.0)\n",
            "Requirement already satisfied: charset_normalizer<4,>=2 in /usr/local/lib/python3.12/dist-packages (from requests<3.0.0,>=2.28.1->google-genai<2.0.0,>=1.2.0->cheat_at_search==0.1.0) (3.4.3)\n",
            "Requirement already satisfied: urllib3<3,>=1.21.1 in /usr/local/lib/python3.12/dist-packages (from requests<3.0.0,>=2.28.1->google-genai<2.0.0,>=1.2.0->cheat_at_search==0.1.0) (2.5.0)\n",
            "Requirement already satisfied: pyasn1<0.7.0,>=0.6.1 in /usr/local/lib/python3.12/dist-packages (from pyasn1-modules>=0.2.1->google-auth<3.0.0,>=2.14.1->google-genai<2.0.0,>=1.2.0->cheat_at_search==0.1.0) (0.6.1)\n",
            "Drive already mounted at /content/drive; to attempt to forcibly remount, call drive.mount(\"/content/drive\", force_remount=True).\n",
            "2025-10-08 17:49:12,124 - data_dir - ERROR - Failed to update https://github.com/softwaredoug/WANDS.git dataset: fatal: Unable to create '/content/drive/MyDrive/cheat-at-search-data/wands_enriched/.git/index.lock': File exists.\n",
            "\n",
            "Another git process seems to be running in this repository, e.g.\n",
            "an editor opened by 'git commit'. Please make sure all processes\n",
            "are terminated then try again. If it still fails, a git process\n",
            "may have crashed in this repository earlier:\n",
            "remove the file manually to continue.\n",
            "\n"
          ]
        },
        {
          "output_type": "stream",
          "name": "stderr",
          "text": [
            "ERROR:data_dir:Failed to update https://github.com/softwaredoug/WANDS.git dataset: fatal: Unable to create '/content/drive/MyDrive/cheat-at-search-data/wands_enriched/.git/index.lock': File exists.\n",
            "\n",
            "Another git process seems to be running in this repository, e.g.\n",
            "an editor opened by 'git commit'. Please make sure all processes\n",
            "are terminated then try again. If it still fails, a git process\n",
            "may have crashed in this repository earlier:\n",
            "remove the file manually to continue.\n",
            "\n"
          ]
        },
        {
          "output_type": "error",
          "ename": "CalledProcessError",
          "evalue": "Command '['git', '-C', '/content/drive/MyDrive/cheat-at-search-data/wands_enriched', 'reset', '--hard', 'origin/main']' returned non-zero exit status 128.",
          "traceback": [
            "\u001b[0;31m---------------------------------------------------------------------------\u001b[0m",
            "\u001b[0;31mCalledProcessError\u001b[0m                        Traceback (most recent call last)",
            "\u001b[0;32m/tmp/ipython-input-3216727470.py\u001b[0m in \u001b[0;36m<cell line: 0>\u001b[0;34m()\u001b[0m\n\u001b[1;32m      5\u001b[0m \u001b[0;31m# mount(use_gdrive=False, manual_path=\"/path/to/directory\")  # <- force data path to specific directory, ie you're running locally.\u001b[0m\u001b[0;34m\u001b[0m\u001b[0;34m\u001b[0m\u001b[0m\n\u001b[1;32m      6\u001b[0m \u001b[0;34m\u001b[0m\u001b[0m\n\u001b[0;32m----> 7\u001b[0;31m \u001b[0;32mfrom\u001b[0m \u001b[0mcheat_at_search\u001b[0m\u001b[0;34m.\u001b[0m\u001b[0msearch\u001b[0m \u001b[0;32mimport\u001b[0m \u001b[0mrun_strategy\u001b[0m\u001b[0;34m,\u001b[0m \u001b[0mgraded_bm25\u001b[0m\u001b[0;34m,\u001b[0m \u001b[0mndcgs\u001b[0m\u001b[0;34m,\u001b[0m \u001b[0mndcg_delta\u001b[0m\u001b[0;34m,\u001b[0m \u001b[0mvs_ideal\u001b[0m\u001b[0;34m\u001b[0m\u001b[0;34m\u001b[0m\u001b[0m\n\u001b[0m\u001b[1;32m      8\u001b[0m \u001b[0;32mfrom\u001b[0m \u001b[0mcheat_at_search\u001b[0m\u001b[0;34m.\u001b[0m\u001b[0mwands_data\u001b[0m \u001b[0;32mimport\u001b[0m \u001b[0mproducts\u001b[0m\u001b[0;34m\u001b[0m\u001b[0;34m\u001b[0m\u001b[0m\n\u001b[1;32m      9\u001b[0m \u001b[0;34m\u001b[0m\u001b[0m\n",
            "\u001b[0;32m/usr/local/lib/python3.12/dist-packages/cheat_at_search/search.py\u001b[0m in \u001b[0;36m<module>\u001b[0;34m\u001b[0m\n\u001b[0;32m----> 1\u001b[0;31m \u001b[0;32mfrom\u001b[0m \u001b[0mcheat_at_search\u001b[0m\u001b[0;34m.\u001b[0m\u001b[0mstrategy\u001b[0m \u001b[0;32mimport\u001b[0m \u001b[0mBM25Search\u001b[0m\u001b[0;34m\u001b[0m\u001b[0;34m\u001b[0m\u001b[0m\n\u001b[0m\u001b[1;32m      2\u001b[0m \u001b[0;32mfrom\u001b[0m \u001b[0mcheat_at_search\u001b[0m\u001b[0;34m.\u001b[0m\u001b[0mwands_data\u001b[0m \u001b[0;32mimport\u001b[0m \u001b[0mproducts\u001b[0m\u001b[0;34m,\u001b[0m \u001b[0mqueries\u001b[0m\u001b[0;34m,\u001b[0m \u001b[0mideal_top_10\u001b[0m\u001b[0;34m\u001b[0m\u001b[0;34m\u001b[0m\u001b[0m\n\u001b[1;32m      3\u001b[0m \u001b[0;32mfrom\u001b[0m \u001b[0mcheat_at_search\u001b[0m\u001b[0;34m.\u001b[0m\u001b[0meval\u001b[0m \u001b[0;32mimport\u001b[0m \u001b[0mgrade_results\u001b[0m\u001b[0;34m\u001b[0m\u001b[0;34m\u001b[0m\u001b[0m\n\u001b[1;32m      4\u001b[0m \u001b[0;32mfrom\u001b[0m \u001b[0mcheat_at_search\u001b[0m\u001b[0;34m.\u001b[0m\u001b[0mdata_dir\u001b[0m \u001b[0;32mimport\u001b[0m \u001b[0mensure_data_subdir\u001b[0m\u001b[0;34m\u001b[0m\u001b[0;34m\u001b[0m\u001b[0m\n\u001b[1;32m      5\u001b[0m \u001b[0;32mfrom\u001b[0m \u001b[0mcheat_at_search\u001b[0m\u001b[0;34m.\u001b[0m\u001b[0mlogger\u001b[0m \u001b[0;32mimport\u001b[0m \u001b[0mlog_to_stdout\u001b[0m\u001b[0;34m\u001b[0m\u001b[0;34m\u001b[0m\u001b[0m\n",
            "\u001b[0;32m/usr/local/lib/python3.12/dist-packages/cheat_at_search/strategy/__init__.py\u001b[0m in \u001b[0;36m<module>\u001b[0;34m\u001b[0m\n\u001b[1;32m      1\u001b[0m \u001b[0;32mfrom\u001b[0m \u001b[0;34m.\u001b[0m\u001b[0mbm25\u001b[0m \u001b[0;32mimport\u001b[0m \u001b[0mBM25Search\u001b[0m  \u001b[0;31m# noqa: F401\u001b[0m\u001b[0;34m\u001b[0m\u001b[0;34m\u001b[0m\u001b[0m\n\u001b[0;32m----> 2\u001b[0;31m \u001b[0;32mfrom\u001b[0m \u001b[0;34m.\u001b[0m\u001b[0mbest\u001b[0m \u001b[0;32mimport\u001b[0m \u001b[0mBestPossibleResults\u001b[0m  \u001b[0;31m# noqa: F401\u001b[0m\u001b[0;34m\u001b[0m\u001b[0;34m\u001b[0m\u001b[0m\n\u001b[0m",
            "\u001b[0;32m/usr/local/lib/python3.12/dist-packages/cheat_at_search/strategy/best.py\u001b[0m in \u001b[0;36m<module>\u001b[0;34m\u001b[0m\n\u001b[1;32m      1\u001b[0m \u001b[0;32mfrom\u001b[0m \u001b[0mcheat_at_search\u001b[0m\u001b[0;34m.\u001b[0m\u001b[0mstrategy\u001b[0m\u001b[0;34m.\u001b[0m\u001b[0mstrategy\u001b[0m \u001b[0;32mimport\u001b[0m \u001b[0mSearchStrategy\u001b[0m\u001b[0;34m\u001b[0m\u001b[0;34m\u001b[0m\u001b[0m\n\u001b[0;32m----> 2\u001b[0;31m \u001b[0;32mfrom\u001b[0m \u001b[0mcheat_at_search\u001b[0m\u001b[0;34m.\u001b[0m\u001b[0mwands_data\u001b[0m \u001b[0;32mimport\u001b[0m \u001b[0mlabeled_queries\u001b[0m\u001b[0;34m\u001b[0m\u001b[0;34m\u001b[0m\u001b[0m\n\u001b[0m\u001b[1;32m      3\u001b[0m \u001b[0;34m\u001b[0m\u001b[0m\n\u001b[1;32m      4\u001b[0m \u001b[0;34m\u001b[0m\u001b[0m\n\u001b[1;32m      5\u001b[0m \u001b[0;32mclass\u001b[0m \u001b[0mBestPossibleResults\u001b[0m\u001b[0;34m(\u001b[0m\u001b[0mSearchStrategy\u001b[0m\u001b[0;34m)\u001b[0m\u001b[0;34m:\u001b[0m\u001b[0;34m\u001b[0m\u001b[0;34m\u001b[0m\u001b[0m\n",
            "\u001b[0;32m/usr/lib/python3.12/importlib/_bootstrap.py\u001b[0m in \u001b[0;36m_handle_fromlist\u001b[0;34m(module, fromlist, import_, recursive)\u001b[0m\n",
            "\u001b[0;32m/usr/local/lib/python3.12/dist-packages/cheat_at_search/wands_data.py\u001b[0m in \u001b[0;36m__getattr__\u001b[0;34m(name)\u001b[0m\n\u001b[1;32m    284\u001b[0m     \u001b[0;32melif\u001b[0m \u001b[0mname\u001b[0m \u001b[0;32min\u001b[0m \u001b[0;34m[\u001b[0m\u001b[0;34m'labeled_queries'\u001b[0m\u001b[0;34m,\u001b[0m \u001b[0;34m'labeled_query_products'\u001b[0m\u001b[0;34m,\u001b[0m \u001b[0;34m'ideal_top_10'\u001b[0m\u001b[0;34m]\u001b[0m\u001b[0;34m:\u001b[0m\u001b[0;34m\u001b[0m\u001b[0;34m\u001b[0m\u001b[0m\n\u001b[1;32m    285\u001b[0m         \u001b[0;32mif\u001b[0m \u001b[0;34m'queries'\u001b[0m \u001b[0;32mnot\u001b[0m \u001b[0;32min\u001b[0m \u001b[0mglobals\u001b[0m\u001b[0;34m(\u001b[0m\u001b[0;34m)\u001b[0m\u001b[0;34m:\u001b[0m\u001b[0;34m\u001b[0m\u001b[0;34m\u001b[0m\u001b[0m\n\u001b[0;32m--> 286\u001b[0;31m             \u001b[0mglobals\u001b[0m\u001b[0;34m(\u001b[0m\u001b[0;34m)\u001b[0m\u001b[0;34m[\u001b[0m\u001b[0;34m'queries'\u001b[0m\u001b[0;34m]\u001b[0m \u001b[0;34m=\u001b[0m \u001b[0m_queries\u001b[0m\u001b[0;34m(\u001b[0m\u001b[0;34m)\u001b[0m\u001b[0;34m\u001b[0m\u001b[0;34m\u001b[0m\u001b[0m\n\u001b[0m\u001b[1;32m    287\u001b[0m         \u001b[0;32mif\u001b[0m \u001b[0;34m'labels'\u001b[0m \u001b[0;32mnot\u001b[0m \u001b[0;32min\u001b[0m \u001b[0mglobals\u001b[0m\u001b[0;34m(\u001b[0m\u001b[0;34m)\u001b[0m\u001b[0;34m:\u001b[0m\u001b[0;34m\u001b[0m\u001b[0;34m\u001b[0m\u001b[0m\n\u001b[1;32m    288\u001b[0m             \u001b[0mglobals\u001b[0m\u001b[0;34m(\u001b[0m\u001b[0;34m)\u001b[0m\u001b[0;34m[\u001b[0m\u001b[0;34m'labels'\u001b[0m\u001b[0;34m]\u001b[0m \u001b[0;34m=\u001b[0m \u001b[0m_labels\u001b[0m\u001b[0;34m(\u001b[0m\u001b[0;34m)\u001b[0m\u001b[0;34m\u001b[0m\u001b[0;34m\u001b[0m\u001b[0m\n",
            "\u001b[0;32m/usr/local/lib/python3.12/dist-packages/cheat_at_search/wands_data.py\u001b[0m in \u001b[0;36m_queries\u001b[0;34m()\u001b[0m\n\u001b[1;32m    107\u001b[0m     \"\"\"\n\u001b[1;32m    108\u001b[0m     \u001b[0;31m# Ensure we have the data\u001b[0m\u001b[0;34m\u001b[0m\u001b[0;34m\u001b[0m\u001b[0m\n\u001b[0;32m--> 109\u001b[0;31m     \u001b[0mdata_path\u001b[0m \u001b[0;34m=\u001b[0m \u001b[0mfetch_wands\u001b[0m\u001b[0;34m(\u001b[0m\u001b[0;34m)\u001b[0m\u001b[0;34m\u001b[0m\u001b[0;34m\u001b[0m\u001b[0m\n\u001b[0m\u001b[1;32m    110\u001b[0m \u001b[0;34m\u001b[0m\u001b[0m\n\u001b[1;32m    111\u001b[0m     \u001b[0;31m# Path to the queries CSV file\u001b[0m\u001b[0;34m\u001b[0m\u001b[0;34m\u001b[0m\u001b[0m\n",
            "\u001b[0;32m/usr/local/lib/python3.12/dist-packages/cheat_at_search/wands_data.py\u001b[0m in \u001b[0;36mfetch_wands\u001b[0;34m(data_dir, repo_url)\u001b[0m\n\u001b[1;32m     26\u001b[0m         \u001b[0mPath\u001b[0m \u001b[0mobject\u001b[0m \u001b[0mpointing\u001b[0m \u001b[0mto\u001b[0m \u001b[0mthe\u001b[0m \u001b[0mcloned\u001b[0m \u001b[0mrepository\u001b[0m\u001b[0;34m\u001b[0m\u001b[0;34m\u001b[0m\u001b[0m\n\u001b[1;32m     27\u001b[0m     \"\"\"\n\u001b[0;32m---> 28\u001b[0;31m     \u001b[0;32mreturn\u001b[0m \u001b[0msync_git_repo\u001b[0m\u001b[0;34m(\u001b[0m\u001b[0mdata_dir\u001b[0m\u001b[0;34m,\u001b[0m \u001b[0mrepo_url\u001b[0m\u001b[0;34m)\u001b[0m\u001b[0;34m\u001b[0m\u001b[0;34m\u001b[0m\u001b[0m\n\u001b[0m\u001b[1;32m     29\u001b[0m \u001b[0;34m\u001b[0m\u001b[0m\n\u001b[1;32m     30\u001b[0m \u001b[0;34m\u001b[0m\u001b[0m\n",
            "\u001b[0;32m/usr/local/lib/python3.12/dist-packages/cheat_at_search/data_dir.py\u001b[0m in \u001b[0;36msync_git_repo\u001b[0;34m(data_dir, repo_url)\u001b[0m\n\u001b[1;32m     46\u001b[0m                 \u001b[0mtext\u001b[0m\u001b[0;34m=\u001b[0m\u001b[0;32mTrue\u001b[0m\u001b[0;34m\u001b[0m\u001b[0;34m\u001b[0m\u001b[0m\n\u001b[1;32m     47\u001b[0m             )\n\u001b[0;32m---> 48\u001b[0;31m             subprocess.run(\n\u001b[0m\u001b[1;32m     49\u001b[0m                 \u001b[0;34m[\u001b[0m\u001b[0;34m\"git\"\u001b[0m\u001b[0;34m,\u001b[0m \u001b[0;34m\"-C\"\u001b[0m\u001b[0;34m,\u001b[0m \u001b[0mstr\u001b[0m\u001b[0;34m(\u001b[0m\u001b[0mdata_path\u001b[0m\u001b[0;34m)\u001b[0m\u001b[0;34m,\u001b[0m \u001b[0;34m\"reset\"\u001b[0m\u001b[0;34m,\u001b[0m \u001b[0;34m\"--hard\"\u001b[0m\u001b[0;34m,\u001b[0m \u001b[0;34m\"origin/main\"\u001b[0m\u001b[0;34m]\u001b[0m\u001b[0;34m,\u001b[0m\u001b[0;34m\u001b[0m\u001b[0;34m\u001b[0m\u001b[0m\n\u001b[1;32m     50\u001b[0m                 \u001b[0mcheck\u001b[0m\u001b[0;34m=\u001b[0m\u001b[0;32mTrue\u001b[0m\u001b[0;34m,\u001b[0m\u001b[0;34m\u001b[0m\u001b[0;34m\u001b[0m\u001b[0m\n",
            "\u001b[0;32m/usr/lib/python3.12/subprocess.py\u001b[0m in \u001b[0;36mrun\u001b[0;34m(input, capture_output, timeout, check, *popenargs, **kwargs)\u001b[0m\n\u001b[1;32m    569\u001b[0m         \u001b[0mretcode\u001b[0m \u001b[0;34m=\u001b[0m \u001b[0mprocess\u001b[0m\u001b[0;34m.\u001b[0m\u001b[0mpoll\u001b[0m\u001b[0;34m(\u001b[0m\u001b[0;34m)\u001b[0m\u001b[0;34m\u001b[0m\u001b[0;34m\u001b[0m\u001b[0m\n\u001b[1;32m    570\u001b[0m         \u001b[0;32mif\u001b[0m \u001b[0mcheck\u001b[0m \u001b[0;32mand\u001b[0m \u001b[0mretcode\u001b[0m\u001b[0;34m:\u001b[0m\u001b[0;34m\u001b[0m\u001b[0;34m\u001b[0m\u001b[0m\n\u001b[0;32m--> 571\u001b[0;31m             raise CalledProcessError(retcode, process.args,\n\u001b[0m\u001b[1;32m    572\u001b[0m                                      output=stdout, stderr=stderr)\n\u001b[1;32m    573\u001b[0m     \u001b[0;32mreturn\u001b[0m \u001b[0mCompletedProcess\u001b[0m\u001b[0;34m(\u001b[0m\u001b[0mprocess\u001b[0m\u001b[0;34m.\u001b[0m\u001b[0margs\u001b[0m\u001b[0;34m,\u001b[0m \u001b[0mretcode\u001b[0m\u001b[0;34m,\u001b[0m \u001b[0mstdout\u001b[0m\u001b[0;34m,\u001b[0m \u001b[0mstderr\u001b[0m\u001b[0;34m)\u001b[0m\u001b[0;34m\u001b[0m\u001b[0;34m\u001b[0m\u001b[0m\n",
            "\u001b[0;31mCalledProcessError\u001b[0m: Command '['git', '-C', '/content/drive/MyDrive/cheat-at-search-data/wands_enriched', 'reset', '--hard', 'origin/main']' returned non-zero exit status 128."
          ]
        }
      ],
      "source": [
        "!pip install git+https://github.com/softwaredoug/cheat-at-search.git\n",
        "from cheat_at_search.data_dir import mount\n",
        "mount(use_gdrive=True)    # colab, share data across notebook runs on gdrive\n",
        "# mount(use_gdrive=False) # <- colab without gdrive\n",
        "# mount(use_gdrive=False, manual_path=\"/path/to/directory\")  # <- force data path to specific directory, ie you're running locally.\n",
        "\n",
        "from cheat_at_search.search import run_strategy, graded_bm25, ndcgs, ndcg_delta, vs_ideal\n",
        "from cheat_at_search.wands_data import products\n",
        "\n",
        "products"
      ]
    },
    {
      "cell_type": "markdown",
      "metadata": {
        "id": "vQfsjM-5bsF4"
      },
      "source": [
        "## Spelling correction types\n",
        "\n",
        "We setup a a pydantic type mapping the full query to a spelling corrected version."
      ]
    },
    {
      "cell_type": "code",
      "execution_count": null,
      "metadata": {
        "id": "h0-Y8MnKZnF1"
      },
      "outputs": [],
      "source": [
        "from pydantic import BaseModel, Field\n",
        "from typing import List\n",
        "from cheat_at_search.enrich import AutoEnricher\n",
        "\n",
        "\n",
        "class SpellingCorrectedQuery(BaseModel):\n",
        "    \"\"\"\n",
        "    Search query with spelling corrections applied\n",
        "    \"\"\"\n",
        "    corrected_keywords: str = Field(\n",
        "        ...,\n",
        "        description=\"Spell-corrected search query per instructions\"\n",
        "    )"
      ]
    },
    {
      "cell_type": "markdown",
      "metadata": {
        "id": "vnhABrYKb6r6"
      },
      "source": [
        "### Spellchecking generation code\n",
        "\n",
        "We ask OpenAI to generate spelling corrections for a given query."
      ]
    },
    {
      "cell_type": "code",
      "execution_count": null,
      "metadata": {
        "id": "RZ-hEr-CSr9T"
      },
      "outputs": [],
      "source": [
        "spell_correct_enricher = AutoEnricher(\n",
        "    model=\"openai/gpt-4.1-nano\",\n",
        "    # model=\"google/gemini-2.5-flash-lite\",\n",
        "    system_prompt=\"You are a helpful AI assistant that very lightly spell-checks furniture e-commerce queries.\",\n",
        "    response_model=SpellingCorrectedQuery\n",
        ")\n",
        "\n",
        "def get_prompt(query: str) -> str:\n",
        "    prompt = f\"\"\"\n",
        "        Take this furniture e-commerce query and correct any obvious spelling mistakes\n",
        "\n",
        "        {query}\n",
        "    \"\"\"\n",
        "    return prompt\n",
        "\n",
        "\n",
        "def corrector(query: str) -> SpellingCorrectedQuery:\n",
        "    return spell_correct_enricher.enrich(get_prompt(query))\n",
        "\n",
        "corrector(\"raaack glass\")"
      ]
    },
    {
      "cell_type": "markdown",
      "metadata": {
        "id": "JuGXbD_5sOIZ"
      },
      "source": [
        "### Spelling corrected search strategy\n",
        "\n",
        "We **replace** the original query with spelling checked query.\n",
        "\n",
        "Ideas to try\n",
        "* What if we **boost** and keep the original?"
      ]
    },
    {
      "cell_type": "code",
      "execution_count": null,
      "metadata": {
        "id": "8wkSe0oo4bdM"
      },
      "outputs": [],
      "source": [
        "from searcharray import SearchArray\n",
        "from cheat_at_search.tokenizers import snowball_tokenizer\n",
        "from cheat_at_search.strategy.strategy import SearchStrategy\n",
        "import numpy as np\n",
        "\n",
        "class SpellingCorrectedSearch(SearchStrategy):\n",
        "    def __init__(self, products, corrector,\n",
        "                 name_boost=9.3,\n",
        "                 description_boost=4.1):\n",
        "        super().__init__(products)\n",
        "        self.index = products\n",
        "        self.name_boost = name_boost\n",
        "        self.description_boost = description_boost\n",
        "        self.index['product_name_snowball'] = SearchArray.index(\n",
        "            products['product_name'], snowball_tokenizer)\n",
        "        self.index['product_description_snowball'] = SearchArray.index(\n",
        "            products['product_description'], snowball_tokenizer)\n",
        "        self.corrector = corrector\n",
        "\n",
        "\n",
        "    def search(self, query, k=10):\n",
        "        \"\"\"Spellcheck lexical search\"\"\"\n",
        "        bm25_scores = np.zeros(len(self.index))\n",
        "        corrected = self.corrector(query)\n",
        "        different = corrected.corrected_keywords.lower().split() != query.lower().split()\n",
        "        asterisk = \"*\" if different else \"\"\n",
        "        if different:\n",
        "            print(f\"Query: {query} -> Corrected: {corrected.corrected_keywords}{asterisk}\")\n",
        "            query = corrected.corrected_keywords\n",
        "        tokenized = snowball_tokenizer(query)\n",
        "        for token in tokenized:\n",
        "            bm25_scores += self.index['product_name_snowball'].array.score(token) * self.name_boost\n",
        "            bm25_scores += self.index['product_description_snowball'].array.score(token) * self.description_boost\n",
        "        top_k = np.argsort(-bm25_scores)[:k]\n",
        "        scores = bm25_scores[top_k]\n",
        "\n",
        "        return top_k, scores\n"
      ]
    },
    {
      "cell_type": "code",
      "execution_count": null,
      "metadata": {
        "id": "UzL7dMu_Puey"
      },
      "outputs": [],
      "source": [
        "spell_check_search = SpellingCorrectedSearch(products, corrector)\n",
        "corrected_results1 = run_strategy(spell_check_search)\n",
        "corrected_results1"
      ]
    },
    {
      "cell_type": "markdown",
      "metadata": {
        "id": "m8Cotpj8sbRJ"
      },
      "source": [
        "### Compare NDCGs of our first attempt"
      ]
    },
    {
      "cell_type": "code",
      "execution_count": null,
      "metadata": {
        "id": "9u1G-GitXETc"
      },
      "outputs": [],
      "source": [
        "ndcgs(graded_bm25).mean(), ndcgs(corrected_results1).mean()"
      ]
    },
    {
      "cell_type": "code",
      "execution_count": null,
      "metadata": {
        "id": "yVjBtCGCav31"
      },
      "outputs": [],
      "source": [
        "ndcg_delta(corrected_results1, graded_bm25)"
      ]
    },
    {
      "cell_type": "code",
      "execution_count": null,
      "metadata": {
        "id": "4xYQj05VzXOs"
      },
      "outputs": [],
      "source": [
        "corrector(\"tye dye duvet cover\")"
      ]
    },
    {
      "cell_type": "markdown",
      "metadata": {
        "id": "pfOx5A74aWC6"
      },
      "source": [
        "## Develop ground truth for spelling correction\n",
        "\n",
        "We have a manually curated list of spelling corrections to evaluate our corrector. We also add in queries we DONT want to change.\n",
        "\n",
        "**Ideas to try** -- how good is this ground truth, can it be improved?"
      ]
    },
    {
      "cell_type": "code",
      "execution_count": null,
      "metadata": {
        "id": "dm3dI43Hj2ud",
        "colab": {
          "base_uri": "https://localhost:8080/"
        },
        "outputId": "8d35e764-240c-4efb-cc28-830c61601744"
      },
      "outputs": [
        {
          "output_type": "execute_result",
          "data": {
            "text/plain": [
              "{'kohen 5 drawer dresser': 'kohen 5 drawer dresser',\n",
              " 'grantola wall mirror': 'grantola wall mirror',\n",
              " 'kisner': 'kisner',\n",
              " 'malachi sled': 'malachi sled',\n",
              " 'tressler rug': 'tressler rug',\n",
              " 'bed side table': 'bed side table',\n",
              " 'pennfield playhouse': 'pennfield playhouse',\n",
              " 'platform bed side table': 'platform bed side table',\n",
              " 'liberty hardware francisco': 'liberty hardware francisco',\n",
              " 'wood coffee table set by storage': 'wood coffee table set by storage',\n",
              " 'mahone porch rocking chair': 'mahone porch rocking chair',\n",
              " 'odum velvet': 'odum velvet',\n",
              " 'mobley zero gravity adjustable bed with wireless remote': 'mobley zero gravity adjustable bed with wireless remote',\n",
              " 'fortunat coffee table': 'fortunat coffee table',\n",
              " 'alter furniture': 'alter furniture',\n",
              " 'love seat wide faux leather tuxedo arm sofa': 'love seat wide faux leather tuxedo arm sofa',\n",
              " 'regner power loom red': 'regner power loom red',\n",
              " 'gurney  slade 56': 'gurney  slade 56',\n",
              " 'golub dining table': 'golub dining table',\n",
              " 'itchington butterfly': 'itchington butterfly',\n",
              " 'outdoor sectional doning': 'outdoor sectional dining',\n",
              " 'pedistole sink': 'pedestal sink',\n",
              " 'biycicle plant stands': 'bicycle plant stands',\n",
              " '7 draw white dresser': '7 drawer white dresser',\n",
              " 'glass lsmp shades': 'glass lamp shades',\n",
              " 'desk for kids tjat ate 10 year old': 'desk for kids that are 10 year old',\n",
              " 'twin over full bunk beds cool desins': 'twin over full bunk beds cool designs',\n",
              " 'sheets for twinxl': 'sheets for twin xl',\n",
              " 'tye dye duvet cover': 'tie dye duvet cover',\n",
              " 'foutains with brick look': 'fountains with brick look',\n",
              " 'westling coffee table': 'wesling coffee table',\n",
              " 'trinaic towel rod': 'trinsic towel rod',\n",
              " 'blk 18x18 seat cushions': 'black 18x18 seat cushions',\n",
              " 'big basket for dirty cloths': 'big basket for dirty clothes'}"
            ]
          },
          "metadata": {},
          "execution_count": 10
        }
      ],
      "source": [
        "def leave_alones(phrases):\n",
        "    \"\"\"Queries we don't want to change.\"\"\"\n",
        "    return {phrase: phrase for phrase in phrases}\n",
        "\n",
        "# These should be left alone\n",
        "spellcheck_ground_truth = leave_alones([\"kohen 5 drawer dresser\",\n",
        "                                        \"grantola wall mirror\",\n",
        "                                        \"kisner\",\n",
        "                                        \"malachi sled\",\n",
        "                                        \"tressler rug\",\n",
        "                                        \"bed side table\",\n",
        "                                        \"pennfield playhouse\",\n",
        "                                        \"platform bed side table\",\n",
        "                                        \"liberty hardware francisco\",\n",
        "                                        \"wood coffee table set by storage\",\n",
        "                                        \"mahone porch rocking chair\",\n",
        "                                        \"odum velvet\",\n",
        "                                        \"mobley zero gravity adjustable bed with wireless remote\",\n",
        "                                        \"fortunat coffee table\",\n",
        "                                        \"alter furniture\",\n",
        "                                        \"love seat wide faux leather tuxedo arm sofa\",\n",
        "                                        \"regner power loom red\",\n",
        "                                        \"gurney  slade 56\",\n",
        "                                        \"mahone porch rocking chair\",\n",
        "                                        \"golub dining table\",\n",
        "                                        \"itchington butterfly\"])\n",
        "\n",
        "actual_correction = {\n",
        "    \"outdoor sectional doning\": \"outdoor sectional dining\",\n",
        "    \"pedistole sink\": \"pedestal sink\",\n",
        "    \"biycicle plant stands\": \"bicycle plant stands\",\n",
        "    \"7 draw white dresser\": \"7 drawer white dresser\",\n",
        "    \"glass lsmp shades\": \"glass lamp shades\",\n",
        "    \"desk for kids tjat ate 10 year old\": \"desk for kids that are 10 year old\",\n",
        "    \"twin over full bunk beds cool desins\": \"twin over full bunk beds cool designs\",\n",
        "    \"sheets for twinxl\": \"sheets for twin xl\",\n",
        "    \"tye dye duvet cover\": \"tie dye duvet cover\",\n",
        "    \"foutains with brick look\": \"fountains with brick look\",\n",
        "    \"westling coffee table\": \"wesling coffee table\",\n",
        "    \"trinaic towel rod\": \"trinsic towel rod\",\n",
        "    \"blk 18x18 seat cushions\": \"black 18x18 seat cushions\",\n",
        "    \"big basket for dirty cloths\": \"big basket for dirty clothes\"\n",
        "}\n",
        "\n",
        "ground_truth = {**spellcheck_ground_truth, **actual_correction}\n",
        "ground_truth"
      ]
    },
    {
      "cell_type": "markdown",
      "metadata": {
        "id": "wgCSnI_0tOTG"
      },
      "source": [
        "### Function to compute accuracy"
      ]
    },
    {
      "cell_type": "code",
      "execution_count": null,
      "metadata": {
        "id": "nSELkQKXahc1",
        "colab": {
          "base_uri": "https://localhost:8080/"
        },
        "outputId": "c4478e36-de1d-4c8c-a38e-56a7f832096f"
      },
      "outputs": [
        {
          "output_type": "stream",
          "name": "stderr",
          "text": [
            "100%|██████████| 34/34 [00:00<00:00, 21017.88it/s]"
          ]
        },
        {
          "output_type": "stream",
          "name": "stdout",
          "text": [
            "Bad correction: Query: kohen 5 drawer dresser -> Corrected: Kohen 5-drawer dresser\n",
            "Bad correction: Query: grantola wall mirror -> Corrected: grande wall mirror\n",
            "Bad correction: Query: tressler rug -> Corrected: Tassler rug\n",
            "Bad correction: Query: bed side table -> Corrected: bedside table\n",
            "Bad correction: Query: wood coffee table set by storage -> Corrected: wood coffee table set with storage\n",
            "Bad correction: Query: mahone porch rocking chair -> Corrected: mahogany porch rocking chair\n",
            "Bad correction: Query: mobley zero gravity adjustable bed with wireless remote -> Corrected: Mobily Zero Gravity Adjustable Bed with Wireless Remote\n",
            "Bad correction: Query: fortunat coffee table -> Corrected: fortunate coffee table\n",
            "Bad correction: Query: gurney  slade 56 -> Corrected: gurney slade 56\n",
            "Bad correction: Query: itchington butterfly -> Corrected: Hitchington butterfly\n",
            "Bad correction: Query: desk for kids tjat ate 10 year old -> Corrected: desk for kids that are 10 years old\n",
            "Bad correction: Query: westling coffee table -> Corrected: wrestling coffee table\n",
            "Bad correction: Query: trinaic towel rod -> Corrected: triadic towel rod\n"
          ]
        },
        {
          "output_type": "stream",
          "name": "stderr",
          "text": [
            "\n"
          ]
        },
        {
          "output_type": "execute_result",
          "data": {
            "text/plain": [
              "(0.6176470588235294,\n",
              " [SpellingCorrectedQuery(corrected_keywords='Kisner'),\n",
              "  SpellingCorrectedQuery(corrected_keywords='Malachi sled'),\n",
              "  SpellingCorrectedQuery(corrected_keywords='Pennfield Playhouse'),\n",
              "  SpellingCorrectedQuery(corrected_keywords='platform bed side table'),\n",
              "  SpellingCorrectedQuery(corrected_keywords='Liberty Hardware Francisco'),\n",
              "  SpellingCorrectedQuery(corrected_keywords='odum velvet'),\n",
              "  SpellingCorrectedQuery(corrected_keywords='alter furniture'),\n",
              "  SpellingCorrectedQuery(corrected_keywords='love seat wide faux leather tuxedo arm sofa'),\n",
              "  SpellingCorrectedQuery(corrected_keywords='regner power loom red'),\n",
              "  SpellingCorrectedQuery(corrected_keywords='Golub dining table'),\n",
              "  SpellingCorrectedQuery(corrected_keywords='outdoor sectional dining'),\n",
              "  SpellingCorrectedQuery(corrected_keywords='pedestal sink'),\n",
              "  SpellingCorrectedQuery(corrected_keywords='bicycle plant stands'),\n",
              "  SpellingCorrectedQuery(corrected_keywords='7 drawer white dresser'),\n",
              "  SpellingCorrectedQuery(corrected_keywords='glass lamp shades'),\n",
              "  SpellingCorrectedQuery(corrected_keywords='twin over full bunk beds cool designs'),\n",
              "  SpellingCorrectedQuery(corrected_keywords='sheets for twin XL'),\n",
              "  SpellingCorrectedQuery(corrected_keywords='tie dye duvet cover'),\n",
              "  SpellingCorrectedQuery(corrected_keywords='fountains with brick look'),\n",
              "  SpellingCorrectedQuery(corrected_keywords='black 18x18 seat cushions'),\n",
              "  SpellingCorrectedQuery(corrected_keywords='big basket for dirty clothes')],\n",
              " [SpellingCorrectedQuery(corrected_keywords='Kohen 5-drawer dresser'),\n",
              "  SpellingCorrectedQuery(corrected_keywords='grande wall mirror'),\n",
              "  SpellingCorrectedQuery(corrected_keywords='Tassler rug'),\n",
              "  SpellingCorrectedQuery(corrected_keywords='bedside table'),\n",
              "  SpellingCorrectedQuery(corrected_keywords='wood coffee table set with storage'),\n",
              "  SpellingCorrectedQuery(corrected_keywords='mahogany porch rocking chair'),\n",
              "  SpellingCorrectedQuery(corrected_keywords='Mobily Zero Gravity Adjustable Bed with Wireless Remote'),\n",
              "  SpellingCorrectedQuery(corrected_keywords='fortunate coffee table'),\n",
              "  SpellingCorrectedQuery(corrected_keywords='gurney slade 56'),\n",
              "  SpellingCorrectedQuery(corrected_keywords='Hitchington butterfly'),\n",
              "  SpellingCorrectedQuery(corrected_keywords='desk for kids that are 10 years old'),\n",
              "  SpellingCorrectedQuery(corrected_keywords='wrestling coffee table'),\n",
              "  SpellingCorrectedQuery(corrected_keywords='triadic towel rod')])"
            ]
          },
          "metadata": {},
          "execution_count": 11
        }
      ],
      "source": [
        "from tqdm import tqdm\n",
        "\n",
        "def acc(corrector):\n",
        "    hits = []\n",
        "    misses = []\n",
        "    for query, correction in tqdm(ground_truth.items()):\n",
        "        corrected = corrector(query)\n",
        "        corrected_keywords = corrected.corrected_keywords.strip().lower()\n",
        "        expected_correction = correction.strip().lower()\n",
        "        if corrected_keywords == expected_correction:\n",
        "            hits.append(corrected)\n",
        "        else:\n",
        "            print(f\"Bad correction: Query: {query} -> Corrected: {corrected.corrected_keywords}\")\n",
        "            misses.append(corrected)\n",
        "\n",
        "    return len(hits) / (len(hits) + len(misses)), hits, misses\n",
        "\n",
        "accuracy, hits, misses = acc(corrector)\n",
        "accuracy, hits, misses"
      ]
    },
    {
      "cell_type": "markdown",
      "metadata": {
        "id": "rD2s8nU4eOR-"
      },
      "source": [
        "## Build a better corrector\n",
        "\n",
        "We bake in some information to the prompt.\n",
        "\n",
        "**Thoughts** - is this overfit to our data? Is this appropriate guidance?"
      ]
    },
    {
      "cell_type": "code",
      "execution_count": null,
      "metadata": {
        "id": "kDt6KsCWd7AB",
        "colab": {
          "base_uri": "https://localhost:8080/"
        },
        "outputId": "c11c96b8-e8cb-4b83-ef5d-ad3dd8e7bbe3"
      },
      "outputs": [
        {
          "output_type": "stream",
          "name": "stderr",
          "text": [
            " 53%|█████▎    | 18/34 [00:18<00:16,  1.01s/it]"
          ]
        },
        {
          "output_type": "stream",
          "name": "stdout",
          "text": [
            "Bad correction: Query: gurney  slade 56 -> Corrected: gurney slade 56\n"
          ]
        },
        {
          "output_type": "stream",
          "name": "stderr",
          "text": [
            " 62%|██████▏   | 21/34 [00:21<00:15,  1.21s/it]"
          ]
        },
        {
          "output_type": "stream",
          "name": "stdout",
          "text": [
            "Bad correction: Query: outdoor sectional doning -> Corrected: outdoor sectional doning\n"
          ]
        },
        {
          "output_type": "stream",
          "name": "stderr",
          "text": [
            " 91%|█████████ | 31/34 [00:30<00:02,  1.22it/s]"
          ]
        },
        {
          "output_type": "stream",
          "name": "stdout",
          "text": [
            "Bad correction: Query: westling coffee table -> Corrected: westling coffee table\n"
          ]
        },
        {
          "output_type": "stream",
          "name": "stderr",
          "text": [
            "\r 94%|█████████▍| 32/34 [00:31<00:02,  1.09s/it]"
          ]
        },
        {
          "output_type": "stream",
          "name": "stdout",
          "text": [
            "Bad correction: Query: trinaic towel rod -> Corrected: tranic towel rod\n"
          ]
        },
        {
          "output_type": "stream",
          "name": "stderr",
          "text": [
            "\r 97%|█████████▋| 33/34 [00:32<00:01,  1.03s/it]"
          ]
        },
        {
          "output_type": "stream",
          "name": "stdout",
          "text": [
            "Bad correction: Query: blk 18x18 seat cushions -> Corrected: blk 18x18 seat cushions\n"
          ]
        },
        {
          "output_type": "stream",
          "name": "stderr",
          "text": [
            "100%|██████████| 34/34 [00:33<00:00,  1.01it/s]"
          ]
        },
        {
          "output_type": "stream",
          "name": "stdout",
          "text": [
            "Bad correction: Query: big basket for dirty cloths -> Corrected: big basket for dirty cloths\n"
          ]
        },
        {
          "output_type": "stream",
          "name": "stderr",
          "text": [
            "\n"
          ]
        },
        {
          "output_type": "execute_result",
          "data": {
            "text/plain": [
              "(0.8235294117647058,\n",
              " [SpellingCorrectedQuery(corrected_keywords='kohen 5 drawer dresser'),\n",
              "  SpellingCorrectedQuery(corrected_keywords='grantola wall mirror'),\n",
              "  SpellingCorrectedQuery(corrected_keywords='Kisner'),\n",
              "  SpellingCorrectedQuery(corrected_keywords='malachi sled'),\n",
              "  SpellingCorrectedQuery(corrected_keywords='tressler rug'),\n",
              "  SpellingCorrectedQuery(corrected_keywords='bed side table'),\n",
              "  SpellingCorrectedQuery(corrected_keywords='pennfield playhouse'),\n",
              "  SpellingCorrectedQuery(corrected_keywords='platform bed side table'),\n",
              "  SpellingCorrectedQuery(corrected_keywords='liberty hardware francisco'),\n",
              "  SpellingCorrectedQuery(corrected_keywords='wood coffee table set by storage'),\n",
              "  SpellingCorrectedQuery(corrected_keywords='mahone porch rocking chair'),\n",
              "  SpellingCorrectedQuery(corrected_keywords='odum velvet'),\n",
              "  SpellingCorrectedQuery(corrected_keywords='mobley zero gravity adjustable bed with wireless remote'),\n",
              "  SpellingCorrectedQuery(corrected_keywords='fortunat coffee table'),\n",
              "  SpellingCorrectedQuery(corrected_keywords='alter furniture'),\n",
              "  SpellingCorrectedQuery(corrected_keywords='love seat wide faux leather tuxedo arm sofa'),\n",
              "  SpellingCorrectedQuery(corrected_keywords='regner power loom red'),\n",
              "  SpellingCorrectedQuery(corrected_keywords='golub dining table'),\n",
              "  SpellingCorrectedQuery(corrected_keywords='itchington butterfly'),\n",
              "  SpellingCorrectedQuery(corrected_keywords='pedestal sink'),\n",
              "  SpellingCorrectedQuery(corrected_keywords='bicycle plant stands'),\n",
              "  SpellingCorrectedQuery(corrected_keywords='7 drawer white dresser'),\n",
              "  SpellingCorrectedQuery(corrected_keywords='glass lamp shades'),\n",
              "  SpellingCorrectedQuery(corrected_keywords='desk for kids that are 10 year old'),\n",
              "  SpellingCorrectedQuery(corrected_keywords='twin over full bunk beds cool designs'),\n",
              "  SpellingCorrectedQuery(corrected_keywords='sheets for twin xl'),\n",
              "  SpellingCorrectedQuery(corrected_keywords='tie dye duvet cover'),\n",
              "  SpellingCorrectedQuery(corrected_keywords='fountains with brick look')],\n",
              " [SpellingCorrectedQuery(corrected_keywords='gurney slade 56'),\n",
              "  SpellingCorrectedQuery(corrected_keywords='outdoor sectional doning'),\n",
              "  SpellingCorrectedQuery(corrected_keywords='westling coffee table'),\n",
              "  SpellingCorrectedQuery(corrected_keywords='tranic towel rod'),\n",
              "  SpellingCorrectedQuery(corrected_keywords='blk 18x18 seat cushions'),\n",
              "  SpellingCorrectedQuery(corrected_keywords='big basket for dirty cloths')])"
            ]
          },
          "metadata": {},
          "execution_count": 12
        }
      ],
      "source": [
        "def better_corrector_prompt(query):\n",
        "    prompt = f\"\"\"\n",
        "        You're a furniture expert, you know all about what Wayfair sells.\n",
        "\n",
        "        Take the user's query and correct any spelling mistakes.\n",
        "\n",
        "        * Dont compound words. Just leave the original form alone: IE don't turn anti scratch into anti scratch\n",
        "        * Dont decompound words Just leave the original form alone: IE dont turn antiscratch into anti scratch\n",
        "        * Dont add hyphens (ie \"anti scratch\" not \"anti-scratch\")\n",
        "        * *Remember your Wayfair expertise* -- DO NOT correct stylized product names known from the wayfair product line or other furniture / home improvement brands\n",
        "\n",
        "        Here's the users query:\n",
        "        {query}\n",
        "    \"\"\"\n",
        "    return prompt\n",
        "\n",
        "\n",
        "\n",
        "def better_corrector(query):\n",
        "    return spell_correct_enricher.enrich(better_corrector_prompt(query))\n",
        "\n",
        "acc(better_corrector)"
      ]
    },
    {
      "cell_type": "markdown",
      "metadata": {
        "id": "NKYyTquyIvO9"
      },
      "source": [
        "### Rerun to see if NDCG improved"
      ]
    },
    {
      "cell_type": "code",
      "execution_count": null,
      "metadata": {
        "id": "CVlEOHwLepUd",
        "colab": {
          "base_uri": "https://localhost:8080/",
          "height": 1000
        },
        "outputId": "9d91a47f-e6b4-4d89-ed9f-6e1836ed7e5c"
      },
      "outputs": [
        {
          "output_type": "stream",
          "name": "stdout",
          "text": [
            "2025-10-08 12:02:37,522 - searcharray.indexing - INFO - Indexing begins w/ 4 workers\n"
          ]
        },
        {
          "output_type": "stream",
          "name": "stderr",
          "text": [
            "INFO:searcharray.indexing:Indexing begins w/ 4 workers\n"
          ]
        },
        {
          "output_type": "stream",
          "name": "stdout",
          "text": [
            "2025-10-08 12:02:37,531 - searcharray.indexing - INFO - 0 Batch Start tokenization\n"
          ]
        },
        {
          "output_type": "stream",
          "name": "stderr",
          "text": [
            "INFO:searcharray.indexing:0 Batch Start tokenization\n"
          ]
        },
        {
          "output_type": "stream",
          "name": "stdout",
          "text": [
            "2025-10-08 12:02:37,535 - searcharray.indexing - INFO - Tokenizing 42994 documents\n"
          ]
        },
        {
          "output_type": "stream",
          "name": "stderr",
          "text": [
            "INFO:searcharray.indexing:Tokenizing 42994 documents\n"
          ]
        },
        {
          "output_type": "stream",
          "name": "stdout",
          "text": [
            "2025-10-08 12:02:37,831 - searcharray.indexing - INFO - Tokenized 10000 (23.259059403637718%)\n"
          ]
        },
        {
          "output_type": "stream",
          "name": "stderr",
          "text": [
            "INFO:searcharray.indexing:Tokenized 10000 (23.259059403637718%)\n"
          ]
        },
        {
          "output_type": "stream",
          "name": "stdout",
          "text": [
            "2025-10-08 12:02:38,123 - searcharray.indexing - INFO - Tokenized 20000 (46.518118807275435%)\n"
          ]
        },
        {
          "output_type": "stream",
          "name": "stderr",
          "text": [
            "INFO:searcharray.indexing:Tokenized 20000 (46.518118807275435%)\n"
          ]
        },
        {
          "output_type": "stream",
          "name": "stdout",
          "text": [
            "2025-10-08 12:02:38,437 - searcharray.indexing - INFO - Tokenized 30000 (69.77717821091315%)\n"
          ]
        },
        {
          "output_type": "stream",
          "name": "stderr",
          "text": [
            "INFO:searcharray.indexing:Tokenized 30000 (69.77717821091315%)\n"
          ]
        },
        {
          "output_type": "stream",
          "name": "stdout",
          "text": [
            "2025-10-08 12:02:38,724 - searcharray.indexing - INFO - Tokenized 40000 (93.03623761455087%)\n"
          ]
        },
        {
          "output_type": "stream",
          "name": "stderr",
          "text": [
            "INFO:searcharray.indexing:Tokenized 40000 (93.03623761455087%)\n"
          ]
        },
        {
          "output_type": "stream",
          "name": "stdout",
          "text": [
            "2025-10-08 12:02:38,947 - searcharray.indexing - INFO - Tokenization -- vstacking\n"
          ]
        },
        {
          "output_type": "stream",
          "name": "stderr",
          "text": [
            "INFO:searcharray.indexing:Tokenization -- vstacking\n"
          ]
        },
        {
          "output_type": "stream",
          "name": "stdout",
          "text": [
            "2025-10-08 12:02:38,953 - searcharray.indexing - INFO - Tokenization -- DONE\n"
          ]
        },
        {
          "output_type": "stream",
          "name": "stderr",
          "text": [
            "INFO:searcharray.indexing:Tokenization -- DONE\n"
          ]
        },
        {
          "output_type": "stream",
          "name": "stdout",
          "text": [
            "2025-10-08 12:02:38,960 - searcharray.indexing - INFO - Inverting docs->terms\n"
          ]
        },
        {
          "output_type": "stream",
          "name": "stderr",
          "text": [
            "INFO:searcharray.indexing:Inverting docs->terms\n"
          ]
        },
        {
          "output_type": "stream",
          "name": "stdout",
          "text": [
            "2025-10-08 12:02:39,000 - searcharray.indexing - INFO - Encoding positions to bit array\n"
          ]
        },
        {
          "output_type": "stream",
          "name": "stderr",
          "text": [
            "INFO:searcharray.indexing:Encoding positions to bit array\n"
          ]
        },
        {
          "output_type": "stream",
          "name": "stdout",
          "text": [
            "2025-10-08 12:02:39,051 - searcharray.indexing - INFO - Batch tokenization complete\n"
          ]
        },
        {
          "output_type": "stream",
          "name": "stderr",
          "text": [
            "INFO:searcharray.indexing:Batch tokenization complete\n"
          ]
        },
        {
          "output_type": "stream",
          "name": "stdout",
          "text": [
            "2025-10-08 12:02:39,053 - searcharray.indexing - INFO - (main thread) Processing 1 batch results\n"
          ]
        },
        {
          "output_type": "stream",
          "name": "stderr",
          "text": [
            "INFO:searcharray.indexing:(main thread) Processing 1 batch results\n"
          ]
        },
        {
          "output_type": "stream",
          "name": "stdout",
          "text": [
            "2025-10-08 12:02:39,094 - searcharray.indexing - INFO - Indexing from tokenization complete\n"
          ]
        },
        {
          "output_type": "stream",
          "name": "stderr",
          "text": [
            "INFO:searcharray.indexing:Indexing from tokenization complete\n"
          ]
        },
        {
          "output_type": "stream",
          "name": "stdout",
          "text": [
            "2025-10-08 12:02:39,133 - searcharray.indexing - INFO - Indexing begins w/ 4 workers\n"
          ]
        },
        {
          "output_type": "stream",
          "name": "stderr",
          "text": [
            "INFO:searcharray.indexing:Indexing begins w/ 4 workers\n"
          ]
        },
        {
          "output_type": "stream",
          "name": "stdout",
          "text": [
            "2025-10-08 12:02:39,145 - searcharray.indexing - INFO - 0 Batch Start tokenization\n"
          ]
        },
        {
          "output_type": "stream",
          "name": "stderr",
          "text": [
            "INFO:searcharray.indexing:0 Batch Start tokenization\n"
          ]
        },
        {
          "output_type": "stream",
          "name": "stdout",
          "text": [
            "2025-10-08 12:02:39,148 - searcharray.indexing - INFO - Tokenizing 42994 documents\n"
          ]
        },
        {
          "output_type": "stream",
          "name": "stderr",
          "text": [
            "INFO:searcharray.indexing:Tokenizing 42994 documents\n"
          ]
        },
        {
          "output_type": "stream",
          "name": "stdout",
          "text": [
            "2025-10-08 12:02:40,313 - searcharray.indexing - INFO - Tokenized 10000 (23.259059403637718%)\n"
          ]
        },
        {
          "output_type": "stream",
          "name": "stderr",
          "text": [
            "INFO:searcharray.indexing:Tokenized 10000 (23.259059403637718%)\n"
          ]
        },
        {
          "output_type": "stream",
          "name": "stdout",
          "text": [
            "2025-10-08 12:02:41,446 - searcharray.indexing - INFO - Tokenized 20000 (46.518118807275435%)\n"
          ]
        },
        {
          "output_type": "stream",
          "name": "stderr",
          "text": [
            "INFO:searcharray.indexing:Tokenized 20000 (46.518118807275435%)\n"
          ]
        },
        {
          "output_type": "stream",
          "name": "stdout",
          "text": [
            "2025-10-08 12:02:42,604 - searcharray.indexing - INFO - Tokenized 30000 (69.77717821091315%)\n"
          ]
        },
        {
          "output_type": "stream",
          "name": "stderr",
          "text": [
            "INFO:searcharray.indexing:Tokenized 30000 (69.77717821091315%)\n"
          ]
        },
        {
          "output_type": "stream",
          "name": "stdout",
          "text": [
            "2025-10-08 12:02:43,753 - searcharray.indexing - INFO - Tokenized 40000 (93.03623761455087%)\n"
          ]
        },
        {
          "output_type": "stream",
          "name": "stderr",
          "text": [
            "INFO:searcharray.indexing:Tokenized 40000 (93.03623761455087%)\n"
          ]
        },
        {
          "output_type": "stream",
          "name": "stdout",
          "text": [
            "2025-10-08 12:02:44,385 - searcharray.indexing - INFO - Tokenization -- vstacking\n"
          ]
        },
        {
          "output_type": "stream",
          "name": "stderr",
          "text": [
            "INFO:searcharray.indexing:Tokenization -- vstacking\n"
          ]
        },
        {
          "output_type": "stream",
          "name": "stdout",
          "text": [
            "2025-10-08 12:02:44,440 - searcharray.indexing - INFO - Tokenization -- DONE\n"
          ]
        },
        {
          "output_type": "stream",
          "name": "stderr",
          "text": [
            "INFO:searcharray.indexing:Tokenization -- DONE\n"
          ]
        },
        {
          "output_type": "stream",
          "name": "stdout",
          "text": [
            "2025-10-08 12:02:44,466 - searcharray.indexing - INFO - Inverting docs->terms\n"
          ]
        },
        {
          "output_type": "stream",
          "name": "stderr",
          "text": [
            "INFO:searcharray.indexing:Inverting docs->terms\n"
          ]
        },
        {
          "output_type": "stream",
          "name": "stdout",
          "text": [
            "2025-10-08 12:02:45,323 - searcharray.indexing - INFO - Encoding positions to bit array\n"
          ]
        },
        {
          "output_type": "stream",
          "name": "stderr",
          "text": [
            "INFO:searcharray.indexing:Encoding positions to bit array\n"
          ]
        },
        {
          "output_type": "stream",
          "name": "stdout",
          "text": [
            "2025-10-08 12:02:45,665 - searcharray.indexing - INFO - Batch tokenization complete\n"
          ]
        },
        {
          "output_type": "stream",
          "name": "stderr",
          "text": [
            "INFO:searcharray.indexing:Batch tokenization complete\n"
          ]
        },
        {
          "output_type": "stream",
          "name": "stdout",
          "text": [
            "2025-10-08 12:02:45,669 - searcharray.indexing - INFO - (main thread) Processing 1 batch results\n"
          ]
        },
        {
          "output_type": "stream",
          "name": "stderr",
          "text": [
            "INFO:searcharray.indexing:(main thread) Processing 1 batch results\n"
          ]
        },
        {
          "output_type": "stream",
          "name": "stdout",
          "text": [
            "2025-10-08 12:02:45,994 - searcharray.indexing - INFO - Indexing from tokenization complete\n"
          ]
        },
        {
          "output_type": "stream",
          "name": "stderr",
          "text": [
            "INFO:searcharray.indexing:Indexing from tokenization complete\n",
            "Searching:   4%|▍         | 19/480 [00:17<05:47,  1.33it/s]"
          ]
        },
        {
          "output_type": "stream",
          "name": "stdout",
          "text": [
            "Query: foutains with brick look -> Corrected: fountains with brick look*\n"
          ]
        },
        {
          "output_type": "stream",
          "name": "stderr",
          "text": [
            "Searching:  12%|█▏        | 56/480 [00:47<05:21,  1.32it/s]"
          ]
        },
        {
          "output_type": "stream",
          "name": "stdout",
          "text": [
            "Query: tollette teal outdoor rug -> Corrected: toilet teal outdoor rug*\n"
          ]
        },
        {
          "output_type": "stream",
          "name": "stderr",
          "text": [
            "Searching:  17%|█▋        | 80/480 [01:09<05:58,  1.12it/s]"
          ]
        },
        {
          "output_type": "stream",
          "name": "stdout",
          "text": [
            "Query: 7 draw white dresser -> Corrected: 7 drawer white dresser*\n"
          ]
        },
        {
          "output_type": "stream",
          "name": "stderr",
          "text": [
            "Searching:  39%|███▉      | 189/480 [02:51<03:49,  1.27it/s]"
          ]
        },
        {
          "output_type": "stream",
          "name": "stdout",
          "text": [
            "Query: biycicle plant stands -> Corrected: bicycle plant stands*\n"
          ]
        },
        {
          "output_type": "stream",
          "name": "stderr",
          "text": [
            "Searching:  40%|████      | 194/480 [02:54<03:49,  1.25it/s]"
          ]
        },
        {
          "output_type": "stream",
          "name": "stdout",
          "text": [
            "Query: chabely 5 draw chest -> Corrected: chably 5 draw chest*\n",
            "Query: desk for kids tjat ate 10 year old -> Corrected: desk for kids that are 10 year old*\n"
          ]
        },
        {
          "output_type": "stream",
          "name": "stderr",
          "text": [
            "Searching:  43%|████▎     | 205/480 [03:04<04:04,  1.13it/s]"
          ]
        },
        {
          "output_type": "stream",
          "name": "stdout",
          "text": [
            "Query: dull bed with shirt head board -> Corrected: dull bed with short head board*\n"
          ]
        },
        {
          "output_type": "stream",
          "name": "stderr",
          "text": [
            "\rSearching:  43%|████▎     | 206/480 [03:05<03:55,  1.16it/s]"
          ]
        },
        {
          "output_type": "stream",
          "name": "stdout",
          "text": [
            "Query: fawkes 36\" blue vanity -> Corrected: fawkes 36 inch blue vanity*\n"
          ]
        },
        {
          "output_type": "stream",
          "name": "stderr",
          "text": [
            "Searching:  45%|████▍     | 215/480 [03:14<03:52,  1.14it/s]"
          ]
        },
        {
          "output_type": "stream",
          "name": "stdout",
          "text": [
            "Query: trinaic towel rod -> Corrected: tranic towel rod*\n",
            "Query: sheets for twinxl -> Corrected: sheets for twin xl*\n"
          ]
        },
        {
          "output_type": "stream",
          "name": "stderr",
          "text": [
            "Searching:  46%|████▌     | 219/480 [03:16<02:52,  1.51it/s]"
          ]
        },
        {
          "output_type": "stream",
          "name": "stdout",
          "text": [
            "Query: small loving roomtables -> Corrected: small loving room tables*\n"
          ]
        },
        {
          "output_type": "stream",
          "name": "stderr",
          "text": [
            "\rSearching:  46%|████▌     | 220/480 [03:16<02:55,  1.48it/s]"
          ]
        },
        {
          "output_type": "stream",
          "name": "stdout",
          "text": [
            "Query: twin over full bunk beds cool desins -> Corrected: twin over full bunk beds cool designs*\n"
          ]
        },
        {
          "output_type": "stream",
          "name": "stderr",
          "text": [
            "Searching:  59%|█████▉    | 282/480 [04:13<02:36,  1.27it/s]"
          ]
        },
        {
          "output_type": "stream",
          "name": "stdout",
          "text": [
            "Query: 48\" sliding single track , barn door for laundry -> Corrected: 48\" sliding single track, barn door for laundry*\n"
          ]
        },
        {
          "output_type": "stream",
          "name": "stderr",
          "text": [
            "Searching:  63%|██████▎   | 301/480 [04:30<02:42,  1.10it/s]"
          ]
        },
        {
          "output_type": "stream",
          "name": "stdout",
          "text": [
            "Query: ligth bulb -> Corrected: light bulb*\n"
          ]
        },
        {
          "output_type": "stream",
          "name": "stderr",
          "text": [
            "Searching:  82%|████████▏ | 395/480 [05:50<01:09,  1.23it/s]"
          ]
        },
        {
          "output_type": "stream",
          "name": "stdout",
          "text": [
            "Query: glass lsmp shades -> Corrected: glass lamp shades*\n"
          ]
        },
        {
          "output_type": "stream",
          "name": "stderr",
          "text": [
            "Searching:  84%|████████▎ | 401/480 [05:55<01:11,  1.10it/s]"
          ]
        },
        {
          "output_type": "stream",
          "name": "stdout",
          "text": [
            "Query: refrigerator with ice an water in door -> Corrected: refrigerator with ice and water in door*\n"
          ]
        },
        {
          "output_type": "stream",
          "name": "stderr",
          "text": [
            "Searching:  94%|█████████▍| 452/480 [06:41<00:23,  1.17it/s]"
          ]
        },
        {
          "output_type": "stream",
          "name": "stdout",
          "text": [
            "Query: tye dye duvet cover -> Corrected: tie dye duvet cover*\n"
          ]
        },
        {
          "output_type": "stream",
          "name": "stderr",
          "text": [
            "Searching:  99%|█████████▉| 477/480 [07:03<00:02,  1.09it/s]"
          ]
        },
        {
          "output_type": "stream",
          "name": "stdout",
          "text": [
            "Query: pedistole sink -> Corrected: pedestal sink*\n"
          ]
        },
        {
          "output_type": "stream",
          "name": "stderr",
          "text": [
            "Searching: 100%|██████████| 480/480 [07:04<00:00,  1.13it/s]\n"
          ]
        },
        {
          "output_type": "execute_result",
          "data": {
            "text/plain": [
              "      product_id                                       product_name  \\\n",
              "0           7465                                   hair salon chair   \n",
              "1          25431                      barberpub salon massage chair   \n",
              "2           7468  mercer41 hair salon chair hydraulic styling ch...   \n",
              "3          39461         professional salon reclining massage chair   \n",
              "4           9234                            beauty salon task chair   \n",
              "...          ...                                                ...   \n",
              "4795       22194                                    wine glass rack   \n",
              "4796       40243                    madisen hanging wine glass rack   \n",
              "4797       40244                       kena hanging wine glass rack   \n",
              "4798       39976                       wall mounted wine glass rack   \n",
              "4799       40247                       winn hanging wine glass rack   \n",
              "\n",
              "                 product_class  \\\n",
              "0     Massage Chairs|Recliners   \n",
              "1               Massage Chairs   \n",
              "2               Massage Chairs   \n",
              "3               Massage Chairs   \n",
              "4                          NaN   \n",
              "...                        ...   \n",
              "4795      Kitchen Sink Storage   \n",
              "4796                Wine Racks   \n",
              "4797                Wine Racks   \n",
              "4798                Wine Racks   \n",
              "4799                Wine Racks   \n",
              "\n",
              "                                     category hierarchy  \\\n",
              "0     Furniture / Living Room Furniture / Chairs & S...   \n",
              "1     Furniture / Living Room Furniture / Chairs & S...   \n",
              "2     Furniture / Living Room Furniture / Chairs & S...   \n",
              "3     Furniture / Living Room Furniture / Chairs & S...   \n",
              "4          Furniture / Office Furniture / Office Chairs   \n",
              "...                                                 ...   \n",
              "4795  Kitchen & Tabletop / Kitchen Organization / Co...   \n",
              "4796  Kitchen & Tabletop / Tableware & Drinkware / B...   \n",
              "4797  Kitchen & Tabletop / Tableware & Drinkware / B...   \n",
              "4798  Kitchen & Tabletop / Tableware & Drinkware / B...   \n",
              "4799  Kitchen & Tabletop / Tableware & Drinkware / B...   \n",
              "\n",
              "                                    product_description  \\\n",
              "0     offers a wide selection of professional salon ...   \n",
              "1     salon chairs are a wonderful avenue for hairst...   \n",
              "2     mercer41 beauty offers a wide selection profes...   \n",
              "3     new and in a good condition . first-rate metal...   \n",
              "4     applicable scene : office , home life , beauty...   \n",
              "...                                                 ...   \n",
              "4795  drip-dry up to eight wineglasses with this cle...   \n",
              "4796  complement your farmhouse kitchen decor with t...   \n",
              "4797  spruce up your farmhouse kitchen decor with th...   \n",
              "4798  the latest addition to this collection , this ...   \n",
              "4799  are you looking for a safe and decorative solu...   \n",
              "\n",
              "                                       product_features  rating_count  \\\n",
              "0     fauxleathertype : pu|legheight-toptobottom:18|...          69.0   \n",
              "1     supplierintendedandapproveduse : non residenti...           4.0   \n",
              "2     seatfillmaterial : foam|waterrepellant : no re...           1.0   \n",
              "3     overalldepth-fronttoback:39.4|warrantylength:1...           NaN   \n",
              "4     overallheight-toptobottom:37|backcolor : brown...           NaN   \n",
              "...                                                 ...           ...   \n",
              "4795  glasscapacity:8|countryoforigin : united state...           5.0   \n",
              "4796  producttype : wine glass rack|overallwidth-sid...          29.0   \n",
              "4797  warrantylength:1 year|producttype : wine glass...          23.0   \n",
              "4798  overallheight-toptobottom:4|design : wall moun...          34.0   \n",
              "4799  overallheight-toptobottom:1.5|overallwidth-sid...         305.0   \n",
              "\n",
              "      average_rating  review_count  \\\n",
              "0                4.5          53.0   \n",
              "1                5.0           4.0   \n",
              "2                5.0           1.0   \n",
              "3                NaN           NaN   \n",
              "4                NaN           NaN   \n",
              "...              ...           ...   \n",
              "4795             4.5           3.0   \n",
              "4796             5.0          20.0   \n",
              "4797             5.0          18.0   \n",
              "4798             4.5          18.0   \n",
              "4799             5.0         187.0   \n",
              "\n",
              "                                               features  ... query_id rank  \\\n",
              "0     [fauxleathertype : pu, legheight-toptobottom:1...  ...        0    1   \n",
              "1     [supplierintendedandapproveduse : non resident...  ...        0    2   \n",
              "2     [seatfillmaterial : foam, waterrepellant : no ...  ...        0    3   \n",
              "3     [overalldepth-fronttoback:39.4, warrantylength...  ...        0    4   \n",
              "4     [overallheight-toptobottom:37, backcolor : bro...  ...        0    5   \n",
              "...                                                 ...  ...      ...  ...   \n",
              "4795  [glasscapacity:8, countryoforigin : united sta...  ...      487    6   \n",
              "4796  [producttype : wine glass rack, overallwidth-s...  ...      487    7   \n",
              "4797  [warrantylength:1 year, producttype : wine gla...  ...      487    8   \n",
              "4798  [overallheight-toptobottom:4, design : wall mo...  ...      487    9   \n",
              "4799  [overallheight-toptobottom:1.5, overallwidth-s...  ...      487   10   \n",
              "\n",
              "         query_class     id    label  grade  discounted_gain      idcg  \\\n",
              "0     Massage Chairs   80.0    Exact    2.0             3.00  8.786905   \n",
              "1     Massage Chairs   29.0    Exact    2.0             1.50  8.786905   \n",
              "2     Massage Chairs  104.0    Exact    2.0             1.00  8.786905   \n",
              "3     Massage Chairs  114.0    Exact    2.0             0.75  8.786905   \n",
              "4     Massage Chairs   32.0  Partial    1.0             0.20  8.786905   \n",
              "...              ...    ...      ...    ...              ...       ...   \n",
              "4795             NaN    NaN      NaN    0.0             0.00  8.786905   \n",
              "4796             NaN    NaN      NaN    0.0             0.00  8.786905   \n",
              "4797             NaN    NaN      NaN    0.0             0.00  8.786905   \n",
              "4798             NaN    NaN      NaN    0.0             0.00  8.786905   \n",
              "4799             NaN    NaN      NaN    0.0             0.00  8.786905   \n",
              "\n",
              "          dcg      ndcg  \n",
              "0     8.10119  0.921962  \n",
              "1     8.10119  0.921962  \n",
              "2     8.10119  0.921962  \n",
              "3     8.10119  0.921962  \n",
              "4     8.10119  0.921962  \n",
              "...       ...       ...  \n",
              "4795  0.00000  0.000000  \n",
              "4796  0.00000  0.000000  \n",
              "4797  0.00000  0.000000  \n",
              "4798  0.00000  0.000000  \n",
              "4799  0.00000  0.000000  \n",
              "\n",
              "[4800 rows x 25 columns]"
            ],
            "text/html": [
              "\n",
              "  <div id=\"df-5d5641c7-3ea6-4b51-8565-4bdce4f57939\" class=\"colab-df-container\">\n",
              "    <div>\n",
              "<style scoped>\n",
              "    .dataframe tbody tr th:only-of-type {\n",
              "        vertical-align: middle;\n",
              "    }\n",
              "\n",
              "    .dataframe tbody tr th {\n",
              "        vertical-align: top;\n",
              "    }\n",
              "\n",
              "    .dataframe thead th {\n",
              "        text-align: right;\n",
              "    }\n",
              "</style>\n",
              "<table border=\"1\" class=\"dataframe\">\n",
              "  <thead>\n",
              "    <tr style=\"text-align: right;\">\n",
              "      <th></th>\n",
              "      <th>product_id</th>\n",
              "      <th>product_name</th>\n",
              "      <th>product_class</th>\n",
              "      <th>category hierarchy</th>\n",
              "      <th>product_description</th>\n",
              "      <th>product_features</th>\n",
              "      <th>rating_count</th>\n",
              "      <th>average_rating</th>\n",
              "      <th>review_count</th>\n",
              "      <th>features</th>\n",
              "      <th>...</th>\n",
              "      <th>query_id</th>\n",
              "      <th>rank</th>\n",
              "      <th>query_class</th>\n",
              "      <th>id</th>\n",
              "      <th>label</th>\n",
              "      <th>grade</th>\n",
              "      <th>discounted_gain</th>\n",
              "      <th>idcg</th>\n",
              "      <th>dcg</th>\n",
              "      <th>ndcg</th>\n",
              "    </tr>\n",
              "  </thead>\n",
              "  <tbody>\n",
              "    <tr>\n",
              "      <th>0</th>\n",
              "      <td>7465</td>\n",
              "      <td>hair salon chair</td>\n",
              "      <td>Massage Chairs|Recliners</td>\n",
              "      <td>Furniture / Living Room Furniture / Chairs &amp; S...</td>\n",
              "      <td>offers a wide selection of professional salon ...</td>\n",
              "      <td>fauxleathertype : pu|legheight-toptobottom:18|...</td>\n",
              "      <td>69.0</td>\n",
              "      <td>4.5</td>\n",
              "      <td>53.0</td>\n",
              "      <td>[fauxleathertype : pu, legheight-toptobottom:1...</td>\n",
              "      <td>...</td>\n",
              "      <td>0</td>\n",
              "      <td>1</td>\n",
              "      <td>Massage Chairs</td>\n",
              "      <td>80.0</td>\n",
              "      <td>Exact</td>\n",
              "      <td>2.0</td>\n",
              "      <td>3.00</td>\n",
              "      <td>8.786905</td>\n",
              "      <td>8.10119</td>\n",
              "      <td>0.921962</td>\n",
              "    </tr>\n",
              "    <tr>\n",
              "      <th>1</th>\n",
              "      <td>25431</td>\n",
              "      <td>barberpub salon massage chair</td>\n",
              "      <td>Massage Chairs</td>\n",
              "      <td>Furniture / Living Room Furniture / Chairs &amp; S...</td>\n",
              "      <td>salon chairs are a wonderful avenue for hairst...</td>\n",
              "      <td>supplierintendedandapproveduse : non residenti...</td>\n",
              "      <td>4.0</td>\n",
              "      <td>5.0</td>\n",
              "      <td>4.0</td>\n",
              "      <td>[supplierintendedandapproveduse : non resident...</td>\n",
              "      <td>...</td>\n",
              "      <td>0</td>\n",
              "      <td>2</td>\n",
              "      <td>Massage Chairs</td>\n",
              "      <td>29.0</td>\n",
              "      <td>Exact</td>\n",
              "      <td>2.0</td>\n",
              "      <td>1.50</td>\n",
              "      <td>8.786905</td>\n",
              "      <td>8.10119</td>\n",
              "      <td>0.921962</td>\n",
              "    </tr>\n",
              "    <tr>\n",
              "      <th>2</th>\n",
              "      <td>7468</td>\n",
              "      <td>mercer41 hair salon chair hydraulic styling ch...</td>\n",
              "      <td>Massage Chairs</td>\n",
              "      <td>Furniture / Living Room Furniture / Chairs &amp; S...</td>\n",
              "      <td>mercer41 beauty offers a wide selection profes...</td>\n",
              "      <td>seatfillmaterial : foam|waterrepellant : no re...</td>\n",
              "      <td>1.0</td>\n",
              "      <td>5.0</td>\n",
              "      <td>1.0</td>\n",
              "      <td>[seatfillmaterial : foam, waterrepellant : no ...</td>\n",
              "      <td>...</td>\n",
              "      <td>0</td>\n",
              "      <td>3</td>\n",
              "      <td>Massage Chairs</td>\n",
              "      <td>104.0</td>\n",
              "      <td>Exact</td>\n",
              "      <td>2.0</td>\n",
              "      <td>1.00</td>\n",
              "      <td>8.786905</td>\n",
              "      <td>8.10119</td>\n",
              "      <td>0.921962</td>\n",
              "    </tr>\n",
              "    <tr>\n",
              "      <th>3</th>\n",
              "      <td>39461</td>\n",
              "      <td>professional salon reclining massage chair</td>\n",
              "      <td>Massage Chairs</td>\n",
              "      <td>Furniture / Living Room Furniture / Chairs &amp; S...</td>\n",
              "      <td>new and in a good condition . first-rate metal...</td>\n",
              "      <td>overalldepth-fronttoback:39.4|warrantylength:1...</td>\n",
              "      <td>NaN</td>\n",
              "      <td>NaN</td>\n",
              "      <td>NaN</td>\n",
              "      <td>[overalldepth-fronttoback:39.4, warrantylength...</td>\n",
              "      <td>...</td>\n",
              "      <td>0</td>\n",
              "      <td>4</td>\n",
              "      <td>Massage Chairs</td>\n",
              "      <td>114.0</td>\n",
              "      <td>Exact</td>\n",
              "      <td>2.0</td>\n",
              "      <td>0.75</td>\n",
              "      <td>8.786905</td>\n",
              "      <td>8.10119</td>\n",
              "      <td>0.921962</td>\n",
              "    </tr>\n",
              "    <tr>\n",
              "      <th>4</th>\n",
              "      <td>9234</td>\n",
              "      <td>beauty salon task chair</td>\n",
              "      <td>NaN</td>\n",
              "      <td>Furniture / Office Furniture / Office Chairs</td>\n",
              "      <td>applicable scene : office , home life , beauty...</td>\n",
              "      <td>overallheight-toptobottom:37|backcolor : brown...</td>\n",
              "      <td>NaN</td>\n",
              "      <td>NaN</td>\n",
              "      <td>NaN</td>\n",
              "      <td>[overallheight-toptobottom:37, backcolor : bro...</td>\n",
              "      <td>...</td>\n",
              "      <td>0</td>\n",
              "      <td>5</td>\n",
              "      <td>Massage Chairs</td>\n",
              "      <td>32.0</td>\n",
              "      <td>Partial</td>\n",
              "      <td>1.0</td>\n",
              "      <td>0.20</td>\n",
              "      <td>8.786905</td>\n",
              "      <td>8.10119</td>\n",
              "      <td>0.921962</td>\n",
              "    </tr>\n",
              "    <tr>\n",
              "      <th>...</th>\n",
              "      <td>...</td>\n",
              "      <td>...</td>\n",
              "      <td>...</td>\n",
              "      <td>...</td>\n",
              "      <td>...</td>\n",
              "      <td>...</td>\n",
              "      <td>...</td>\n",
              "      <td>...</td>\n",
              "      <td>...</td>\n",
              "      <td>...</td>\n",
              "      <td>...</td>\n",
              "      <td>...</td>\n",
              "      <td>...</td>\n",
              "      <td>...</td>\n",
              "      <td>...</td>\n",
              "      <td>...</td>\n",
              "      <td>...</td>\n",
              "      <td>...</td>\n",
              "      <td>...</td>\n",
              "      <td>...</td>\n",
              "      <td>...</td>\n",
              "    </tr>\n",
              "    <tr>\n",
              "      <th>4795</th>\n",
              "      <td>22194</td>\n",
              "      <td>wine glass rack</td>\n",
              "      <td>Kitchen Sink Storage</td>\n",
              "      <td>Kitchen &amp; Tabletop / Kitchen Organization / Co...</td>\n",
              "      <td>drip-dry up to eight wineglasses with this cle...</td>\n",
              "      <td>glasscapacity:8|countryoforigin : united state...</td>\n",
              "      <td>5.0</td>\n",
              "      <td>4.5</td>\n",
              "      <td>3.0</td>\n",
              "      <td>[glasscapacity:8, countryoforigin : united sta...</td>\n",
              "      <td>...</td>\n",
              "      <td>487</td>\n",
              "      <td>6</td>\n",
              "      <td>NaN</td>\n",
              "      <td>NaN</td>\n",
              "      <td>NaN</td>\n",
              "      <td>0.0</td>\n",
              "      <td>0.00</td>\n",
              "      <td>8.786905</td>\n",
              "      <td>0.00000</td>\n",
              "      <td>0.000000</td>\n",
              "    </tr>\n",
              "    <tr>\n",
              "      <th>4796</th>\n",
              "      <td>40243</td>\n",
              "      <td>madisen hanging wine glass rack</td>\n",
              "      <td>Wine Racks</td>\n",
              "      <td>Kitchen &amp; Tabletop / Tableware &amp; Drinkware / B...</td>\n",
              "      <td>complement your farmhouse kitchen decor with t...</td>\n",
              "      <td>producttype : wine glass rack|overallwidth-sid...</td>\n",
              "      <td>29.0</td>\n",
              "      <td>5.0</td>\n",
              "      <td>20.0</td>\n",
              "      <td>[producttype : wine glass rack, overallwidth-s...</td>\n",
              "      <td>...</td>\n",
              "      <td>487</td>\n",
              "      <td>7</td>\n",
              "      <td>NaN</td>\n",
              "      <td>NaN</td>\n",
              "      <td>NaN</td>\n",
              "      <td>0.0</td>\n",
              "      <td>0.00</td>\n",
              "      <td>8.786905</td>\n",
              "      <td>0.00000</td>\n",
              "      <td>0.000000</td>\n",
              "    </tr>\n",
              "    <tr>\n",
              "      <th>4797</th>\n",
              "      <td>40244</td>\n",
              "      <td>kena hanging wine glass rack</td>\n",
              "      <td>Wine Racks</td>\n",
              "      <td>Kitchen &amp; Tabletop / Tableware &amp; Drinkware / B...</td>\n",
              "      <td>spruce up your farmhouse kitchen decor with th...</td>\n",
              "      <td>warrantylength:1 year|producttype : wine glass...</td>\n",
              "      <td>23.0</td>\n",
              "      <td>5.0</td>\n",
              "      <td>18.0</td>\n",
              "      <td>[warrantylength:1 year, producttype : wine gla...</td>\n",
              "      <td>...</td>\n",
              "      <td>487</td>\n",
              "      <td>8</td>\n",
              "      <td>NaN</td>\n",
              "      <td>NaN</td>\n",
              "      <td>NaN</td>\n",
              "      <td>0.0</td>\n",
              "      <td>0.00</td>\n",
              "      <td>8.786905</td>\n",
              "      <td>0.00000</td>\n",
              "      <td>0.000000</td>\n",
              "    </tr>\n",
              "    <tr>\n",
              "      <th>4798</th>\n",
              "      <td>39976</td>\n",
              "      <td>wall mounted wine glass rack</td>\n",
              "      <td>Wine Racks</td>\n",
              "      <td>Kitchen &amp; Tabletop / Tableware &amp; Drinkware / B...</td>\n",
              "      <td>the latest addition to this collection , this ...</td>\n",
              "      <td>overallheight-toptobottom:4|design : wall moun...</td>\n",
              "      <td>34.0</td>\n",
              "      <td>4.5</td>\n",
              "      <td>18.0</td>\n",
              "      <td>[overallheight-toptobottom:4, design : wall mo...</td>\n",
              "      <td>...</td>\n",
              "      <td>487</td>\n",
              "      <td>9</td>\n",
              "      <td>NaN</td>\n",
              "      <td>NaN</td>\n",
              "      <td>NaN</td>\n",
              "      <td>0.0</td>\n",
              "      <td>0.00</td>\n",
              "      <td>8.786905</td>\n",
              "      <td>0.00000</td>\n",
              "      <td>0.000000</td>\n",
              "    </tr>\n",
              "    <tr>\n",
              "      <th>4799</th>\n",
              "      <td>40247</td>\n",
              "      <td>winn hanging wine glass rack</td>\n",
              "      <td>Wine Racks</td>\n",
              "      <td>Kitchen &amp; Tabletop / Tableware &amp; Drinkware / B...</td>\n",
              "      <td>are you looking for a safe and decorative solu...</td>\n",
              "      <td>overallheight-toptobottom:1.5|overallwidth-sid...</td>\n",
              "      <td>305.0</td>\n",
              "      <td>5.0</td>\n",
              "      <td>187.0</td>\n",
              "      <td>[overallheight-toptobottom:1.5, overallwidth-s...</td>\n",
              "      <td>...</td>\n",
              "      <td>487</td>\n",
              "      <td>10</td>\n",
              "      <td>NaN</td>\n",
              "      <td>NaN</td>\n",
              "      <td>NaN</td>\n",
              "      <td>0.0</td>\n",
              "      <td>0.00</td>\n",
              "      <td>8.786905</td>\n",
              "      <td>0.00000</td>\n",
              "      <td>0.000000</td>\n",
              "    </tr>\n",
              "  </tbody>\n",
              "</table>\n",
              "<p>4800 rows × 25 columns</p>\n",
              "</div>\n",
              "    <div class=\"colab-df-buttons\">\n",
              "\n",
              "  <div class=\"colab-df-container\">\n",
              "    <button class=\"colab-df-convert\" onclick=\"convertToInteractive('df-5d5641c7-3ea6-4b51-8565-4bdce4f57939')\"\n",
              "            title=\"Convert this dataframe to an interactive table.\"\n",
              "            style=\"display:none;\">\n",
              "\n",
              "  <svg xmlns=\"http://www.w3.org/2000/svg\" height=\"24px\" viewBox=\"0 -960 960 960\">\n",
              "    <path d=\"M120-120v-720h720v720H120Zm60-500h600v-160H180v160Zm220 220h160v-160H400v160Zm0 220h160v-160H400v160ZM180-400h160v-160H180v160Zm440 0h160v-160H620v160ZM180-180h160v-160H180v160Zm440 0h160v-160H620v160Z\"/>\n",
              "  </svg>\n",
              "    </button>\n",
              "\n",
              "  <style>\n",
              "    .colab-df-container {\n",
              "      display:flex;\n",
              "      gap: 12px;\n",
              "    }\n",
              "\n",
              "    .colab-df-convert {\n",
              "      background-color: #E8F0FE;\n",
              "      border: none;\n",
              "      border-radius: 50%;\n",
              "      cursor: pointer;\n",
              "      display: none;\n",
              "      fill: #1967D2;\n",
              "      height: 32px;\n",
              "      padding: 0 0 0 0;\n",
              "      width: 32px;\n",
              "    }\n",
              "\n",
              "    .colab-df-convert:hover {\n",
              "      background-color: #E2EBFA;\n",
              "      box-shadow: 0px 1px 2px rgba(60, 64, 67, 0.3), 0px 1px 3px 1px rgba(60, 64, 67, 0.15);\n",
              "      fill: #174EA6;\n",
              "    }\n",
              "\n",
              "    .colab-df-buttons div {\n",
              "      margin-bottom: 4px;\n",
              "    }\n",
              "\n",
              "    [theme=dark] .colab-df-convert {\n",
              "      background-color: #3B4455;\n",
              "      fill: #D2E3FC;\n",
              "    }\n",
              "\n",
              "    [theme=dark] .colab-df-convert:hover {\n",
              "      background-color: #434B5C;\n",
              "      box-shadow: 0px 1px 3px 1px rgba(0, 0, 0, 0.15);\n",
              "      filter: drop-shadow(0px 1px 2px rgba(0, 0, 0, 0.3));\n",
              "      fill: #FFFFFF;\n",
              "    }\n",
              "  </style>\n",
              "\n",
              "    <script>\n",
              "      const buttonEl =\n",
              "        document.querySelector('#df-5d5641c7-3ea6-4b51-8565-4bdce4f57939 button.colab-df-convert');\n",
              "      buttonEl.style.display =\n",
              "        google.colab.kernel.accessAllowed ? 'block' : 'none';\n",
              "\n",
              "      async function convertToInteractive(key) {\n",
              "        const element = document.querySelector('#df-5d5641c7-3ea6-4b51-8565-4bdce4f57939');\n",
              "        const dataTable =\n",
              "          await google.colab.kernel.invokeFunction('convertToInteractive',\n",
              "                                                    [key], {});\n",
              "        if (!dataTable) return;\n",
              "\n",
              "        const docLinkHtml = 'Like what you see? Visit the ' +\n",
              "          '<a target=\"_blank\" href=https://colab.research.google.com/notebooks/data_table.ipynb>data table notebook</a>'\n",
              "          + ' to learn more about interactive tables.';\n",
              "        element.innerHTML = '';\n",
              "        dataTable['output_type'] = 'display_data';\n",
              "        await google.colab.output.renderOutput(dataTable, element);\n",
              "        const docLink = document.createElement('div');\n",
              "        docLink.innerHTML = docLinkHtml;\n",
              "        element.appendChild(docLink);\n",
              "      }\n",
              "    </script>\n",
              "  </div>\n",
              "\n",
              "\n",
              "    <div id=\"df-2fd3ee6e-68a7-49e9-8d81-f6899707f3ee\">\n",
              "      <button class=\"colab-df-quickchart\" onclick=\"quickchart('df-2fd3ee6e-68a7-49e9-8d81-f6899707f3ee')\"\n",
              "                title=\"Suggest charts\"\n",
              "                style=\"display:none;\">\n",
              "\n",
              "<svg xmlns=\"http://www.w3.org/2000/svg\" height=\"24px\"viewBox=\"0 0 24 24\"\n",
              "     width=\"24px\">\n",
              "    <g>\n",
              "        <path d=\"M19 3H5c-1.1 0-2 .9-2 2v14c0 1.1.9 2 2 2h14c1.1 0 2-.9 2-2V5c0-1.1-.9-2-2-2zM9 17H7v-7h2v7zm4 0h-2V7h2v10zm4 0h-2v-4h2v4z\"/>\n",
              "    </g>\n",
              "</svg>\n",
              "      </button>\n",
              "\n",
              "<style>\n",
              "  .colab-df-quickchart {\n",
              "      --bg-color: #E8F0FE;\n",
              "      --fill-color: #1967D2;\n",
              "      --hover-bg-color: #E2EBFA;\n",
              "      --hover-fill-color: #174EA6;\n",
              "      --disabled-fill-color: #AAA;\n",
              "      --disabled-bg-color: #DDD;\n",
              "  }\n",
              "\n",
              "  [theme=dark] .colab-df-quickchart {\n",
              "      --bg-color: #3B4455;\n",
              "      --fill-color: #D2E3FC;\n",
              "      --hover-bg-color: #434B5C;\n",
              "      --hover-fill-color: #FFFFFF;\n",
              "      --disabled-bg-color: #3B4455;\n",
              "      --disabled-fill-color: #666;\n",
              "  }\n",
              "\n",
              "  .colab-df-quickchart {\n",
              "    background-color: var(--bg-color);\n",
              "    border: none;\n",
              "    border-radius: 50%;\n",
              "    cursor: pointer;\n",
              "    display: none;\n",
              "    fill: var(--fill-color);\n",
              "    height: 32px;\n",
              "    padding: 0;\n",
              "    width: 32px;\n",
              "  }\n",
              "\n",
              "  .colab-df-quickchart:hover {\n",
              "    background-color: var(--hover-bg-color);\n",
              "    box-shadow: 0 1px 2px rgba(60, 64, 67, 0.3), 0 1px 3px 1px rgba(60, 64, 67, 0.15);\n",
              "    fill: var(--button-hover-fill-color);\n",
              "  }\n",
              "\n",
              "  .colab-df-quickchart-complete:disabled,\n",
              "  .colab-df-quickchart-complete:disabled:hover {\n",
              "    background-color: var(--disabled-bg-color);\n",
              "    fill: var(--disabled-fill-color);\n",
              "    box-shadow: none;\n",
              "  }\n",
              "\n",
              "  .colab-df-spinner {\n",
              "    border: 2px solid var(--fill-color);\n",
              "    border-color: transparent;\n",
              "    border-bottom-color: var(--fill-color);\n",
              "    animation:\n",
              "      spin 1s steps(1) infinite;\n",
              "  }\n",
              "\n",
              "  @keyframes spin {\n",
              "    0% {\n",
              "      border-color: transparent;\n",
              "      border-bottom-color: var(--fill-color);\n",
              "      border-left-color: var(--fill-color);\n",
              "    }\n",
              "    20% {\n",
              "      border-color: transparent;\n",
              "      border-left-color: var(--fill-color);\n",
              "      border-top-color: var(--fill-color);\n",
              "    }\n",
              "    30% {\n",
              "      border-color: transparent;\n",
              "      border-left-color: var(--fill-color);\n",
              "      border-top-color: var(--fill-color);\n",
              "      border-right-color: var(--fill-color);\n",
              "    }\n",
              "    40% {\n",
              "      border-color: transparent;\n",
              "      border-right-color: var(--fill-color);\n",
              "      border-top-color: var(--fill-color);\n",
              "    }\n",
              "    60% {\n",
              "      border-color: transparent;\n",
              "      border-right-color: var(--fill-color);\n",
              "    }\n",
              "    80% {\n",
              "      border-color: transparent;\n",
              "      border-right-color: var(--fill-color);\n",
              "      border-bottom-color: var(--fill-color);\n",
              "    }\n",
              "    90% {\n",
              "      border-color: transparent;\n",
              "      border-bottom-color: var(--fill-color);\n",
              "    }\n",
              "  }\n",
              "</style>\n",
              "\n",
              "      <script>\n",
              "        async function quickchart(key) {\n",
              "          const quickchartButtonEl =\n",
              "            document.querySelector('#' + key + ' button');\n",
              "          quickchartButtonEl.disabled = true;  // To prevent multiple clicks.\n",
              "          quickchartButtonEl.classList.add('colab-df-spinner');\n",
              "          try {\n",
              "            const charts = await google.colab.kernel.invokeFunction(\n",
              "                'suggestCharts', [key], {});\n",
              "          } catch (error) {\n",
              "            console.error('Error during call to suggestCharts:', error);\n",
              "          }\n",
              "          quickchartButtonEl.classList.remove('colab-df-spinner');\n",
              "          quickchartButtonEl.classList.add('colab-df-quickchart-complete');\n",
              "        }\n",
              "        (() => {\n",
              "          let quickchartButtonEl =\n",
              "            document.querySelector('#df-2fd3ee6e-68a7-49e9-8d81-f6899707f3ee button');\n",
              "          quickchartButtonEl.style.display =\n",
              "            google.colab.kernel.accessAllowed ? 'block' : 'none';\n",
              "        })();\n",
              "      </script>\n",
              "    </div>\n",
              "\n",
              "  <div id=\"id_0433f76d-7acd-45ec-88dd-f450e02213c5\">\n",
              "    <style>\n",
              "      .colab-df-generate {\n",
              "        background-color: #E8F0FE;\n",
              "        border: none;\n",
              "        border-radius: 50%;\n",
              "        cursor: pointer;\n",
              "        display: none;\n",
              "        fill: #1967D2;\n",
              "        height: 32px;\n",
              "        padding: 0 0 0 0;\n",
              "        width: 32px;\n",
              "      }\n",
              "\n",
              "      .colab-df-generate:hover {\n",
              "        background-color: #E2EBFA;\n",
              "        box-shadow: 0px 1px 2px rgba(60, 64, 67, 0.3), 0px 1px 3px 1px rgba(60, 64, 67, 0.15);\n",
              "        fill: #174EA6;\n",
              "      }\n",
              "\n",
              "      [theme=dark] .colab-df-generate {\n",
              "        background-color: #3B4455;\n",
              "        fill: #D2E3FC;\n",
              "      }\n",
              "\n",
              "      [theme=dark] .colab-df-generate:hover {\n",
              "        background-color: #434B5C;\n",
              "        box-shadow: 0px 1px 3px 1px rgba(0, 0, 0, 0.15);\n",
              "        filter: drop-shadow(0px 1px 2px rgba(0, 0, 0, 0.3));\n",
              "        fill: #FFFFFF;\n",
              "      }\n",
              "    </style>\n",
              "    <button class=\"colab-df-generate\" onclick=\"generateWithVariable('corrected_results2')\"\n",
              "            title=\"Generate code using this dataframe.\"\n",
              "            style=\"display:none;\">\n",
              "\n",
              "  <svg xmlns=\"http://www.w3.org/2000/svg\" height=\"24px\"viewBox=\"0 0 24 24\"\n",
              "       width=\"24px\">\n",
              "    <path d=\"M7,19H8.4L18.45,9,17,7.55,7,17.6ZM5,21V16.75L18.45,3.32a2,2,0,0,1,2.83,0l1.4,1.43a1.91,1.91,0,0,1,.58,1.4,1.91,1.91,0,0,1-.58,1.4L9.25,21ZM18.45,9,17,7.55Zm-12,3A5.31,5.31,0,0,0,4.9,8.1,5.31,5.31,0,0,0,1,6.5,5.31,5.31,0,0,0,4.9,4.9,5.31,5.31,0,0,0,6.5,1,5.31,5.31,0,0,0,8.1,4.9,5.31,5.31,0,0,0,12,6.5,5.46,5.46,0,0,0,6.5,12Z\"/>\n",
              "  </svg>\n",
              "    </button>\n",
              "    <script>\n",
              "      (() => {\n",
              "      const buttonEl =\n",
              "        document.querySelector('#id_0433f76d-7acd-45ec-88dd-f450e02213c5 button.colab-df-generate');\n",
              "      buttonEl.style.display =\n",
              "        google.colab.kernel.accessAllowed ? 'block' : 'none';\n",
              "\n",
              "      buttonEl.onclick = () => {\n",
              "        google.colab.notebook.generateWithVariable('corrected_results2');\n",
              "      }\n",
              "      })();\n",
              "    </script>\n",
              "  </div>\n",
              "\n",
              "    </div>\n",
              "  </div>\n"
            ],
            "application/vnd.google.colaboratory.intrinsic+json": {
              "type": "dataframe",
              "variable_name": "corrected_results2"
            }
          },
          "metadata": {},
          "execution_count": 13
        }
      ],
      "source": [
        "spell_check_search = SpellingCorrectedSearch(products, better_corrector)\n",
        "corrected_results2 = run_strategy(spell_check_search)\n",
        "corrected_results2"
      ]
    },
    {
      "cell_type": "code",
      "execution_count": null,
      "metadata": {
        "id": "sjBB0u2-fmYc",
        "colab": {
          "base_uri": "https://localhost:8080/"
        },
        "outputId": "f80af5d2-fcdd-4c6d-afc9-8f1e4198f7a3"
      },
      "outputs": [
        {
          "output_type": "execute_result",
          "data": {
            "text/plain": [
              "(np.float64(0.542740651673215), np.float64(0.5411098691836396))"
            ]
          },
          "metadata": {},
          "execution_count": 14
        }
      ],
      "source": [
        "ndcgs(corrected_results2).mean(), ndcgs(graded_bm25).mean()"
      ]
    },
    {
      "cell_type": "code",
      "execution_count": null,
      "metadata": {
        "id": "1nJgeNW0frHt",
        "colab": {
          "base_uri": "https://localhost:8080/",
          "height": 397
        },
        "outputId": "fb1d7a37-4e40-4848-b27d-7085c9940390"
      },
      "outputs": [
        {
          "output_type": "execute_result",
          "data": {
            "text/plain": [
              "query\n",
              "tye dye duvet cover                       0.349546\n",
              "foutains with brick look                  0.335230\n",
              "glass lsmp shades                         0.279637\n",
              "sheets for twinxl                         0.104322\n",
              "7 draw white dresser                      0.005419\n",
              "refrigerator with ice an water in door    0.002529\n",
              "desk for kids tjat ate 10 year old       -0.002439\n",
              "pedistole sink                           -0.063858\n",
              "tollette teal outdoor rug                -0.227611\n",
              "Name: ndcg, dtype: float64"
            ],
            "text/html": [
              "<div>\n",
              "<style scoped>\n",
              "    .dataframe tbody tr th:only-of-type {\n",
              "        vertical-align: middle;\n",
              "    }\n",
              "\n",
              "    .dataframe tbody tr th {\n",
              "        vertical-align: top;\n",
              "    }\n",
              "\n",
              "    .dataframe thead th {\n",
              "        text-align: right;\n",
              "    }\n",
              "</style>\n",
              "<table border=\"1\" class=\"dataframe\">\n",
              "  <thead>\n",
              "    <tr style=\"text-align: right;\">\n",
              "      <th></th>\n",
              "      <th>ndcg</th>\n",
              "    </tr>\n",
              "    <tr>\n",
              "      <th>query</th>\n",
              "      <th></th>\n",
              "    </tr>\n",
              "  </thead>\n",
              "  <tbody>\n",
              "    <tr>\n",
              "      <th>tye dye duvet cover</th>\n",
              "      <td>0.349546</td>\n",
              "    </tr>\n",
              "    <tr>\n",
              "      <th>foutains with brick look</th>\n",
              "      <td>0.335230</td>\n",
              "    </tr>\n",
              "    <tr>\n",
              "      <th>glass lsmp shades</th>\n",
              "      <td>0.279637</td>\n",
              "    </tr>\n",
              "    <tr>\n",
              "      <th>sheets for twinxl</th>\n",
              "      <td>0.104322</td>\n",
              "    </tr>\n",
              "    <tr>\n",
              "      <th>7 draw white dresser</th>\n",
              "      <td>0.005419</td>\n",
              "    </tr>\n",
              "    <tr>\n",
              "      <th>refrigerator with ice an water in door</th>\n",
              "      <td>0.002529</td>\n",
              "    </tr>\n",
              "    <tr>\n",
              "      <th>desk for kids tjat ate 10 year old</th>\n",
              "      <td>-0.002439</td>\n",
              "    </tr>\n",
              "    <tr>\n",
              "      <th>pedistole sink</th>\n",
              "      <td>-0.063858</td>\n",
              "    </tr>\n",
              "    <tr>\n",
              "      <th>tollette teal outdoor rug</th>\n",
              "      <td>-0.227611</td>\n",
              "    </tr>\n",
              "  </tbody>\n",
              "</table>\n",
              "</div><br><label><b>dtype:</b> float64</label>"
            ]
          },
          "metadata": {},
          "execution_count": 15
        }
      ],
      "source": [
        "ndcg_delta(corrected_results2, graded_bm25)"
      ]
    },
    {
      "cell_type": "markdown",
      "metadata": {
        "id": "EwnPwuifJaby"
      },
      "source": [
        "### Examine some of the differences\n",
        "\n",
        "**Ideas to try** - Can you improve this corrector further?\n",
        "\n",
        "* Produce a list of possible spell corrections\n",
        "* Trying a new / different model\n",
        "* Few-shotting by passing examples to the prompt"
      ]
    },
    {
      "cell_type": "code",
      "source": [
        "better_corrector('kisner')"
      ],
      "metadata": {
        "id": "STBJJ5dJAuG4",
        "colab": {
          "base_uri": "https://localhost:8080/"
        },
        "outputId": "f96a3e09-697a-49ac-9102-7dcccd69d3de"
      },
      "execution_count": null,
      "outputs": [
        {
          "output_type": "execute_result",
          "data": {
            "text/plain": [
              "SpellingCorrectedQuery(corrected_keywords='Kisner')"
            ]
          },
          "metadata": {},
          "execution_count": 16
        }
      ]
    },
    {
      "cell_type": "code",
      "execution_count": null,
      "metadata": {
        "id": "OYKUMKyCIh1I",
        "colab": {
          "base_uri": "https://localhost:8080/"
        },
        "outputId": "e65cc7e6-ca82-48ac-dd50-8685254974c6"
      },
      "outputs": [
        {
          "output_type": "execute_result",
          "data": {
            "text/plain": [
              "(SpellingCorrectedQuery(corrected_keywords='sheets for twin xl'),\n",
              " SpellingCorrectedQuery(corrected_keywords='sheets for twin XL'))"
            ]
          },
          "metadata": {},
          "execution_count": 17
        }
      ],
      "source": [
        "better_corrector(\"sheets for twinxl\"), corrector(\"sheets for twinxl\")"
      ]
    },
    {
      "cell_type": "code",
      "execution_count": null,
      "metadata": {
        "id": "y3qjWFnkJJFC",
        "colab": {
          "base_uri": "https://localhost:8080/"
        },
        "outputId": "0f6e79bc-9d8d-411a-dd7e-082bd1e1e852"
      },
      "outputs": [
        {
          "output_type": "execute_result",
          "data": {
            "text/plain": [
              "(SpellingCorrectedQuery(corrected_keywords='desk for kids that are 10 year old'),\n",
              " SpellingCorrectedQuery(corrected_keywords='desk for kids that are 10 years old'))"
            ]
          },
          "metadata": {},
          "execution_count": 18
        }
      ],
      "source": [
        "better_corrector(\"desk for kids tjat ate 10 year old\"), corrector(\"desk for kids tjat ate 10 year old\")"
      ]
    },
    {
      "cell_type": "code",
      "source": [],
      "metadata": {
        "id": "_LokzFfuNXuX"
      },
      "execution_count": null,
      "outputs": []
    }
  ],
  "metadata": {
    "colab": {
      "provenance": []
    },
    "kernelspec": {
      "display_name": "Python 3",
      "name": "python3"
    },
    "language_info": {
      "name": "python"
    }
  },
  "nbformat": 4,
  "nbformat_minor": 0
}