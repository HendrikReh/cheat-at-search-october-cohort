{
  "nbformat": 4,
  "nbformat_minor": 0,
  "metadata": {
    "colab": {
      "provenance": [],
      "toc_visible": true
    },
    "kernelspec": {
      "name": "python3",
      "display_name": "Python 3"
    },
    "language_info": {
      "name": "python"
    }
  },
  "cells": [
    {
      "cell_type": "markdown",
      "source": [
        "## Experiment with query semantic vector for caching\n",
        "\n",
        "<small>\n",
        "(from <a href=\"http://maven.com/softwaredoug/cheat-at-search\">Cheat at Search with LLMs</a> training course by Doug Turnbull.)\n",
        "</small>"
      ],
      "metadata": {
        "id": "yE-5heLf2vtF"
      }
    },
    {
      "cell_type": "markdown",
      "source": [
        "### A set of highly related queries\n",
        "\n",
        "These queries vary a couple of topics, but all are different strings for the same information needs\n",
        "\n",
        "* Color: red or purple\n",
        "* Item type: shoes or tennis shoes\n",
        "* Gender: men or womens\n",
        "\n",
        "Below we have two sets of test queries:\n",
        "* Queries that should NOT match - they have different, if similar, information needs\n",
        "* Queries that its OK if they match\n",
        "\n",
        "We will use an embedding model fine-tuned on e-commerce data: `intfloat/e5-small-v2`. You will need to find an embedding model that passes this test."
      ],
      "metadata": {
        "id": "33xlqRSv2_xQ"
      }
    },
    {
      "cell_type": "code",
      "execution_count": null,
      "metadata": {
        "colab": {
          "base_uri": "https://localhost:8080/"
        },
        "id": "6eK4oqI8z1-b",
        "outputId": "0422273a-bf48-4e3e-be38-8d4b6435c787"
      },
      "outputs": [
        {
          "output_type": "stream",
          "name": "stdout",
          "text": [
            "[[-0.07041039  0.05990096  0.00384035 ...  0.00889128 -0.01869312\n",
            "   0.07684675]\n",
            " [-0.06730098  0.06927423  0.01202621 ...  0.0173946  -0.0057798\n",
            "   0.07632534]\n",
            " [-0.07761967  0.04985245  0.0105322  ... -0.0104816  -0.03585915\n",
            "   0.06742807]\n",
            " ...\n",
            " [-0.10389228  0.03124737  0.01955353 ... -0.01935114  0.00356002\n",
            "   0.07294314]\n",
            " [-0.09446127  0.03613773  0.01525081 ...  0.01329067 -0.07370114\n",
            "   0.04785777]\n",
            " [-0.06866553  0.05815653 -0.00062291 ... -0.00144215 -0.02783558\n",
            "   0.06176304]]\n"
          ]
        }
      ],
      "source": [
        "from sentence_transformers import SentenceTransformer\n",
        "\n",
        "query_eggshells = [\n",
        "    \"red tennis shoes\",\n",
        "    \"tennis shoes, the red ones\",\n",
        "    \"I want to buy red tennis shoes\",\n",
        "    \"please give me red tennis shoes\",\n",
        "    \"red shoes\",\n",
        "    \"tennis shoes\",\n",
        "    \"red shoes for men\",\n",
        "    \"red shoes for women\",\n",
        "    \"I want to buy red shoes\",\n",
        "    \"I want to buy red shoes for men\",\n",
        "    \"purple shoes\",\n",
        "    \"I want to buy purple shoes\",\n",
        "    \"purple tennis shoes\",\n",
        "    \"I need purple tennis shoes\",\n",
        "    \"tennis shoes in purple\",\n",
        "    \"can I get some purple tennis shoes?\",\n",
        "    \"I'd like to get some red shoes\",\n",
        "    \"red women's tennis shoes\",\n",
        "    \"men's red tennis shoes\",\n",
        "    \"red shoes men's\",\n",
        "    \"shoes, red, for women\",\n",
        "    \"give me tennis shoes in red\",\n",
        "    \"looking for red shoes for women\",\n",
        "    \"shopping for red men's tennis shoes\",\n",
        "    \"purple women's shoes\",\n",
        "    \"purple men's tennis shoes\",\n",
        "    \"I’m shopping for tennis shoes, maybe in red\",\n",
        "    \"tennis shoes that are red\",\n",
        "    \"show me red tennis shoes for women\",\n",
        "    \"do you have red tennis shoes?\",\n",
        "    \"red colored shoes\",\n",
        "    \"red sneakers\",\n",
        "    \"purple sneakers for men\",\n",
        "    \"men's purple shoes\",\n",
        "    \"women's red sneakers\",\n",
        "    \"I'd like women's tennis shoes in red\",\n",
        "    \"get me red tennis shoes\",\n",
        "    \"can I buy red shoes?\",\n",
        "    \"I need tennis shoes for men in red\",\n",
        "    \"buy women's tennis shoes purple\",\n",
        "    \"want to see red men's shoes\",\n",
        "    \"looking for purple tennis shoes for women\",\n",
        "    \"show me tennis shoes, red color\",\n",
        "    \"are there purple shoes for women?\",\n",
        "    \"tennis shoes for women in purple\",\n",
        "    \"ladies red tennis shoes\",\n",
        "    \"guys' red shoes\",\n",
        "    \"purple tennis shoes for ladies\",\n",
        "    \"purple shoes for guys\",\n",
        "    \"red tennis sneakers\",\n",
        "    \"tennis shoes — red ones for women\",\n",
        "    \"searching for red sneakers\",\n",
        "    \"tennis shoes red male\",\n",
        "    \"red tennis shoes female\",\n",
        "    \"I’m looking for red sports shoes\",\n",
        "    \"purple tennis shoes men's\",\n",
        "    \"tennis sneakers in purple for women\",\n",
        "    \"buy red sneakers\",\n",
        "    \"purple athletic shoes for men\",\n",
        "    \"purple gym shoes\",\n",
        "    \"red gym shoes\",\n",
        "    \"ladies tennis shoes, red color\",\n",
        "    \"purple tennis footwear for men\",\n",
        "    \"men's gym shoes in red\",\n",
        "    \"I'd like to see red shoes for women\",\n",
        "    \"I need new red tennis shoes\",\n",
        "    \"let’s buy red shoes\",\n",
        "    \"do you carry red tennis sneakers?\",\n",
        "    \"want red running shoes\",\n",
        "    \"get purple tennis sneakers\",\n",
        "    \"red tennis shoes for women\",\n",
        "    \"red shoes in men’s sizes\",\n",
        "    \"purple colored shoes for women\",\n",
        "    \"do you have men’s tennis shoes in red?\",\n",
        "    \"purple shoes for women please\",\n",
        "    \"can I find red women’s sneakers?\",\n",
        "    \"I want red tennis shoes for men\",\n",
        "    \"men’s shoes in red\",\n",
        "    \"show red tennis shoes\",\n",
        "    \"women's red running shoes\",\n",
        "    \"purple tennis shoes women want\",\n",
        "    \"buy men's purple shoes\",\n",
        "    \"buy women’s red sneakers\",\n",
        "    \"tennis shoes with red color\",\n",
        "    \"tennis shoes for ladies in red\",\n",
        "    \"give me red athletic shoes\",\n",
        "    \"I’m after red tennis sneakers\",\n",
        "    \"purple workout shoes\",\n",
        "    \"purple tennis shoes I can run in\",\n",
        "    \"can I buy red women's shoes?\",\n",
        "    \"buy shoes in red for women\",\n",
        "    \"looking for tennis shoes, red ones\",\n",
        "    \"I like purple tennis shoes\",\n",
        "    \"tennis sneakers in red for men\",\n",
        "    \"ladies' red shoes\",\n",
        "    \"running shoes, red, for women\",\n",
        "    \"men’s purple sports shoes\",\n",
        "    \"tennis shoes, purple, male\",\n",
        "    \"tennis sneakers purple female\",\n",
        "    \"purple shoes for sports\",\n",
        "    \"purple shoes for tennis\",\n",
        "    \"get me red shoes for gym\",\n",
        "    \"I’d like tennis shoes, in red\"\n",
        "]\n",
        "\n",
        "model = SentenceTransformer('intfloat/e5-small-v2')\n",
        "prefix = \"query: \"\n",
        "query_embeddings = model.encode([prefix + query for query in query_eggshells])\n",
        "print(query_embeddings)"
      ]
    },
    {
      "cell_type": "markdown",
      "source": [
        "### Our 'caching' function\n",
        "\n",
        "This will return a hit if similarity with our embedding model exceeds a threshold, otherwise it will not be considered a match."
      ],
      "metadata": {
        "id": "feDAb7MX3hTT"
      }
    },
    {
      "cell_type": "code",
      "source": [
        "import numpy as np\n",
        "\n",
        "def similar_query(other_query_embeddings, query, threshold=0.95):\n",
        "    query_embedding = model.encode(prefix + query)\n",
        "    scores = np.dot(query_embedding, other_query_embeddings.T)\n",
        "    max_idx = np.argmax(scores)\n",
        "    if scores[max_idx] < threshold:\n",
        "        return None, None\n",
        "    return query_eggshells[max_idx], scores[max_idx]"
      ],
      "metadata": {
        "id": "ZqP0QFblz4Oh"
      },
      "execution_count": null,
      "outputs": []
    },
    {
      "cell_type": "markdown",
      "source": [
        "### These should not match"
      ],
      "metadata": {
        "id": "OerYjrAB3pbK"
      }
    },
    {
      "cell_type": "code",
      "source": [
        "should_not_match = [\n",
        "    \"show me brown shoes\",\n",
        "    \"I'm looking for brown shoes for men\",\n",
        "    \"brown shoes for women please\",\n",
        "    \"I'd like some brown tennis sneakers\",\n",
        "    \"where can I buy brown tennis shoes for women?\",\n",
        "    \"get me some tennis shoes, brown ones\",\n",
        "    \"tennis sneakers in brown for men\",\n",
        "    \"can I find brown sports shoes for women?\",\n",
        "    \"looking for brown men's tennis shoes\",\n",
        "    \"do you carry women's tennis shoes in brown?\",\n",
        "    \"shopping for brown tennis sneakers\",\n",
        "    \"brown sneakers for women\",\n",
        "    \"brown gym shoes for men\",\n",
        "    \"I'd like tennis shoes in brown\",\n",
        "    \"please show me brown shoes\",\n",
        "    \"tennis shoes, brown color for ladies\",\n",
        "    \"can I get brown shoes?\",\n",
        "    \"brown colored sneakers\",\n",
        "    \"men’s shoes in brown\",\n",
        "    \"ladies’ brown tennis sneakers\",\n",
        "    \"tennis shoes in brown for women\",\n",
        "    \"give me brown sneakers\",\n",
        "    \"brown tennis footwear for men\",\n",
        "    \"brown athletic shoes for women\",\n",
        "    \"brown casual shoes for men\",\n",
        "    \"looking to buy brown sneakers\",\n",
        "    \"find me brown tennis sneakers\",\n",
        "    \"searching for brown tennis shoes for ladies\",\n",
        "    \"brown sports shoes\",\n",
        "    \"brown shoes for guys\",\n",
        "    \"brown shoes for ladies\",\n",
        "    \"I need tennis shoes in brown color\",\n",
        "    \"where are brown men's shoes?\",\n",
        "    \"I'd like women's brown shoes\",\n",
        "    \"can you show me brown sneakers?\",\n",
        "    \"tennis shoes for women in brown\",\n",
        "]\n",
        "\n",
        "found = 0\n",
        "for source_query in should_not_match:\n",
        "    query, score = similar_query(query_embeddings, source_query)\n",
        "    if query is not None:\n",
        "        print(source_query, similar_query(query_embeddings, query))\n",
        "        found += 1\n",
        "print(found / len(should_not_match))\n"
      ],
      "metadata": {
        "id": "4BQN-j4P0XWx",
        "colab": {
          "base_uri": "https://localhost:8080/"
        },
        "outputId": "5cf06ca7-2d0b-466b-fef9-31acf3d17aa4"
      },
      "execution_count": null,
      "outputs": [
        {
          "output_type": "stream",
          "name": "stdout",
          "text": [
            "0.0\n"
          ]
        }
      ]
    },
    {
      "cell_type": "markdown",
      "source": [
        "### These should match"
      ],
      "metadata": {
        "id": "GBiW2m0A3rcp"
      }
    },
    {
      "cell_type": "code",
      "source": [
        "should_match = [\n",
        "    \"I’m shopping for tennis shoes, maybe in purple\",\n",
        "    \"show me purple tennis shoes for women\",\n",
        "    \"tennis sneakers that are red\",\n",
        "    \"do you have purple tennis shoes?\",\n",
        "    \"I'd like to get some purple shoes\",\n",
        "    \"shopping for red tennis sneakers\",\n",
        "    \"purple women’s gym shoes\",\n",
        "    \"red shoes in men's sizes\",\n",
        "    \"men’s purple workout sneakers\",\n",
        "    \"buy tennis shoes in red\",\n",
        "    \"can I find red women’s sneakers?\",\n",
        "    \"tennis shoes in purple for guys\",\n",
        "    \"do you sell red colored shoes?\",\n",
        "    \"get me purple sports shoes\",\n",
        "    \"ladies red athletic sneakers\",\n",
        "    \"red tennis sneakers for her\",\n",
        "    \"tennis shoes for women in red\",\n",
        "    \"I'd like to purchase purple shoes\",\n",
        "    \"show purple workout shoes for men\",\n",
        "    \"tennis shoes in red for adults\",\n",
        "    \"purple tennis sneakers for adults\",\n",
        "    \"red women's gym sneakers\",\n",
        "    \"get women’s tennis shoes, in purple\",\n",
        "    \"looking to buy red athletic shoes\",\n",
        "    \"tennis sneakers that are purple\",\n",
        "    \"purple running shoes for men\",\n",
        "    \"I’d love some purple tennis shoes\",\n",
        "    \"red sports sneakers for men\",\n",
        "    \"purple gym sneakers for women\",\n",
        "    \"find red tennis sneakers for guys\",\n",
        "    \"looking for red gym shoes\",\n",
        "    \"tennis shoes in red for her\",\n",
        "    \"please find purple athletic shoes\",\n",
        "    \"I'd like tennis shoes for women in purple\",\n",
        "    \"buy women's tennis shoes in red\"\n",
        "]\n",
        "\n",
        "found = 0\n",
        "for source_query in should_match:\n",
        "    query, score = similar_query(query_embeddings, source_query)\n",
        "    if query is not None:\n",
        "        print(source_query, similar_query(query_embeddings, query))\n",
        "        found += 1\n",
        "print(found / len(should_match))"
      ],
      "metadata": {
        "colab": {
          "base_uri": "https://localhost:8080/"
        },
        "id": "_iSIpmtr1K28",
        "outputId": "2785402f-a8b1-48fe-ce47-251e87deb2d6"
      },
      "execution_count": null,
      "outputs": [
        {
          "output_type": "stream",
          "name": "stdout",
          "text": [
            "I’m shopping for tennis shoes, maybe in purple ('I’m shopping for tennis shoes, maybe in red', np.float32(1.0000001))\n",
            "show me purple tennis shoes for women ('tennis shoes for women in purple', np.float32(1.0))\n",
            "tennis sneakers that are red ('red tennis sneakers', np.float32(1.0))\n",
            "do you have purple tennis shoes? ('can I get some purple tennis shoes?', np.float32(1.0))\n",
            "I'd like to get some purple shoes ('I want to buy purple shoes', np.float32(1.0000001))\n",
            "shopping for red tennis sneakers (\"shopping for red men's tennis shoes\", np.float32(1.0))\n",
            "purple women’s gym shoes ('purple gym shoes', np.float32(1.0))\n",
            "red shoes in men's sizes ('red shoes in men’s sizes', np.float32(1.0))\n",
            "men’s purple workout sneakers ('purple sneakers for men', np.float32(1.0))\n",
            "buy tennis shoes in red ('tennis shoes that are red', np.float32(0.99999994))\n",
            "can I find red women’s sneakers? ('can I find red women’s sneakers?', np.float32(0.99999994))\n",
            "tennis shoes in purple for guys ('tennis shoes, purple, male', np.float32(1.0))\n",
            "do you sell red colored shoes? ('can I buy red shoes?', np.float32(1.0))\n",
            "get me purple sports shoes ('purple shoes for sports', np.float32(0.99999994))\n",
            "ladies red athletic sneakers (\"women's red sneakers\", np.float32(1.0000001))\n",
            "red tennis sneakers for her ('red tennis sneakers', np.float32(1.0))\n",
            "tennis shoes for women in red ('red tennis shoes for women', np.float32(1.0))\n",
            "I'd like to purchase purple shoes ('I want to buy purple shoes', np.float32(1.0000001))\n",
            "show purple workout shoes for men ('purple athletic shoes for men', np.float32(1.0))\n",
            "tennis shoes in red for adults ('tennis shoes with red color', np.float32(0.9999999))\n",
            "purple tennis sneakers for adults ('get purple tennis sneakers', np.float32(0.99999994))\n",
            "red women's gym sneakers (\"women's red sneakers\", np.float32(1.0000001))\n",
            "get women’s tennis shoes, in purple ('tennis shoes for women in purple', np.float32(1.0))\n",
            "looking to buy red athletic shoes ('give me red athletic shoes', np.float32(1.0))\n",
            "tennis sneakers that are purple ('get purple tennis sneakers', np.float32(0.99999994))\n",
            "purple running shoes for men ('purple athletic shoes for men', np.float32(1.0))\n",
            "I’d love some purple tennis shoes ('I need purple tennis shoes', np.float32(1.0))\n",
            "red sports sneakers for men ('tennis sneakers in red for men', np.float32(0.99999994))\n",
            "purple gym sneakers for women ('tennis sneakers in purple for women', np.float32(1.0))\n",
            "find red tennis sneakers for guys ('tennis sneakers in red for men', np.float32(0.99999994))\n",
            "looking for red gym shoes ('red gym shoes', np.float32(1.0))\n",
            "tennis shoes in red for her ('red tennis shoes female', np.float32(1.0))\n",
            "please find purple athletic shoes ('purple athletic shoes for men', np.float32(1.0))\n",
            "I'd like tennis shoes for women in purple ('purple tennis shoes women want', np.float32(0.9999999))\n",
            "buy women's tennis shoes in red ('red tennis shoes for women', np.float32(1.0))\n",
            "1.0\n"
          ]
        }
      ]
    },
    {
      "cell_type": "markdown",
      "source": [
        "## With sizes\n",
        "\n",
        "Numerical attributes can be tricky, here we'll add some shoe sizes to see how well caching performs."
      ],
      "metadata": {
        "id": "B2wiay7A368o"
      }
    },
    {
      "cell_type": "code",
      "source": [
        "from sentence_transformers import SentenceTransformer\n",
        "\n",
        "query_eggshells = [\n",
        "    \"red tennis shoes size 9\",\n",
        "    \"tennis shoes, the red ones, size 10\",\n",
        "    \"I want to buy red tennis shoes, size 9\",\n",
        "    \"please give me red tennis shoes size 10\",\n",
        "    \"red shoes for men, size 9\",\n",
        "    \"tennis shoes, size 10\",\n",
        "    \"red shoes for women, size 9\",\n",
        "    \"I want to buy red shoes in size 10\",\n",
        "    \"I want to buy red shoes\",\n",
        "    \"I want to buy red shoes for men\",\n",
        "    \"purple shoes\",\n",
        "    \"I want to buy purple shoes\",\n",
        "    \"purple tennis shoes\",\n",
        "    \"I need purple tennis shoes\",\n",
        "    \"tennis shoes in purple\",\n",
        "    \"can I get some purple tennis shoes?\",\n",
        "    \"I'd like to get some red shoes\",\n",
        "    \"red women's tennis shoes\",\n",
        "    \"men's red tennis shoes\",\n",
        "    \"red shoes men's\",\n",
        "    \"shoes, red, for women\",\n",
        "    \"give me tennis shoes in red\",\n",
        "    \"looking for red shoes for women\",\n",
        "    \"shopping for red men's tennis shoes\",\n",
        "    \"purple women's shoes\",\n",
        "    \"purple men's tennis shoes\",\n",
        "    \"I’m shopping for tennis shoes, maybe in red\",\n",
        "    \"tennis shoes that are red\",\n",
        "    \"show me red tennis shoes for women\",\n",
        "    \"do you have red tennis shoes?\",\n",
        "    \"red colored shoes\",\n",
        "    \"red sneakers\",\n",
        "    \"purple sneakers for men\",\n",
        "    \"men's purple shoes\",\n",
        "    \"women's red sneakers\",\n",
        "    \"I'd like women's tennis shoes in red\",\n",
        "    \"get me red tennis shoes\",\n",
        "    \"can I buy red shoes?\",\n",
        "    \"I need tennis shoes for men in red\",\n",
        "    \"buy women's tennis shoes purple\",\n",
        "    \"want to see red men's shoes\",\n",
        "    \"looking for purple tennis shoes for women\",\n",
        "    \"show me tennis shoes, red color\",\n",
        "    \"are there purple shoes for women?\",\n",
        "    \"tennis shoes for women in purple\",\n",
        "    \"ladies red tennis shoes\",\n",
        "    \"guys' red shoes\",\n",
        "    \"purple tennis shoes for ladies\",\n",
        "    \"purple shoes for guys\",\n",
        "    \"red tennis sneakers\",\n",
        "    \"tennis shoes — red ones for women\",\n",
        "    \"searching for red sneakers\",\n",
        "    \"tennis shoes red male\",\n",
        "    \"red tennis shoes female\",\n",
        "    \"I’m looking for red sports shoes\",\n",
        "    \"purple tennis shoes men's\",\n",
        "    \"tennis sneakers in purple for women\",\n",
        "    \"buy red sneakers\",\n",
        "    \"purple athletic shoes for men\",\n",
        "    \"purple gym shoes\",\n",
        "    \"red gym shoes\",\n",
        "    \"ladies tennis shoes, red color\",\n",
        "    \"purple tennis footwear for men\",\n",
        "    \"men's gym shoes in red\",\n",
        "    \"I'd like to see red shoes for women\",\n",
        "    \"I need new red tennis shoes\",\n",
        "    \"let’s buy red shoes\",\n",
        "    \"do you carry red tennis sneakers?\",\n",
        "    \"want red running shoes\",\n",
        "    \"get purple tennis sneakers\",\n",
        "    \"red tennis shoes for women\",\n",
        "    \"red shoes in men’s sizes\",\n",
        "    \"purple colored shoes for women\",\n",
        "    \"do you have men’s tennis shoes in red?\",\n",
        "    \"purple shoes for women please\",\n",
        "    \"can I find red women’s sneakers?\",\n",
        "    \"I want red tennis shoes for men\",\n",
        "    \"men’s shoes in red\",\n",
        "    \"show red tennis shoes\",\n",
        "    \"women's red running shoes\",\n",
        "    \"purple tennis shoes women want\",\n",
        "    \"buy men's purple shoes\",\n",
        "    \"buy women’s red sneakers\",\n",
        "    \"tennis shoes with red color\",\n",
        "    \"tennis shoes for ladies in red\",\n",
        "    \"give me red athletic shoes\",\n",
        "    \"I’m after red tennis sneakers\",\n",
        "    \"purple workout shoes\",\n",
        "    \"purple tennis shoes I can run in\",\n",
        "    \"can I buy red women's shoes?\",\n",
        "    \"buy shoes in red for women\",\n",
        "    \"looking for tennis shoes, red ones\",\n",
        "    \"I like purple tennis shoes\",\n",
        "    \"tennis sneakers in red for men\",\n",
        "    \"ladies' red shoes\",\n",
        "    \"running shoes, red, for women\",\n",
        "    \"men’s purple sports shoes\",\n",
        "    \"tennis shoes, purple, male\",\n",
        "    \"tennis sneakers purple female\",\n",
        "    \"purple shoes for sports\",\n",
        "    \"purple shoes for tennis\",\n",
        "    \"get me red shoes for gym\",\n",
        "    \"I’d like tennis shoes, in red\"\n",
        "]\n",
        "\n",
        "model = SentenceTransformer('intfloat/e5-small-v2')\n",
        "prefix = \"query: \"\n",
        "query_embeddings = model.encode([prefix + query for query in query_eggshells])\n",
        "print(query_embeddings)"
      ],
      "metadata": {
        "id": "lVJj6-eT2nQh"
      },
      "execution_count": null,
      "outputs": []
    },
    {
      "cell_type": "code",
      "source": [
        "should_not_match = [\n",
        "    \"red tennis shoes size 9\"\n",
        "    \"show me brown shoes size 9\",\n",
        "    \"I'm looking for brown shoes for men size 10\",\n",
        "    \"brown shoes for women please size 7\",\n",
        "    \"I'd like some brown tennis sneakers\",\n",
        "    \"where can I buy brown tennis shoes for women?\",\n",
        "    \"get me some tennis shoes, brown ones\",\n",
        "    \"tennis sneakers in brown for men\",\n",
        "    \"can I find brown sports shoes for women?\",\n",
        "    \"looking for brown men's tennis shoes\",\n",
        "    \"do you carry women's tennis shoes in brown?\",\n",
        "    \"shopping for brown tennis sneakers\",\n",
        "    \"brown sneakers for women\",\n",
        "    \"brown gym shoes for men\",\n",
        "    \"I'd like tennis shoes in brown\",\n",
        "    \"please show me brown shoes\",\n",
        "    \"tennis shoes, brown color for ladies\",\n",
        "    \"can I get brown shoes?\",\n",
        "    \"brown colored sneakers\",\n",
        "    \"men’s shoes in brown\",\n",
        "    \"ladies’ brown tennis sneakers\",\n",
        "    \"tennis shoes in brown for women size 12\",\n",
        "    \"give me brown sneakers\",\n",
        "    \"brown tennis footwear for men\",\n",
        "    \"brown athletic shoes for women\",\n",
        "    \"brown casual shoes for men\",\n",
        "    \"looking to buy brown sneakers\",\n",
        "    \"find me brown tennis sneakers\",\n",
        "    \"searching for brown tennis shoes for ladies\",\n",
        "    \"brown sports shoes\",\n",
        "    \"brown shoes for guys\",\n",
        "    \"brown shoes for ladies\",\n",
        "    \"I need tennis shoes in brown color\",\n",
        "    \"where are brown men's shoes?\",\n",
        "    \"I'd like women's brown shoes\",\n",
        "    \"can you show me brown sneakers?\",\n",
        "    \"tennis shoes for women in brown\",\n",
        "]\n",
        "\n",
        "found = 0\n",
        "for source_query in should_not_match:\n",
        "    query, score = similar_query(query_embeddings, source_query)\n",
        "    if query is not None:\n",
        "        print(source_query, similar_query(query_embeddings, query))\n",
        "        found += 1\n",
        "print(found / len(should_not_match))\n"
      ],
      "metadata": {
        "colab": {
          "base_uri": "https://localhost:8080/"
        },
        "id": "jAPJ7xbr4Smq",
        "outputId": "ceafe4ef-e680-42a0-865c-c460cf2e8496"
      },
      "execution_count": null,
      "outputs": [
        {
          "output_type": "stream",
          "name": "stdout",
          "text": [
            "0.0\n"
          ]
        }
      ]
    },
    {
      "cell_type": "code",
      "source": [
        "should_match = [\n",
        "    \"red tennis shoes size 9 red tennis shoes\",\n",
        "    \"tennis shoes, the red ones, size 10\",\n",
        "    \"I want to buy red tennis shoes, size 9\",\n",
        "    \"please give me red tennis shoes size 10\",\n",
        "    \"red shoes for men, size 9\",\n",
        "    \"tennis shoes, size 10\",\n",
        "    \"red shoes for women, size 9\",\n",
        "    \"I want to buy red shoes in size 10\",\n",
        "]\n",
        "\n",
        "found = 0\n",
        "for source_query in should_match:\n",
        "    query, score = similar_query(query_embeddings, source_query)\n",
        "    if query is not None:\n",
        "        print(source_query, similar_query(query_embeddings, query))\n",
        "        found += 1\n",
        "print(found / len(should_not_match))"
      ],
      "metadata": {
        "colab": {
          "base_uri": "https://localhost:8080/"
        },
        "id": "5T9o1ztu4YHm",
        "outputId": "1fb6332d-7a7c-4b51-8b1a-e58f49b968e7"
      },
      "execution_count": null,
      "outputs": [
        {
          "output_type": "stream",
          "name": "stdout",
          "text": [
            "tennis shoes, the red ones, size 10 ('tennis shoes, the red ones', np.float32(1.0))\n",
            "I want to buy red tennis shoes, size 9 ('I want to buy red tennis shoes', np.float32(0.99999994))\n",
            "please give me red tennis shoes size 10 ('please give me red tennis shoes', np.float32(1.0))\n",
            "red shoes for men, size 9 ('red shoes in men’s sizes', np.float32(1.0))\n",
            "red shoes for women, size 9 ('shoes, red, for women', np.float32(0.9999999))\n",
            "0.1388888888888889\n"
          ]
        }
      ]
    },
    {
      "cell_type": "code",
      "source": [],
      "metadata": {
        "id": "cnMTsRF44twV"
      },
      "execution_count": null,
      "outputs": []
    }
  ]
}